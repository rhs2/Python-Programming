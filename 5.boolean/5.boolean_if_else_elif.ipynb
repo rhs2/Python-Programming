{
 "cells": [
  {
   "cell_type": "markdown",
   "id": "1bfa5138-0fc6-4c48-8250-8964ea3f4a97",
   "metadata": {},
   "source": [
    "## Condition\n",
    "- True or Flase is called boolean"
   ]
  },
  {
   "cell_type": "code",
   "execution_count": 1,
   "id": "44366e22-1818-41cc-b354-b6b72c2c9c25",
   "metadata": {},
   "outputs": [
    {
     "name": "stdout",
     "output_type": "stream",
     "text": [
      "Conditions are true\n"
     ]
    }
   ],
   "source": [
    "#print will only executed if conditions are true\n",
    "if True:\n",
    "    print(\"Conditions are true\")"
   ]
  },
  {
   "cell_type": "code",
   "execution_count": 3,
   "id": "67f7cdce-23af-4b01-8d88-08b89b96cd86",
   "metadata": {},
   "outputs": [],
   "source": [
    "#here condition is false thats why it did not executed within the if block\n",
    "if False:\n",
    "    print(\"Conditions are true\")"
   ]
  },
  {
   "cell_type": "code",
   "execution_count": 4,
   "id": "a3cfa714-5d9f-4c49-b6e7-60f54405381a",
   "metadata": {},
   "outputs": [
    {
     "name": "stdout",
     "output_type": "stream",
     "text": [
      "Prog lang is python\n"
     ]
    }
   ],
   "source": [
    "#we want to executed the statement if language is \"Python\"\n",
    "language = \"Python\"\n",
    "if language == 'Python':\n",
    "    print(\"Prog lang is python\")\n",
    "else:\n",
    "    print(\"Not found\")"
   ]
  },
  {
   "cell_type": "code",
   "execution_count": 5,
   "id": "62049694-036c-49db-a5f6-19f88785e765",
   "metadata": {},
   "outputs": [],
   "source": [
    "\n",
    "#Comparison operator\n",
    "#1. equal: a==b\n",
    "#2. not equal: a!=b\n",
    "#3. greater than:  a>b\n",
    "#4. less than:   a<b\n",
    "#5. greater than or equal: a>=b\n",
    "#6. less than or equal:  a<=b\n",
    "#7. Object identity: is if 2 values have the same id or not"
   ]
  },
  {
   "cell_type": "code",
   "execution_count": 6,
   "id": "1e439a24-354b-45c9-8836-ad5982eda5dd",
   "metadata": {},
   "outputs": [
    {
     "name": "stdout",
     "output_type": "stream",
     "text": [
      "Prog lang is python\n"
     ]
    }
   ],
   "source": [
    "#if and else\n",
    "#we want to executed the statement if language is \"Python\"\n",
    "language = \"Python\"\n",
    "if language == 'Python':\n",
    "    print(\"Prog lang is python\")\n",
    "else:\n",
    "    print(\"Not python\")"
   ]
  },
  {
   "cell_type": "code",
   "execution_count": 7,
   "id": "7e991599-f3af-4391-adff-2d3408898e62",
   "metadata": {},
   "outputs": [
    {
     "name": "stdout",
     "output_type": "stream",
     "text": [
      "Not python\n"
     ]
    }
   ],
   "source": [
    "language = \"Java\"\n",
    "if language == 'Python':\n",
    "    print(\"Prog lang is python\")\n",
    "else:\n",
    "    print(\"Not python\")"
   ]
  },
  {
   "cell_type": "code",
   "execution_count": 9,
   "id": "c0a69d25-c00f-449e-adef-80e607b3cb84",
   "metadata": {},
   "outputs": [
    {
     "name": "stdout",
     "output_type": "stream",
     "text": [
      "Prog lang is Java\n"
     ]
    }
   ],
   "source": [
    "#if elif else\n",
    "language = \"Java\"\n",
    "if language == 'Python':\n",
    "    print(\"Prog lang is python\")\n",
    "elif language == 'Java': #here elif is doing the switch case\n",
    "    print(\"Prog lang is Java\")\n",
    "else:\n",
    "    print(\"Not matched\")"
   ]
  },
  {
   "cell_type": "code",
   "execution_count": 10,
   "id": "87994b44-7b34-4fc4-bbb7-abe8db93d457",
   "metadata": {},
   "outputs": [
    {
     "name": "stdout",
     "output_type": "stream",
     "text": [
      "Prog lang is Java\n"
     ]
    }
   ],
   "source": [
    "#if we add a new lang we can just add elif \n",
    "\n",
    "language = \"Java\"\n",
    "if language == 'Python':\n",
    "    print(\"Prog lang is python\")\n",
    "elif language == 'Java': #here elif is doing the switch case\n",
    "    print(\"Prog lang is Java\")\n",
    "elif language == 'JavaScript':\n",
    "    print(\"Prog lang is JS\")\n",
    "else:\n",
    "    print(\"Not matched\")"
   ]
  },
  {
   "cell_type": "code",
   "execution_count": 11,
   "id": "d76cd13a-a904-42d8-b634-bd74efc31cbd",
   "metadata": {},
   "outputs": [
    {
     "name": "stdout",
     "output_type": "stream",
     "text": [
      "logged in succesfully in the admin page\n"
     ]
    }
   ],
   "source": [
    "#boolean operation\n",
    "#and \n",
    "#or\n",
    "#not\n",
    "user ='admin'\n",
    "logged_in = True\n",
    "if user =='admin' and logged_in:\n",
    "    print(\"logged in succesfully in the admin page\")\n",
    "else:\n",
    "    print(\"bad credentials\")"
   ]
  },
  {
   "cell_type": "code",
   "execution_count": 12,
   "id": "63343567-4697-4114-b3ad-f44f8dc9ac0d",
   "metadata": {},
   "outputs": [
    {
     "name": "stdout",
     "output_type": "stream",
     "text": [
      "bad credentials\n"
     ]
    }
   ],
   "source": [
    "#boolean operation\n",
    "#and \n",
    "#or\n",
    "#not\n",
    "user ='admin'\n",
    "logged_in = False\n",
    "if user =='admin' and logged_in: #both needs to be to true because we are using and\n",
    "    print(\"logged in succesfully in the admin page\")\n",
    "else:\n",
    "    print(\"bad credentials\")"
   ]
  },
  {
   "cell_type": "code",
   "execution_count": 13,
   "id": "23ca4d19-3573-4d57-a579-e7b9a5c89f18",
   "metadata": {},
   "outputs": [
    {
     "name": "stdout",
     "output_type": "stream",
     "text": [
      "logged in succesfully in the admin page\n"
     ]
    }
   ],
   "source": [
    "#we can also use or here, for or it needs to be one to true\n",
    "user ='admin'\n",
    "logged_in = False\n",
    "if user =='admin' or logged_in: \n",
    "    print(\"logged in succesfully in the admin page\")\n",
    "else:\n",
    "    print(\"bad credentials\")"
   ]
  },
  {
   "cell_type": "code",
   "execution_count": 14,
   "id": "1f8ce3fc-e39f-49be-957d-73281071fd9d",
   "metadata": {},
   "outputs": [
    {
     "name": "stdout",
     "output_type": "stream",
     "text": [
      "logged in succesfully in the admin page\n"
     ]
    }
   ],
   "source": [
    "user ='admin'\n",
    "logged_in = False\n",
    "if not logged_in: #this will evaluate to true because of not false = true \n",
    "    print(\"logged in succesfully in the admin page\")\n",
    "else:\n",
    "    print(\"bad credentials\")"
   ]
  },
  {
   "cell_type": "code",
   "execution_count": 15,
   "id": "cc73c18a-c410-4985-8ce6-4e0519f6cd5a",
   "metadata": {},
   "outputs": [
    {
     "name": "stdout",
     "output_type": "stream",
     "text": [
      "True\n"
     ]
    }
   ],
   "source": [
    "#Object identity ---is\n",
    "a = [1,2,3]\n",
    "b = [1,2,3]\n",
    "#is test both the object has the same id not the value \n",
    "print(a==b) #a is equal to b\n"
   ]
  },
  {
   "cell_type": "code",
   "execution_count": 16,
   "id": "a15af7d5-bfb2-46ac-9db7-6f77d19fdb23",
   "metadata": {},
   "outputs": [
    {
     "name": "stdout",
     "output_type": "stream",
     "text": [
      "False\n"
     ]
    }
   ],
   "source": [
    "#Object identity ---is\n",
    "a = [1,2,3]\n",
    "b = [1,2,3]\n",
    "#is test both the object has the same id not the value \n",
    "print(a is b) #a is equal to b"
   ]
  },
  {
   "cell_type": "code",
   "execution_count": 17,
   "id": "67af5fe1-70ab-4263-b4a6-28b0cd9e017b",
   "metadata": {},
   "outputs": [
    {
     "name": "stdout",
     "output_type": "stream",
     "text": [
      "4405219392\n",
      "4405127040\n"
     ]
    }
   ],
   "source": [
    "#because a and b has different id \n",
    "print(id(a))\n",
    "print(id(b))\n",
    "#memory locations are different"
   ]
  },
  {
   "cell_type": "code",
   "execution_count": 18,
   "id": "c4098378-6682-4666-9af7-2374894bce70",
   "metadata": {},
   "outputs": [
    {
     "name": "stdout",
     "output_type": "stream",
     "text": [
      "4405127040\n",
      "4405127040\n"
     ]
    }
   ],
   "source": [
    "a=b\n",
    "print(id(a))\n",
    "print(id(b))\n",
    "#see they are same "
   ]
  },
  {
   "cell_type": "code",
   "execution_count": 19,
   "id": "2799170f-f0ff-4a80-bc93-06feef89ef85",
   "metadata": {},
   "outputs": [
    {
     "data": {
      "text/plain": [
       "True"
      ]
     },
     "execution_count": 19,
     "metadata": {},
     "output_type": "execute_result"
    }
   ],
   "source": [
    "a is b #because both of them has same id"
   ]
  },
  {
   "cell_type": "code",
   "execution_count": 20,
   "id": "835284fc-15d3-4970-a47c-ac9e283c365c",
   "metadata": {},
   "outputs": [
    {
     "name": "stdout",
     "output_type": "stream",
     "text": [
      "True\n"
     ]
    }
   ],
   "source": [
    "print(id(a) == id(b))"
   ]
  },
  {
   "cell_type": "code",
   "execution_count": 21,
   "id": "fb553244-2414-4770-966b-007f70a453ae",
   "metadata": {},
   "outputs": [],
   "source": [
    "#False value- all of them will be evaluated to false\n",
    "    #1. False\n",
    "    #2. None\n",
    "    #3. zero of any numeric type\n",
    "    #4. any empty sequence, for ex: \"\", (), []\n",
    "    #5. any empty mapping. For ex: {}"
   ]
  },
  {
   "cell_type": "code",
   "execution_count": 23,
   "id": "2a784ea0-349b-4927-965a-5716629346df",
   "metadata": {},
   "outputs": [
    {
     "name": "stdout",
     "output_type": "stream",
     "text": [
      "evaluated to false\n"
     ]
    }
   ],
   "source": [
    "#1. \n",
    "condition = False \n",
    "if condition:\n",
    "    print(\"evaluated to true\")\n",
    "else:\n",
    "    print(\"evaluated to false\")"
   ]
  },
  {
   "cell_type": "code",
   "execution_count": 24,
   "id": "92e3f53e-047a-4895-a1dc-a4a1f17dd326",
   "metadata": {},
   "outputs": [
    {
     "name": "stdout",
     "output_type": "stream",
     "text": [
      "evaluated to false\n"
     ]
    }
   ],
   "source": [
    "#2. \n",
    "condition = None \n",
    "if condition:\n",
    "    print(\"evaluated to true\")\n",
    "else:\n",
    "    print(\"evaluated to false\")"
   ]
  },
  {
   "cell_type": "code",
   "execution_count": 25,
   "id": "8320f810-5a24-433b-9a85-6631197dff4b",
   "metadata": {},
   "outputs": [
    {
     "name": "stdout",
     "output_type": "stream",
     "text": [
      "evaluated to false\n"
     ]
    }
   ],
   "source": [
    "#3. \n",
    "condition = 0 \n",
    "if condition:\n",
    "    print(\"evaluated to true\")\n",
    "else:\n",
    "    print(\"evaluated to false\")"
   ]
  },
  {
   "cell_type": "code",
   "execution_count": 26,
   "id": "7e78978d-8449-4c79-9e71-c9142c5c9dc9",
   "metadata": {},
   "outputs": [
    {
     "name": "stdout",
     "output_type": "stream",
     "text": [
      "evaluated to true\n"
     ]
    }
   ],
   "source": [
    "#4. because we pass in int 10 not 0\n",
    "condition = 10 \n",
    "if condition:\n",
    "    print(\"evaluated to true\")\n",
    "else:\n",
    "    print(\"evaluated to false\")"
   ]
  },
  {
   "cell_type": "code",
   "execution_count": 27,
   "id": "faa1ba10-be38-42fe-9a98-5b0924e91a35",
   "metadata": {},
   "outputs": [
    {
     "name": "stdout",
     "output_type": "stream",
     "text": [
      "evaluated to false\n"
     ]
    }
   ],
   "source": [
    "#5. because we pass in tuple\n",
    "condition = ()\n",
    "if condition:\n",
    "    print(\"evaluated to true\")\n",
    "else:\n",
    "    print(\"evaluated to false\")"
   ]
  },
  {
   "cell_type": "code",
   "execution_count": 28,
   "id": "3ca0b4a7-bee4-4900-bfe0-7ba81df1fbd4",
   "metadata": {},
   "outputs": [
    {
     "name": "stdout",
     "output_type": "stream",
     "text": [
      "evaluated to false\n"
     ]
    }
   ],
   "source": [
    "#5. because we pass in empty list\n",
    "condition = []\n",
    "if condition:\n",
    "    print(\"evaluated to true\")\n",
    "else:\n",
    "    print(\"evaluated to false\")"
   ]
  },
  {
   "cell_type": "code",
   "execution_count": 29,
   "id": "f4e6f4bb-739d-4a41-a11e-b462b05a8933",
   "metadata": {},
   "outputs": [
    {
     "name": "stdout",
     "output_type": "stream",
     "text": [
      "evaluated to false\n"
     ]
    }
   ],
   "source": [
    "#5. because we pass in empty dict\n",
    "condition = {}\n",
    "if condition:\n",
    "    print(\"evaluated to true\")\n",
    "else:\n",
    "    print(\"evaluated to false\")"
   ]
  },
  {
   "cell_type": "code",
   "execution_count": 30,
   "id": "95ba9705-9fcd-4c48-9d36-4f2e68809055",
   "metadata": {},
   "outputs": [
    {
     "name": "stdout",
     "output_type": "stream",
     "text": [
      "evaluated to true\n"
     ]
    }
   ],
   "source": [
    "#5. because we pass in a string so it is not empty\n",
    "condition = 'sio'\n",
    "if condition:\n",
    "    print(\"evaluated to true\")\n",
    "else:\n",
    "    print(\"evaluated to false\")"
   ]
  },
  {
   "cell_type": "code",
   "execution_count": null,
   "id": "77aa5a69-7d2d-4299-946f-bb669f8e3359",
   "metadata": {},
   "outputs": [],
   "source": []
  }
 ],
 "metadata": {
  "kernelspec": {
   "display_name": "Python 3 (ipykernel)",
   "language": "python",
   "name": "python3"
  },
  "language_info": {
   "codemirror_mode": {
    "name": "ipython",
    "version": 3
   },
   "file_extension": ".py",
   "mimetype": "text/x-python",
   "name": "python",
   "nbconvert_exporter": "python",
   "pygments_lexer": "ipython3",
   "version": "3.12.10"
  },
  "widgets": {
   "application/vnd.jupyter.widget-state+json": {
    "state": {},
    "version_major": 2,
    "version_minor": 0
   }
  }
 },
 "nbformat": 4,
 "nbformat_minor": 5
}
