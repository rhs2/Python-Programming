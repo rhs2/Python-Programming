{
 "cells": [
  {
   "cell_type": "markdown",
   "id": "7fb63bbb-d13b-4350-851c-8f326d95bab8",
   "metadata": {},
   "source": [
    "# Formating with dict"
   ]
  },
  {
   "cell_type": "code",
   "execution_count": 3,
   "id": "65b90f26-bc86-44bb-b8c5-5cfc28379de6",
   "metadata": {},
   "outputs": [
    {
     "name": "stdout",
     "output_type": "stream",
     "text": [
      "My name is rhs I am 25 years old.\n"
     ]
    }
   ],
   "source": [
    "#basic formating\n",
    "#this is not readable and not a good way to the string formating\n",
    "person = {'name': 'rhs', 'age': 25}\n",
    "sentence = \"My name is\" + \" \" + person['name'] +\" \" + \"I am\" + \" \" + str(person['age']) + \" \"+ \"years old.\"\n",
    "print(sentence)"
   ]
  },
  {
   "cell_type": "code",
   "execution_count": 4,
   "id": "6baf3ec8-9e0a-410a-92b5-f6ed0902a672",
   "metadata": {},
   "outputs": [
    {
     "name": "stdout",
     "output_type": "stream",
     "text": [
      "My name is rhs, and I am 25 years old\n"
     ]
    }
   ],
   "source": [
    "#using format to do the string formating\n",
    "sentence2 = \"My name is {}, and I am {} years old\".format(person['name'], person['age'])\n",
    "print(sentence2)"
   ]
  },
  {
   "cell_type": "code",
   "execution_count": 5,
   "id": "71d84aa8-880b-4d3f-86d7-037d601b3b58",
   "metadata": {},
   "outputs": [
    {
     "name": "stdout",
     "output_type": "stream",
     "text": [
      "My name is rhs, and I am 25 years old\n"
     ]
    }
   ],
   "source": [
    "#using format to place the \n",
    "#explicitly number the place holders\n",
    "s3 = \"My name is {0}, and I am {1} years old\".format(person['name'], person['age'])\n",
    "print(s3)"
   ]
  },
  {
   "cell_type": "code",
   "execution_count": 7,
   "id": "5a02f8ac-2ba3-491c-b3fa-8711cc4b293f",
   "metadata": {},
   "outputs": [
    {
     "name": "stdout",
     "output_type": "stream",
     "text": [
      "<h1> This is my headlines </h1>\n"
     ]
    }
   ],
   "source": [
    "#passing 0 and 1 as placeholders to add those number up in the placeholders\n",
    "tag = 'h1'\n",
    "headlines = 'This is my headlines'\n",
    "s3 = \"<{0}> {1} </{0}>\".format(tag, headlines)\n",
    "print(s3)"
   ]
  },
  {
   "cell_type": "code",
   "execution_count": 8,
   "id": "e928f257-2952-4130-88b5-f945a3dc79b1",
   "metadata": {},
   "outputs": [
    {
     "name": "stdout",
     "output_type": "stream",
     "text": [
      "My name is rhs and I am 25 years old\n"
     ]
    }
   ],
   "source": [
    "#place holders automatically grab the value as 0 and 1 \n",
    "person = {'name': 'rhs', 'age': 25}\n",
    "s4 = \"My name is {} and I am {} years old\".format(person['name'], person['age'])\n",
    "print(s4)"
   ]
  },
  {
   "cell_type": "code",
   "execution_count": 9,
   "id": "06f39bc0-4052-49c0-9412-80306276569d",
   "metadata": {},
   "outputs": [
    {
     "name": "stdout",
     "output_type": "stream",
     "text": [
      "My name is rhs and I am 25 years old\n"
     ]
    }
   ],
   "source": [
    "#we can explicitly tell the place holders to grab the value\n",
    "person = {'name': 'rhs', 'age': 25}\n",
    "s5 = \"My name is {0} and I am {1} years old\".format(person['name'], person['age'])\n",
    "print(s5)"
   ]
  },
  {
   "cell_type": "code",
   "execution_count": 12,
   "id": "3fdf224b-cd4c-4fd5-babb-79a6527b8c7a",
   "metadata": {},
   "outputs": [
    {
     "name": "stdout",
     "output_type": "stream",
     "text": [
      "My name is rhs and I am 25 years old\n"
     ]
    }
   ],
   "source": [
    "#we can ajust the key value with the placeholders numbers\n",
    "person = {'name': 'rhs', 'age': 25}\n",
    "s6 = \"My name is {0[name]} and I am {1[age]} years old\".format(person, person)\n",
    "print(s6)"
   ]
  },
  {
   "cell_type": "code",
   "execution_count": 13,
   "id": "af0e0142-8a42-48fa-bea3-9ddb3f68d4d1",
   "metadata": {},
   "outputs": [
    {
     "name": "stdout",
     "output_type": "stream",
     "text": [
      "My name is rhs and I am 25 years old\n"
     ]
    }
   ],
   "source": [
    "#in the format we can pass dict one time\n",
    "person = {'name': 'rhs', 'age': 25}\n",
    "s7 = \"My name is {0[name]} and I am {0[age]} years old\".format(person)\n",
    "print(s7)"
   ]
  },
  {
   "cell_type": "code",
   "execution_count": 17,
   "id": "4b3b190c-c357-4463-8184-1439f0c02b9c",
   "metadata": {},
   "outputs": [
    {
     "name": "stdout",
     "output_type": "stream",
     "text": [
      "My name is rhs and I am 26 years old\n"
     ]
    }
   ],
   "source": [
    "#using string with class \n",
    "class person():\n",
    "    def __init__(self,name,age):\n",
    "        self.name = name\n",
    "        self.age = age\n",
    "p1= person('rhs', '26') #instance of the class\n",
    "s8 = \"My name is {0.name} and I am {0.age} years old\".format(p1)\n",
    "print(s8)"
   ]
  },
  {
   "cell_type": "code",
   "execution_count": 19,
   "id": "552dbf74-606c-4c40-aaf4-00618d34f736",
   "metadata": {},
   "outputs": [
    {
     "name": "stdout",
     "output_type": "stream",
     "text": [
      "My name is rhs and I am 30 years old\n"
     ]
    }
   ],
   "source": [
    "#we can also pass in keywords arguments\n",
    "class person():\n",
    "    def __init__(self,name,age):\n",
    "        self.name = name\n",
    "        self.age = age\n",
    "# p1= person('rhs', '26') #instance of the class\n",
    "s9 = \"My name is {name} and I am {age} years old\".format(name= 'rhs', age ='30')\n",
    "print(s9)"
   ]
  },
  {
   "cell_type": "code",
   "execution_count": 20,
   "id": "58a1e171-fc6c-4dd2-bc6e-71f24388ea16",
   "metadata": {},
   "outputs": [
    {
     "name": "stdout",
     "output_type": "stream",
     "text": [
      "My name is rhs and I am 25 years old\n"
     ]
    }
   ],
   "source": [
    "#also we can unpack the dict with ** and using the keyword arguments\n",
    "#print out dict values\n",
    "person = {'name': 'rhs', 'age': 25}\n",
    "s10 = \"My name is {name} and I am {age} years old\".format(**person)\n",
    "print(s10)"
   ]
  },
  {
   "cell_type": "markdown",
   "id": "db05dedc-a442-40db-ab48-f998a6c3a738",
   "metadata": {},
   "source": [
    "# formating numbers"
   ]
  },
  {
   "cell_type": "code",
   "execution_count": 22,
   "id": "227c74d7-5bb5-4b58-9b5e-c531bcfc1b5a",
   "metadata": {},
   "outputs": [
    {
     "name": "stdout",
     "output_type": "stream",
     "text": [
      "the value is 1\n",
      "the value is 2\n",
      "the value is 3\n",
      "the value is 4\n",
      "the value is 5\n",
      "the value is 6\n",
      "the value is 7\n",
      "the value is 8\n",
      "the value is 9\n"
     ]
    }
   ],
   "source": [
    "#looping through and printing out numbers\n",
    "for num in range(1,10):\n",
    "    s11 = 'the value is {}'.format(num)\n",
    "    print(s11)\n",
    "    "
   ]
  },
  {
   "cell_type": "code",
   "execution_count": 25,
   "id": "fb666a5e-d486-4278-8235-2e7a511f89d7",
   "metadata": {},
   "outputs": [
    {
     "name": "stdout",
     "output_type": "stream",
     "text": [
      "the value is 01\n",
      "the value is 02\n",
      "the value is 03\n",
      "the value is 04\n",
      "the value is 05\n",
      "the value is 06\n",
      "the value is 07\n",
      "the value is 08\n",
      "the value is 09\n",
      "the value is 10\n",
      "the value is 11\n"
     ]
    }
   ],
   "source": [
    "#number formating \n",
    "#looping through and printing out numbers\n",
    "for num in range(1,12):\n",
    "    s11 = 'the value is {:02}'.format(num) #2 digits padding\n",
    "    print(s11)"
   ]
  },
  {
   "cell_type": "code",
   "execution_count": 26,
   "id": "706faba5-b19c-47da-ae67-2a797ec7a0d9",
   "metadata": {},
   "outputs": [
    {
     "name": "stdout",
     "output_type": "stream",
     "text": [
      "the value is 001\n",
      "the value is 002\n",
      "the value is 003\n",
      "the value is 004\n",
      "the value is 005\n",
      "the value is 006\n",
      "the value is 007\n",
      "the value is 008\n",
      "the value is 009\n",
      "the value is 010\n",
      "the value is 011\n"
     ]
    }
   ],
   "source": [
    "#number formating \n",
    "#looping through and printing out numbers\n",
    "for num in range(1,12):\n",
    "    s11 = 'the value is {:03}'.format(num) #3 digits padding\n",
    "    print(s11)"
   ]
  },
  {
   "cell_type": "code",
   "execution_count": 28,
   "id": "8ba3ef92-2c86-41e6-beb8-e28badd608a3",
   "metadata": {},
   "outputs": [
    {
     "name": "stdout",
     "output_type": "stream",
     "text": [
      "Pi is equal to 3.14159265\n"
     ]
    }
   ],
   "source": [
    "#formating decimals\n",
    "pi = 3.14159265\n",
    "s12= 'Pi is equal to {}'.format(pi)\n",
    "print(s12)"
   ]
  },
  {
   "cell_type": "code",
   "execution_count": 32,
   "id": "76482119-193e-4c4a-83ab-700c99dd9118",
   "metadata": {},
   "outputs": [
    {
     "name": "stdout",
     "output_type": "stream",
     "text": [
      "Pi is equal to 3.14\n"
     ]
    }
   ],
   "source": [
    "#if we want 2 decimal number after .\n",
    "pi = 3.14159265\n",
    "s13= 'Pi is equal to {:.2f}'.format(pi)\n",
    "print(s13)"
   ]
  },
  {
   "cell_type": "code",
   "execution_count": 33,
   "id": "fe0d2051-f699-4dc8-85ce-c39fdbe30530",
   "metadata": {},
   "outputs": [
    {
     "name": "stdout",
     "output_type": "stream",
     "text": [
      "Pi is equal to 3.142\n"
     ]
    }
   ],
   "source": [
    "#if we want 3 decimal number after .\n",
    "pi = 3.14159265\n",
    "s13= 'Pi is equal to {:.3f}'.format(pi)\n",
    "print(s13)"
   ]
  },
  {
   "cell_type": "code",
   "execution_count": 36,
   "id": "27361a25-bdeb-4284-b13a-648f921ec9e2",
   "metadata": {},
   "outputs": [
    {
     "name": "stdout",
     "output_type": "stream",
     "text": [
      "1MB is equal to 1,000,000 bytes\n"
     ]
    }
   ],
   "source": [
    "#print large number with comma seperated\n",
    "s14 = '1MB is equal to {:,} bytes'.format(1000**2)\n",
    "print(s14)\n",
    "#to specify something in the placeholders we have to put colon : first then however we want it to print"
   ]
  },
  {
   "cell_type": "code",
   "execution_count": 38,
   "id": "a002d7c9-70a1-4e96-acaa-1d976a0d5455",
   "metadata": {},
   "outputs": [
    {
     "name": "stdout",
     "output_type": "stream",
     "text": [
      "1MB is equal to 1,000,000.00 bytes\n"
     ]
    }
   ],
   "source": [
    "#print large number with comma seperated and 2 decimal padding\n",
    "s15 = '1MB is equal to {:,.2f} bytes'.format(1000**2)\n",
    "print(s15)\n",
    "#to specify something in the placeholders we have to put colon : first then however we want it to print"
   ]
  },
  {
   "cell_type": "markdown",
   "id": "1f5f6ab8-7caa-4ff2-86c8-4823f999ffce",
   "metadata": {},
   "source": [
    "# working with datetime module"
   ]
  },
  {
   "cell_type": "code",
   "execution_count": 39,
   "id": "b1bc35c4-9415-4de1-b74b-be6baa8e8661",
   "metadata": {},
   "outputs": [
    {
     "name": "stdout",
     "output_type": "stream",
     "text": [
      "2016-09-24 12:30:45\n"
     ]
    }
   ],
   "source": [
    "import datetime\n",
    "date= datetime.datetime(2016,9,24,12,30,45)\n",
    "print(date)"
   ]
  },
  {
   "cell_type": "code",
   "execution_count": 43,
   "id": "2ad1893e-5d13-45dd-a075-a6030d0638dd",
   "metadata": {},
   "outputs": [
    {
     "name": "stdout",
     "output_type": "stream",
     "text": [
      "2025-07-10\n"
     ]
    }
   ],
   "source": [
    "#print out today's date\n",
    "date1 = datetime.date.today()\n",
    "print(date1)"
   ]
  },
  {
   "cell_type": "code",
   "execution_count": 47,
   "id": "e20e69b6-ec88-4e88-aae6-7d318cded8d3",
   "metadata": {},
   "outputs": [
    {
     "name": "stdout",
     "output_type": "stream",
     "text": [
      "September 24,2016\n"
     ]
    }
   ],
   "source": [
    "#March 01, 2016 print this format as the date time\n",
    "import datetime\n",
    "date= datetime.datetime(2016,9,24,12,30,45)\n",
    "d1 = \"{:%B %d,%Y}\".format(date)\n",
    "print(d1)\n"
   ]
  },
  {
   "cell_type": "code",
   "execution_count": 49,
   "id": "a78faef2-9b97-44c1-8d9e-ab4bcddc771c",
   "metadata": {},
   "outputs": [
    {
     "name": "stdout",
     "output_type": "stream",
     "text": [
      "September 24,2016 fell on Saturday and was the 268\n"
     ]
    }
   ],
   "source": [
    "#print out March 01, 2016 fell on a Tuesday and was the 061 day of the year \n",
    "date= datetime.datetime(2016,9,24,12,30,45)\n",
    "d1 = \"{0:%B %d,%Y} fell on {0:%A} and was the {0:%j}\".format(date) #we have to specify the placeholder numbers a 0 because we pass 1 as date in format\n",
    "print(d1)"
   ]
  }
 ],
 "metadata": {
  "kernelspec": {
   "display_name": "Python 3 (ipykernel)",
   "language": "python",
   "name": "python3"
  },
  "language_info": {
   "codemirror_mode": {
    "name": "ipython",
    "version": 3
   },
   "file_extension": ".py",
   "mimetype": "text/x-python",
   "name": "python",
   "nbconvert_exporter": "python",
   "pygments_lexer": "ipython3",
   "version": "3.12.10"
  },
  "widgets": {
   "application/vnd.jupyter.widget-state+json": {
    "state": {},
    "version_major": 2,
    "version_minor": 0
   }
  }
 },
 "nbformat": 4,
 "nbformat_minor": 5
}
