{
 "cells": [
  {
   "cell_type": "markdown",
   "id": "f35ffe8d-4f72-4507-be9b-07006a927d07",
   "metadata": {},
   "source": [
    "# Here we will discuss about list comprehensions"
   ]
  },
  {
   "cell_type": "code",
   "execution_count": 1,
   "id": "72473496-1433-40e8-85ef-fd772db03be0",
   "metadata": {},
   "outputs": [
    {
     "name": "stdout",
     "output_type": "stream",
     "text": [
      "[1, 2, 3, 4, 5, 6, 7, 8, 9]\n"
     ]
    }
   ],
   "source": [
    "#List Comprehensions\n",
    "nums = [1,2,3,4,5,6,7,8,9]\n",
    "#print out 'n' for each 'n' in nums\n",
    "list1 =[]\n",
    "for n in nums:\n",
    "    list1.append(n)\n",
    "print(list1)\n",
    "#it is basically copying a list\n",
    "    \n",
    "    "
   ]
  },
  {
   "cell_type": "code",
   "execution_count": 2,
   "id": "3a2fa373-773d-4773-ae75-7a0673fb4aa3",
   "metadata": {},
   "outputs": [
    {
     "name": "stdout",
     "output_type": "stream",
     "text": [
      "[1, 2, 3, 4, 5, 6, 7, 8, 9]\n"
     ]
    }
   ],
   "source": [
    "#normal loop\n",
    "#easier and most readable to work with\n",
    "#initial is what we want, then as usual the for loop\n",
    "nums = [1,2,3,4,5,6,7,8,9]\n",
    "list2 = [n for n in nums]\n",
    "print(list2)\n"
   ]
  },
  {
   "cell_type": "code",
   "execution_count": 3,
   "id": "58f9f9fa-3fc9-4c60-a05d-6217dd3d137a",
   "metadata": {},
   "outputs": [
    {
     "name": "stdout",
     "output_type": "stream",
     "text": [
      "[1, 4, 9, 16, 25, 36, 49, 64, 81]\n"
     ]
    }
   ],
   "source": [
    "#list comprehension\n",
    "#easier and most readable to work with\n",
    "#initial is what we want, then as usual the for loop\n",
    "#square for all value in the nums\n",
    "nums = [1,2,3,4,5,6,7,8,9]\n",
    "list3 = [n*n for n in nums]\n",
    "print(list3)"
   ]
  },
  {
   "cell_type": "code",
   "execution_count": 4,
   "id": "ff9f3b7f-f248-4fca-9498-d12bcd8d5be5",
   "metadata": {},
   "outputs": [
    {
     "name": "stdout",
     "output_type": "stream",
     "text": [
      "[1, 4, 9, 16, 25, 36, 49, 64, 81]\n"
     ]
    }
   ],
   "source": [
    "#normal loop for square of all nums\n",
    "nums = [1,2,3,4,5,6,7,8,9]\n",
    "list4 = []\n",
    "for n in nums:\n",
    "    list4.append(n*n)\n",
    "print(list4) #all the square"
   ]
  },
  {
   "cell_type": "code",
   "execution_count": 8,
   "id": "d39b68b2-1c26-4144-aae6-df7b4c364eaa",
   "metadata": {},
   "outputs": [
    {
     "name": "stdout",
     "output_type": "stream",
     "text": [
      "[1, 4, 9, 16, 25, 36, 49, 64, 81]\n"
     ]
    }
   ],
   "source": [
    "#using map + lambda (anonymous function)\n",
    "nums = [1,2,3,4,5,6,7,8,9]\n",
    "list5 = map(lambda n: n*n, nums)\n",
    "print(list(list5))"
   ]
  },
  {
   "cell_type": "code",
   "execution_count": 9,
   "id": "4b66459e-1a48-4b6a-bf91-6935c15f3366",
   "metadata": {},
   "outputs": [
    {
     "name": "stdout",
     "output_type": "stream",
     "text": [
      "[2, 4, 6, 8]\n"
     ]
    }
   ],
   "source": [
    "#print n even number\n",
    "nums = [1,2,3,4,5,6,7,8,9]\n",
    "list6= []\n",
    "for n in nums:\n",
    "    if n%2 == 0:\n",
    "        list6.append(n)\n",
    "print(list6)"
   ]
  },
  {
   "cell_type": "code",
   "execution_count": 13,
   "id": "1b83bb51-aa55-41c4-b171-eb702e8007dc",
   "metadata": {},
   "outputs": [
    {
     "name": "stdout",
     "output_type": "stream",
     "text": [
      "[2, 4, 6, 8]\n"
     ]
    }
   ],
   "source": [
    "#even number with list comprehensions\n",
    "nums = [1,2,3,4,5,6,7,8,9]\n",
    "list7 = [n for n in nums if n%2==0]\n",
    "print(list7)"
   ]
  },
  {
   "cell_type": "code",
   "execution_count": 14,
   "id": "8cb5b556-7150-43ea-92c9-c57a0f9e6795",
   "metadata": {},
   "outputs": [
    {
     "name": "stdout",
     "output_type": "stream",
     "text": [
      "[1, 3, 5, 7, 9, 11, 13, 15, 17, 19, 21, 23, 25, 27, 29, 31, 33, 35, 37, 39, 41, 43, 45, 47, 49, 51, 53, 55, 57, 59, 61, 63, 65, 67, 69, 71, 73, 75, 77, 79, 81, 83, 85, 87, 89, 91, 93, 95, 97, 99]\n"
     ]
    }
   ],
   "source": [
    "#odd number with list comprehensions from 1 to 100\n",
    "list7 = [n for n in range(100) if n%2 ==1]\n",
    "print(list7)"
   ]
  },
  {
   "cell_type": "code",
   "execution_count": 16,
   "id": "0ea1ff3d-d515-4628-bfbb-84bbeb8717bd",
   "metadata": {},
   "outputs": [
    {
     "name": "stdout",
     "output_type": "stream",
     "text": [
      "[2, 4, 6, 8, 10, 12, 14, 16, 18, 20, 22, 24, 26, 28, 30, 32, 34, 36, 38, 40, 42, 44, 46, 48, 50, 52, 54, 56, 58, 60, 62, 64, 66, 68, 70, 72, 74, 76, 78, 80, 82, 84, 86, 88, 90, 92, 94, 96, 98]\n"
     ]
    }
   ],
   "source": [
    "#even number with list comprehensions between 1 to 100\n",
    "list8 = [n for n in range(1,100) if n%2 ==0]\n",
    "print(list8)"
   ]
  },
  {
   "cell_type": "code",
   "execution_count": 20,
   "id": "27aec982-0790-4da5-976c-eb3e9272ced3",
   "metadata": {},
   "outputs": [
    {
     "name": "stdout",
     "output_type": "stream",
     "text": [
      "[2, 4, 6, 8, 10, 12, 14, 16, 18, 20, 22, 24, 26, 28, 30, 32, 34, 36, 38, 40, 42, 44, 46, 48, 50, 52, 54, 56, 58, 60, 62, 64, 66, 68, 70, 72, 74, 76, 78, 80, 82, 84, 86, 88, 90, 92, 94, 96, 98]\n"
     ]
    }
   ],
   "source": [
    "#using filter and lambda to get the even number\n",
    "list9 = filter(lambda n: n%2 ==0, range(1, 100))\n",
    "print(list(list9))\n",
    "\n"
   ]
  },
  {
   "cell_type": "code",
   "execution_count": 22,
   "id": "059caf3b-5bd4-4e09-b5e6-e54091c896dd",
   "metadata": {},
   "outputs": [
    {
     "name": "stdout",
     "output_type": "stream",
     "text": [
      "[2, 4, 6, 8, 10, 12, 14, 16, 18, 20, 22, 24, 26, 28, 30, 32, 34, 36, 38, 40, 42, 44, 46, 48, 50, 52, 54, 56, 58, 60, 62, 64, 66, 68, 70, 72, 74, 76, 78, 80, 82, 84, 86, 88, 90, 92, 94, 96, 98]\n"
     ]
    }
   ],
   "source": [
    "#using filter and lambda to get the even number\n",
    "list9 = filter(lambda n: n%2 ==0, range(1, 100))\n",
    "print(list(list9))\n",
    "#if we use map in this function we would get True or false"
   ]
  },
  {
   "cell_type": "code",
   "execution_count": 23,
   "id": "ca554e63-7c19-4169-90be-221f2331018f",
   "metadata": {},
   "outputs": [
    {
     "name": "stdout",
     "output_type": "stream",
     "text": [
      "[False, True, False, True, False, True, False, True, False, True, False, True, False, True, False, True, False, True, False, True, False, True, False, True, False, True, False, True, False, True, False, True, False, True, False, True, False, True, False, True, False, True, False, True, False, True, False, True, False, True, False, True, False, True, False, True, False, True, False, True, False, True, False, True, False, True, False, True, False, True, False, True, False, True, False, True, False, True, False, True, False, True, False, True, False, True, False, True, False, True, False, True, False, True, False, True, False, True, False]\n"
     ]
    }
   ],
   "source": [
    "#here it is\n",
    "list9 = map(lambda n: n%2 ==0, range(1, 100))\n",
    "print(list(list9))"
   ]
  },
  {
   "cell_type": "code",
   "execution_count": 27,
   "id": "432ac518-7846-43df-a9d8-a203f343cf3a",
   "metadata": {},
   "outputs": [
    {
     "name": "stdout",
     "output_type": "stream",
     "text": [
      "[['a', 0], ['a', 1], ['a', 2], ['a', 3], ['b', 0], ['b', 1], ['b', 2], ['b', 3], ['c', 0], ['c', 1], ['c', 2], ['c', 3], ['d', 0], ['d', 1], ['d', 2], ['d', 3]]\n"
     ]
    }
   ],
   "source": [
    "#print out a (letter, num) pair for each letter in 'abcd' and each number in '0123'\n",
    "list9=[]\n",
    "for l in 'abcd':\n",
    "    for n in range(4):\n",
    "        list9.append([l,n]) #for printing out list\n",
    "print(list9)\n",
    "        "
   ]
  },
  {
   "cell_type": "code",
   "execution_count": 28,
   "id": "baa1824d-d14e-43b2-ac36-88d72fd66609",
   "metadata": {},
   "outputs": [
    {
     "name": "stdout",
     "output_type": "stream",
     "text": [
      "[('a', 0), ('a', 1), ('a', 2), ('a', 3), ('b', 0), ('b', 1), ('b', 2), ('b', 3), ('c', 0), ('c', 1), ('c', 2), ('c', 3), ('d', 0), ('d', 1), ('d', 2), ('d', 3)]\n"
     ]
    }
   ],
   "source": [
    "#print out a (letter, num) pair for each letter in 'abcd' and each number in '0123'\n",
    "list9=[]\n",
    "for l in 'abcd':\n",
    "    for n in range(4):\n",
    "        list9.append((l,n)) #for printing out tuple\n",
    "print(list9)"
   ]
  },
  {
   "cell_type": "code",
   "execution_count": 29,
   "id": "e5292198-992a-48c9-9648-b57d3ef5c4a1",
   "metadata": {},
   "outputs": [
    {
     "name": "stdout",
     "output_type": "stream",
     "text": [
      "[('a', 0), ('a', 1), ('a', 2), ('a', 3), ('b', 0), ('b', 1), ('b', 2), ('b', 3), ('c', 0), ('c', 1), ('c', 2), ('c', 3), ('d', 0), ('d', 1), ('d', 2), ('d', 3)]\n"
     ]
    }
   ],
   "source": [
    "#nested for loops in list comprehensions with tuple\n",
    "list10 = [(l,n) for l in 'abcd' for n in range(4)]\n",
    "print(list10)"
   ]
  },
  {
   "cell_type": "code",
   "execution_count": 30,
   "id": "63390345-3ab2-40a6-adc7-882f8735a0bf",
   "metadata": {},
   "outputs": [
    {
     "name": "stdout",
     "output_type": "stream",
     "text": [
      "[['a', 0], ['a', 1], ['a', 2], ['a', 3], ['b', 0], ['b', 1], ['b', 2], ['b', 3], ['c', 0], ['c', 1], ['c', 2], ['c', 3], ['d', 0], ['d', 1], ['d', 2], ['d', 3]]\n"
     ]
    }
   ],
   "source": [
    "#nested for loops in list comprehensions with a list\n",
    "list10 = [[l,n] for l in 'abcd' for n in range(4)]\n",
    "print(list10)"
   ]
  },
  {
   "cell_type": "markdown",
   "id": "446db38a-b740-44fb-8351-8a0d297f0f88",
   "metadata": {},
   "source": [
    "## Comprehensions in dict"
   ]
  },
  {
   "cell_type": "code",
   "execution_count": 34,
   "id": "503e9eb1-b073-4a31-b64b-b916c44d159a",
   "metadata": {},
   "outputs": [
    {
     "name": "stdout",
     "output_type": "stream",
     "text": [
      "[('bruce', 'batman'), ('clark', 'superman'), ('peter', 'spiderman'), ('logan', 'wolverine'), ('wade', 'deadpool')]\n"
     ]
    }
   ],
   "source": [
    "#using zip funtion and it prints out a tuple that matched up with each value in list\n",
    "names = ['bruce', 'clark', 'peter', 'logan', 'wade']\n",
    "heros = ['batman', 'superman', 'spiderman', 'wolverine', 'deadpool']\n",
    "print (list((zip(names, heros)))) #we have to wrap that up in a list func but in python2 it works fine without wraping up \n"
   ]
  },
  {
   "cell_type": "code",
   "execution_count": 35,
   "id": "fc6e8c24-8771-4803-80f3-9de0ff8b3472",
   "metadata": {},
   "outputs": [
    {
     "name": "stdout",
     "output_type": "stream",
     "text": [
      "{'bruce': 'batman', 'clark': 'superman', 'peter': 'spiderman', 'logan': 'wolverine', 'wade': 'deadpool'}\n"
     ]
    }
   ],
   "source": [
    "#making dict with zip funtion\n",
    "dict = {}\n",
    "names = ['bruce', 'clark', 'peter', 'logan', 'wade']\n",
    "heros = ['batman', 'superman', 'spiderman', 'wolverine', 'deadpool']\n",
    "for name, hero in zip(names, heros):\n",
    "    dict[name]= hero\n",
    "print(dict)\n",
    "    \n",
    "\n"
   ]
  },
  {
   "cell_type": "code",
   "execution_count": 37,
   "id": "dd9fcdc3-94dc-4342-bc7b-e93dbe36ba06",
   "metadata": {},
   "outputs": [
    {
     "name": "stdout",
     "output_type": "stream",
     "text": [
      "{'bruce': 'batman', 'clark': 'superman', 'peter': 'spiderman', 'logan': 'wolverine', 'wade': 'deadpool'}\n"
     ]
    }
   ],
   "source": [
    "#using dict comprehensions\n",
    "\n",
    "names = ['bruce', 'clark', 'peter', 'logan', 'wade']\n",
    "heros = ['batman', 'superman', 'spiderman', 'wolverine', 'deadpool']\n",
    "dict2= {name:hero for name, hero in zip(names, heros)}\n",
    "print(dict2)\n"
   ]
  },
  {
   "cell_type": "code",
   "execution_count": 42,
   "id": "d69c08c2-9e88-45d1-82e0-259e7d20a8aa",
   "metadata": {},
   "outputs": [
    {
     "name": "stdout",
     "output_type": "stream",
     "text": [
      "{'bruce': 'batman', 'clark': 'superman', 'logan': 'wolverine', 'wade': 'deadpool'}\n"
     ]
    }
   ],
   "source": [
    "#using dict comprehensions\n",
    "#skip peter \n",
    "\n",
    "names = ['bruce', 'clark', 'peter', 'logan', 'wade']\n",
    "heros = ['batman', 'superman', 'spiderman', 'wolverine', 'deadpool']\n",
    "dict3= {name:hero for name, hero in zip(names, heros) if name != 'peter'} #name not eqaul to peter\n",
    "print(dict3)"
   ]
  },
  {
   "cell_type": "markdown",
   "id": "e0825c24-4f91-4a7e-963b-b642f7f5475f",
   "metadata": {},
   "source": [
    "## Set Comprehensions"
   ]
  },
  {
   "cell_type": "code",
   "execution_count": 43,
   "id": "c372aa3e-0931-421a-baeb-14123de76e67",
   "metadata": {},
   "outputs": [
    {
     "name": "stdout",
     "output_type": "stream",
     "text": [
      "{1, 2, 3, 4, 5, 6, 7, 8, 9}\n"
     ]
    }
   ],
   "source": [
    "#set is pretty much exactly same but it has unique value\n",
    "nums = {1,2,3,4,5,6,7,8,9}\n",
    "print(nums)"
   ]
  },
  {
   "cell_type": "code",
   "execution_count": 45,
   "id": "fb85526e-ca1a-4ce5-b684-53a9bec810b0",
   "metadata": {},
   "outputs": [
    {
     "name": "stdout",
     "output_type": "stream",
     "text": [
      "<class 'set'>\n"
     ]
    }
   ],
   "source": [
    "print(type(nums))"
   ]
  },
  {
   "cell_type": "code",
   "execution_count": 47,
   "id": "5b499712-7de5-4358-bd09-696f48670cac",
   "metadata": {},
   "outputs": [
    {
     "name": "stdout",
     "output_type": "stream",
     "text": [
      "{1, 2, 3, 4, 5, 6, 7, 8, 9}\n"
     ]
    }
   ],
   "source": [
    "set1 = set()\n",
    "for n in nums:\n",
    "    set1.add(n)\n",
    "print(set1)"
   ]
  },
  {
   "cell_type": "code",
   "execution_count": 49,
   "id": "dfcda35a-20f0-4554-bb1a-213ad7f7d9dc",
   "metadata": {},
   "outputs": [
    {
     "name": "stdout",
     "output_type": "stream",
     "text": [
      "<class 'dict'>\n"
     ]
    }
   ],
   "source": [
    "#to creating a empty set we can not use { } because it will create a dict so we have to use set constructor\n",
    "set2 ={}\n",
    "print(type(set2))"
   ]
  },
  {
   "cell_type": "code",
   "execution_count": 51,
   "id": "f40ab4b7-02cc-431c-938d-604c01d1dcba",
   "metadata": {},
   "outputs": [
    {
     "name": "stdout",
     "output_type": "stream",
     "text": [
      "<class 'set'>\n"
     ]
    }
   ],
   "source": [
    "set3 = set()\n",
    "print(type(set3))"
   ]
  },
  {
   "cell_type": "code",
   "execution_count": 52,
   "id": "4971dbc3-da0e-4937-a630-a84aa4387247",
   "metadata": {},
   "outputs": [
    {
     "name": "stdout",
     "output_type": "stream",
     "text": [
      "{0, 1, 2, 3, 4, 5, 6, 7, 8, 9}\n"
     ]
    }
   ],
   "source": [
    "#set comprehensions\n",
    "set4 = {n for n in range(10)}\n",
    "print(set4)"
   ]
  },
  {
   "cell_type": "code",
   "execution_count": 53,
   "id": "7537b9fb-108e-4cae-80aa-494867a455cd",
   "metadata": {},
   "outputs": [
    {
     "name": "stdout",
     "output_type": "stream",
     "text": [
      "{0, 1, 64, 4, 36, 9, 16, 49, 81, 25}\n"
     ]
    }
   ],
   "source": [
    "#print out square value or each number from 0 to 10\n",
    "set5 = {n*n for n in range(10)}\n",
    "print(set5)"
   ]
  },
  {
   "cell_type": "code",
   "execution_count": 71,
   "id": "b82f33a8-2a8e-465c-a9c2-164b52c3ba95",
   "metadata": {},
   "outputs": [
    {
     "name": "stdout",
     "output_type": "stream",
     "text": [
      "{64, 1, 4, 36, 9, 16, 49, 81, 25}\n"
     ]
    }
   ],
   "source": [
    "#generator expressions\n",
    "#yield \"n*n\" for each \"n\" in nums\n",
    "nums = range(1,10)\n",
    "def gen_func(nums):\n",
    "    for n in nums:\n",
    "        yield n*n\n",
    "gen1 = gen_func(nums)\n",
    "print(set(gen1))\n",
    "    "
   ]
  },
  {
   "cell_type": "code",
   "execution_count": 73,
   "id": "24bcba39-8aa5-447d-a13b-38b3863d59fd",
   "metadata": {},
   "outputs": [
    {
     "name": "stdout",
     "output_type": "stream",
     "text": [
      "{0, 1, 64, 4, 36, 9, 16, 49, 81, 25}\n"
     ]
    }
   ],
   "source": [
    "#comprehensions work for set\n",
    "gen2 = (n*n for n in range(10))\n",
    "print(set(gen2))"
   ]
  },
  {
   "cell_type": "code",
   "execution_count": null,
   "id": "5a06ab24-2eaf-411e-ba2d-f4225eb6dfc6",
   "metadata": {},
   "outputs": [],
   "source": []
  }
 ],
 "metadata": {
  "kernelspec": {
   "display_name": "Python 3 (ipykernel)",
   "language": "python",
   "name": "python3"
  },
  "language_info": {
   "codemirror_mode": {
    "name": "ipython",
    "version": 3
   },
   "file_extension": ".py",
   "mimetype": "text/x-python",
   "name": "python",
   "nbconvert_exporter": "python",
   "pygments_lexer": "ipython3",
   "version": "3.12.10"
  },
  "widgets": {
   "application/vnd.jupyter.widget-state+json": {
    "state": {},
    "version_major": 2,
    "version_minor": 0
   }
  }
 },
 "nbformat": 4,
 "nbformat_minor": 5
}
