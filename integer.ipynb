{
 "cells": [
  {
   "cell_type": "code",
   "execution_count": 2,
   "id": "498b2bb1-bb35-4c30-bf36-3bb240772c91",
   "metadata": {},
   "outputs": [
    {
     "name": "stdout",
     "output_type": "stream",
     "text": [
      "3\n"
     ]
    }
   ],
   "source": [
    "#working with numeric data integer and float\n",
    "num =3\n",
    "print(num)"
   ]
  },
  {
   "cell_type": "code",
   "execution_count": 4,
   "id": "bca8a49b-a50e-46e7-8d42-9c6f5fea91cb",
   "metadata": {},
   "outputs": [
    {
     "name": "stdout",
     "output_type": "stream",
     "text": [
      "<class 'int'>\n"
     ]
    }
   ],
   "source": [
    "#checking type with type() fucntion it says class integer\n",
    "print(type(num))"
   ]
  },
  {
   "cell_type": "code",
   "execution_count": 5,
   "id": "a2e58ebe-9385-46da-bd23-7bccabbc7d2e",
   "metadata": {},
   "outputs": [
    {
     "name": "stdout",
     "output_type": "stream",
     "text": [
      "<class 'float'>\n"
     ]
    }
   ],
   "source": [
    "num1 = 3.14\n",
    "print(type(num1))"
   ]
  },
  {
   "cell_type": "code",
   "execution_count": 6,
   "id": "2e741c08-ff3e-4b33-9c2b-b680439b034e",
   "metadata": {},
   "outputs": [
    {
     "name": "stdout",
     "output_type": "stream",
     "text": [
      "<class 'str'>\n"
     ]
    }
   ],
   "source": [
    "m= \"rhs\" #string\n",
    "print(type(m))"
   ]
  },
  {
   "cell_type": "code",
   "execution_count": 7,
   "id": "4c0f7861-4505-4c0b-990b-673d43c75c1c",
   "metadata": {},
   "outputs": [
    {
     "name": "stdout",
     "output_type": "stream",
     "text": [
      "5\n"
     ]
    }
   ],
   "source": [
    "#Arithmetic operation\n",
    "#addition :        3+4\n",
    "#substraction:     3-2\n",
    "#multiplication:   3*2\n",
    "#division:         3/2\n",
    "#floor division:   3//2\n",
    "#exponent:         3**2\n",
    "#modulus:          3%2 ---remainder\n",
    "\n",
    "print(3+2)"
   ]
  },
  {
   "cell_type": "code",
   "execution_count": null,
   "id": "704a6ade-6e6c-4aa4-9457-703f4d662d51",
   "metadata": {},
   "outputs": [],
   "source": [
    "#addition\n",
    "print(3+2)"
   ]
  },
  {
   "cell_type": "code",
   "execution_count": 8,
   "id": "9365ae4e-5f75-4cc0-b497-197394d310a2",
   "metadata": {},
   "outputs": [
    {
     "name": "stdout",
     "output_type": "stream",
     "text": [
      "1\n"
     ]
    }
   ],
   "source": [
    "#substraction\n",
    "print(3-2)"
   ]
  },
  {
   "cell_type": "code",
   "execution_count": 9,
   "id": "456a655a-e212-4286-ab1f-245ca808a333",
   "metadata": {},
   "outputs": [
    {
     "name": "stdout",
     "output_type": "stream",
     "text": [
      "6\n"
     ]
    }
   ],
   "source": [
    "#multiplication\n",
    "print(3*2)"
   ]
  },
  {
   "cell_type": "code",
   "execution_count": 10,
   "id": "efa5a5c5-d697-4e79-aee4-7c0145102169",
   "metadata": {},
   "outputs": [
    {
     "name": "stdout",
     "output_type": "stream",
     "text": [
      "1.5\n"
     ]
    }
   ],
   "source": [
    "#division\n",
    "print(3/2)"
   ]
  },
  {
   "cell_type": "code",
   "execution_count": 11,
   "id": "6191362b-34bc-4b1f-b735-b85a12c23c39",
   "metadata": {},
   "outputs": [
    {
     "name": "stdout",
     "output_type": "stream",
     "text": [
      "1\n"
     ]
    }
   ],
   "source": [
    "#floor division\n",
    "print(3//2)"
   ]
  },
  {
   "cell_type": "code",
   "execution_count": 12,
   "id": "35d5ac27-2d42-4c42-a79c-7e1e7c24cd95",
   "metadata": {},
   "outputs": [
    {
     "name": "stdout",
     "output_type": "stream",
     "text": [
      "9\n"
     ]
    }
   ],
   "source": [
    "#exponent\n",
    "print(3**2)"
   ]
  },
  {
   "cell_type": "code",
   "execution_count": 13,
   "id": "c742bb29-8126-49c2-9374-1b6cd731fb9b",
   "metadata": {},
   "outputs": [
    {
     "name": "stdout",
     "output_type": "stream",
     "text": [
      "1\n"
     ]
    }
   ],
   "source": [
    "#modulus --gives us the remainder\n",
    "print(3%2) #it only gives 0 or 1 because in division at the end remainder should be 0 oe 1 "
   ]
  },
  {
   "cell_type": "code",
   "execution_count": 14,
   "id": "157c40c2-481c-4b85-b80c-47e3b4c435bd",
   "metadata": {},
   "outputs": [
    {
     "name": "stdout",
     "output_type": "stream",
     "text": [
      "13\n"
     ]
    }
   ],
   "source": [
    "print(3*2+7)"
   ]
  },
  {
   "cell_type": "code",
   "execution_count": 15,
   "id": "463e1a60-ab25-41ef-9c8a-c1884418511b",
   "metadata": {},
   "outputs": [
    {
     "name": "stdout",
     "output_type": "stream",
     "text": [
      "56\n"
     ]
    }
   ],
   "source": [
    "#computer arithmetic fucntion exactly work like as we do in our mathemetic operation\n",
    "print((3+5)*7)"
   ]
  },
  {
   "cell_type": "code",
   "execution_count": 16,
   "id": "152cd455-56ff-4c7b-a4ec-c8dbb0c180a1",
   "metadata": {},
   "outputs": [
    {
     "name": "stdout",
     "output_type": "stream",
     "text": [
      "6\n"
     ]
    }
   ],
   "source": [
    "#incrementing a variable\n",
    "num2 = 5\n",
    "num2+=1 #shorthand op for num2 = num2 + 1\n",
    "print(num2)"
   ]
  },
  {
   "cell_type": "code",
   "execution_count": 17,
   "id": "8872337b-2a75-4280-be7c-d266afac7613",
   "metadata": {},
   "outputs": [
    {
     "name": "stdout",
     "output_type": "stream",
     "text": [
      "10\n"
     ]
    }
   ],
   "source": [
    "#builtin fucntion\n",
    "#1. abs -- this will remove the negative sign from negative number\n",
    "num3 = -10\n",
    "print(abs(num3))"
   ]
  },
  {
   "cell_type": "code",
   "execution_count": 18,
   "id": "f552e5ef-1491-4257-ae93-f8a729076194",
   "metadata": {},
   "outputs": [
    {
     "name": "stdout",
     "output_type": "stream",
     "text": [
      "4\n"
     ]
    }
   ],
   "source": [
    "#2. round- it will round up and floating value to its nearest integer value\n",
    "\n",
    "print(round(3.75))"
   ]
  },
  {
   "cell_type": "code",
   "execution_count": 20,
   "id": "290dbba9-f840-4303-a55c-335392ce411d",
   "metadata": {},
   "outputs": [
    {
     "name": "stdout",
     "output_type": "stream",
     "text": [
      "3.8\n"
     ]
    }
   ],
   "source": [
    "print(round(3.75,1)) #to round up after the decimal first digit"
   ]
  },
  {
   "cell_type": "code",
   "execution_count": 21,
   "id": "81456e56-a15b-4332-b5d0-a684986b4dec",
   "metadata": {},
   "outputs": [],
   "source": [
    "#Comparison operator\n",
    "#1. equal: a==b\n",
    "#2. not equal: a!=b\n",
    "#3. greater than:  a>b\n",
    "#4. less than:   a<b\n",
    "#5. greater than or equal: a>=b\n",
    "#6. less than or equal:  a<=b"
   ]
  },
  {
   "cell_type": "code",
   "execution_count": null,
   "id": "f66b842a-dbeb-4048-979d-b53c4d53bb85",
   "metadata": {},
   "outputs": [],
   "source": [
    "num1 = 3 #single equal assignment operator\n",
    "num2 = 2\n"
   ]
  },
  {
   "cell_type": "code",
   "execution_count": 22,
   "id": "042c6cb4-f2d2-4a4c-82b5-2f312e19d6a2",
   "metadata": {},
   "outputs": [
    {
     "name": "stdout",
     "output_type": "stream",
     "text": [
      "False\n"
     ]
    }
   ],
   "source": [
    "#1. \n",
    "print(num1==num2)"
   ]
  },
  {
   "cell_type": "code",
   "execution_count": 23,
   "id": "b185e05e-8f76-4a35-81ec-773221e6a49f",
   "metadata": {},
   "outputs": [
    {
     "name": "stdout",
     "output_type": "stream",
     "text": [
      "True\n"
     ]
    }
   ],
   "source": [
    "#2. \n",
    "print(num1!=num2)"
   ]
  },
  {
   "cell_type": "code",
   "execution_count": 24,
   "id": "9996dc5a-b375-4447-8e77-d1afe3be3ecd",
   "metadata": {},
   "outputs": [
    {
     "name": "stdout",
     "output_type": "stream",
     "text": [
      "False\n"
     ]
    }
   ],
   "source": [
    "#3. \n",
    "print(num1>num2)"
   ]
  },
  {
   "cell_type": "code",
   "execution_count": 25,
   "id": "84669d31-6472-4ee2-93b2-0d7312bde189",
   "metadata": {},
   "outputs": [
    {
     "name": "stdout",
     "output_type": "stream",
     "text": [
      "True\n"
     ]
    }
   ],
   "source": [
    "#4. \n",
    "print(num1<num2)"
   ]
  },
  {
   "cell_type": "code",
   "execution_count": 26,
   "id": "2f0c6a09-06b7-48d5-b432-1115a977ebff",
   "metadata": {},
   "outputs": [
    {
     "name": "stdout",
     "output_type": "stream",
     "text": [
      "False\n"
     ]
    }
   ],
   "source": [
    "#5. \n",
    "print(num1>=num2)"
   ]
  },
  {
   "cell_type": "code",
   "execution_count": 27,
   "id": "75787272-122d-47ca-9a9f-bac51b779169",
   "metadata": {},
   "outputs": [
    {
     "name": "stdout",
     "output_type": "stream",
     "text": [
      "True\n"
     ]
    }
   ],
   "source": [
    "#6. \n",
    "print(num1<=num2)"
   ]
  },
  {
   "cell_type": "code",
   "execution_count": null,
   "id": "e3aa0ee4-176c-424f-bdf9-08fc6baaeda2",
   "metadata": {},
   "outputs": [],
   "source": [
    "#here all the result we got as boolean like True or False\n"
   ]
  },
  {
   "cell_type": "code",
   "execution_count": 32,
   "id": "d64bcd31-a910-4967-af48-c21fd189bb37",
   "metadata": {},
   "outputs": [
    {
     "name": "stdout",
     "output_type": "stream",
     "text": [
      "100200\n",
      "300\n"
     ]
    }
   ],
   "source": [
    "#here we see both of them as strings not number if we want them as number then we will have to cast them as num\n",
    "num1 ='100'\n",
    "num2 ='200'\n",
    "print(num1+num2) #string\n",
    "print(int(num1)+int(num2)) #casting string as integer"
   ]
  },
  {
   "cell_type": "code",
   "execution_count": null,
   "id": "c5dc90f7-f3b8-436b-bcb4-a3e224b8f860",
   "metadata": {},
   "outputs": [],
   "source": []
  }
 ],
 "metadata": {
  "kernelspec": {
   "display_name": "Python 3 (ipykernel)",
   "language": "python",
   "name": "python3"
  },
  "language_info": {
   "codemirror_mode": {
    "name": "ipython",
    "version": 3
   },
   "file_extension": ".py",
   "mimetype": "text/x-python",
   "name": "python",
   "nbconvert_exporter": "python",
   "pygments_lexer": "ipython3",
   "version": "3.12.10"
  },
  "widgets": {
   "application/vnd.jupyter.widget-state+json": {
    "state": {},
    "version_major": 2,
    "version_minor": 0
   }
  }
 },
 "nbformat": 4,
 "nbformat_minor": 5
}
