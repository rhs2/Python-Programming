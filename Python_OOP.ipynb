{
 "cells": [
  {
   "cell_type": "markdown",
   "id": "da5d490e-644a-4b97-acf6-a63e8d437641",
   "metadata": {},
   "source": [
    "## Concept of OOP\n",
    "- provides a meaning of structuring programs so that properties and behaviours are bundled into indivisual object.\n",
    "- oop reflects the real world scenarios how things works.\n",
    "- it makes visualization easier because it is closest to the real world scenarios.\n",
    "- we can re use the code through inheritance, this saves a lots of time and shrinks our projects\n",
    "- there are flexibility through polymorphism\n",
    "\n",
    "Pillars of OOP\n",
    "1. abstraction\n",
    "2. encapsulation\n",
    "3. inheritance(reuse the code)\n",
    "4. polymorphism\n",
    "5. and in every case there will be class and objects"
   ]
  },
  {
   "cell_type": "markdown",
   "id": "9d2a8aef-0801-48a3-ada4-75d1960fe121",
   "metadata": {},
   "source": [
    "## Class Concept\n",
    "- a class is a blueprint for the objects created from that class.\n",
    "- each class contains some data defination(called field), together with methods to manupulate the data.\n",
    "- when the object is instantiated from the class, an instance variable is created for each field in the class\n",
    "\n",
    "in one words- Class--- templates for making objects"
   ]
  },
  {
   "cell_type": "markdown",
   "id": "c850cb2c-cf17-40bf-9be5-731b2cbfe5d2",
   "metadata": {},
   "source": [
    "## Objects Concept\n",
    "- objects are the basic run time entities in an object oriented system\n",
    "- it is an instance class\n",
    "- we can say that object are the variable of the type class\n",
    "\n",
    "in one word-- Bycycle Blueprint-- actual bycycle of 3 or 4\n"
   ]
  },
  {
   "cell_type": "markdown",
   "id": "aec54686-5544-4db3-8066-d91d3d40d317",
   "metadata": {},
   "source": [
    "## Class and Object\n",
    "Class/ Blueprints of a house-- Object/instance/actual 2 house with 2 different colors"
   ]
  },
  {
   "cell_type": "markdown",
   "id": "8dae2b99-66cc-4e8a-8606-2f579cec6150",
   "metadata": {},
   "source": [
    "## Class Components\n",
    "1. Data\n",
    "   - driver_name: String\n",
    "   - num_of_passenger: Int\n",
    "2. method()\n",
    "   - pick_up_passenger()\n",
    "   - drop_off_passenger()"
   ]
  },
  {
   "cell_type": "markdown",
   "id": "3d082627-abf4-447a-aac7-289127ca7dd2",
   "metadata": {},
   "source": [
    "## Method\n",
    "- a python method is like a python function\n",
    "- it must be called on an object\n",
    "- and it must put in inside a class\n",
    "- a method has a name and may takes parameters and have a return statement"
   ]
  },
  {
   "cell_type": "markdown",
   "id": "5727e80c-39c9-4ad0-9e1b-9261a7093d18",
   "metadata": {},
   "source": [
    "## Constructor\n",
    "- a special kind of method we use to initialize instance members of that class\n",
    "- it is used initializing the instance member when we create the object of a class\n",
    "- if you create 4 objects, the class constructor is called 4 times\n",
    "- every class must have a constructor, even if it simply relies on the default constructor\n",
    "- constructor can be defined in 2 ways\n",
    "   1. non-parameterised constructor(default constructor)\n",
    "   2. parameterised constructor"
   ]
  },
  {
   "cell_type": "markdown",
   "id": "1dfaca91-a0a6-46c6-998b-ec6c437614ac",
   "metadata": {},
   "source": [
    "## Python __init__\n",
    "- __init__ is a reserved method in python class\n",
    "- it is known as a constructor in OOP concept\n",
    "- this method is called when an object is created from the class and it allows the class to initialize the attributes of a class\n",
    "- it accepts the self(memory location) keyword as a first argument which allows accessing the attributes or method of a class\n",
    "- we can pass any number of arguments at the time of creating the class object, depending upon the __init__() definination "
   ]
  },
  {
   "cell_type": "markdown",
   "id": "b22b26e7-e9a0-4759-8977-a11ad72877e4",
   "metadata": {},
   "source": [
    "## Non-Parameterised constructor(default constructor)\n",
    "- when we do not include the constructor in the class or forget to declare it, then that becomes the default constructor\n",
    "- it does not perform any task but initialise the object\n",
    "- in the following example, we do not have a constructor but still we are able to create an object for the class \\n"
   ]
  },
  {
   "cell_type": "code",
   "execution_count": 1,
   "id": "2d38ad94-a014-406f-a3da-af72ab2f1a06",
   "metadata": {},
   "outputs": [],
   "source": [
    "class Employee():\n",
    "    pass\n",
    "emp1 = Employee()\n",
    "emp2 = Employee()"
   ]
  },
  {
   "cell_type": "code",
   "execution_count": 2,
   "id": "ef189eb8-30da-479a-af1a-b8f8136f19fd",
   "metadata": {},
   "outputs": [
    {
     "data": {
      "text/plain": [
       "<__main__.Employee at 0x106a1c400>"
      ]
     },
     "execution_count": 2,
     "metadata": {},
     "output_type": "execute_result"
    }
   ],
   "source": [
    "emp1"
   ]
  },
  {
   "cell_type": "code",
   "execution_count": 3,
   "id": "c4a3ec24-7322-4ba9-aec4-ad29d5fac336",
   "metadata": {},
   "outputs": [
    {
     "data": {
      "text/plain": [
       "<__main__.Employee at 0x106a1c460>"
      ]
     },
     "execution_count": 3,
     "metadata": {},
     "output_type": "execute_result"
    }
   ],
   "source": [
    "emp2"
   ]
  },
  {
   "cell_type": "code",
   "execution_count": 4,
   "id": "3f35fa61-0159-4a0f-b56f-6d5c6506e71c",
   "metadata": {},
   "outputs": [
    {
     "name": "stdout",
     "output_type": "stream",
     "text": [
      "A Employee object created\n",
      "A Employee object created\n"
     ]
    }
   ],
   "source": [
    "class Employee():\n",
    "    def __init__(self):\n",
    "        print(\"A Employee object created\")\n",
    "emp1 = Employee()\n",
    "emp2 = Employee()"
   ]
  },
  {
   "cell_type": "markdown",
   "id": "4416afd7-d90b-4cd9-9c65-810919526422",
   "metadata": {},
   "source": [
    "## Python parameterised constructor\n",
    "- this parameterised constructor has multiple parameter along with the self\n",
    "- it accept the argument during object creation\n",
    "- example \\n"
   ]
  },
  {
   "cell_type": "code",
   "execution_count": 5,
   "id": "393f23e1-680c-44fd-9368-e78298656f41",
   "metadata": {},
   "outputs": [
    {
     "name": "stdout",
     "output_type": "stream",
     "text": [
      "Sium Created\n",
      "rhs2 Created\n"
     ]
    }
   ],
   "source": [
    "class Employee():\n",
    "    def __init__(self, name):       \n",
    "        self.name = name\n",
    "        print(self.name, \"Created\")\n",
    "emp1= Employee(\"Sium\")        \n",
    "emp2= Employee(\"rhs2\")"
   ]
  },
  {
   "cell_type": "markdown",
   "id": "14e23aa9-eb6c-4ca0-9fcd-ed72ba4b1a91",
   "metadata": {},
   "source": [
    "## Instance Method\n",
    "- instance method are methods which require an object of its class to be created before it can be called\n",
    "- instance method need a class instance and can access the instance through self.\n",
    "- instance method takes more than one parameter, self, which points to an instance of class when the method is called\n",
    "- the self parameter , instance methods can freely access attributes and other methods on the same projects"
   ]
  },
  {
   "cell_type": "code",
   "execution_count": 6,
   "id": "cfa1d194-d29d-486c-9f1c-f5f7cc5f1ff9",
   "metadata": {},
   "outputs": [
    {
     "name": "stdout",
     "output_type": "stream",
     "text": [
      "Sium 28\n",
      "rhs2 29\n"
     ]
    }
   ],
   "source": [
    "## Example of parameterised constructor\n",
    "class E():\n",
    "    def __init__(self, name, age):\n",
    "        self.name = name #instance variable\n",
    "        self.age = age #instance variable\n",
    "        print(f\"{self.name} {self.age}\")\n",
    "e1= E(\"Sium\", 28) #instance1\n",
    "e2 = E(\"rhs2\", 29)\n",
    "        "
   ]
  },
  {
   "cell_type": "code",
   "execution_count": 7,
   "id": "7f7da0f1-7383-44a8-9120-4cea2611d8ba",
   "metadata": {},
   "outputs": [
    {
     "name": "stdout",
     "output_type": "stream",
     "text": [
      "a man named Sium is 28 years old\n",
      "a man named rhs2 is 29 years old\n"
     ]
    }
   ],
   "source": [
    "## Example of parameterised constructor\n",
    "class E():\n",
    "    def __init__(self, name, age):\n",
    "        self.name = name #instance variable\n",
    "        self.age = age #instance variable\n",
    "    def display(self): #instance method\n",
    "        print(f\"a man named {self.name} is {self.age} years old\")\n",
    "e1= E(\"Sium\", 28) #instance1\n",
    "e2 = E(\"rhs2\", 29)\n",
    "e1.display()\n",
    "e2.display()"
   ]
  },
  {
   "cell_type": "code",
   "execution_count": 8,
   "id": "5cbbff6b-9d20-45d3-90c2-a833143fe066",
   "metadata": {},
   "outputs": [
    {
     "name": "stdout",
     "output_type": "stream",
     "text": [
      " Student name: sium and student id: 1\n",
      " Student name: rhs and student id: 456\n"
     ]
    }
   ],
   "source": [
    "## Class object constructor attributes method()\n",
    "class Student():\n",
    "    def __init__(self, name, id):\n",
    "        self.name = name #instance variable\n",
    "        self.id = id\n",
    "    def display(self): #instance method\n",
    "        print(f\" Student name: {self.name} and student id: {self.id}\")\n",
    "#variable = class_name\n",
    "s1 = Student(\"sium\", 1)\n",
    "s2 = Student('rhs', 456)\n",
    "s1.display() # a method always must be called on the object\n",
    "s2.display()"
   ]
  },
  {
   "cell_type": "code",
   "execution_count": 9,
   "id": "d1c0dc28-83a1-4464-a4e0-fb821c2115de",
   "metadata": {},
   "outputs": [
    {
     "name": "stdout",
     "output_type": "stream",
     "text": [
      "a house has 4 windows and 2 doors\n"
     ]
    }
   ],
   "source": [
    "## create a house which has 4 windows and 2 doors\n",
    "class House():\n",
    "    def __init__(self):\n",
    "        self.window = 4\n",
    "        self.door = 2\n",
    "    def view_house(self):\n",
    "        print(f\"a house has {self.window} windows and {self.door} doors\")\n",
    "h1 = House()\n",
    "h1.view_house()"
   ]
  },
  {
   "cell_type": "code",
   "execution_count": 10,
   "id": "ac11f1f6-59cf-4b07-846c-2fa9f3bae979",
   "metadata": {},
   "outputs": [
    {
     "name": "stdout",
     "output_type": "stream",
     "text": [
      "a house has 6 windows and 2 doors\n",
      "a house has 4 windows and 4 doors\n"
     ]
    }
   ],
   "source": [
    "class House():\n",
    "    def __init__(self):\n",
    "        self.window = 4\n",
    "        self.door = 2\n",
    "    def view_house(self):\n",
    "        print(f\"a house has {self.window} windows and {self.door} doors\")\n",
    "h1 = House()\n",
    "h1.window = 6 #we can change the value of a instance variable by calling it outside of the class by object calling\n",
    "h1.view_house()\n",
    "h2 = House()\n",
    "h2.door = 4\n",
    "h2.view_house()"
   ]
  },
  {
   "cell_type": "code",
   "execution_count": 11,
   "id": "93982772-a2f4-475f-a180-ff92377f6d40",
   "metadata": {},
   "outputs": [
    {
     "name": "stdout",
     "output_type": "stream",
     "text": [
      " This car model is Audi and the model year is 2022\n",
      " and it is a 4 wheel car\n"
     ]
    }
   ],
   "source": [
    "## Build a car with a model name, model year and wheel details\n",
    "class Car():\n",
    "    def __init__(self, model, year):\n",
    "        self.model = model\n",
    "        self.year = year\n",
    "        self.wheel = 4\n",
    "    def view_car(self):\n",
    "        print(f\" This car model is {self.model} and the model year is {self.year}\")\n",
    "        print(f\" and it is a {self.wheel} wheel car\")\n",
    "c1 = Car(\"Audi\", 2022)\n",
    "c2 = Car(\"BMW\", 2014)\n",
    "c1.view_car()        "
   ]
  },
  {
   "cell_type": "code",
   "execution_count": 12,
   "id": "1ecba5a8-9826-42ef-b6b3-e2bb07ed5cc6",
   "metadata": {},
   "outputs": [
    {
     "name": "stdout",
     "output_type": "stream",
     "text": [
      "{'model': 'Audi', 'year': 2022, 'wheel': 4}\n",
      "['__class__', '__delattr__', '__dict__', '__dir__', '__doc__', '__eq__', '__format__', '__ge__', '__getattribute__', '__gt__', '__hash__', '__init__', '__init_subclass__', '__le__', '__lt__', '__module__', '__ne__', '__new__', '__reduce__', '__reduce_ex__', '__repr__', '__setattr__', '__sizeof__', '__str__', '__subclasshook__', '__weakref__', 'model', 'view_car', 'wheel', 'year']\n"
     ]
    }
   ],
   "source": [
    "print(c1.__dict__) #built in function to see the dictionary based\n",
    "print(dir(c1)) #built in function"
   ]
  },
  {
   "cell_type": "code",
   "execution_count": 13,
   "id": "247e0760-efe1-40c6-9168-9479f4453758",
   "metadata": {},
   "outputs": [
    {
     "name": "stdout",
     "output_type": "stream",
     "text": [
      "Black Hasina is smiling from india\n",
      "Red Hasina is smiling from india\n",
      "Yellow Hasina is smiling from india\n"
     ]
    }
   ],
   "source": [
    "# create a dog with its name and make a function to change its color\n",
    "\n",
    "class Dog():\n",
    "    def __init__(self, name, color):\n",
    "        self.color = color\n",
    "        self.name = name\n",
    "    def update_color(self, color):\n",
    "        self.color = color\n",
    "    def view_dog(self):\n",
    "        print(f\"{self.color} {self.name} is smiling from india\")\n",
    "    \n",
    "d1 = Dog(\"Hasina\", \"Black\")\n",
    "d1.view_dog()\n",
    "d1.update_color(\"Red\")\n",
    "d1.view_dog() #also we can change the color by calling object with its instance variable\n",
    "d1.color = \"Yellow\"\n",
    "d1.view_dog()"
   ]
  },
  {
   "cell_type": "code",
   "execution_count": 14,
   "id": "c5ac1780-a1fe-47ae-abb1-b214817b55fc",
   "metadata": {},
   "outputs": [
    {
     "name": "stdout",
     "output_type": "stream",
     "text": [
      "Author name:Humayun \n",
      "Book name: Opekkha \n",
      "Price: 0 Taka\n",
      "Author name:Humayun \n",
      "Book name: Opekkha \n",
      "Price: 450 Taka\n"
     ]
    }
   ],
   "source": [
    "#build a program which will show book name, author name and book price and can be able to update the book prices\n",
    "class Book():\n",
    "    def __init__(self, b_name, a_name):\n",
    "        self.b_name = b_name\n",
    "        self.author = a_name\n",
    "        self.b_price = 0\n",
    "    def set_price(self, price):\n",
    "        self.b_price = price\n",
    "    # def get_price(self): I do not need that method actually\n",
    "    #     return self.b_price #but we can see the price seperately\n",
    "    def view(self):\n",
    "        print(f\"Author name:{self.author} \\nBook name: {self.b_name} \\nPrice: {self.b_price} Taka\")\n",
    "b1 = Book(\"Opekkha\", \"Humayun\")\n",
    "b1.view()\n",
    "b1.set_price(450)\n",
    "b1.view()"
   ]
  },
  {
   "cell_type": "code",
   "execution_count": 15,
   "id": "7aafffc8-07bf-459d-bb2a-b3dc77270157",
   "metadata": {},
   "outputs": [],
   "source": [
    "#from folder_name import class_name\n",
    "#import class_name"
   ]
  },
  {
   "cell_type": "code",
   "execution_count": 16,
   "id": "bc0facd5-3e9e-413f-9328-5860c3cbf2b6",
   "metadata": {},
   "outputs": [
    {
     "name": "stdout",
     "output_type": "stream",
     "text": [
      "Red cat is fucking aggressive \n",
      "Yellow Gu cat is fucking aggressive \n"
     ]
    }
   ],
   "source": [
    "class cat():\n",
    "    def __init__(self, color, action):\n",
    "        self.color = color\n",
    "        self.action = action\n",
    "    def update_color(self, color):\n",
    "        self.color = color\n",
    "    def view(self):\n",
    "        print(f\"{self.color.title()} cat is {self.action} \")\n",
    "c1 = cat(\"red\", \"fucking aggressive\")\n",
    "c1.view()\n",
    "c1.update_color(\"yellow gu\")\n",
    "c1.view()"
   ]
  },
  {
   "cell_type": "code",
   "execution_count": 17,
   "id": "19e870bd-191d-4b5b-af93-55ad943bf736",
   "metadata": {},
   "outputs": [
    {
     "name": "stdout",
     "output_type": "stream",
     "text": [
      "both cat are fucking aggressive\n"
     ]
    }
   ],
   "source": [
    "#compare method(), comapre cat1 and cat2 \n",
    "class cat():\n",
    "    def __init__(self, color, action):\n",
    "        self.color = color\n",
    "        self.action= action\n",
    "    def update_color(self, color):\n",
    "        self.color = color\n",
    "    def compare(self, self1):\n",
    "        if self.action == self1.action:\n",
    "            print(f\"both cat are {self.action}\")\n",
    "        else:\n",
    "            print(\"they are different\")\n",
    "    def view(self):\n",
    "        print(f\"{self.color.title()} cat is {self.action}\")\n",
    "c1 = cat(\"red\", \"fucking aggressive\")\n",
    "c2= cat(\"black\", \"fucking aggressive\" )\n",
    "c1.compare(c2)"
   ]
  },
  {
   "cell_type": "code",
   "execution_count": 18,
   "id": "532a2705-32be-44dd-8085-1e59dca05130",
   "metadata": {},
   "outputs": [
    {
     "name": "stdout",
     "output_type": "stream",
     "text": [
      "they are different\n",
      "Red cat is fucking aggressive\n"
     ]
    }
   ],
   "source": [
    "#compare method(), comapre cat1 and cat2 \n",
    "class cat():\n",
    "    def __init__(self, color, action):\n",
    "        self.color = color\n",
    "        self.action= action\n",
    "    def update_color(self, color):\n",
    "        self.color = color\n",
    "    def compare(self, self1): #pass by refference self1\n",
    "        if self.action == self1.action:\n",
    "            print(f\"both cat are {self.action}\")\n",
    "        else:\n",
    "            print(\"they are different\")\n",
    "    def view(self):\n",
    "        print(f\"{self.color.title()} cat is {self.action}\")\n",
    "c1 = cat(\"red\", \"fucking aggressive\")\n",
    "c2= cat(\"black\", \"calm\" )\n",
    "c1.compare(c2)\n",
    "c1.view()"
   ]
  },
  {
   "cell_type": "code",
   "execution_count": 19,
   "id": "f4452452-c919-4afa-a891-eefb60b10780",
   "metadata": {},
   "outputs": [
    {
     "name": "stdout",
     "output_type": "stream",
     "text": [
      "Method Inside: 60\n",
      "Method Inside: ['red', 'green', 'yellow']\n",
      "Method Outside: 55\n",
      "Method Inside: ['red', 'green', 'yellow']\n"
     ]
    }
   ],
   "source": [
    "class cat():\n",
    "    def __init__(self, color, action):\n",
    "        self.color = color\n",
    "        self.action = action\n",
    "    def view(self, num, clr):\n",
    "        num +=5\n",
    "        clr1 = clr\n",
    "        clr1[0]= \"red\"\n",
    "        print(f\"Method Inside: {num}\")\n",
    "        print(f\"Method Inside: {clr1}\")\n",
    "colors = [\"black\", \"green\", \"yellow\"]\n",
    "c1 = cat(\"white\", \"jumping\")\n",
    "x = 55\n",
    "c1.view(x, colors)\n",
    "print(f\"Method Outside: {x}\")\n",
    "print(f\"Method Inside: {colors}\")\n",
    "#here for the number is happening pass by value\n",
    "#and for colors is happening pass by refference"
   ]
  },
  {
   "cell_type": "code",
   "execution_count": 20,
   "id": "86f36207-80f3-4203-b145-8c7cf932d615",
   "metadata": {},
   "outputs": [
    {
     "name": "stdout",
     "output_type": "stream",
     "text": [
      "600\n"
     ]
    }
   ],
   "source": [
    "class calculator():\n",
    "    pass\n",
    "    def product(self, num1, num2):\n",
    "        print(num1*num2)\n",
    "c1 = calculator()\n",
    "c1.product(30,20)"
   ]
  },
  {
   "cell_type": "code",
   "execution_count": 21,
   "id": "6f60406e-8e5d-4d78-8404-e1a673dbe86a",
   "metadata": {},
   "outputs": [
    {
     "name": "stdout",
     "output_type": "stream",
     "text": [
      "24000\n"
     ]
    }
   ],
   "source": [
    "#method overloading\n",
    "#if i try to make a another method with the same name it will overrride the previous method\n",
    "class calculator():\n",
    "    pass\n",
    "    def product(self, num1, num2):\n",
    "        print(num1*num2)\n",
    "    def product(self,num1,num2,num3):\n",
    "        print(num1*num2*num3)\n",
    "c1 = calculator()\n",
    "#c1.product(30,20)\n",
    "c1.product(20,30,40) #now it will work but it will override the previous method"
   ]
  },
  {
   "cell_type": "code",
   "execution_count": 22,
   "id": "0fbfe16f-8869-47b9-b4fd-87990ea9661e",
   "metadata": {},
   "outputs": [
    {
     "name": "stdout",
     "output_type": "stream",
     "text": [
      "28200\n",
      "600\n",
      "1\n"
     ]
    }
   ],
   "source": [
    "#method overloading solved\n",
    "class calculator1():\n",
    "    pass\n",
    "    def product(self, num1, num2= None, num3=None):\n",
    "        if num1 != None and num2 != None and num3 != None:\n",
    "            print(num1*num2*num3)\n",
    "        elif num1!= None and num2 != None:\n",
    "            print(num1*num2)\n",
    "        else: \n",
    "            print(num1*1)\n",
    "c1= calculator1()\n",
    "c1.product(20,30,47)\n",
    "c1.product(20,30)\n",
    "c1.product(1)"
   ]
  },
  {
   "cell_type": "code",
   "execution_count": 23,
   "id": "597d6473-3754-470e-9705-c5690c7802a9",
   "metadata": {},
   "outputs": [
    {
     "name": "stdout",
     "output_type": "stream",
     "text": [
      "8880\n",
      "1\n",
      "18\n"
     ]
    }
   ],
   "source": [
    "#unlimited number multiplication calculator\n",
    "class calculator3():\n",
    "    pass\n",
    "    def product(self, *nums):# *nums parameter takes unlimited value\n",
    "        p = 1 #nums will be received as tuple\n",
    "        # print(nums)\n",
    "        for i in nums:\n",
    "            p = i*p\n",
    "        print(p)\n",
    "c1 = calculator3()\n",
    "c1.product(2,4,6,37,5)\n",
    "c1.product(1)  \n",
    "c1.product(3,6)"
   ]
  },
  {
   "cell_type": "code",
   "execution_count": 24,
   "id": "9c034b23-6d8c-4df0-a0c4-d7a8b6a3a068",
   "metadata": {},
   "outputs": [
    {
     "name": "stdout",
     "output_type": "stream",
     "text": [
      "12600\n",
      "8\n"
     ]
    }
   ],
   "source": [
    "#using a library for method overloading\n",
    "from multipledispatch import dispatch\n",
    "class calculator():\n",
    "    pass\n",
    "    def product(self, num1, num2= None, num3=None):\n",
    "        if num1 != None and num2 != None and num3 != None:\n",
    "            print(num1*num2*num3)\n",
    "        elif num1!= None and num2 != None:\n",
    "            print(num1*num2)\n",
    "        else: \n",
    "            print(num1*1)\n",
    "    def product(self, *nums):# *nums parameter takes unlimited value\n",
    "        p = 1 #nums will be received as tuple\n",
    "        # print(nums)\n",
    "        for i in nums:\n",
    "            p = i*p\n",
    "        print(p)\n",
    "c1 = calculator()\n",
    "c1.product(20,3,5,6,7)\n",
    "c1.product(1,2,4)\n",
    "\n",
    "#this method will not work so we must include @dispatch(*int)\n",
    "    "
   ]
  },
  {
   "cell_type": "code",
   "execution_count": 25,
   "id": "85815663-7aea-4c1e-9cdb-d6e65affd4b2",
   "metadata": {},
   "outputs": [
    {
     "name": "stdout",
     "output_type": "stream",
     "text": [
      "40\n"
     ]
    }
   ],
   "source": [
    "#using a library for method overloading\n",
    "from multipledispatch import dispatch\n",
    "class cal():\n",
    "    pass\n",
    "    @dispatch(int, int)\n",
    "    def product(self, a, b):\n",
    "        print(a*b)\n",
    "    @dispatch(int,int,int)\n",
    "    def product(self, a,b,c):\n",
    "        print(a*b*c)\n",
    "    @dispatch(int)\n",
    "    def product(self,a):\n",
    "        print(a*1)\n",
    "c1 = cal()\n",
    "c1.product(2,4,5)"
   ]
  },
  {
   "cell_type": "code",
   "execution_count": 26,
   "id": "14d77c52-3eeb-459f-9cb1-d28be33780a5",
   "metadata": {},
   "outputs": [
    {
     "name": "stdout",
     "output_type": "stream",
     "text": [
      "8\n",
      "70\n"
     ]
    }
   ],
   "source": [
    "#if we pass string in the @dispatch what will happen\n",
    "#using a library for method overloading\n",
    "from multipledispatch import dispatch\n",
    "class cal():\n",
    "    pass\n",
    "    @dispatch(str, str)\n",
    "    def product(self, a, b):\n",
    "        print(int(a)* int(b))\n",
    "    @dispatch(int,int,str) #check it\n",
    "    def product(self, a,b,c):\n",
    "        print(a*b* int(c))\n",
    "    @dispatch(str)\n",
    "    def product(self,a):\n",
    "        print(int(a)*1)\n",
    "c1 = cal()\n",
    "c1.product(\"2\",\"4\")\n",
    "c1.product(2,5,\"7\") #look how it works\n",
    "#so we can also pass str in the @dispatch method but we need to declare it by the refference of an object"
   ]
  },
  {
   "cell_type": "code",
   "execution_count": 27,
   "id": "cb62753b-0ee3-4ddd-abfe-1ef7031cb285",
   "metadata": {},
   "outputs": [
    {
     "name": "stdout",
     "output_type": "stream",
     "text": [
      "a student object is created with name sium\n",
      "a student object is created with name rhs2\n"
     ]
    }
   ],
   "source": [
    "##constructor overloading by keyword argument\n",
    "class student():\n",
    "    def __init__(self, **info): #for ** we can pass the direct name of the object\n",
    "        if len(info)==3:\n",
    "            self.name = info['name']\n",
    "            self.id = info['id']\n",
    "            self.cgpa = info['cgpa']\n",
    "        elif len(info) == 2:\n",
    "            self.name = info[\"name\"]\n",
    "            self.id = info['id']\n",
    "        elif len(info)== 1:\n",
    "            self.name = info['name']\n",
    "        print(f\"a student object is created with name {self.name}\")\n",
    "        \n",
    "s1= student(name ='sium',id =456, cgpa=4.00) #we can ignore the order here\n",
    "s2= student(id =1, name='rhs2')\n"
   ]
  },
  {
   "cell_type": "code",
   "execution_count": 28,
   "id": "0b71ed33-6bbe-4e21-8de7-c3b2887cbde4",
   "metadata": {},
   "outputs": [
    {
     "name": "stdout",
     "output_type": "stream",
     "text": [
      "a student object is created with name sium\n"
     ]
    }
   ],
   "source": [
    "##constructor overloading by argument\n",
    "class student():\n",
    "    def __init__(self, *info): #for * we nedd to pass the index number of the object\n",
    "        if len(info)==3:\n",
    "            self.name = info[0] \n",
    "            self.id = info[1]\n",
    "            self.cgpa = info[2]\n",
    "        elif len(info) == 2:\n",
    "            self.name = info[1]\n",
    "            self.id = info[2]\n",
    "        elif len(info)== 1:\n",
    "            self.name = info[1]\n",
    "        print(f\"a student object is created with name {self.name}\")\n",
    "        \n",
    "s1= student('sium',456,4.00) #we must maintain the order over here"
   ]
  },
  {
   "cell_type": "markdown",
   "id": "69991024-ea43-4ea6-88d3-5702b8f757d0",
   "metadata": {},
   "source": [
    "## Operator Overloading\n",
    "- we can use \"+\" operator to add numbers as well as to concatenate strings, also it works for merging 2 list\n",
    "- reason behind this is the \"+\" operator is overloaded by int class and str class\n",
    "- the same operator or function demonstrate different results for object of different classes, this is called operator overloading\n"
   ]
  },
  {
   "cell_type": "code",
   "execution_count": 29,
   "id": "7ead29df-c3c5-475e-b00e-48a954df38fa",
   "metadata": {},
   "outputs": [
    {
     "name": "stdout",
     "output_type": "stream",
     "text": [
      "50\n"
     ]
    }
   ],
   "source": [
    "#adding integers\n",
    "print(20+30)"
   ]
  },
  {
   "cell_type": "code",
   "execution_count": 30,
   "id": "4da47335-9b76-4e6f-938b-d79419b67190",
   "metadata": {},
   "outputs": [
    {
     "name": "stdout",
     "output_type": "stream",
     "text": [
      "600\n"
     ]
    }
   ],
   "source": [
    "#product of the 2 numbers \n",
    "print(20*30)"
   ]
  },
  {
   "cell_type": "code",
   "execution_count": 31,
   "id": "3c80ed26-c872-4fc7-b2c5-fd9b4c38ab7c",
   "metadata": {},
   "outputs": [
    {
     "name": "stdout",
     "output_type": "stream",
     "text": [
      "cse456\n"
     ]
    }
   ],
   "source": [
    "#concatenate 2 strings\n",
    "print(\"cse\" +\"456\")"
   ]
  },
  {
   "cell_type": "code",
   "execution_count": 32,
   "id": "93133361-56c3-4b0b-92eb-99b7bfe4cc0a",
   "metadata": {},
   "outputs": [
    {
     "name": "stdout",
     "output_type": "stream",
     "text": [
      "csecse\n"
     ]
    }
   ],
   "source": [
    "#repeat the string\n",
    "print(\"cse\" *2)"
   ]
  },
  {
   "cell_type": "code",
   "execution_count": 33,
   "id": "57bad3eb-03ef-4e92-acce-781b5b3a92f1",
   "metadata": {},
   "outputs": [
    {
     "name": "stdout",
     "output_type": "stream",
     "text": [
      "30\n",
      "cse456\n"
     ]
    }
   ],
   "source": [
    "#operator overload (+) operator, we need to implement __add__() method in the class\n",
    "class data():\n",
    "    def __init__(self, x):\n",
    "        self.x=x\n",
    "        #addiing 2 objects\n",
    "    def __add__(self, other):\n",
    "        return self.x + other.x\n",
    "num1 = data(10)\n",
    "num2 = data(20)\n",
    "str1= data('cse')\n",
    "str2 = data('456')\n",
    "print(num1+num2) #num1.__add__(num2)\n",
    "print(str1.__add__(str2))\n",
    "# num1.__add__(num2)\n",
    "# str1.__add__(str2)"
   ]
  },
  {
   "cell_type": "code",
   "execution_count": 34,
   "id": "fa00aa28-3f7c-4dcf-8460-085da0ee5b79",
   "metadata": {},
   "outputs": [
    {
     "name": "stdout",
     "output_type": "stream",
     "text": [
      "num2 is greater than num1\n"
     ]
    }
   ],
   "source": [
    "#to overload (>) greater than, we need to implement __gt__() method in the class\n",
    "class data():\n",
    "    def __init__(self, x):\n",
    "        self.x=x\n",
    "    def __gt__(self, other):\n",
    "        if self.x > other.x:\n",
    "            return True\n",
    "        else:\n",
    "            return False\n",
    "num1 = data(10)\n",
    "num2 = data(20)\n",
    "if (num1>num2):\n",
    "    print(\"num1 is greater than num2\") #num1.__gt__(num2)\n",
    "else:\n",
    "    print(\"num2 is greater than num1\")"
   ]
  },
  {
   "cell_type": "code",
   "execution_count": 39,
   "id": "af135580-d243-40aa-a414-271e004e18fb",
   "metadata": {},
   "outputs": [
    {
     "name": "stdout",
     "output_type": "stream",
     "text": [
      "num1 is less than num2\n"
     ]
    }
   ],
   "source": [
    "#to overload (<) less than, we need to implement __lt__() method in the class\n",
    "class data():\n",
    "    def __init__(self, x):\n",
    "        self.x = x\n",
    "    def __lt__(self, other):\n",
    "        if self.x < other.x:\n",
    "            return True\n",
    "        else:\n",
    "            return False\n",
    "num1 = data(10)\n",
    "num2 = data(20)\n",
    "if (num1<num2):\n",
    "    print(\"num1 is less than num2\") #num1.__lt__(num2)\n",
    "else:\n",
    "    print(\"num2 is less than num1\")"
   ]
  },
  {
   "cell_type": "code",
   "execution_count": 40,
   "id": "ede013aa-9307-4f4a-8b49-c3db91552ed0",
   "metadata": {},
   "outputs": [
    {
     "name": "stdout",
     "output_type": "stream",
     "text": [
      "Both are equal\n"
     ]
    }
   ],
   "source": [
    "#to overload (=) equal operator, we need to implement __eq__() method in the class\n",
    "class data:\n",
    "    def __init__(self, x):\n",
    "        self.x= x\n",
    "    def __eq__(self,other):\n",
    "        if self.x==other.x:\n",
    "            return \"Both are equal\"\n",
    "        else:\n",
    "            return \"Not equal\"\n",
    "num1 = data(30)\n",
    "num2= data(30)\n",
    "print(num1==num2)  #num1.__eq__(num2)"
   ]
  },
  {
   "cell_type": "code",
   "execution_count": null,
   "id": "c6a2fcda-3f60-4582-8dec-69104f6d0950",
   "metadata": {},
   "outputs": [],
   "source": [
    "#some python methods for operator overloading\n",
    "'''(+) addition ---------- n1+n2-------n1.__add__(n2)\n",
    "(-) subtraction ------- n1-n2------- n1.__sub__(n2)\n",
    "(*) multiplication----- n1*n2-------n1.__mul__(n2)\n",
    "(**)power______________n1**n2--------n1.__pow__(n2)\n",
    "(/) division-----------n1/n2---------n1.__truediv__(n2)\n",
    "(//) floor -----------n1//n2--------n1.__floordiv__(n2)\n",
    "(<) less than --------n1<n2-------- n1.__lt__(n2)\n",
    "(>) greater than------n1>n2--------- n1.__gt__(n2)\n",
    "(<=) less than or equal to---n1<=n2----- n1.__le__(n2)\n",
    "(==) equal to ------n1==n2--------n1.__eq__(n2)\n",
    "(!=) not equal to -------n1!= n2------n1.__ne__(n2)\n",
    "(>=) greater than or equal to ----n1>=n2-----n1.__ge__(n2)'''\n",
    " "
   ]
  },
  {
   "cell_type": "code",
   "execution_count": 4,
   "id": "dc69c40c-7e44-4e4d-9a6b-8a398b2dc0de",
   "metadata": {},
   "outputs": [
    {
     "name": "stdout",
     "output_type": "stream",
     "text": [
      "39\n",
      "39\n",
      "<class 'int'>\n"
     ]
    }
   ],
   "source": [
    "#operator overload\n",
    "n1 = 15\n",
    "n2 = 24\n",
    "print(n1+n2)\n",
    "n1.__add__(n2) #it was called by default\n",
    "print(n1.__add__(n2))\n",
    "print(type(n2))"
   ]
  },
  {
   "cell_type": "code",
   "execution_count": 9,
   "id": "3049f65f-1879-4578-b9eb-d9d92ec751c0",
   "metadata": {},
   "outputs": [
    {
     "name": "stdout",
     "output_type": "stream",
     "text": [
      "the house has 10 windows and 5 doors\n",
      "the house has 15 windows and 40 doors\n"
     ]
    }
   ],
   "source": [
    "#operator overload\n",
    "#merge 2 house and return their window and doors\n",
    "class House():\n",
    "    def __init__(self, d, w):\n",
    "        self.window = w\n",
    "        self.door = d\n",
    "    def view(self):\n",
    "        print(f\"the house has {self.window} windows and {self.door} doors\") \n",
    "    def __add__(self, other): #we overload the plus operator here\n",
    "        new_w= self.window +other.window\n",
    "        new_d= self.door + other.door\n",
    "        obj = House(new_w, new_d) #we can create obj inside a method\n",
    "        return obj\n",
    "        #return \"new house has \" +  str(new_window) + \" windows and \" + str(new_door) +\" doors\"\n",
    "d1 = House(5, 10)\n",
    "d2 = House(10,30)\n",
    "d1.view()\n",
    "d3 = d3.view()"
   ]
  },
  {
   "cell_type": "code",
   "execution_count": null,
   "id": "45099edd-d733-4a70-91bf-f8643bef53a0",
   "metadata": {},
   "outputs": [],
   "source": [
    "## Encapsulation(most important)\n",
    "class Student:\n",
    "    def __init__(self, name, id):\n",
    "        self.name = name #instance variable\n",
    "        self.id= id #instance variable\n",
    "    def view(self): #instance method\n",
    "        print(f\"Name: {self.name} \\nID: {self.id}\")\n",
    "s1= Student('carol', 22)\n",
    "s2= Student('Bob', 456)\n",
    "s1.id =20 #in this part we can publicly access the class, anyone can chnage the st id anytime, so that where we need encaptulation to make a private variable instance\n",
    "s1.view() \n",
    "s2.view()"
   ]
  },
  {
   "cell_type": "code",
   "execution_count": 14,
   "id": "f937c478-0911-46a4-9fdf-375f2b95bad1",
   "metadata": {},
   "outputs": [
    {
     "name": "stdout",
     "output_type": "stream",
     "text": [
      "Name: Sium \n",
      "ID: 456\n",
      "Name: Sium \n",
      "ID: 456\n"
     ]
    }
   ],
   "source": [
    "## Encapsulation(most important)\n",
    "class student():\n",
    "    def __init__(self, name, id):\n",
    "        self.name = name #instance variable\n",
    "        self.__id = id #private instance variable(we can not access that variable outside of the class by using __ underscore but we can access them from inside the class)\n",
    "    def view(self):\n",
    "        print(f\"Name: {self.name} \\nID: {self.__id}\")\n",
    "s1 = student(\"Sium\", 456)\n",
    "s1.view()\n",
    "s1.__id = 1 #it does not change anything because it is encapsulated with __, if we want to access it we need to access it from inside the class method \n",
    "s1.view()"
   ]
  },
  {
   "cell_type": "code",
   "execution_count": 23,
   "id": "c8583e77-fa1e-401a-9f9a-d6f4a2340e05",
   "metadata": {},
   "outputs": [
    {
     "name": "stdout",
     "output_type": "stream",
     "text": [
      "Name: Sium \n",
      "ID: 456\n",
      "Name: Sium \n",
      "ID: 1\n"
     ]
    }
   ],
   "source": [
    "## Encapsulation(most important)\n",
    "class student():\n",
    "    def __init__(self, name, id):\n",
    "        self.name = name #instance variable\n",
    "        self.__id = id #private instance variable(we can not access that variable outside of the class by using __ underscore but we can access them from inside the class)\n",
    "    def view(self):\n",
    "        print(f\"Name: {self.name} \\nID: {self.__id}\")\n",
    "    def set_id(self,id):\n",
    "        if id>0:            \n",
    "            self.__id = id\n",
    "        else:\n",
    "            print(\"Invalid Id\")\n",
    "    def get_id(self):\n",
    "        return self.__id\n",
    "    def set_name(self, name):\n",
    "        self.name = name\n",
    "s1 = student(\"Sium\", 456)\n",
    "s1.view()\n",
    "s1.set_id(1)\n",
    "s1.view()"
   ]
  },
  {
   "cell_type": "code",
   "execution_count": 24,
   "id": "416f5b89-4253-4f2c-a4ba-d04caeb96c1e",
   "metadata": {},
   "outputs": [
    {
     "name": "stdout",
     "output_type": "stream",
     "text": [
      "X: 5 and Y: 6\n"
     ]
    }
   ],
   "source": [
    "#private instance variable\n",
    "class abc():\n",
    "    def __init__(self,x,y):\n",
    "        self.x=x #instance variable\n",
    "        self.__y =y #private instance variable\n",
    "    def view(self):\n",
    "        print(f\"X: {self.x} and Y: {self.__y}\")\n",
    "a1= abc(5,6)\n",
    "a1.view()\n",
    "\n"
   ]
  },
  {
   "cell_type": "code",
   "execution_count": 26,
   "id": "bd4cb2e6-94c2-4e45-ab11-408c45eb4c39",
   "metadata": {},
   "outputs": [
    {
     "name": "stdout",
     "output_type": "stream",
     "text": [
      " Name: sium and ID: 456\n",
      "a private method executed\n"
     ]
    }
   ],
   "source": [
    "#private method #we can call the private method from inside the class \n",
    "## Encapsulation(most important)\n",
    "#a method also can be private\n",
    "class student():\n",
    "    def __init__(self, name, id):\n",
    "        self.name = name\n",
    "        self.id = id\n",
    "    def view(self):\n",
    "        print(f\" Name: {self.name} and ID: {self.id}\")\n",
    "        self.__method() #we have to use self.__method for executing the private method\n",
    "    def __method(self):\n",
    "        print(\"a private method executed\")\n",
    "s1 = student(\"sium\", 456)\n",
    "s1.view()\n",
    "#private method can be called from the outside of the class"
   ]
  },
  {
   "cell_type": "code",
   "execution_count": 31,
   "id": "6c96a3bb-9c44-4f91-9cdf-3665f7041d81",
   "metadata": {},
   "outputs": [
    {
     "name": "stdout",
     "output_type": "stream",
     "text": [
      "10\n"
     ]
    },
    {
     "data": {
      "text/plain": [
       "10"
      ]
     },
     "execution_count": 31,
     "metadata": {},
     "output_type": "execute_result"
    }
   ],
   "source": [
    "#class or static variable\n",
    "class player():\n",
    "    team_run = 0\n",
    "    def __init__(self, name, run):\n",
    "        self.name = name\n",
    "        self.run = run\n",
    "    def hit_4(self): #instance method\n",
    "        self.run+=4\n",
    "        player.team_run+=4 #we have to call the static variable with class name\n",
    "    def hit_6(self):\n",
    "        self.run +=6\n",
    "        player.team_run+=6\n",
    "p1 = player(\"shakib\", 0)\n",
    "p2 = player('tamim', 0)\n",
    "p1.hit_4()\n",
    "p1.hit_6()\n",
    "print(p1.run) #indivisual run\n",
    "player.team_run #team_run\n",
    "        "
   ]
  },
  {
   "cell_type": "code",
   "execution_count": 37,
   "id": "409bb24b-5f2d-4b74-88d1-8a52f320cb79",
   "metadata": {},
   "outputs": [
    {
     "name": "stdout",
     "output_type": "stream",
     "text": [
      "6\n",
      "Name: carol and ID: 12 and Student: 6 \n"
     ]
    }
   ],
   "source": [
    "#class or static variable\n",
    "class student():\n",
    "    st_count =0\n",
    "    def __init__(self, name, id):\n",
    "        self.name = name\n",
    "        self.id = id\n",
    "        student.st_count +=1\n",
    "    def details(self):\n",
    "        print(f\"Name: {self.name} and ID: {self.id} and Student: {student.st_count} \")\n",
    "s1= student('bob', 11)\n",
    "s2= student('carol', 12)\n",
    "s3= student('sium', 13)\n",
    "s4= student('soad', 14)\n",
    "s5= student('sio', 15)\n",
    "s6= student('rhs2', 456)\n",
    "print(student.st_count)\n",
    "s2.details() "
   ]
  },
  {
   "cell_type": "markdown",
   "id": "5b973e6a-c5a2-4a91-9c94-0b25ef40b36a",
   "metadata": {},
   "source": [
    "## Method\n",
    "- a python method is like a python function\n",
    "- it must be called on an object\n",
    "- it must put it inside a class\n",
    "- a method has a name and may take parameters and have return statement\n",
    "\n",
    "3 types of method in python\n",
    "- instance method\n",
    "- class method\n",
    "- static method"
   ]
  },
  {
   "cell_type": "markdown",
   "id": "27ab8e6f-3d32-4f43-be5d-122882b80514",
   "metadata": {},
   "source": [
    "## Instance method\n",
    "- instance method are methods which require an object of its class to be created before it can be called.\n",
    "- instance methods need a class instance and can access the instance through self.\n",
    "- instance methods takes more than one parameter, self which points to an instance of class when the method is called\n",
    "- the self parameter, instance methods can freely access attributes and other methods on the same projects."
   ]
  },
  {
   "cell_type": "code",
   "execution_count": 1,
   "id": "121e7205-a3ee-4d0d-87ac-658c910bf952",
   "metadata": {},
   "outputs": [
    {
     "name": "stdout",
     "output_type": "stream",
     "text": [
      "5.5\n"
     ]
    }
   ],
   "source": [
    "#instance method\n",
    "class n_c():\n",
    "    def __init__(self, x, y):\n",
    "        self.x = x\n",
    "        self.y = y\n",
    "    def avg(self): #instance method\n",
    "        print((self.x +self.y)/ 2)\n",
    "m1= n_c(4,7)\n",
    "m1.avg() #it is called with a reference"
   ]
  },
  {
   "cell_type": "markdown",
   "id": "2a197332-11a5-457f-bfaf-ee5a023e1ac7",
   "metadata": {},
   "source": [
    "## Class Method\n",
    "- a class method is bound to the class and not bound to the object of the class. they have access to the state of the class as it takes a class parameter that points to the class and not the object instance.\n",
    "- method with a @classmethod decorator to flag it as a class method\n",
    "- class methods do not needs a class instance. they can not access the instance(self) but they have access to the class itself via cls\n",
    "- this method only has access to this cls argument, it can not modify object instance state. That would require access to self\n",
    "- Class methods can still modify class state that applies across all instance of the class\n",
    "- we do not need the object to a class method to call, class method can be called directly through class. "
   ]
  },
  {
   "cell_type": "code",
   "execution_count": 3,
   "id": "38a5049c-a185-4253-98e9-025f876bf6ec",
   "metadata": {},
   "outputs": [
    {
     "name": "stdout",
     "output_type": "stream",
     "text": [
      "Google\n"
     ]
    }
   ],
   "source": [
    "class emp():\n",
    "    org = \"Google\" #class or static variable\n",
    "    def __init__(self, name):\n",
    "        self.name = name\n",
    "    @classmethod #decorator\n",
    "    def info(cls): #in the class method bydefault we need to cls parameter\n",
    "        return cls.org\n",
    "print(emp.info()) ##here we do not need any object to call a class method, we can directly call through class_name.class_method()\n",
    "    "
   ]
  },
  {
   "cell_type": "markdown",
   "id": "e0b9bd65-4f65-4aa2-958b-e11314dc3ed3",
   "metadata": {},
   "source": [
    "## Static method\n",
    "- static methods in python are extremly similar to python class level methods.\n",
    "- marked with a @staticmethod decorator to flag it as a static method\n",
    "- this type of method takes neither a self nor a cls parameter\n",
    "- it is free to accept and arbitrary number of other parameter\n",
    "- static method can neither modify object state nor class state\n",
    "- it can be called without an object for that class, using the class name directly\n",
    "- if we want to do something extra with a class we can use static methods\n",
    "- we generally use static methods to create utility functions. "
   ]
  },
  {
   "cell_type": "code",
   "execution_count": 6,
   "id": "6c165ba4-38d4-4131-98c0-bb205d61812b",
   "metadata": {},
   "outputs": [
    {
     "name": "stdout",
     "output_type": "stream",
     "text": [
      "This is an employee class\n"
     ]
    }
   ],
   "source": [
    "#static method\n",
    "class emp():\n",
    "    org = \"Google\"\n",
    "    def __init__(self, name):\n",
    "        self.name = name\n",
    "    @staticmethod    \n",
    "    def details():\n",
    "        print(\"This is an employee class\")\n",
    "emp.details()\n"
   ]
  },
  {
   "cell_type": "code",
   "execution_count": 18,
   "id": "16aece5d-127c-4d0a-b77e-8bc49d2a67dd",
   "metadata": {},
   "outputs": [
    {
     "name": "stdout",
     "output_type": "stream",
     "text": [
      "Name: sium \n",
      "ID: 456 \n",
      "and university name: Nuist \n",
      "Name: rhs2 \n",
      "ID: 1 \n",
      "and university name: Nuist \n",
      "Name: sium \n",
      "ID: 456 \n",
      "and university name: Nanjing University of Information Science and Technology \n",
      "Name: rhs2 \n",
      "ID: 1 \n",
      "and university name: Nanjing University of Information Science and Technology \n"
     ]
    }
   ],
   "source": [
    "#class method\n",
    "class st():\n",
    "    uni = \"Nuist\"\n",
    "    def __init__(self, name, id):\n",
    "        self.name = name\n",
    "        self.id = id\n",
    "    def details(self):\n",
    "        print(f\"Name: {self.name} \\nID: {self.id} \\nand university name: {st.uni} \")\n",
    "    @classmethod\n",
    "    def update_uni_name(cls, u_name):\n",
    "        cls.uni = u_name\n",
    "s1= st('sium', 456)\n",
    "s2 = st('rhs2', 1)\n",
    "s1.details()\n",
    "s2.details()\n",
    "s1.update_uni_name(\"Nanjing University of Information Science and Technology\")\n",
    "s1.details() #it updated class variable for every object\n",
    "s2.details()\n"
   ]
  },
  {
   "cell_type": "code",
   "execution_count": 22,
   "id": "7cddfac4-b352-4fd9-adad-78aad51b02d9",
   "metadata": {},
   "outputs": [
    {
     "name": "stdout",
     "output_type": "stream",
     "text": [
      "Name: sium \n",
      "ID: 456 \n",
      "and university name: Nuist \n",
      "Name: rhs2 \n",
      "ID: 1 \n",
      "and university name: Nuist \n",
      "Name: sium \n",
      "ID: 456 \n",
      "and university name: Nanjing University of Information Science and Technology \n",
      "Name: rhs2 \n",
      "ID: 1 \n",
      "and university name: Nuist \n"
     ]
    },
    {
     "data": {
      "text/plain": [
       "{'name': 'sium',\n",
       " 'id': 456,\n",
       " 'uni': 'Nanjing University of Information Science and Technology'}"
      ]
     },
     "execution_count": 22,
     "metadata": {},
     "output_type": "execute_result"
    }
   ],
   "source": [
    "#now lets do it for instance method\n",
    "#class method\n",
    "class st():\n",
    "    uni = \"Nuist\"\n",
    "    def __init__(self, name, id):\n",
    "        self.name = name\n",
    "        self.id = id\n",
    "    def details(self):\n",
    "        print(f\"Name: {self.name} \\nID: {self.id} \\nand university name: {self.uni} \")\n",
    "    def update_uni_name(self, u_name):\n",
    "        self.uni = u_name\n",
    "s1= st('sium', 456)\n",
    "s2 = st('rhs2', 1)\n",
    "s1.details()\n",
    "s2.details()\n",
    "s1.update_uni_name(\"Nanjing University of Information Science and Technology\")\n",
    "s1.details() #now it only change for s1 because we have not updated for s2\n",
    "s2.details()\n",
    "s1.__dict__\n"
   ]
  },
  {
   "cell_type": "code",
   "execution_count": 24,
   "id": "f0201e12-e351-4d69-863c-18b715db453f",
   "metadata": {},
   "outputs": [
    {
     "name": "stdout",
     "output_type": "stream",
     "text": [
      "Name: rhs2 \n",
      "ID: 1 \n",
      "and uni name: Nuist \n",
      "Name: sium \n",
      "ID: 456 \n",
      "and uni name: Nuist \n"
     ]
    }
   ],
   "source": [
    "#creating a factory method #class method\n",
    "class st():\n",
    "    uni = \"Nuist\" #class/static variable\n",
    "    def __init__(self, name, id):\n",
    "        self.name = name #instance variable\n",
    "        self.__id = id #private instance variable\n",
    "    def details(self): #instance method\n",
    "        print(f\"Name: {self.name} \\nID: {self.__id} \\nand uni name: {st.uni} \")\n",
    "    @classmethod\n",
    "    def update_uni(cls, u_name):\n",
    "        cls.uni = u_name #it will update the class variable\n",
    "    @classmethod\n",
    "    def from_string(cls,info):\n",
    "        name,id = info.split('-')\n",
    "        obj = cls(name,id)\n",
    "        return obj\n",
    "s1 = st('sium',456)\n",
    "s2=st.from_string(\"rhs2-1\")\n",
    "s2.details()\n",
    "s1.details()\n",
    "        \n",
    "        "
   ]
  },
  {
   "cell_type": "code",
   "execution_count": null,
   "id": "ae2283b6-07c2-433e-b27a-c8b9a0692529",
   "metadata": {},
   "outputs": [],
   "source": [
    "# <!-- ## Python Inheritance\n",
    "# Class Example\n",
    "# 1.CSEStudent\n",
    "# -name\n",
    "# -ID\n",
    "# -CGPA\n",
    "# *do_class()\n",
    "# *do_lab()\n",
    "# 2. BBAStudent\n",
    "# -name\n",
    "# -ID\n",
    "# -CGPA\n",
    "# *do_class()\n",
    "# 3.EEEStudent\n",
    "# -name\n",
    "# -ID\n",
    "# -CGPA\n",
    "# *do_class()\n",
    "# *do_lab() -->"
   ]
  },
  {
   "cell_type": "markdown",
   "id": "b782b738-e7c7-4afb-b99f-3540f48a6456",
   "metadata": {},
   "source": [
    "## Python Inheritance IS-A Relationship\n",
    "- Student Class - Parent class/ super class/ base class\n",
    "- CseStudent class- child class/ sub class/ derived class\n",
    "\n",
    "\n",
    "-  a software modelling approach of OOP enables extending the capability of an existing class to build a new class, instead of building from scrach. In oop terminology , this characteristic is called inheritance, the existing class is called base class or parent class, while the new class is called child or sub class.\n",
    "\n",
    "-  Parent - class is the class being inherited from also called base class\n",
    "- Child- class is the class that inherits from another class also called derived class\n",
    "inheritance comes into picture when a new class possesses the 'IS A' relationship with an existing class."
   ]
  },
  {
   "cell_type": "code",
   "execution_count": null,
   "id": "44a493f6-12cb-4d9c-8827-3d62e05703f4",
   "metadata": {},
   "outputs": [],
   "source": [
    "# #Python inheritance Syntax:\n",
    "# class parentclass:\n",
    "#     body of the base class\n",
    "# class derivedclass(parentclass):\n",
    "#     body of the derived class"
   ]
  },
  {
   "cell_type": "markdown",
   "id": "3d54ba2a-c4c7-4b93-924e-39e381437252",
   "metadata": {},
   "source": [
    "## Benefit of Inheritance\n",
    " - code reusability, readability and scalability\n",
    " - reduction of code repetition\n",
    " - placement of all the standard methods and attributes in the parent class ensures accessibility by the child class derived from it\n",
    " - division of the into multiple classes, makes the applications looks better and the error identification is easy\n",
    " - well representation of real world relationship\n",
    " - transitive in nature which means that if class B inherits from another class A, then all the subclasses of B would automatically inherit from class A "
   ]
  },
  {
   "cell_type": "markdown",
   "id": "9ce8bb1b-8ad3-48ac-bd9e-4c1c3aeae9b4",
   "metadata": {},
   "source": [
    "## Types of Inheritance \n",
    "1. Single Inheritance\n",
    "- in which there is one base class and one derived class\n",
    "2. multiple inheritance\n",
    "- a class can be derived from more than one base classes\n",
    "3. multilevel inheritance\n",
    "- we can inherit a derived class from another derived class\n",
    "4. Hybrid inheritance\n",
    "- hybrid inheritance involves multiple inheritance taking place\n",
    "5. Hierarchical Inheritance\n",
    "- In which there is single base class and multiple derived class"
   ]
  },
  {
   "cell_type": "code",
   "execution_count": 29,
   "id": "59cc07ef-19da-47ad-b6b0-456b484021c5",
   "metadata": {},
   "outputs": [
    {
     "name": "stdout",
     "output_type": "stream",
     "text": [
      "this method 1 from Parent class\n",
      "this method 2 from Parent class\n",
      "this method 3 is from child class\n"
     ]
    }
   ],
   "source": [
    "#single inheritance Vehicle < Bus\n",
    "#there will be one parent class and one child class\n",
    "class Parentclass(): #Parent class \n",
    "    def method1(self): \n",
    "        print(\"this method 1 from Parent class\")\n",
    "    def method2(self):\n",
    "        print(\"this method 2 from Parent class\")\n",
    "class Childclass(Parentclass):\n",
    "    def method3(self):\n",
    "        print('this method 3 is from child class')\n",
    "c1= Childclass() #this child can access all the method from parent class\n",
    "c1.method1()\n",
    "c1.method2()\n",
    "c1.method3()"
   ]
  },
  {
   "cell_type": "code",
   "execution_count": 31,
   "id": "366c4a04-3d6f-4dc6-9c28-fa4978322f91",
   "metadata": {},
   "outputs": [
    {
     "name": "stdout",
     "output_type": "stream",
     "text": [
      "Rover is eating\n",
      "Rover is barking\n",
      "jack is eating\n",
      "True\n",
      "True\n"
     ]
    }
   ],
   "source": [
    "#Single Inheritance\n",
    "class Animal:\n",
    "    def __init__(self, name):\n",
    "        self.name = name\n",
    "    def eat(self):\n",
    "        print(f\"{self.name} is eating\")\n",
    "        \n",
    "class Dog(Animal):\n",
    "    def bark(self):\n",
    "        print(f\"{self.name} is barking\")\n",
    "a1= Animal('jack')\n",
    "d1= Dog('Rover')\n",
    "d1.eat()\n",
    "d1.bark()\n",
    "a1.eat()\n",
    "\n",
    "#isinstance(Object, ClassName)\n",
    "print(isinstance(d1,Animal))\n",
    "#issubclass(class, Classname)\n",
    "print(issubclass(Dog, Animal))\n"
   ]
  },
  {
   "cell_type": "code",
   "execution_count": 32,
   "id": "a14f40a5-afe4-4041-ae8a-571db6dc44cc",
   "metadata": {},
   "outputs": [
    {
     "name": "stdout",
     "output_type": "stream",
     "text": [
      "This method1 is in Parent Class\n",
      "This method2 is in Child Class1\n",
      "This method2 is in ChildClass2\n"
     ]
    }
   ],
   "source": [
    "#Python Inheritance\n",
    "#Multilevel Inheritance  Transport< vehicle< bus\n",
    "#childclass 2 has access to own class(childclass2), parent class(childclass1), grand parent class(parent class) \n",
    "class ParentClass:\n",
    "    def method1(self):\n",
    "        print(\"This method1 is in Parent Class\")\n",
    "class ChildClass1(ParentClass):\n",
    "    def method2(self):\n",
    "        print(\"This method2 is in Child Class1\")\n",
    "class ChildClass2(ChildClass1):\n",
    "    def method3(self):\n",
    "        print(\"This method2 is in ChildClass2\")\n",
    "ch1= ChildClass2()\n",
    "ch1.method1()\n",
    "ch1.method2()\n",
    "ch1.method3()\n"
   ]
  },
  {
   "cell_type": "code",
   "execution_count": 33,
   "id": "a0ed2dcf-c12e-4609-9514-91509a88d7a7",
   "metadata": {},
   "outputs": [
    {
     "name": "stdout",
     "output_type": "stream",
     "text": [
      "Name: bob ID: 13\n",
      "Name: Carol ID: 30\n",
      "Carol is crying because of 1 labs\n",
      "enrolled in CS110\n"
     ]
    }
   ],
   "source": [
    "#Python Inheritance\n",
    "#Multilevel Inheritance  Transport< vehicle< bus\n",
    "class students: #parent class #grand parents\n",
    "    def __init__(self,name,id):\n",
    "        self.name= name\n",
    "        self.id=id\n",
    "    def details(self):\n",
    "        print(f\"Name: {self.name} ID: {self.id}\")\n",
    "class CseStudents(students): #parent class 2\n",
    "    def __init__(self,name,id,labs):\n",
    "        super().__init__(name,id) #super() can take out the method from parent class\n",
    "        self.no_of_labs= labs\n",
    "    def cry(self):\n",
    "        print(f\"{self.name} is crying because of {self.no_of_labs} labs\")\n",
    "class CseFresher(CseStudents): #child class \n",
    "    def enroll_cs110(self):\n",
    "        print('enrolled in CS110')\n",
    "s1= CseStudents('bob', 13, 4)\n",
    "s2= CseFresher('Carol', 30,1)\n",
    "s1.details()\n",
    "s2.details()\n",
    "s2.cry()\n",
    "s2.enroll_cs110()\n",
    "    \n",
    "        "
   ]
  },
  {
   "cell_type": "code",
   "execution_count": 34,
   "id": "15004917-ec7d-46b7-9685-eed4b55a3024",
   "metadata": {},
   "outputs": [
    {
     "name": "stdout",
     "output_type": "stream",
     "text": [
      "this method2 is in Child Class1\n",
      "this method1 is in Parent Class\n",
      "this method3 is in Child Class2\n",
      "this method1 is in Parent Class\n"
     ]
    }
   ],
   "source": [
    "#Hierarchical Inheritance\n",
    "#One single base class has multiple child class , vehicle < car, bus\n",
    "class ParentClass: #base class\n",
    "    def method1(self):\n",
    "        print(\"this method1 is in Parent Class\")\n",
    "class ChildClass1(ParentClass): #derived class\n",
    "    def method2(self):\n",
    "        print(\"this method2 is in Child Class1\")\n",
    "class ChildClass2(ParentClass): #derived class\n",
    "    def method3(self):\n",
    "        print(\"this method3 is in Child Class2\")\n",
    "ch1= ChildClass1()\n",
    "ch2=ChildClass2()\n",
    "ch1.method2()\n",
    "ch1.method1()\n",
    "ch2.method3()\n",
    "ch2.method1()\n",
    "        "
   ]
  },
  {
   "cell_type": "code",
   "execution_count": 35,
   "id": "084ef94a-0d53-4dd8-a8ec-372ecd5a9a51",
   "metadata": {},
   "outputs": [
    {
     "name": "stdout",
     "output_type": "stream",
     "text": [
      "Cse students is crying because of 3 labs\n",
      "Bba students do party all days because they do not have any labs\n",
      "Name: Carol ID: 34\n",
      "Help on CseStudents in module __main__ object:\n",
      "\n",
      "class CseStudents(students)\n",
      " |  CseStudents(name, id, labs)\n",
      " |  \n",
      " |  Method resolution order:\n",
      " |      CseStudents\n",
      " |      students\n",
      " |      builtins.object\n",
      " |  \n",
      " |  Methods defined here:\n",
      " |  \n",
      " |  __init__(self, name, id, labs)\n",
      " |      Initialize self.  See help(type(self)) for accurate signature.\n",
      " |  \n",
      " |  cry(self)\n",
      " |  \n",
      " |  ----------------------------------------------------------------------\n",
      " |  Methods inherited from students:\n",
      " |  \n",
      " |  details(self)\n",
      " |  \n",
      " |  ----------------------------------------------------------------------\n",
      " |  Data descriptors inherited from students:\n",
      " |  \n",
      " |  __dict__\n",
      " |      dictionary for instance variables (if defined)\n",
      " |  \n",
      " |  __weakref__\n",
      " |      list of weak references to the object (if defined)\n",
      "\n",
      "None\n"
     ]
    }
   ],
   "source": [
    "#Hierarchical Inheritance\n",
    "class students():\n",
    "    def __init__(self, name, id):\n",
    "        self.name = name\n",
    "        self.id = id\n",
    "    def details(self):\n",
    "        print(f\"Name: {self.name} ID: {self.id}\")\n",
    "class CseStudents(students):\n",
    "    def __init__(self,name, id, labs):\n",
    "        super().__init__(name,id)\n",
    "        self.no_of_labs= labs\n",
    "    def cry(self):\n",
    "        print(f\"Cse students is crying because of {self.no_of_labs} labs\")\n",
    "class BbaStudents(students):\n",
    "    def party(self):\n",
    "        print(f\"Bba students do party all days because they do not have any labs\")\n",
    "s1= CseStudents('bob', 11, 3)\n",
    "s2=BbaStudents('Carol', 34)\n",
    "s1.cry()\n",
    "s1.__dict__   \n",
    "s2.party()\n",
    "s2.details()\n",
    "print(help(s1)) #see details how object is working in every method\n",
    "    "
   ]
  },
  {
   "cell_type": "code",
   "execution_count": 36,
   "id": "d841f46b-d96a-4748-8682-e610c588fe56",
   "metadata": {},
   "outputs": [
    {
     "name": "stdout",
     "output_type": "stream",
     "text": [
      "This method1 is in ParentClass1\n",
      "This method2 is in ParentClass2\n",
      "This method3 is in ChildClass\n"
     ]
    }
   ],
   "source": [
    "#Multiple Inheritance\n",
    "#When a single class have multiple parents class, when a class derived from multiple parents\n",
    "# Vehicle, Coach < Car\n",
    "class ParentClass1:\n",
    "    def method1(self):\n",
    "        print(\"This method1 is in ParentClass1\")\n",
    "class ParentClass2:\n",
    "    def method2(self):\n",
    "        print(\"This method2 is in ParentClass2\")\n",
    "class ChildClass(ParentClass1, ParentClass2):\n",
    "    def method3(self):\n",
    "        print(\"This method3 is in ChildClass\")\n",
    "ch1= ChildClass()\n",
    "ch1.method1()\n",
    "ch1.method2()\n",
    "ch1.method3()\n",
    "        "
   ]
  },
  {
   "cell_type": "code",
   "execution_count": 40,
   "id": "57722d79-93c8-400e-a141-0c2d7e3c6817",
   "metadata": {},
   "outputs": [
    {
     "name": "stdout",
     "output_type": "stream",
     "text": [
      "__init__ of class b \n",
      "method1 of class a \n",
      "method1 of class b\n",
      "method2 of class c\n"
     ]
    }
   ],
   "source": [
    "#Multiple Inheritance\n",
    "class a:\n",
    "    def __init__(self):\n",
    "        print(\"__init__ of class a\")\n",
    "    def method1(self):\n",
    "        print('method1 of class a ')\n",
    "class b:\n",
    "    def __init__(self):\n",
    "        print(\"__init__ of class b \")\n",
    "    def method2(self):\n",
    "        print('method1 of class b')\n",
    "class c(b,a): #which one i want to take will be the first parameter\n",
    "    # def __init__(self):\n",
    "    #     print(\"__init__ of class c\")\n",
    "    def method3(self):\n",
    "        print('method2 of class c')\n",
    "c1=c()\n",
    "c1.method1()\n",
    "c1.method2()\n",
    "c1.method3()\n",
    "        "
   ]
  },
  {
   "cell_type": "code",
   "execution_count": 42,
   "id": "c4846cac-0d3a-40bf-86ff-ac0c99c58f8d",
   "metadata": {},
   "outputs": [
    {
     "name": "stdout",
     "output_type": "stream",
     "text": [
      "__init__ of class a\n"
     ]
    }
   ],
   "source": [
    "#Multiple Inheritance\n",
    "class a:\n",
    "    def __init__(self):\n",
    "        print(\"__init__ of class a\")\n",
    "    def method1(self):\n",
    "        print('method1 of class a ')\n",
    "class b:\n",
    "    def __init__(self):\n",
    "        print(\"__init__ of class b \")\n",
    "    def method1(self):\n",
    "        print('method1 of class b')\n",
    "class c(a,b):\n",
    "    # def __init__(self):\n",
    "    #     print(\"__init__ of class c\")\n",
    "    def method2(self):\n",
    "        print('method2 of class c')\n",
    "c1= c()"
   ]
  },
  {
   "cell_type": "code",
   "execution_count": 41,
   "id": "ed5ef616-eadc-4b28-8737-dbf7dd8cf0ed",
   "metadata": {},
   "outputs": [
    {
     "name": "stdout",
     "output_type": "stream",
     "text": [
      "__init__ of class c\n",
      "method1 of class a \n",
      "method2 of class c\n",
      "method1 of class b\n"
     ]
    }
   ],
   "source": [
    "#Multiple Inheritance\n",
    "class a:\n",
    "    def __init__(self):\n",
    "        print(\"__init__ of class a\")\n",
    "    def method1(self):\n",
    "        print('method1 of class a ')\n",
    "class b:\n",
    "    def __init__(self):\n",
    "        print(\"__init__ of class b \")\n",
    "    def method1(self):\n",
    "        print('method1 of class b')\n",
    "class c(a,b): #whichever parent class is in first that will come first\n",
    "    def __init__(self):\n",
    "        #super().__init__()\n",
    "        #b.__init__(self)\n",
    "        print(\"__init__ of class c\")\n",
    "    def method2(self):\n",
    "        print('method2 of class c')\n",
    "c1= c()\n",
    "c1.method1()\n",
    "c1.method2()\n",
    "b.method1(c1) #thats how we can same method from different parent "
   ]
  },
  {
   "cell_type": "code",
   "execution_count": 43,
   "id": "ffc1e5c1-be7c-4a7e-9bf8-9bae0fbbdf70",
   "metadata": {},
   "outputs": [
    {
     "name": "stdout",
     "output_type": "stream",
     "text": [
      "This method1 is in ParentClass\n",
      "This method2 is in ChildClass1\n",
      "This method4 is in ChildClass3 \n",
      "This method1 is in ParentClass\n",
      "This method2 is in ChildClass1\n",
      "This method3 is in ChildClass2\n"
     ]
    }
   ],
   "source": [
    "#Hybrid Inheritance  Transport< Vehicale< Car, Bus\n",
    "class ParentClass():\n",
    "    def method1(self):\n",
    "        print(\"This method1 is in ParentClass\")\n",
    "class ChildClass1(ParentClass):\n",
    "    def method2(self):\n",
    "        print(\"This method2 is in ChildClass1\") #derived from parentclass\n",
    "class ChildClass2(ChildClass1):\n",
    "    def method3(self):\n",
    "        print(\"This method3 is in ChildClass2\") #derived from child class 1 \n",
    "class ChildClass3(ChildClass1):\n",
    "    def method4(self):\n",
    "        print(\"This method4 is in ChildClass3 \") #derived from child class 1 \n",
    "ch1= ChildClass3()\n",
    "ch1.method1()\n",
    "ch1.method2()\n",
    "ch1.method4()\n",
    "ch2=ChildClass2()\n",
    "ch2.method1()\n",
    "ch2.method2()\n",
    "ch2.method3()\n",
    "\n",
    "        "
   ]
  },
  {
   "cell_type": "code",
   "execution_count": 44,
   "id": "828bf134-1bbb-4666-ab0f-5e0fa06ad8c1",
   "metadata": {},
   "outputs": [
    {
     "name": "stdout",
     "output_type": "stream",
     "text": [
      "Feature1 is from ParentClass\n",
      "Feature3 is from ChildClass\n",
      "Feature2 is from ParentClass\n"
     ]
    }
   ],
   "source": [
    "#super() method\n",
    "# with inheritance , the super() function in python actually comes in quiate handy, it allow us to call a method of the parent class\n",
    "class ParentClass: \n",
    "    def feature1(self):\n",
    "        print(\"Feature1 is from ParentClass\")\n",
    "    def feature2(self):\n",
    "        print(\"Feature2 is from ParentClass\")\n",
    "class ChildClass(ParentClass):\n",
    "    def feature3(self):\n",
    "        super().feature1()\n",
    "        print(\"Feature3 is from ChildClass\")\n",
    "        super().feature2()\n",
    "obj= ChildClass()\n",
    "obj.feature3()"
   ]
  },
  {
   "cell_type": "code",
   "execution_count": 45,
   "id": "64683b3a-9779-4f46-9afa-3398492c625d",
   "metadata": {},
   "outputs": [
    {
     "name": "stdout",
     "output_type": "stream",
     "text": [
      " Method2 defined in child class\n"
     ]
    }
   ],
   "source": [
    "#Method Overriding\n",
    "#so inheritance is used to a add new behaviors, but what if we can to change behaviors?\n",
    "# Overriding: Method oveririding is a concept of object oriented programming that allows us to change the implementation of a method in the child class that is defined in the parent class. It is the ability of a child class to change the implementation of any method which is already provided by one of its parent class.\n",
    "class ParentClass:\n",
    "    def method1(self):\n",
    "        print('Method1 defined in parent class')\n",
    "class ChildClass(ParentClass):\n",
    "    def method1(self):\n",
    "        print(' Method2 defined in child class')\n",
    "ch1= ChildClass()\n",
    "ch1.method1()"
   ]
  },
  {
   "cell_type": "code",
   "execution_count": 46,
   "id": "8aef5bfa-2889-4058-8544-7455ae68ce7c",
   "metadata": {},
   "outputs": [
    {
     "name": "stdout",
     "output_type": "stream",
     "text": [
      "White Rover is eating\n",
      "White Rover is barking\n"
     ]
    },
    {
     "data": {
      "text/plain": [
       "{'name': 'Rover', 'color': 'White'}"
      ]
     },
     "execution_count": 46,
     "metadata": {},
     "output_type": "execute_result"
    }
   ],
   "source": [
    "#Variable Overridng\n",
    "class Animal:\n",
    "    def __init__(self,name):\n",
    "        self.name = name\n",
    "        self.color = \"White\"\n",
    "    def eat(self):\n",
    "        print(f\"{self.color} {self.name} is eating\")\n",
    "class Dog(Animal):\n",
    "    def __init__(self,name):\n",
    "        super().__init__(name)\n",
    "    def bark(self):\n",
    "        print(f\"{self.color} {self.name} is barking\")\n",
    "d1= Dog(\"Rover\")\n",
    "d1.eat()\n",
    "d1.bark()\n",
    "d1.__dict__"
   ]
  },
  {
   "cell_type": "code",
   "execution_count": 47,
   "id": "9bbe3464-8778-4abd-8944-c81c36e8b2a3",
   "metadata": {},
   "outputs": [
    {
     "name": "stdout",
     "output_type": "stream",
     "text": [
      "__init__ of class a \n",
      "You can play anytime\n",
      "you will get all of my properties and methods\n",
      "always study\n"
     ]
    }
   ],
   "source": [
    "#Method Overriding\n",
    "class a: #parent class\n",
    "    def __init__(self):\n",
    "        print(\"__init__ of class a \")\n",
    "    def method1(self):\n",
    "        print(\"always study\")\n",
    "    def method2(self):\n",
    "        print(\"you will get all of my properties and methods\")\n",
    "    \n",
    "class b(a): #derived class\n",
    "    def __init__(self):\n",
    "        pass\n",
    "        super().method1\n",
    "        # print(\"__init__ of class b\")\n",
    "        \n",
    "    def method1(self): #method overriding\n",
    "        print(\"You can play anytime\")\n",
    "a1= a()\n",
    "b1=b()\n",
    "b1.method1()\n",
    "b1.method2()\n",
    "a.method1(b1)\n",
    "    "
   ]
  },
  {
   "cell_type": "code",
   "execution_count": 52,
   "id": "5ff5eaa2-9eca-4cfc-a95f-0e7dd0848e17",
   "metadata": {},
   "outputs": [
    {
     "name": "stdout",
     "output_type": "stream",
     "text": [
      "This is carol and his id is 45\n",
      "This is bob and his id is 21\n"
     ]
    }
   ],
   "source": [
    "#Special Method __str__()\n",
    "class students:\n",
    "    def __init__(self,name,id):\n",
    "        self.name= name\n",
    "        self.id = id\n",
    "        # print(self)\n",
    "    def __str__(self):\n",
    "        return \"This is \"+ self.name +\" and his id is \" + str(self.id)\n",
    "s1= students(\"bob\", 21)\n",
    "s2= students (\"carol\", 45)\n",
    "s1.__str__()\n",
    "print(s2)\n",
    "print(s1.__str__())\n",
    "#when we want to print a object by default s1.__str__() will call"
   ]
  },
  {
   "cell_type": "code",
   "execution_count": 49,
   "id": "c0d2be90-42d9-4183-b98a-225d3f66d058",
   "metadata": {},
   "outputs": [
    {
     "name": "stdout",
     "output_type": "stream",
     "text": [
      "engine started\n",
      "Car is running\n"
     ]
    }
   ],
   "source": [
    "#Composition #Has-A-relationship\n",
    "class engine:\n",
    "    def __init__(self, cc):\n",
    "        self.capacity= cc\n",
    "    def start(self):\n",
    "        print(\"engine started\")\n",
    "    def stop(self):\n",
    "        print(\"engine stopped\")\n",
    "#===================================================================================\n",
    "class Car():\n",
    "    def __init__(self,name,cc):\n",
    "        self.name = name\n",
    "        self.engine = engine(cc) #object creation\n",
    "    def run(self):\n",
    "        self.engine.start()\n",
    "        print(\"Car is running\")\n",
    "#===================================================================================\n",
    "c1= Car(\"Bmw\", 1100)\n",
    "c1.run()\n",
    "    \n",
    "    \n"
   ]
  },
  {
   "cell_type": "markdown",
   "id": "40de4e27-d33a-4c88-b48a-9945ea12055e",
   "metadata": {},
   "source": [
    "## Abstract Class and Method\n",
    "- can be considered as a blue print for other classes\n",
    "- defines a common interface for a set of subclasses\n",
    "- provide common attributes and methods for all subcleasses for reduction of code duplication\n",
    "- contains one or more abstract methods\n",
    "- an abstract method has a decleration but does not have an implementation\n",
    "- we use abstract class when we design large functional units.\n",
    "\n",
    "## Abstract base class\n",
    "- python does not provide abstract classes by default\n",
    "- comes with a module that provides the base for defining abstract base classes which is ABC\n",
    "- a method becomes abstract when decorated with the keyword @abstractmethod\n",
    "-  from abc import ABC, @abstractmethod"
   ]
  },
  {
   "cell_type": "markdown",
   "id": "6f60bdb4-0306-4cce-bc5c-4e120c88dc88",
   "metadata": {},
   "source": [
    "# an abstract class is not a concrete class, it cannot be instantiated:\n",
    "from abc import ABC, abstractmethod\n",
    "class food(ABC):\n",
    "    \n",
    "    @abstractmethod\n",
    "    def taste(self):\n",
    "        pass\n",
    "        \n",
    "\n",
    "f1= food() #we cannot create object in abstract class\n",
    "\n"
   ]
  },
  {
   "cell_type": "code",
   "execution_count": null,
   "id": "ab9e3e5c-f062-44bd-86f9-ff3d9dee87a2",
   "metadata": {},
   "outputs": [],
   "source": [
    "# an abstract class is not a concrete class, it cannon be instantiated:\n",
    "from abc import ABC, abstractmethod\n",
    "class food(ABC):\n",
    "    \n",
    "    @abstractmethod\n",
    "    def taste(self):\n",
    "        pass\n",
    "class pizza(food):\n",
    "    def size(self):\n",
    "        print('12 inch pizza')\n",
    "p1= pizza()\n",
    "p1.size()\n",
    "\n"
   ]
  },
  {
   "cell_type": "code",
   "execution_count": 55,
   "id": "c06d453b-68e8-41a6-8a1b-2bd481cb112f",
   "metadata": {},
   "outputs": [
    {
     "name": "stdout",
     "output_type": "stream",
     "text": [
      "12 inch pizza\n",
      "pizza is delicious\n"
     ]
    }
   ],
   "source": [
    "# an abstract class\n",
    "from abc import ABC, abstractmethod\n",
    "class food(ABC):\n",
    "    \n",
    "    @abstractmethod #decorator\n",
    "    def taste(self):\n",
    "        pass\n",
    "class pizza(food):\n",
    "    def taste(self): #overiding the taste method\n",
    "        print('pizza is delicious')\n",
    "    def size(self):\n",
    "        print('12 inch pizza')\n",
    "p1= pizza()\n",
    "p1.size()\n",
    "p1.taste()"
   ]
  },
  {
   "cell_type": "code",
   "execution_count": 56,
   "id": "13309d8d-7745-4536-baad-b83c786138a7",
   "metadata": {},
   "outputs": [
    {
     "name": "stdout",
     "output_type": "stream",
     "text": [
      "Method1 is in subclass and it is overridden \n"
     ]
    }
   ],
   "source": [
    "from abc import ABC, abstractmethod\n",
    "class A(ABC):\n",
    "    @abstractmethod\n",
    "    def method1(self):\n",
    "        pass\n",
    "class B(A):\n",
    "    def method1(self):\n",
    "        print(\"Method1 is in subclass and it is overridden \")\n",
    "a1= B()\n",
    "a1.method1()"
   ]
  },
  {
   "cell_type": "code",
   "execution_count": 57,
   "id": "eb306888-2806-4d0b-8f79-ae7d78014df9",
   "metadata": {},
   "outputs": [
    {
     "name": "stdout",
     "output_type": "stream",
     "text": [
      "I am eating\n",
      "uff uff ufff\n",
      "I am eating\n",
      "Meawwoo meawwwoo\n",
      "I am eating\n",
      "Hisss hiss\n"
     ]
    }
   ],
   "source": [
    "#abstract method\n",
    "from abc import ABC, abstractmethod\n",
    "class Animal(ABC):\n",
    "    @abstractmethod\n",
    "    def make_sound(self):\n",
    "        pass\n",
    "    def eat(self):\n",
    "        print(\"I am eating\")\n",
    "#============================================================\n",
    "class Dog(Animal):\n",
    "    def make_sound(self):\n",
    "        super().eat()\n",
    "        print('uff uff ufff')\n",
    "#============================================================\n",
    "        \n",
    "class Cat(Animal):\n",
    "    def make_sound(self):\n",
    "        super().eat()\n",
    "        print('Meawwoo meawwwoo')\n",
    "#============================================================\n",
    "class Snake(Animal):\n",
    "    def make_sound(self):\n",
    "        super().eat()\n",
    "        print('Hisss hiss')\n",
    "d1= Dog()\n",
    "c1= Cat()\n",
    "s1= Snake()\n",
    "d1.make_sound()\n",
    "\n",
    "c1.make_sound()\n",
    "s1.make_sound()"
   ]
  },
  {
   "cell_type": "code",
   "execution_count": null,
   "id": "b18e89ec-bae9-4451-b251-a8a121898e70",
   "metadata": {},
   "outputs": [],
   "source": []
  }
 ],
 "metadata": {
  "kernelspec": {
   "display_name": "Python 3 (ipykernel)",
   "language": "python",
   "name": "python3"
  },
  "language_info": {
   "codemirror_mode": {
    "name": "ipython",
    "version": 3
   },
   "file_extension": ".py",
   "mimetype": "text/x-python",
   "name": "python",
   "nbconvert_exporter": "python",
   "pygments_lexer": "ipython3",
   "version": "3.9.10"
  }
 },
 "nbformat": 4,
 "nbformat_minor": 5
}
