{
 "cells": [
  {
   "cell_type": "markdown",
   "id": "da5d490e-644a-4b97-acf6-a63e8d437641",
   "metadata": {},
   "source": [
    "## Concept of OOP\n",
    "- provides a meaning of structuring programs so that properties and behaviours are bundled into indivisual object.\n",
    "- oop reflects the real world scenarios how things works.\n",
    "- it makes visualization easier because it is closest to the real world scenarios.\n",
    "- we can re use the code through inheritance, this saves a lots of time and shrinks our projects\n",
    "- there are flexibility through polymorphism\n",
    "\n",
    "Pillars of OOP\n",
    "1. abstraction\n",
    "2. encapsulation\n",
    "3. inheritance(reuse the code)\n",
    "4. polymorphism\n",
    "5. and in every case there will be class and objects"
   ]
  },
  {
   "cell_type": "markdown",
   "id": "9d2a8aef-0801-48a3-ada4-75d1960fe121",
   "metadata": {},
   "source": [
    "## Class Concept\n",
    "- a class is a blueprint for the objects created from that class.\n",
    "- each class contains some data defination(called field), together with methods to manupulate the data.\n",
    "- when the object is instantiated from the class, an instance variable is created for each field in the class\n",
    "\n",
    "in one words- Class--- templates for making objects"
   ]
  },
  {
   "cell_type": "markdown",
   "id": "c850cb2c-cf17-40bf-9be5-731b2cbfe5d2",
   "metadata": {},
   "source": [
    "## Objects Concept\n",
    "- objects are the basic run time entities in an object oriented system\n",
    "- it is an instance class\n",
    "- we can say that object are the variable of the type class\n",
    "\n",
    "in one word-- Bycycle Blueprint-- actual bycycle of 3 or 4\n"
   ]
  },
  {
   "cell_type": "markdown",
   "id": "aec54686-5544-4db3-8066-d91d3d40d317",
   "metadata": {},
   "source": [
    "## Class and Object\n",
    "Class/ Blueprints of a house-- Object/instance/actual 2 house with 2 different colors"
   ]
  },
  {
   "cell_type": "markdown",
   "id": "8dae2b99-66cc-4e8a-8606-2f579cec6150",
   "metadata": {},
   "source": [
    "## Class Components\n",
    "1. Data\n",
    "   - driver_name: String\n",
    "   - num_of_passenger: Int\n",
    "2. method()\n",
    "   - pick_up_passenger()\n",
    "   - drop_off_passenger()"
   ]
  },
  {
   "cell_type": "markdown",
   "id": "3d082627-abf4-447a-aac7-289127ca7dd2",
   "metadata": {},
   "source": [
    "## Method\n",
    "- a python method is like a python function\n",
    "- it must be called on an object\n",
    "- and it must put in inside a class\n",
    "- a method has a name and may takes parameters and have a return statement"
   ]
  },
  {
   "cell_type": "markdown",
   "id": "5727e80c-39c9-4ad0-9e1b-9261a7093d18",
   "metadata": {},
   "source": [
    "## Constructor\n",
    "- a special kind of method we use to initialize instance members of that class\n",
    "- it is used initializing the instance member when we create the object of a class\n",
    "- if you create 4 objects, the class constructor is called 4 times\n",
    "- every class must have a constructor, even if it simply relies on the default constructor\n",
    "- constructor can be defined in 2 ways\n",
    "   1. non-parameterised constructor(default constructor)\n",
    "   2. parameterised constructor"
   ]
  },
  {
   "cell_type": "markdown",
   "id": "1dfaca91-a0a6-46c6-998b-ec6c437614ac",
   "metadata": {},
   "source": [
    "## Python __init__\n",
    "- __init__ is a reserved method in python class\n",
    "- it is known as a constructor in OOP concept\n",
    "- this method is called when an object is created from the class and it allows the class to initialize the attributes of a class\n",
    "- it accepts the self(memory location) keyword as a first argument which allows accessing the attributes or method of a class\n",
    "- we can pass any number of arguments at the time of creating the class object, depending upon the __init__() definination "
   ]
  },
  {
   "cell_type": "markdown",
   "id": "b22b26e7-e9a0-4759-8977-a11ad72877e4",
   "metadata": {},
   "source": [
    "## Non-Parameterised constructor(default constructor)\n",
    "- when we do not include the constructor in the class or forget to declare it, then that becomes the default constructor\n",
    "- it does not perform any task but initialise the object\n",
    "- in the following example, we do not have a constructor but still we are able to create an object for the class \\n"
   ]
  },
  {
   "cell_type": "code",
   "execution_count": 1,
   "id": "2d38ad94-a014-406f-a3da-af72ab2f1a06",
   "metadata": {},
   "outputs": [],
   "source": [
    "class Employee():\n",
    "    pass\n",
    "emp1 = Employee()\n",
    "emp2 = Employee()"
   ]
  },
  {
   "cell_type": "code",
   "execution_count": 2,
   "id": "ef189eb8-30da-479a-af1a-b8f8136f19fd",
   "metadata": {},
   "outputs": [
    {
     "data": {
      "text/plain": [
       "<__main__.Employee at 0x1080ff490>"
      ]
     },
     "execution_count": 2,
     "metadata": {},
     "output_type": "execute_result"
    }
   ],
   "source": [
    "emp1"
   ]
  },
  {
   "cell_type": "code",
   "execution_count": 3,
   "id": "c4a3ec24-7322-4ba9-aec4-ad29d5fac336",
   "metadata": {},
   "outputs": [
    {
     "data": {
      "text/plain": [
       "<__main__.Employee at 0x1080ffd90>"
      ]
     },
     "execution_count": 3,
     "metadata": {},
     "output_type": "execute_result"
    }
   ],
   "source": [
    "emp2"
   ]
  },
  {
   "cell_type": "code",
   "execution_count": 4,
   "id": "3f35fa61-0159-4a0f-b56f-6d5c6506e71c",
   "metadata": {},
   "outputs": [
    {
     "name": "stdout",
     "output_type": "stream",
     "text": [
      "A Employee object created\n",
      "A Employee object created\n"
     ]
    }
   ],
   "source": [
    "class Employee():\n",
    "    def __init__(self):\n",
    "        print(\"A Employee object created\")\n",
    "emp1 = Employee()\n",
    "emp2 = Employee()"
   ]
  },
  {
   "cell_type": "markdown",
   "id": "4416afd7-d90b-4cd9-9c65-810919526422",
   "metadata": {},
   "source": [
    "## Python parameterised constructor\n",
    "- this parameterised constructor has multiple parameter along with the self\n",
    "- it accept the argument during object creation\n",
    "- example \\n"
   ]
  },
  {
   "cell_type": "code",
   "execution_count": 6,
   "id": "393f23e1-680c-44fd-9368-e78298656f41",
   "metadata": {},
   "outputs": [
    {
     "name": "stdout",
     "output_type": "stream",
     "text": [
      "Sium Created\n",
      "rhs2 Created\n"
     ]
    }
   ],
   "source": [
    "class Employee():\n",
    "    def __init__(self, name):       \n",
    "        self.name = name\n",
    "        print(self.name, \"Created\")\n",
    "emp1= Employee(\"Sium\")        \n",
    "emp2= Employee(\"rhs2\")"
   ]
  },
  {
   "cell_type": "markdown",
   "id": "14e23aa9-eb6c-4ca0-9fcd-ed72ba4b1a91",
   "metadata": {},
   "source": [
    "## Instance Method\n",
    "- instance method are methods which require an object of its class to be created before it can be called\n",
    "- instance method need a class instance and can access the instance through self.\n",
    "- instance method takes more than one parameter, self, which points to an instance of class when the method is called\n",
    "- the self parameter , instance methods can freely access attributes and other methods on the same projects"
   ]
  },
  {
   "cell_type": "code",
   "execution_count": 7,
   "id": "cfa1d194-d29d-486c-9f1c-f5f7cc5f1ff9",
   "metadata": {},
   "outputs": [
    {
     "name": "stdout",
     "output_type": "stream",
     "text": [
      "Sium 28\n",
      "rhs2 29\n"
     ]
    }
   ],
   "source": [
    "## Example of parameterised constructor\n",
    "class E():\n",
    "    def __init__(self, name, age):\n",
    "        self.name = name #instance variable\n",
    "        self.age = age #instance variable\n",
    "        print(f\"{self.name} {self.age}\")\n",
    "e1= E(\"Sium\", 28) #instance1\n",
    "e2 = E(\"rhs2\", 29)\n",
    "        "
   ]
  },
  {
   "cell_type": "code",
   "execution_count": 10,
   "id": "7f7da0f1-7383-44a8-9120-4cea2611d8ba",
   "metadata": {},
   "outputs": [
    {
     "name": "stdout",
     "output_type": "stream",
     "text": [
      "a man named Sium is 28 years old\n",
      "a man named rhs2 is 29 years old\n"
     ]
    }
   ],
   "source": [
    "## Example of parameterised constructor\n",
    "class E():\n",
    "    def __init__(self, name, age):\n",
    "        self.name = name #instance variable\n",
    "        self.age = age #instance variable\n",
    "    def display(self): #instance method\n",
    "        print(f\"a man named {self.name} is {self.age} years old\")\n",
    "e1= E(\"Sium\", 28) #instance1\n",
    "e2 = E(\"rhs2\", 29)\n",
    "e1.display()\n",
    "e2.display()"
   ]
  },
  {
   "cell_type": "code",
   "execution_count": 16,
   "id": "5cbbff6b-9d20-45d3-90c2-a833143fe066",
   "metadata": {},
   "outputs": [
    {
     "name": "stdout",
     "output_type": "stream",
     "text": [
      " Student name: sium and student id: 1\n",
      " Student name: rhs and student id: 456\n"
     ]
    }
   ],
   "source": [
    "## Class object constructor attributes method()\n",
    "class Student():\n",
    "    def __init__(self, name, id):\n",
    "        self.name = name #instance variable\n",
    "        self.id = id\n",
    "    def display(self): #instance method\n",
    "        print(f\" Student name: {self.name} and student id: {self.id}\")\n",
    "#variable = class_name\n",
    "s1 = Student(\"sium\", 1)\n",
    "s2 = Student('rhs', 456)\n",
    "s1.display() # a method always must be called on the object\n",
    "s2.display()"
   ]
  },
  {
   "cell_type": "code",
   "execution_count": 19,
   "id": "d1c0dc28-83a1-4464-a4e0-fb821c2115de",
   "metadata": {},
   "outputs": [
    {
     "name": "stdout",
     "output_type": "stream",
     "text": [
      "a house has 4 windows and 2 doors\n"
     ]
    }
   ],
   "source": [
    "## create a house which has 4 windows and 2 doors\n",
    "class House():\n",
    "    def __init__(self):\n",
    "        self.window = 4\n",
    "        self.door = 2\n",
    "    def view_house(self):\n",
    "        print(f\"a house has {self.window} windows and {self.door} doors\")\n",
    "h1 = House()\n",
    "h1.view_house()"
   ]
  },
  {
   "cell_type": "code",
   "execution_count": 22,
   "id": "ac11f1f6-59cf-4b07-846c-2fa9f3bae979",
   "metadata": {},
   "outputs": [
    {
     "name": "stdout",
     "output_type": "stream",
     "text": [
      "a house has 6 windows and 2 doors\n",
      "a house has 4 windows and 4 doors\n"
     ]
    }
   ],
   "source": [
    "class House():\n",
    "    def __init__(self):\n",
    "        self.window = 4\n",
    "        self.door = 2\n",
    "    def view_house(self):\n",
    "        print(f\"a house has {self.window} windows and {self.door} doors\")\n",
    "h1 = House()\n",
    "h1.window = 6 #we can change the value of a instance variable by calling it outside of the class by object calling\n",
    "h1.view_house()\n",
    "h2 = House()\n",
    "h2.door = 4\n",
    "h2.view_house()"
   ]
  },
  {
   "cell_type": "code",
   "execution_count": 25,
   "id": "93982772-a2f4-475f-a180-ff92377f6d40",
   "metadata": {},
   "outputs": [
    {
     "name": "stdout",
     "output_type": "stream",
     "text": [
      " This car model is Audi and the model year is 2022\n",
      " and it is a 4 wheel car\n"
     ]
    }
   ],
   "source": [
    "## Build a car with a model name, model year and wheel details\n",
    "class Car():\n",
    "    def __init__(self, model, year):\n",
    "        self.model = model\n",
    "        self.year = year\n",
    "        self.wheel = 4\n",
    "    def view_car(self):\n",
    "        print(f\" This car model is {self.model} and the model year is {self.year}\")\n",
    "        print(f\" and it is a {self.wheel} wheel car\")\n",
    "c1 = Car(\"Audi\", 2022)\n",
    "c2 = Car(\"BMW\", 2014)\n",
    "c1.view_car()        "
   ]
  },
  {
   "cell_type": "code",
   "execution_count": 27,
   "id": "1ecba5a8-9826-42ef-b6b3-e2bb07ed5cc6",
   "metadata": {},
   "outputs": [
    {
     "name": "stdout",
     "output_type": "stream",
     "text": [
      "{'model': 'Audi', 'year': 2022, 'wheel': 4}\n",
      "['__class__', '__delattr__', '__dict__', '__dir__', '__doc__', '__eq__', '__format__', '__ge__', '__getattribute__', '__gt__', '__hash__', '__init__', '__init_subclass__', '__le__', '__lt__', '__module__', '__ne__', '__new__', '__reduce__', '__reduce_ex__', '__repr__', '__setattr__', '__sizeof__', '__str__', '__subclasshook__', '__weakref__', 'model', 'view_car', 'wheel', 'year']\n"
     ]
    }
   ],
   "source": [
    "print(c1.__dict__)\n",
    "print(dir(c1))"
   ]
  },
  {
   "cell_type": "code",
   "execution_count": 31,
   "id": "247e0760-efe1-40c6-9168-9479f4453758",
   "metadata": {},
   "outputs": [
    {
     "name": "stdout",
     "output_type": "stream",
     "text": [
      "Black Hasina is smiling from india\n",
      "Red Hasina is smiling from india\n",
      "Yellow Hasina is smiling from india\n"
     ]
    }
   ],
   "source": [
    "# create a dog with its name and make a function to change its color\n",
    "\n",
    "class Dog():\n",
    "    def __init__(self, name, color):\n",
    "        self.color = color\n",
    "        self.name = name\n",
    "    def update_color(self, color):\n",
    "        self.color = color\n",
    "    def view_dog(self):\n",
    "        print(f\"{self.color} {self.name} is smiling from india\")\n",
    "    \n",
    "d1 = Dog(\"Hasina\", \"Black\")\n",
    "d1.view_dog()\n",
    "d1.update_color(\"Red\")\n",
    "d1.view_dog() #also we can change the color by calling object with its instance variable\n",
    "d1.color = \"Yellow\"\n",
    "d1.view_dog()"
   ]
  },
  {
   "cell_type": "code",
   "execution_count": 41,
   "id": "c5ac1780-a1fe-47ae-abb1-b214817b55fc",
   "metadata": {},
   "outputs": [
    {
     "name": "stdout",
     "output_type": "stream",
     "text": [
      "Author name:Humayun \n",
      "Book name: Opekkha \n",
      "Price: 0 Taka\n",
      "Author name:Humayun \n",
      "Book name: Opekkha \n",
      "Price: 450 Taka\n"
     ]
    }
   ],
   "source": [
    "#build a program which will show book name, author name and book price and can be able to update the book prices\n",
    "class Book():\n",
    "    def __init__(self, b_name, a_name):\n",
    "        self.b_name = b_name\n",
    "        self.author = a_name\n",
    "        self.b_price = 0\n",
    "    def set_price(self, price):\n",
    "        self.b_price = price\n",
    "    # def get_price(self): I do not need that method actually\n",
    "    #     return self.b_price\n",
    "    def view(self):\n",
    "        print(f\"Author name:{self.author} \\nBook name: {self.b_name} \\nPrice: {self.b_price} Taka\")\n",
    "b1 = Book(\"Opekkha\", \"Humayun\")\n",
    "b1.view()\n",
    "b1.set_price(450)\n",
    "b1.view()"
   ]
  },
  {
   "cell_type": "code",
   "execution_count": null,
   "id": "bc0facd5-3e9e-413f-9328-5860c3cbf2b6",
   "metadata": {},
   "outputs": [],
   "source": []
  },
  {
   "cell_type": "code",
   "execution_count": null,
   "id": "19e870bd-191d-4b5b-af93-55ad943bf736",
   "metadata": {},
   "outputs": [],
   "source": []
  }
 ],
 "metadata": {
  "kernelspec": {
   "display_name": "Python 3 (ipykernel)",
   "language": "python",
   "name": "python3"
  },
  "language_info": {
   "codemirror_mode": {
    "name": "ipython",
    "version": 3
   },
   "file_extension": ".py",
   "mimetype": "text/x-python",
   "name": "python",
   "nbconvert_exporter": "python",
   "pygments_lexer": "ipython3",
   "version": "3.9.10"
  }
 },
 "nbformat": 4,
 "nbformat_minor": 5
}
