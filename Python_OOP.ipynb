{
 "cells": [
  {
   "cell_type": "markdown",
   "id": "da5d490e-644a-4b97-acf6-a63e8d437641",
   "metadata": {},
   "source": [
    "## Concept of OOP\n",
    "- provides a meaning of structuring programs so that properties and behaviours are bundled into indivisual object.\n",
    "- oop reflects the real world scenarios how things works.\n",
    "- it makes visualization easier because it is closest to the real world scenarios.\n",
    "- we can re use the code through inheritance, this saves a lots of time and shrinks our projects\n",
    "- there are flexibility through polymorphism\n",
    "\n",
    "Pillars of OOP\n",
    "1. abstraction\n",
    "2. encapsulation\n",
    "3. inheritance(reuse the code)\n",
    "4. polymorphism\n",
    "5. and in every case there will be class and objects"
   ]
  },
  {
   "cell_type": "markdown",
   "id": "9d2a8aef-0801-48a3-ada4-75d1960fe121",
   "metadata": {},
   "source": [
    "## Class Concept\n",
    "- a class is a blueprint for the objects created from that class.\n",
    "- each class contains some data defination(called field), together with methods to manupulate the data.\n",
    "- when the object is instantiated from the class, an instance variable is created for each field in the class\n",
    "\n",
    "in one words- Class--- templates for making objects"
   ]
  },
  {
   "cell_type": "markdown",
   "id": "c850cb2c-cf17-40bf-9be5-731b2cbfe5d2",
   "metadata": {},
   "source": [
    "## Objects Concept\n",
    "- objects are the basic run time entities in an object oriented system\n",
    "- it is an instance class\n",
    "- we can say that object are the variable of the type class\n",
    "\n",
    "in one word-- Bycycle Blueprint-- actual bycycle of 3 or 4\n"
   ]
  },
  {
   "cell_type": "markdown",
   "id": "aec54686-5544-4db3-8066-d91d3d40d317",
   "metadata": {},
   "source": [
    "## Class and Object\n",
    "Class/ Blueprints of a house-- Object/instance/actual 2 house with 2 different colors"
   ]
  },
  {
   "cell_type": "code",
   "execution_count": null,
   "id": "18342680-1131-4cdc-8f34-2ec350244e79",
   "metadata": {},
   "outputs": [],
   "source": []
  }
 ],
 "metadata": {
  "kernelspec": {
   "display_name": "Python 3 (ipykernel)",
   "language": "python",
   "name": "python3"
  },
  "language_info": {
   "codemirror_mode": {
    "name": "ipython",
    "version": 3
   },
   "file_extension": ".py",
   "mimetype": "text/x-python",
   "name": "python",
   "nbconvert_exporter": "python",
   "pygments_lexer": "ipython3",
   "version": "3.9.10"
  }
 },
 "nbformat": 4,
 "nbformat_minor": 5
}
