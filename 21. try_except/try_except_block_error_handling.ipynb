{
 "cells": [
  {
   "cell_type": "markdown",
   "id": "0063b0af-3d2c-48fc-a553-ca1fa57e9425",
   "metadata": {},
   "source": [
    "## Try/except blocks for error handing"
   ]
  },
  {
   "cell_type": "code",
   "execution_count": 1,
   "id": "609e465e-7494-49ea-a9dc-7134822a9b4b",
   "metadata": {},
   "outputs": [],
   "source": [
    "try:\n",
    "    pass\n",
    "except Exception:\n",
    "    pass\n",
    "else:\n",
    "    pass\n",
    "finally:\n",
    "    pass"
   ]
  },
  {
   "cell_type": "code",
   "execution_count": 1,
   "id": "70116721-3646-4c4d-9e5f-8173da5ed3e8",
   "metadata": {},
   "outputs": [],
   "source": [
    "#most of the time we will use try and except block \n",
    "try:\n",
    "    pass\n",
    "except Exception:\n",
    "    pass"
   ]
  },
  {
   "cell_type": "code",
   "execution_count": 4,
   "id": "7e66e810-3b4e-4760-be5c-c497cc0bc251",
   "metadata": {},
   "outputs": [],
   "source": [
    "with open ('test_file.txt') as f:\n",
    "    contents = f.read()"
   ]
  },
  {
   "cell_type": "code",
   "execution_count": 13,
   "id": "af2e1ed4-6037-4ad0-8e7f-7a530b4202f2",
   "metadata": {},
   "outputs": [
    {
     "name": "stdout",
     "output_type": "stream",
     "text": [
      "Test File Contents!\n"
     ]
    }
   ],
   "source": [
    "#exact file name\n",
    "try:\n",
    "    with open ('test_file.txt', 'r') as f:\n",
    "        contents = f.read()\n",
    "        print(contents)\n",
    "except Exception as e:\n",
    "    print(e)"
   ]
  },
  {
   "cell_type": "code",
   "execution_count": 14,
   "id": "874ab1c9-47e8-4246-b979-b075b861c2a6",
   "metadata": {},
   "outputs": [
    {
     "name": "stdout",
     "output_type": "stream",
     "text": [
      "[Errno 2] No such file or directory: 'testfile.txt'\n"
     ]
    }
   ],
   "source": [
    "#wrong file name\n",
    "try:\n",
    "    with open ('testfile.txt', 'r') as f:\n",
    "        contents = f.read()\n",
    "        print(contents)\n",
    "except Exception as e:\n",
    "    print(e)"
   ]
  },
  {
   "cell_type": "code",
   "execution_count": 17,
   "id": "3c315fff-b474-40c4-ad4b-b8fef6a35422",
   "metadata": {},
   "outputs": [
    {
     "name": "stdout",
     "output_type": "stream",
     "text": [
      "name 'bad_var' is not defined\n"
     ]
    }
   ],
   "source": [
    "#multiple exception\n",
    "try:\n",
    "    with open ('test_file.txt', 'r') as f:\n",
    "        var = bad_var\n",
    "        contents = f.read()\n",
    "except FileNotFoundError as e:\n",
    "    print(e)\n",
    "except Exception as e:\n",
    "    print(e)"
   ]
  },
  {
   "cell_type": "code",
   "execution_count": 23,
   "id": "868e34ba-0424-4d1c-8b65-072b54d20cf5",
   "metadata": {},
   "outputs": [
    {
     "name": "stdout",
     "output_type": "stream",
     "text": [
      "Help on class TypeError in module builtins:\n",
      "\n",
      "class TypeError(Exception)\n",
      " |  Inappropriate argument type.\n",
      " |\n",
      " |  Method resolution order:\n",
      " |      TypeError\n",
      " |      Exception\n",
      " |      BaseException\n",
      " |      object\n",
      " |\n",
      " |  Methods defined here:\n",
      " |\n",
      " |  __init__(self, /, *args, **kwargs)\n",
      " |      Initialize self.  See help(type(self)) for accurate signature.\n",
      " |\n",
      " |  ----------------------------------------------------------------------\n",
      " |  Static methods defined here:\n",
      " |\n",
      " |  __new__(*args, **kwargs)\n",
      " |      Create and return a new object.  See help(type) for accurate signature.\n",
      " |\n",
      " |  ----------------------------------------------------------------------\n",
      " |  Methods inherited from BaseException:\n",
      " |\n",
      " |  __getattribute__(self, name, /)\n",
      " |      Return getattr(self, name).\n",
      " |\n",
      " |  __reduce__(...)\n",
      " |      Helper for pickle.\n",
      " |\n",
      " |  __repr__(self, /)\n",
      " |      Return repr(self).\n",
      " |\n",
      " |  __setstate__(...)\n",
      " |\n",
      " |  __str__(self, /)\n",
      " |      Return str(self).\n",
      " |\n",
      " |  add_note(...)\n",
      " |      Exception.add_note(note) --\n",
      " |      add a note to the exception\n",
      " |\n",
      " |  with_traceback(...)\n",
      " |      Exception.with_traceback(tb) --\n",
      " |      set self.__traceback__ to tb and return self.\n",
      " |\n",
      " |  ----------------------------------------------------------------------\n",
      " |  Data descriptors inherited from BaseException:\n",
      " |\n",
      " |  __cause__\n",
      " |      exception cause\n",
      " |\n",
      " |  __context__\n",
      " |      exception context\n",
      " |\n",
      " |  __dict__\n",
      " |\n",
      " |  __suppress_context__\n",
      " |\n",
      " |  __traceback__\n",
      " |\n",
      " |  args\n",
      "\n"
     ]
    }
   ],
   "source": [
    "import builtins\n",
    "help(builtins.TypeError)\n"
   ]
  },
  {
   "cell_type": "code",
   "execution_count": 24,
   "id": "5c8754fc-d343-4a1c-a516-c9cc43a958ea",
   "metadata": {},
   "outputs": [
    {
     "name": "stdout",
     "output_type": "stream",
     "text": [
      "['__cause__', '__class__', '__context__', '__delattr__', '__dict__', '__dir__', '__doc__', '__eq__', '__format__', '__ge__', '__getattribute__', '__getstate__', '__gt__', '__hash__', '__init__', '__init_subclass__', '__le__', '__lt__', '__ne__', '__new__', '__reduce__', '__reduce_ex__', '__repr__', '__setattr__', '__setstate__', '__sizeof__', '__str__', '__subclasshook__', '__suppress_context__', '__traceback__', 'add_note', 'args', 'with_traceback']\n"
     ]
    }
   ],
   "source": [
    "print(dir(Exception))\n"
   ]
  },
  {
   "cell_type": "code",
   "execution_count": 26,
   "id": "f6ec8ae0-1d4f-4ea7-bc00-843982b5f77d",
   "metadata": {},
   "outputs": [
    {
     "name": "stdout",
     "output_type": "stream",
     "text": [
      "['ArithmeticError', 'AssertionError', 'AttributeError', 'BaseException', 'BaseExceptionGroup', 'BlockingIOError', 'BrokenPipeError', 'BufferError', 'BytesWarning', 'ChildProcessError', 'ConnectionAbortedError', 'ConnectionError', 'ConnectionRefusedError', 'ConnectionResetError', 'DeprecationWarning', 'EOFError', 'EncodingWarning', 'EnvironmentError', 'Exception', 'ExceptionGroup', 'FileExistsError', 'FileNotFoundError', 'FloatingPointError', 'FutureWarning', 'GeneratorExit', 'IOError', 'ImportError', 'ImportWarning', 'IndentationError', 'IndexError', 'InterruptedError', 'IsADirectoryError', 'KeyError', 'KeyboardInterrupt', 'LookupError', 'MemoryError', 'ModuleNotFoundError', 'NameError', 'NotADirectoryError', 'NotImplementedError', 'OSError', 'OverflowError', 'PendingDeprecationWarning', 'PermissionError', 'ProcessLookupError', 'RecursionError', 'ReferenceError', 'ResourceWarning', 'RuntimeError', 'RuntimeWarning', 'StopAsyncIteration', 'StopIteration', 'SyntaxError', 'SyntaxWarning', 'SystemError', 'SystemExit', 'TabError', 'TimeoutError', 'TypeError', 'UnboundLocalError', 'UnicodeDecodeError', 'UnicodeEncodeError', 'UnicodeError', 'UnicodeTranslateError', 'UnicodeWarning', 'UserWarning', 'ValueError', 'Warning', 'ZeroDivisionError']\n"
     ]
    }
   ],
   "source": [
    "import builtins\n",
    "\n",
    "# List all names in builtins\n",
    "all_builtins = dir(builtins)\n",
    "\n",
    "# Filter only exception classes\n",
    "exceptions = [name for name in all_builtins if isinstance(getattr(builtins, name), type) and issubclass(getattr(builtins, name), BaseException)]\n",
    "\n",
    "print(exceptions)\n"
   ]
  },
  {
   "cell_type": "code",
   "execution_count": 31,
   "id": "440e2f6f-eedb-4f45-8358-b03b6c35dc88",
   "metadata": {},
   "outputs": [
    {
     "name": "stdout",
     "output_type": "stream",
     "text": [
      "Test File Contents!\n",
      "executed succesfully\n"
     ]
    }
   ],
   "source": [
    "#using finally \n",
    "#it will says executed testing\n",
    "try:\n",
    "    with open('test_file.txt', 'r') as f:\n",
    "        contents =f.read()\n",
    "except FileNotFoundError as e:\n",
    "    print(e)\n",
    "else:\n",
    "    print(contents) #it will print the result\n",
    "finally:\n",
    "    print('executed succesfully') ### not matter it will print the final part like closing down executed \n",
    "    "
   ]
  },
  {
   "cell_type": "code",
   "execution_count": 32,
   "id": "ca765b1a-f1cc-4fbc-90b9-0a90bfe1847d",
   "metadata": {},
   "outputs": [
    {
     "name": "stdout",
     "output_type": "stream",
     "text": [
      "[Errno 2] No such file or directory: 'testfile.txt'\n",
      "executed succesfully\n"
     ]
    }
   ],
   "source": [
    "#even if we throw and error then it will definately say that after getting the error it will close down properly\n",
    "#using finally \n",
    "#it will says executed testing\n",
    "try:\n",
    "    with open('testfile.txt', 'r') as f:\n",
    "        contents =f.read()\n",
    "except FileNotFoundError as e:\n",
    "    print(e)\n",
    "else:\n",
    "    print(contents) #it will print the result\n",
    "finally:\n",
    "    print('executed succesfully') ### not matter it will print the final part like closing down executed \n",
    "    "
   ]
  },
  {
   "cell_type": "code",
   "execution_count": 39,
   "id": "4439565f-5624-452a-9856-27b461aef331",
   "metadata": {},
   "outputs": [
    {
     "name": "stdout",
     "output_type": "stream",
     "text": [
      "Error!something went wrong\n",
      "executed succesfully\n"
     ]
    }
   ],
   "source": [
    "#raise exception by ourself\n",
    "#even if we throw and error then it will definately say that after getting the error it will close down properly\n",
    "#using finally \n",
    "#it will says executed testing\n",
    "try:\n",
    "    with open('currupt_file.txt', 'r') as f:\n",
    "        contents =f.read()\n",
    "        if f.name == 'currupt_file.txt':\n",
    "            raise Exception\n",
    "except FileNotFoundError as e:\n",
    "    print(e)\n",
    "except Exception as e:\n",
    "    print(\"Error!something went wrong\")\n",
    "else:\n",
    "    print(contents) #it will print the result\n",
    "finally:\n",
    "    print('executed succesfully') ### not matter it will print the final part like closing down executed \n",
    "    "
   ]
  },
  {
   "cell_type": "code",
   "execution_count": null,
   "id": "3f64682e-6426-4a5c-8bb6-0650c3acd8ce",
   "metadata": {},
   "outputs": [],
   "source": []
  }
 ],
 "metadata": {
  "kernelspec": {
   "display_name": "Python 3 (ipykernel)",
   "language": "python",
   "name": "python3"
  },
  "language_info": {
   "codemirror_mode": {
    "name": "ipython",
    "version": 3
   },
   "file_extension": ".py",
   "mimetype": "text/x-python",
   "name": "python",
   "nbconvert_exporter": "python",
   "pygments_lexer": "ipython3",
   "version": "3.12.10"
  },
  "widgets": {
   "application/vnd.jupyter.widget-state+json": {
    "state": {},
    "version_major": 2,
    "version_minor": 0
   }
  }
 },
 "nbformat": 4,
 "nbformat_minor": 5
}
