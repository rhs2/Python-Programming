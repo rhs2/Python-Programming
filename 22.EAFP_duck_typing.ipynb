{
 "cells": [
  {
   "cell_type": "markdown",
   "id": "ee9f19ef-a5fe-449d-a07e-e21213b163ac",
   "metadata": {},
   "source": [
    "# Duck typing and Easier to ask forgiveness than permission "
   ]
  },
  {
   "cell_type": "code",
   "execution_count": 2,
   "id": "b376ae4d-fe3d-4216-bd58-d96595d18d5b",
   "metadata": {},
   "outputs": [
    {
     "name": "stdout",
     "output_type": "stream",
     "text": [
      "<class 'list'>\n"
     ]
    }
   ],
   "source": [
    "# class Duck:\n",
    "\n",
    "#     def quack(self):\n",
    "#         print('Quack, quack')\n",
    "\n",
    "#     def fly(self):\n",
    "#         print('Flap, Flap!')\n",
    "        \n",
    "# class Person:\n",
    "\n",
    "#     def quack(self):\n",
    "#         print(\"I'm Quacking Like a Duck!\")\n",
    "\n",
    "#     def fly(self):\n",
    "#         print(\"I'm Flapping my Arms!\")\n",
    "        \n",
    "# def quack_and_fly(thing):\n",
    "#     pass\n",
    "#     # Not Duck-Typed (Non-Pythonic)\n",
    "#     # if isinstance(thing, Duck):\n",
    "#     #     thing.quack()\n",
    "#     #     thing.fly()\n",
    "#     # else:\n",
    "#     #     print('This has to be a Duck!')\n",
    "\n",
    "#     # LBYL (Non-Pythonic)\n",
    "#     # if hasattr(thing, 'quack'):\n",
    "#     #     if callable(thing.quack):\n",
    "#     #         thing.quack()\n",
    "\n",
    "#     # if hasattr(thing, 'fly'):\n",
    "#     #     if callable(thing.fly):\n",
    "#     #         thing.fly()\n",
    "\n",
    "#     #     try:\n",
    "#     #         thing.quack()\n",
    "#     #         thing.fly()\n",
    "#     #         thing.bark()\n",
    "#     #     except AttributeError as e:\n",
    "#     #         print(e)\n",
    "\n",
    "# d = Duck()\n",
    "\n",
    "# print(type(dir(d)))"
   ]
  },
  {
   "cell_type": "code",
   "execution_count": 3,
   "id": "fc6fc84f-3296-4c62-9350-1c2e44a4eb52",
   "metadata": {},
   "outputs": [
    {
     "name": "stdout",
     "output_type": "stream",
     "text": [
      "Quack, quack\n",
      "Flap, Flap!\n",
      "This has to be a Duck!\n"
     ]
    }
   ],
   "source": [
    "class Duck:\n",
    "\n",
    "    def quack(self):\n",
    "        print('Quack, quack')\n",
    "\n",
    "    def fly(self):\n",
    "        print('Flap, Flap!')\n",
    "        \n",
    "class Person:\n",
    "\n",
    "    def quack(self):\n",
    "        print(\"I'm Quacking Like a Duck!\")\n",
    "\n",
    "    def fly(self):\n",
    "        print(\"I'm Flapping my Arms!\")\n",
    "def quack_and_fly(thing):\n",
    "        #Not Duck-Typed (Non-Pythonic)\n",
    "    if isinstance(thing, Duck):\n",
    "        thing.quack()\n",
    "        thing.fly()\n",
    "    else:\n",
    "        print('This has to be a Duck!')\n",
    "d = Duck()\n",
    "quack_and_fly(d)\n",
    "p = Person()\n",
    "quack_and_fly(p)\n",
    "    "
   ]
  },
  {
   "cell_type": "code",
   "execution_count": 4,
   "id": "0cc7230e-2e29-42fa-acfe-691d50624ee8",
   "metadata": {},
   "outputs": [],
   "source": [
    "#we do not care if that object is duck or not we only care it that object behaves like a duck or not if it behaves like a duck then it will be treated like a duck "
   ]
  },
  {
   "cell_type": "code",
   "execution_count": 5,
   "id": "f47bc1e8-5aee-4d5f-959b-c83052dc6f5c",
   "metadata": {},
   "outputs": [],
   "source": [
    "#if it walks like a duck, quacks like a duck then it will be treated like a duck"
   ]
  },
  {
   "cell_type": "code",
   "execution_count": 6,
   "id": "e9bfe347-53ae-47b3-9d8d-4273529d372c",
   "metadata": {},
   "outputs": [],
   "source": [
    "#person class does have a quack method and fly method so it will b treated like a duck"
   ]
  },
  {
   "cell_type": "code",
   "execution_count": 8,
   "id": "5dff8777-8bcc-4b13-978a-20671d3e875d",
   "metadata": {},
   "outputs": [
    {
     "name": "stdout",
     "output_type": "stream",
     "text": [
      "Quack, quack\n",
      "Flap, Flap!\n",
      "I'm Quacking Like a Duck!\n",
      "I'm Flapping my Arms!\n"
     ]
    }
   ],
   "source": [
    "class Duck:\n",
    "\n",
    "    def quack(self):\n",
    "        print('Quack, quack')\n",
    "\n",
    "    def fly(self):\n",
    "        print('Flap, Flap!')\n",
    "        \n",
    "class Person:\n",
    "\n",
    "    def quack(self):\n",
    "        print(\"I'm Quacking Like a Duck!\")\n",
    "\n",
    "    def fly(self):\n",
    "        print(\"I'm Flapping my Arms!\")\n",
    "        \n",
    "def quack_and_fly(thing):\n",
    "        #Not Duck-Typed (Non-Pythonic)\n",
    "    if hasattr(thing, 'quack'):\n",
    "        if callable(thing.quack):\n",
    "            thing.quack()\n",
    "\n",
    "    if hasattr(thing, 'fly'):\n",
    "        if callable(thing.fly):\n",
    "            thing.fly()\n",
    "d = Duck()\n",
    "quack_and_fly(d)\n",
    "p = Person()\n",
    "quack_and_fly(p)\n",
    "    "
   ]
  },
  {
   "cell_type": "code",
   "execution_count": 12,
   "id": "f1b7d46e-74dc-4904-a0a3-a9fedfb62814",
   "metadata": {},
   "outputs": [
    {
     "name": "stdout",
     "output_type": "stream",
     "text": [
      "Quack, quack\n",
      "Flap, Flap!\n",
      "I'm Quacking Like a Duck!\n",
      "I'm Flapping my Arms!\n"
     ]
    }
   ],
   "source": [
    "#duck typing and eafp\n",
    "class Duck:\n",
    "\n",
    "    def quack(self):\n",
    "        print('Quack, quack')\n",
    "\n",
    "    def fly(self):\n",
    "        print('Flap, Flap!')\n",
    "        \n",
    "class Person:\n",
    "\n",
    "    def quack(self):\n",
    "        print(\"I'm Quacking Like a Duck!\")\n",
    "\n",
    "    def fly(self):\n",
    "        print(\"I'm Flapping my Arms!\")\n",
    "        \n",
    "def quack_and_fly(thing):\n",
    "    \n",
    "        #Duck-Typed (Pythonic)\n",
    "    try:\n",
    "        thing.quack()\n",
    "        thing.fly()\n",
    "    except AttributeError as e:\n",
    "        print(e)\n",
    "\n",
    "\n",
    "d = Duck()\n",
    "quack_and_fly(d)\n",
    "p = Person()\n",
    "quack_and_fly(p)\n",
    "    "
   ]
  },
  {
   "cell_type": "code",
   "execution_count": 13,
   "id": "f3e84320-9fc6-4205-91e8-bce9c8fad70b",
   "metadata": {},
   "outputs": [
    {
     "name": "stdout",
     "output_type": "stream",
     "text": [
      "Quack, quack\n",
      "Flap, Flap!\n",
      "'Duck' object has no attribute 'bark'\n",
      "I'm Quacking Like a Duck!\n",
      "I'm Flapping my Arms!\n",
      "'Person' object has no attribute 'bark'\n"
     ]
    }
   ],
   "source": [
    "#duck typing and eafp\n",
    "class Duck:\n",
    "\n",
    "    def quack(self):\n",
    "        print('Quack, quack')\n",
    "\n",
    "    def fly(self):\n",
    "        print('Flap, Flap!')\n",
    "        \n",
    "class Person:\n",
    "\n",
    "    def quack(self):\n",
    "        print(\"I'm Quacking Like a Duck!\")\n",
    "\n",
    "    def fly(self):\n",
    "        print(\"I'm Flapping my Arms!\")\n",
    "        \n",
    "def quack_and_fly(thing):\n",
    "    \n",
    "        #Duck-Typed (Pythonic)\n",
    "    try:\n",
    "        thing.quack()\n",
    "        thing.fly()\n",
    "        thing.bark()\n",
    "    except AttributeError as e:\n",
    "        print(e)\n",
    "\n",
    "\n",
    "d = Duck()\n",
    "quack_and_fly(d)\n",
    "p = Person()\n",
    "quack_and_fly(p)\n",
    "    "
   ]
  },
  {
   "cell_type": "code",
   "execution_count": 18,
   "id": "3406ec59-0806-4d91-acb0-8c35b22997a5",
   "metadata": {},
   "outputs": [
    {
     "name": "stdout",
     "output_type": "stream",
     "text": [
      "I am rhs2. I am 30, and i am a programmer\n"
     ]
    }
   ],
   "source": [
    "#asking permision this is total mess\n",
    "person = {'name': 'rhs2', 'age': 30, 'job': 'programmer'}\n",
    "#person = {'name': 'rhs1', 'age': 29}\n",
    "#Non pythonic LBYL\n",
    "if 'name' in person and 'age' in person and 'job' in person:\n",
    "    print(f\"I am {person['name']}. I am {person['age']}, and i am a {person['job']}\")\n",
    "else:\n",
    "    print(\"missing some keys\")"
   ]
  },
  {
   "cell_type": "code",
   "execution_count": 22,
   "id": "44ab8f8d-53a4-4a30-9865-3214460ac237",
   "metadata": {},
   "outputs": [
    {
     "name": "stdout",
     "output_type": "stream",
     "text": [
      "missing 'job' key\n"
     ]
    }
   ],
   "source": [
    "#eafp\n",
    "# person = {'name': 'rhs2', 'age': 30, 'job': 'programmer'}\n",
    "person = {'name': 'rhs1', 'age': 29}\n",
    "try:\n",
    "    print(f\"I am {person['name']}, my age is {person['age']} and I am a {person['job']}\")\n",
    "except KeyError as e:\n",
    "    print(f\"missing {e} key\")\n",
    "    "
   ]
  },
  {
   "cell_type": "code",
   "execution_count": 34,
   "id": "785642e3-1992-4bf4-bf4e-332060d28644",
   "metadata": {},
   "outputs": [
    {
     "name": "stdout",
     "output_type": "stream",
     "text": [
      "missing 'job' key\n"
     ]
    }
   ],
   "source": [
    "#eafp\n",
    "# person = {'name': 'rhs2', 'age': 30, 'job': 'programmer'}\n",
    "person = {'name': 'rhs1', 'age': 29}\n",
    "try:\n",
    "    print(\"I am {name}, my age is {age} and I am a {job}\".format(**person))\n",
    "except KeyError as e:\n",
    "    print(\"missing {} key\".format(e))\n",
    "    "
   ]
  },
  {
   "cell_type": "code",
   "execution_count": 46,
   "id": "4e5032d0-3ad5-482b-beef-d385fd5815d1",
   "metadata": {},
   "outputs": [
    {
     "name": "stdout",
     "output_type": "stream",
     "text": [
      "6\n"
     ]
    }
   ],
   "source": [
    "list1 = [1,2,3,4,5,6]\n",
    "#Non pythonic\n",
    "if len(list1) >= 6:\n",
    "    print(list1[5])\n",
    "else:\n",
    "    print('that index not in the list')"
   ]
  },
  {
   "cell_type": "code",
   "execution_count": 49,
   "id": "d61669ab-61e1-4f44-ac25-edafe5983de8",
   "metadata": {},
   "outputs": [
    {
     "name": "stdout",
     "output_type": "stream",
     "text": [
      "list index out of range\n"
     ]
    }
   ],
   "source": [
    "#pythonic\n",
    "try:\n",
    "    print(list1[6])\n",
    "except IndexError as e:\n",
    "    print(e)"
   ]
  },
  {
   "cell_type": "code",
   "execution_count": 50,
   "id": "b5568aae-46c0-4ec7-918e-14c166cb7207",
   "metadata": {},
   "outputs": [
    {
     "name": "stdout",
     "output_type": "stream",
     "text": [
      "File can not be accessed\n"
     ]
    }
   ],
   "source": [
    "## \n",
    "import os\n",
    "my_file = \"/tmp/test.txt\"\n",
    "#Race Condition\n",
    "if os.access(my_file,os.R_OK):\n",
    "    with open(my_file,'r') as f:\n",
    "        print(f.read())\n",
    "else:\n",
    "    print(\"File can not be accessed\")"
   ]
  },
  {
   "cell_type": "code",
   "execution_count": 58,
   "id": "cb9eeed3-2582-43d8-bfc0-f30c68d2eea0",
   "metadata": {},
   "outputs": [
    {
     "name": "stdout",
     "output_type": "stream",
     "text": [
      "[Errno 2] No such file or directory: '/tmp/test.txt'\n"
     ]
    }
   ],
   "source": [
    "#no race conditon\n",
    "try:\n",
    "    with open(my_file,'r') as f:\n",
    "        contents= f.read()\n",
    "except FileNotFoundError as e:\n",
    "    print(e)\n",
    "else:\n",
    "    print(contents)"
   ]
  },
  {
   "cell_type": "code",
   "execution_count": null,
   "id": "941c837d-541d-4094-9117-5fe1aa1c818d",
   "metadata": {},
   "outputs": [],
   "source": []
  }
 ],
 "metadata": {
  "kernelspec": {
   "display_name": "Python 3 (ipykernel)",
   "language": "python",
   "name": "python3"
  },
  "language_info": {
   "codemirror_mode": {
    "name": "ipython",
    "version": 3
   },
   "file_extension": ".py",
   "mimetype": "text/x-python",
   "name": "python",
   "nbconvert_exporter": "python",
   "pygments_lexer": "ipython3",
   "version": "3.12.10"
  },
  "widgets": {
   "application/vnd.jupyter.widget-state+json": {
    "state": {},
    "version_major": 2,
    "version_minor": 0
   }
  }
 },
 "nbformat": 4,
 "nbformat_minor": 5
}
