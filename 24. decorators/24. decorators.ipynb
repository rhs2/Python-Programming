{
 "cells": [
  {
   "cell_type": "markdown",
   "id": "95b3b653-293b-4892-a167-4029958ca8d4",
   "metadata": {},
   "source": [
    "# working with decorators"
   ]
  },
  {
   "cell_type": "code",
   "execution_count": 1,
   "id": "2be6b912-ef92-4c6b-aa7d-36e696c963ec",
   "metadata": {},
   "outputs": [
    {
     "name": "stdout",
     "output_type": "stream",
     "text": [
      "Hi\n"
     ]
    }
   ],
   "source": [
    "#\n",
    "def outer_functions():\n",
    "    message = \"Hi\" #free variable\n",
    "    def inner_function():\n",
    "        print(message)\n",
    "    return inner_function()\n",
    "outer_functions()"
   ]
  },
  {
   "cell_type": "code",
   "execution_count": 2,
   "id": "27b36a66-5a80-4b10-8127-2e489a7fe95a",
   "metadata": {},
   "outputs": [
    {
     "name": "stdout",
     "output_type": "stream",
     "text": [
      "inner_function\n",
      "Hi\n"
     ]
    }
   ],
   "source": [
    "#instead of executing the inner function we can pass it to return its locations\n",
    "def outer_functions():\n",
    "    message = \"Hi\" #free variable\n",
    "    def inner_function():\n",
    "        print(message)\n",
    "    return inner_function\n",
    "f = outer_functions() #even though we executed the outer function but still can call inner function\n",
    "print(f.__name__)\n",
    "f() #that is called closure\n"
   ]
  },
  {
   "cell_type": "code",
   "execution_count": 3,
   "id": "cedee14d-780b-4829-adf3-23c7903c613d",
   "metadata": {},
   "outputs": [
    {
     "name": "stdout",
     "output_type": "stream",
     "text": [
      "Hi rhs\n",
      "bye rhs\n"
     ]
    }
   ],
   "source": [
    "#pass parameter on functions\\\n",
    "def outer_functions(msg):\n",
    "    # message = \"Hi\" #free variable\n",
    "    def inner_function():\n",
    "        print(msg)\n",
    "    return inner_function\n",
    "f = outer_functions('Hi rhs')\n",
    "f2 = outer_functions('bye rhs')\n",
    "f()\n",
    "f2()"
   ]
  },
  {
   "cell_type": "code",
   "execution_count": 4,
   "id": "b66ffc88-747f-4121-a15e-ac9e40fd761c",
   "metadata": {},
   "outputs": [
    {
     "name": "stdout",
     "output_type": "stream",
     "text": [
      "display functions ran\n"
     ]
    }
   ],
   "source": [
    "#decorators is a function that takes another functions as arguments, also returns some functions without altering the source functions\n",
    "def decorator_function(original_func): #takes another func as argument\n",
    "    def wrapper_functions():\n",
    "        return original_func()\n",
    "    return wrapper_functions\n",
    "\n",
    "def display():\n",
    "    print('display functions ran')\n",
    "    \n",
    "decorated_display = decorator_function(display) #passing argument as disply function\n",
    "decorated_display()\n",
    "\n",
    "\n"
   ]
  },
  {
   "cell_type": "code",
   "execution_count": 5,
   "id": "8e8f7b5b-1788-471c-9dc8-c9cd5a7c3df0",
   "metadata": {},
   "outputs": [
    {
     "name": "stdout",
     "output_type": "stream",
     "text": [
      "wrapper executed this before display\n",
      "display functions ran\n"
     ]
    }
   ],
   "source": [
    "#decorators is a function that takes another functions as arguments, also returns some functions without altering the source functions\n",
    "def decorator_function(original_func): #takes another func as argument\n",
    "    def wrapper_functions():\n",
    "        print(f\"wrapper executed this before {original_func.__name__}\")\n",
    "        return original_func()\n",
    "    return wrapper_functions\n",
    "    \n",
    "# @decorator_function    \n",
    "def display():\n",
    "    print('display functions ran')\n",
    "    \n",
    "# decorated_display = decorator_function(display) #passing argument as disply function\n",
    "decorated_display = decorator_function(display)\n",
    "decorated_display()\n",
    "\n",
    "\n"
   ]
  },
  {
   "cell_type": "code",
   "execution_count": 6,
   "id": "6ead1707-d3a9-4d7d-bc69-852f6be9bbe6",
   "metadata": {},
   "outputs": [
    {
     "name": "stdout",
     "output_type": "stream",
     "text": [
      "wrapper executed this before display\n",
      "display functions ran\n"
     ]
    }
   ],
   "source": [
    "#decorators is a function that takes another functions as arguments, also returns some functions without altering the source functions\n",
    "def decorator_function(original_func): #takes another func as argument\n",
    "    def wrapper_functions():\n",
    "        print(f\"wrapper executed this before {original_func.__name__}\")\n",
    "        return original_func()\n",
    "    return wrapper_functions\n",
    "    \n",
    "@decorator_function    \n",
    "def display():\n",
    "    print('display functions ran')\n",
    "    \n",
    "# decorated_display = decorator_function(display) #passing argument as disply function\n",
    "# decorated_display = decorator_function(display)\n",
    "display()\n",
    "\n",
    "# @decorator_function and display = decorator_function(display) are same\n"
   ]
  },
  {
   "cell_type": "code",
   "execution_count": 7,
   "id": "ddb9e24a-fb75-4467-928d-2117d5f56731",
   "metadata": {},
   "outputs": [
    {
     "name": "stdout",
     "output_type": "stream",
     "text": [
      "wrapper executed this before display\n",
      "display functions ran\n",
      "wrapper executed this before display_info\n",
      "my name is rhs and i am 30 years old\n"
     ]
    }
   ],
   "source": [
    "#decorators is a function that takes another functions as arguments, also returns some functions without altering the source functions\n",
    "def decorator_function(original_func): #takes another func as argument\n",
    "    def wrapper_functions(*args, **kwargs):\n",
    "        print(f\"wrapper executed this before {original_func.__name__}\")\n",
    "        return original_func(*args, **kwargs)\n",
    "    return wrapper_functions\n",
    "    \n",
    "@decorator_function    \n",
    "def display():\n",
    "    print('display functions ran')\n",
    "@decorator_function    \n",
    "def display_info(name, age):\n",
    "    print(f'my name is {name} and i am {age} years old')\n",
    "    \n",
    "# decorated_display = decorator_function(display) #passing argument as disply function\n",
    "# decorated_display = decorator_function(display)\n",
    "display()\n",
    "\n",
    "# @decorator_function and display = decorator_function(display) are same\n",
    "display_info('rhs', 30)\n"
   ]
  },
  {
   "cell_type": "code",
   "execution_count": null,
   "id": "2bae1f73-f1a9-4298-8f2c-7b1786b704c2",
   "metadata": {},
   "outputs": [],
   "source": []
  },
  {
   "cell_type": "markdown",
   "id": "a0a129fc-f047-4028-82de-ef26afc40cc9",
   "metadata": {},
   "source": [
    "## Class decorator\n"
   ]
  },
  {
   "cell_type": "code",
   "execution_count": 8,
   "id": "f2f57f78-ccee-4528-972d-187406acf26e",
   "metadata": {},
   "outputs": [
    {
     "name": "stdout",
     "output_type": "stream",
     "text": [
      "wrapper executed this before display\n",
      "display functions ran\n",
      "wrapper executed this before display_info\n",
      "my name is rhs and i am 28 years old\n"
     ]
    }
   ],
   "source": [
    "#this exactly works like decorator functions this is another possibility\n",
    "class decorator_class(object):\n",
    "    def __init__(self, original_func):\n",
    "        self.original_func= original_func\n",
    "  \n",
    "    def __call__(self, *args, **kwargs): #call method to print out the inner functions\n",
    "        print(f\"wrapper executed this before {self.original_func.__name__}\")\n",
    "        return self.original_func(*args, **kwargs)\n",
    "\n",
    "@decorator_class\n",
    "def display_info(name, age):\n",
    "    print(f'my name is {name} and i am {age} years old')\n",
    "\n",
    "@decorator_class\n",
    "def display():\n",
    "    print('display functions ran')\n",
    "display()  \n",
    "display_info('rhs',28)"
   ]
  },
  {
   "cell_type": "code",
   "execution_count": 11,
   "id": "88a5261b-afd5-462d-836c-3ab7287ee57f",
   "metadata": {},
   "outputs": [
    {
     "name": "stdout",
     "output_type": "stream",
     "text": [
      "display_info ran with arguments rhs 30\n"
     ]
    }
   ],
   "source": [
    "#commonly used cases for decorators is logging\n",
    "import time\n",
    "def my_loggers(original_func):\n",
    "    import logging\n",
    "    logging.basicConfig(filename=f\"{original_func.__name__}.log\",level=logging.INFO)\n",
    "    \n",
    "    def wrapper(*args, **kwargs):\n",
    "        logging.info(\n",
    "            f'Ran with args:{args} and kwargs: {kwargs}')\n",
    "        return original_func(*args, **kwargs)\n",
    "    return wrapper\n",
    "\n",
    "def my_timer(original_func):\n",
    "    import time\n",
    "    def wrapper(*args, **kwargs):\n",
    "        t1 = time.time()\n",
    "        result = original_func(*args, **kwargs)\n",
    "        t2= time.time()-t1\n",
    "        print(f'{original_func.__name__} ran in: {t2} sec')\n",
    "        return result\n",
    "    return wrapper\n",
    "\n",
    "@my_loggers\n",
    "def display_info(name, age):\n",
    "    time.sleep(1)\n",
    "    print(f\"display_info ran with arguments {name} {age}\")\n",
    "    \n",
    "display_info('rhs', 30)\n",
    "    "
   ]
  },
  {
   "cell_type": "code",
   "execution_count": 12,
   "id": "9997f4a6-d0dc-47a3-b885-cfad433180fc",
   "metadata": {},
   "outputs": [
    {
     "name": "stdout",
     "output_type": "stream",
     "text": [
      "display_info ran with arguments (Tom, 22)\n",
      "display_info ran in: 1.005533218383789 sec\n"
     ]
    }
   ],
   "source": [
    "# Decorators\n",
    "from functools import wraps\n",
    "import time\n",
    "\n",
    "\n",
    "def my_logger(orig_func):\n",
    "    import logging\n",
    "    logging.basicConfig(filename='{}.log'.format(orig_func.__name__), level=logging.INFO)\n",
    "\n",
    "    @wraps(orig_func)\n",
    "    def wrapper(*args, **kwargs):\n",
    "        logging.info(\n",
    "            'Ran with args: {}, and kwargs: {}'.format(args, kwargs))\n",
    "        return orig_func(*args, **kwargs)\n",
    "\n",
    "    return wrapper\n",
    "\n",
    "\n",
    "def my_timer(orig_func):\n",
    "    import time\n",
    "\n",
    "    @wraps(orig_func)\n",
    "    def wrapper(*args, **kwargs):\n",
    "        t1 = time.time()\n",
    "        result = orig_func(*args, **kwargs)\n",
    "        t2 = time.time() - t1\n",
    "        print('{} ran in: {} sec'.format(orig_func.__name__, t2))\n",
    "        return result\n",
    "\n",
    "    return wrapper\n",
    "\n",
    "\n",
    "@my_logger\n",
    "@my_timer\n",
    "def display_info(name, age):\n",
    "    time.sleep(1)\n",
    "    print('display_info ran with arguments ({}, {})'.format(name, age))\n",
    "\n",
    "display_info('Tom', 22)"
   ]
  },
  {
   "cell_type": "code",
   "execution_count": 2,
   "id": "7f2af52b-ebf0-4024-b0fc-5aa151838a75",
   "metadata": {},
   "outputs": [
    {
     "name": "stdout",
     "output_type": "stream",
     "text": [
      "display_info ran with arguments (rhs2, 22)\n",
      "display_info ran in: 1.0008840560913086 sec\n"
     ]
    }
   ],
   "source": [
    "# Decorators\n",
    "from functools import wraps\n",
    "import time\n",
    "\n",
    "\n",
    "def my_logger(orig_func):\n",
    "    import logging\n",
    "    logging.basicConfig(filename='{}.log'.format(orig_func.__name__), level=logging.INFO)\n",
    "\n",
    "    def wrapper(*args, **kwargs):\n",
    "        logging.info(\n",
    "            'Ran with args: {}, and kwargs: {}'.format(args, kwargs))\n",
    "        return orig_func(*args, **kwargs)\n",
    "\n",
    "    return wrapper\n",
    "\n",
    "\n",
    "def my_timer(orig_func):\n",
    "    import time\n",
    "\n",
    "    def wrapper(*args, **kwargs):\n",
    "        t1 = time.time()\n",
    "        result = orig_func(*args, **kwargs)\n",
    "        t2 = time.time() - t1\n",
    "        print('{} ran in: {} sec'.format(orig_func.__name__, t2))\n",
    "        return result\n",
    "\n",
    "    return wrapper\n",
    "\n",
    "\n",
    "@my_timer\n",
    "def display_info(name, age):\n",
    "    time.sleep(1)\n",
    "    print('display_info ran with arguments ({}, {})'.format(name, age))\n",
    "# display_info = my_timer(display_info) and @my_timer are same\n",
    "\n",
    "display_info('rhs2', 22)"
   ]
  },
  {
   "cell_type": "code",
   "execution_count": 3,
   "id": "eb543155-3bff-428c-8cc4-3edd2491c63f",
   "metadata": {},
   "outputs": [
    {
     "name": "stdout",
     "output_type": "stream",
     "text": [
      "display_info ran with arguments (rhs3, 24)\n",
      "display_info ran in: 1.005568027496338 sec\n"
     ]
    }
   ],
   "source": [
    "# Decorators\n",
    "from functools import wraps\n",
    "import time\n",
    "\n",
    "\n",
    "def my_logger(orig_func):\n",
    "    import logging\n",
    "    logging.basicConfig(filename='{}.log'.format(orig_func.__name__), level=logging.INFO)\n",
    "\n",
    "    @wraps(orig_func)\n",
    "    def wrapper(*args, **kwargs):\n",
    "        logging.info(\n",
    "            'Ran with args: {}, and kwargs: {}'.format(args, kwargs))\n",
    "        return orig_func(*args, **kwargs)\n",
    "\n",
    "    return wrapper\n",
    "\n",
    "\n",
    "def my_timer(orig_func):\n",
    "    import time\n",
    "\n",
    "    @wraps(orig_func)\n",
    "    def wrapper(*args, **kwargs):\n",
    "        t1 = time.time()\n",
    "        result = orig_func(*args, **kwargs)\n",
    "        t2 = time.time() - t1\n",
    "        print('{} ran in: {} sec'.format(orig_func.__name__, t2))\n",
    "        return result\n",
    "\n",
    "    return wrapper\n",
    "\n",
    "\n",
    "@my_logger\n",
    "@my_timer\n",
    "def display_info(name, age):\n",
    "    time.sleep(1)\n",
    "    print('display_info ran with arguments ({}, {})'.format(name, age))\n",
    "# display_info= my_logger(my_timer(display_info)) and both decorator together are same\n",
    "\n",
    "display_info('rhs3', 24)\n",
    "#switching the order of the decorator works perfectly but we want both of them to work together"
   ]
  },
  {
   "cell_type": "code",
   "execution_count": 5,
   "id": "575196e9-377c-404e-a405-d8312f83531e",
   "metadata": {},
   "outputs": [
    {
     "name": "stdout",
     "output_type": "stream",
     "text": [
      "display_info ran with arguments (rhs2, 22)\n",
      "display_info ran in: 1.005384922027588 sec\n"
     ]
    }
   ],
   "source": [
    "# Decorators\n",
    "from functools import wraps\n",
    "import time\n",
    "\n",
    "\n",
    "def my_logger(orig_func):\n",
    "    import logging\n",
    "    logging.basicConfig(filename='{}.log'.format(orig_func.__name__), level=logging.INFO)\n",
    "\n",
    "    def wrapper(*args, **kwargs):\n",
    "        logging.info(\n",
    "            'Ran with args: {}, and kwargs: {}'.format(args, kwargs))\n",
    "        return orig_func(*args, **kwargs)\n",
    "\n",
    "    return wrapper\n",
    "\n",
    "\n",
    "def my_timer(orig_func):\n",
    "    import time\n",
    "\n",
    "    def wrapper(*args, **kwargs):\n",
    "        t1 = time.time()\n",
    "        result = orig_func(*args, **kwargs)\n",
    "        t2 = time.time() - t1\n",
    "        print('{} ran in: {} sec'.format(orig_func.__name__, t2))\n",
    "        return result\n",
    "\n",
    "    return wrapper\n",
    "    \n",
    "@my_timer\n",
    "@my_logger\n",
    "def display_info(name, age):\n",
    "    time.sleep(1)\n",
    "    print('display_info ran with arguments ({}, {})'.format(name, age))\n",
    "\n",
    "display_info('rhs2', 22)\n",
    "#we do not want it "
   ]
  },
  {
   "cell_type": "code",
   "execution_count": null,
   "id": "fdc08c0c-c5cc-46e3-9714-eb5f6714d4a5",
   "metadata": {},
   "outputs": [],
   "source": [
    "# Decorators complete one\n",
    "from functools import wraps\n",
    "import time\n",
    "\n",
    "\n",
    "def my_logger(orig_func):\n",
    "    import logging\n",
    "    logging.basicConfig(filename='{}.log'.format(orig_func.__name__), level=logging.INFO)\n",
    "\n",
    "    @wraps(orig_func)\n",
    "    def wrapper(*args, **kwargs):\n",
    "        logging.info(\n",
    "            'Ran with args: {}, and kwargs: {}'.format(args, kwargs))\n",
    "        return orig_func(*args, **kwargs)\n",
    "\n",
    "    return wrapper\n",
    "\n",
    "\n",
    "def my_timer(orig_func):\n",
    "    import time\n",
    "\n",
    "    @wraps(orig_func)\n",
    "    def wrapper(*args, **kwargs):\n",
    "        t1 = time.time()\n",
    "        result = orig_func(*args, **kwargs)\n",
    "        t2 = time.time() - t1\n",
    "        print('{} ran in: {} sec'.format(orig_func.__name__, t2))\n",
    "        return result\n",
    "\n",
    "    return wrapper\n",
    "\n",
    "\n",
    "@my_logger\n",
    "@my_timer\n",
    "def display_info(name, age):\n",
    "    time.sleep(1)\n",
    "    print('display_info ran with arguments ({}, {})'.format(name, age))\n",
    "\n",
    "display_info('Tom', 22)"
   ]
  }
 ],
 "metadata": {
  "kernelspec": {
   "display_name": "Python 3 (ipykernel)",
   "language": "python",
   "name": "python3"
  },
  "language_info": {
   "codemirror_mode": {
    "name": "ipython",
    "version": 3
   },
   "file_extension": ".py",
   "mimetype": "text/x-python",
   "name": "python",
   "nbconvert_exporter": "python",
   "pygments_lexer": "ipython3",
   "version": "3.12.10"
  },
  "widgets": {
   "application/vnd.jupyter.widget-state+json": {
    "state": {},
    "version_major": 2,
    "version_minor": 0
   }
  }
 },
 "nbformat": 4,
 "nbformat_minor": 5
}
