{
 "cells": [
  {
   "cell_type": "code",
   "execution_count": 5,
   "id": "5c5c849a-11bb-48b2-a0e6-fc3b600f0732",
   "metadata": {},
   "outputs": [
    {
     "name": "stdout",
     "output_type": "stream",
     "text": [
      "wrapper function executed before : display_info\n",
      "display info ran with arguments rhs 28\n",
      "executed after: display_info\n",
      "wrapper function executed before : display_info\n",
      "display info ran with arguments sio 35\n",
      "executed after: display_info\n"
     ]
    }
   ],
   "source": [
    "\n",
    "def decorator_function(original_func):\n",
    "    def wrapper_functions(*args, **kwargs):\n",
    "        print(f\"wrapper function executed before : {original_func.__name__}\")\n",
    "        result = original_func(*args, **kwargs)\n",
    "        print(f\"executed after: {original_func.__name__}\")\n",
    "        return result\n",
    "    return wrapper_functions\n",
    "    \n",
    "@decorator_function   \n",
    "def display_info(name, age):\n",
    "    print(f\"display info ran with arguments {name} {age}\")\n",
    "display_info('rhs',28)\n",
    "\n",
    "display_info('sio', 35)\n"
   ]
  },
  {
   "cell_type": "code",
   "execution_count": 7,
   "id": "ee10bf3a-f58a-4673-8703-90935d0fda72",
   "metadata": {},
   "outputs": [
    {
     "name": "stdout",
     "output_type": "stream",
     "text": [
      "TESTING: wrapper function executed before : display_info\n",
      "display info ran with arguments rhs 28\n",
      "TESTING: executed after: display_info\n",
      "TESTING: wrapper function executed before : display_info\n",
      "display info ran with arguments sio 35\n",
      "TESTING: executed after: display_info\n",
      "wrapper_functions\n"
     ]
    }
   ],
   "source": [
    "#adjusting another outer layer to take argument\n",
    "\n",
    "def prefix_decorator(prefix):\n",
    "    def decorator_function(original_func):\n",
    "        def wrapper_functions(*args, **kwargs):\n",
    "            print(f\"{prefix} wrapper function executed before : {original_func.__name__}\")\n",
    "            result = original_func(*args, **kwargs)\n",
    "            print(f\"{prefix} executed after: {original_func.__name__}\")\n",
    "            return result\n",
    "        return wrapper_functions\n",
    "    return decorator_function\n",
    "    \n",
    "@prefix_decorator(\"TESTING:\")  #because we pass arguments in prefix_decators  \n",
    "def display_info(name, age):\n",
    "    print(f\"display info ran with arguments {name} {age}\")\n",
    "display_info('rhs',28)\n",
    "\n",
    "display_info('sio', 35)\n",
    "print(display_info.__name__)"
   ]
  },
  {
   "cell_type": "code",
   "execution_count": null,
   "id": "74a9520e-f055-44ad-8756-81413e205e75",
   "metadata": {},
   "outputs": [],
   "source": []
  }
 ],
 "metadata": {
  "kernelspec": {
   "display_name": "Python 3 (ipykernel)",
   "language": "python",
   "name": "python3"
  },
  "language_info": {
   "codemirror_mode": {
    "name": "ipython",
    "version": 3
   },
   "file_extension": ".py",
   "mimetype": "text/x-python",
   "name": "python",
   "nbconvert_exporter": "python",
   "pygments_lexer": "ipython3",
   "version": "3.12.10"
  },
  "widgets": {
   "application/vnd.jupyter.widget-state+json": {
    "state": {},
    "version_major": 2,
    "version_minor": 0
   }
  }
 },
 "nbformat": 4,
 "nbformat_minor": 5
}
