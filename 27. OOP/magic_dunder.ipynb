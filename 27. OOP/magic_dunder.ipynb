{
 "cells": [
  {
   "cell_type": "code",
   "execution_count": 15,
   "metadata": {},
   "outputs": [
    {
     "name": "stdout",
     "output_type": "stream",
     "text": [
      "3\n",
      "3\n",
      "ab\n",
      "ab\n"
     ]
    }
   ],
   "source": [
    "#magic method or dunder for operator loading\n",
    "## Class Variable\n",
    "class employee():\n",
    "    raise_amount = 1.04 #class variable\n",
    "    def __init__(self, first, last, pay):\n",
    "        self.first = first\n",
    "        self.last = last\n",
    "        self.pay = pay\n",
    "        self.email = first + '.' + last + \"@yahoo.com\" \n",
    "    def display(self):\n",
    "        print(f'Name: {self.first} {self.last}, Email: {self.email}, Pay: {self.pay}')\n",
    "    def full_name(self):\n",
    "        print(f\"{self.first} {self.last}\")\n",
    "    def apply_raise(self):\n",
    "        raise_pay = self.pay * self.raise_amount\n",
    "        return raise_pay\n",
    "\n",
    "emp5 = employee('rhs', '2', 80000)\n",
    "emp6 = employee('sio', '4', 50000)\n",
    "print(1+2) #add 2 integer togeter\n",
    "print(int(1).__add__(int(2))) #this is what is happening in the background\n",
    "print('a' +'b')\n",
    "print(str('a').__add__(str('b'))) #this is what is happening behind the scene\n",
    "\n"
   ]
  },
  {
   "cell_type": "code",
   "execution_count": 16,
   "metadata": {},
   "outputs": [
    {
     "name": "stdout",
     "output_type": "stream",
     "text": [
      "3\n",
      "3\n",
      "ab\n",
      "ab\n"
     ]
    }
   ],
   "source": [
    "#addition\n",
    "print(1+2) #add 2 integer togeter\n",
    "print(int(1).__add__(int(2))) #this is what is happening in the background\n",
    "print('a' +'b')\n",
    "print(str('a').__add__(str('b'))) #this is what is happening behind the scene\n"
   ]
  },
  {
   "cell_type": "code",
   "execution_count": 17,
   "metadata": {},
   "outputs": [
    {
     "name": "stdout",
     "output_type": "stream",
     "text": [
      "<__main__.employee object at 0x11510b2c0>\n"
     ]
    }
   ],
   "source": [
    "#even though if we print out emp5 \n",
    "print(emp5) #vague employee object\n",
    "#__str__, __repr__ will work on that point"
   ]
  },
  {
   "cell_type": "code",
   "execution_count": null,
   "metadata": {},
   "outputs": [],
   "source": [
    "#dunder is called for double undersocre \n",
    "def __repr__(self):\n",
    "    pass\n",
    "#repr is to be an unambiguous representation of the object and should be usefull debugging logging \n",
    "def __str__(self):\n",
    "    pass\n",
    "#more readable for the object and display the object\n",
    "\n",
    "#these 2 will work on printing out vague employee object that what we want to print out"
   ]
  },
  {
   "cell_type": "code",
   "execution_count": 19,
   "metadata": {},
   "outputs": [
    {
     "name": "stdout",
     "output_type": "stream",
     "text": [
      "Employee: rhs, 2, 80000\n"
     ]
    }
   ],
   "source": [
    "#magic method or dunder for operator loading\n",
    "## Class Variable\n",
    "class employee():\n",
    "    raise_amount = 1.04 #class variable\n",
    "    def __init__(self, first, last, pay):\n",
    "        self.first = first\n",
    "        self.last = last\n",
    "        self.pay = pay\n",
    "        self.email = first + '.' + last + \"@yahoo.com\" \n",
    "    def display(self):\n",
    "        print(f'Name: {self.first} {self.last}, Email: {self.email}, Pay: {self.pay}')\n",
    "    def full_name(self):\n",
    "        print(f\"{self.first} {self.last}\")\n",
    "    def apply_raise(self):\n",
    "        raise_pay = self.pay * self.raise_amount\n",
    "        return raise_pay\n",
    "    def __repr__(self):\n",
    "        return f\"Employee: {self.first}, {self.last}, {self.pay}\"\n",
    "\n",
    "emp5 = employee('rhs', '2', 80000)\n",
    "emp6 = employee('sio', '4', 50000)\n",
    "print(emp5) #now whenever we run the emp5 now we see the details about emp5 but before we would get vague as memory object print out"
   ]
  },
  {
   "cell_type": "code",
   "execution_count": 23,
   "metadata": {},
   "outputs": [
    {
     "name": "stdout",
     "output_type": "stream",
     "text": [
      "rhs 2, rhs.2@yahoo.com\n"
     ]
    }
   ],
   "source": [
    "##dunder __str__ method\n",
    "#magic method or dunder for operator loading\n",
    "## Class Variable\n",
    "class employee():\n",
    "    raise_amount = 1.04 #class variable\n",
    "    def __init__(self, first, last, pay):\n",
    "        self.first = first\n",
    "        self.last = last\n",
    "        self.pay = pay\n",
    "        self.email = first + '.' + last + \"@yahoo.com\" \n",
    "    def display(self):\n",
    "        print(f'Name: {self.first} {self.last}, Email: {self.email}, Pay: {self.pay}')\n",
    "    def full_name(self):\n",
    "        return f\"{self.first} {self.last}\"\n",
    "    def apply_raise(self):\n",
    "        raise_pay = self.pay * self.raise_amount\n",
    "        return raise_pay\n",
    "    def __repr__(self):\n",
    "        return f\"Employee: {self.first}, {self.last}, {self.pay}\"\n",
    "    def __str__(self):\n",
    "        return f\"{self.full_name()}, {self.email}\"\n",
    "\n",
    "emp5 = employee('rhs', '2', 80000)\n",
    "emp6 = employee('sio', '4', 50000)\n",
    "#no[w as we can see we are over write the __repr__ method by __str__ method]\n",
    "print(emp5) #now whenever we run the emp5 now we see the details about emp5 but before we would get vague as memory object print out\n",
    "\n",
    "#accssing __repr__\n"
   ]
  },
  {
   "cell_type": "code",
   "execution_count": 28,
   "metadata": {},
   "outputs": [
    {
     "name": "stdout",
     "output_type": "stream",
     "text": [
      "Employee: rhs, 2, 80000\n",
      "rhs 2, rhs.2@yahoo.com\n"
     ]
    }
   ],
   "source": [
    "#accssing __repr__\n",
    "#accessing __str__\n",
    "##dunder __str__ method\n",
    "#magic method or dunder for operator loading\n",
    "## Class Variable\n",
    "class employee():\n",
    "    raise_amount = 1.04 #class variable\n",
    "    def __init__(self, first, last, pay):\n",
    "        self.first = first\n",
    "        self.last = last\n",
    "        self.pay = pay\n",
    "        self.email = first + '.' + last + \"@yahoo.com\" \n",
    "    def display(self):\n",
    "        print(f'Name: {self.first} {self.last}, Email: {self.email}, Pay: {self.pay}')\n",
    "    def full_name(self):\n",
    "        return f\"{self.first} {self.last}\"\n",
    "    def apply_raise(self):\n",
    "        raise_pay = self.pay * self.raise_amount\n",
    "        return raise_pay\n",
    "    def __repr__(self):\n",
    "        return f\"Employee: {self.first}, {self.last}, {self.pay}\"\n",
    "    def __str__(self):\n",
    "        return f\"{self.full_name()}, {self.email}\"\n",
    "\n",
    "emp5 = employee('rhs', '2', 80000)\n",
    "emp6 = employee('sio', '4', 50000)\n",
    "#no[w as we can see we are over write the __repr__ method by __str__ method]\n",
    "# print(emp5) #now whenever we run the emp5 now we see the details about emp5 but before we would get vague as memory object print out\n",
    "\n",
    "#accssing __repr__\n",
    "# print(repr(emp5))\n",
    "print(emp5.__repr__())\n",
    "#accessing __strt__\n",
    "# print(str(emp5))\n",
    "print(emp5.__str__())\n"
   ]
  },
  {
   "cell_type": "code",
   "execution_count": 29,
   "metadata": {},
   "outputs": [
    {
     "name": "stdout",
     "output_type": "stream",
     "text": [
      "3\n",
      "3\n"
     ]
    }
   ],
   "source": [
    "#using special method __add__\n",
    "print(1+2)\n",
    "print(int.__add__(1,2))"
   ]
  },
  {
   "cell_type": "code",
   "execution_count": 31,
   "metadata": {},
   "outputs": [
    {
     "name": "stdout",
     "output_type": "stream",
     "text": [
      "ab\n",
      "ab\n"
     ]
    }
   ],
   "source": [
    "#string __add__\n",
    "print('a'+'b')\n",
    "print(str.__add__('a','b'))"
   ]
  },
  {
   "cell_type": "code",
   "execution_count": 41,
   "metadata": {},
   "outputs": [
    {
     "name": "stdout",
     "output_type": "stream",
     "text": [
      "130000\n",
      "5\n"
     ]
    }
   ],
   "source": [
    "#adding total salaries for 2 employees\n",
    "#accssing __repr__\n",
    "#accessing __str__\n",
    "##dunder __str__ method\n",
    "#magic method or dunder for operator loading\n",
    "## Class Variable\n",
    "class employee():\n",
    "    raise_amount = 1.04 #class variable\n",
    "    def __init__(self, first, last, pay):\n",
    "        self.first = first\n",
    "        self.last = last\n",
    "        self.pay = pay\n",
    "        self.email = first + '.' + last + \"@yahoo.com\" \n",
    "    def display(self):\n",
    "        print(f'Name: {self.first} {self.last}, Email: {self.email}, Pay: {self.pay}')\n",
    "    def full_name(self):\n",
    "        return f\"{self.first} {self.last}\"\n",
    "    def apply_raise(self):\n",
    "        raise_pay = self.pay * self.raise_amount\n",
    "        return raise_pay\n",
    "    def __repr__(self):\n",
    "        return f\"Employee: {self.first}, {self.last}, {self.pay}\"\n",
    "    def __str__(self):\n",
    "        return f\"{self.full_name()}, {self.email}\"\n",
    "    def __add__(self,other): #combind salaries for 2 emps\n",
    "        return self.pay+ other.pay\n",
    "    def __len__(self): #printing out character of the emp full name\n",
    "        return len(self.full_name())\n",
    "\n",
    "\n",
    "emp5 = employee('rhs', '2', 80000)\n",
    "emp6 = employee('sio', '4', 50000)\n",
    "#no[w as we can see we are over write the __repr__ method by __str__ method]\n",
    "# print(emp5) #now whenever we run the emp5 now we see the details about emp5 but before we would get vague as memory object print out\n",
    "print(emp5+emp6)\n",
    "print(len(emp5))\n"
   ]
  },
  {
   "cell_type": "code",
   "execution_count": 37,
   "metadata": {},
   "outputs": [
    {
     "data": {
      "text/plain": [
       "'https://docs.python.org/3/reference/datamodel.html#special-method-names'"
      ]
     },
     "execution_count": 37,
     "metadata": {},
     "output_type": "execute_result"
    }
   ],
   "source": [
    "#documentaries for __dunder__\n",
    "'''https://docs.python.org/3/reference/datamodel.html#special-method-names'''"
   ]
  },
  {
   "cell_type": "code",
   "execution_count": 40,
   "metadata": {},
   "outputs": [
    {
     "name": "stdout",
     "output_type": "stream",
     "text": [
      "4\n",
      "4\n"
     ]
    }
   ],
   "source": [
    "#using len functions\n",
    "print(len('test'))\n",
    "print('test'.__len__()) #for len functions"
   ]
  },
  {
   "cell_type": "code",
   "execution_count": 42,
   "metadata": {},
   "outputs": [],
   "source": [
    "#checking on datetime official module for more learning on dunder method"
   ]
  }
 ],
 "metadata": {
  "kernelspec": {
   "display_name": "base",
   "language": "python",
   "name": "python3"
  },
  "language_info": {
   "codemirror_mode": {
    "name": "ipython",
    "version": 3
   },
   "file_extension": ".py",
   "mimetype": "text/x-python",
   "name": "python",
   "nbconvert_exporter": "python",
   "pygments_lexer": "ipython3",
   "version": "3.12.10"
  }
 },
 "nbformat": 4,
 "nbformat_minor": 2
}
