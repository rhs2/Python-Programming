{
 "cells": [
  {
   "cell_type": "markdown",
   "metadata": {},
   "source": [
    "## Python Object oriented programming"
   ]
  },
  {
   "cell_type": "code",
   "execution_count": 5,
   "metadata": {},
   "outputs": [
    {
     "name": "stdout",
     "output_type": "stream",
     "text": [
      "<__main__.employee object at 0x110b6acf0>\n",
      "<__main__.employee object at 0x110a40920>\n"
     ]
    }
   ],
   "source": [
    "#class and intances\n",
    "#class is a bluprint for a object that created from that class\n",
    "#it is easy to reuse \n",
    "class employee:\n",
    "    pass #skiping class a for time being\n",
    "emp1 = employee() #instance variable\n",
    "emp2 = employee() #instance variable\n",
    "print(emp1) #memory location for employee object \n",
    "print(emp2) #instance\n",
    "\n"
   ]
  },
  {
   "cell_type": "code",
   "execution_count": 10,
   "metadata": {},
   "outputs": [
    {
     "name": "stdout",
     "output_type": "stream",
     "text": [
      "rhs\n",
      "sio\n",
      "rhs0@yahoo.com\n"
     ]
    }
   ],
   "source": [
    "#creating manually class object\n",
    "class employee():\n",
    "    pass\n",
    "emp4 = employee()\n",
    "emp3 = employee()\n",
    "emp3.name = 'rhs'\n",
    "emp3.email = 'rhs0@yahoo.com'\n",
    "emp4.name = 'sio'\n",
    "emp4.email = 'sium1@hotmail.com'\n",
    "emp3.age = 25\n",
    "emp4.age = 39\n",
    "print(emp3.name)\n",
    "print(emp4.name)\n",
    "print(emp3.email)\n",
    "#creating manually can cause a lots of problem and make mistakes"
   ]
  },
  {
   "cell_type": "code",
   "execution_count": 16,
   "metadata": {},
   "outputs": [
    {
     "name": "stdout",
     "output_type": "stream",
     "text": [
      "<__main__.employee object at 0x110bc7800>\n",
      "rhs.2@yahoo.com\n"
     ]
    }
   ],
   "source": [
    "#using special __init__ method to initilize as __init__ constructor\n",
    "class employee():\n",
    "    def __init__(self, first, last, pay):\n",
    "        self.first = first\n",
    "        self.last = last\n",
    "        self.pay = pay\n",
    "        self.email = first + '.' + last + \"@yahoo.com\" \n",
    "emp5 = employee('rhs', '2', 80000)\n",
    "print(emp5)\n",
    "print(emp5.email)\n"
   ]
  },
  {
   "cell_type": "code",
   "execution_count": 2,
   "metadata": {},
   "outputs": [
    {
     "name": "stdout",
     "output_type": "stream",
     "text": [
      "<__main__.employee object at 0x108177530>\n",
      "rhs.2@yahoo.com\n",
      "Name: rhs 2, Email: rhs.2@yahoo.com, Pay: 80000\n",
      "rhs 2\n",
      "rhs 2\n"
     ]
    }
   ],
   "source": [
    "#instance method\n",
    "#using special __init__ method to initilize as __init__ constructor\n",
    "class employee():\n",
    "    def __init__(self, first, last, pay):\n",
    "        self.first = first\n",
    "        self.last = last\n",
    "        self.pay = pay\n",
    "        self.email = first + '.' + last + \"@yahoo.com\" \n",
    "    def display(self):\n",
    "        print(f'Name: {self.first} {self.last}, Email: {self.email}, Pay: {self.pay}')\n",
    "    def full_name(self):\n",
    "        print(f\"{self.first} {self.last}\")\n",
    "\n",
    "emp5 = employee('rhs', '2', 80000)\n",
    "print(emp5)\n",
    "print(emp5.email)\n",
    "emp5.display()\n",
    "emp5.full_name()\n",
    "employee.full_name(emp5) #we can also the direct class to see the method\n",
    "\n",
    "\n"
   ]
  },
  {
   "cell_type": "code",
   "execution_count": 1,
   "metadata": {},
   "outputs": [
    {
     "name": "stdout",
     "output_type": "stream",
     "text": [
      "80000\n",
      "83200.0\n",
      "50000\n",
      "54000.0\n",
      "{'first': 'rhs', 'last': '2', 'pay': 80000, 'email': 'rhs.2@yahoo.com'}\n",
      "{'__module__': '__main__', 'raise_amount': 1.04, '__init__': <function employee.__init__ at 0x104e4af20>, 'display': <function employee.display at 0x104e4afc0>, 'full_name': <function employee.full_name at 0x104e4b4c0>, 'apply_raise': <function employee.apply_raise at 0x104e4b6a0>, '__dict__': <attribute '__dict__' of 'employee' objects>, '__weakref__': <attribute '__weakref__' of 'employee' objects>, '__doc__': None}\n",
      "1.04\n",
      "1.08\n"
     ]
    }
   ],
   "source": [
    "## Class Variable\n",
    "class employee():\n",
    "    raise_amount = 1.04 #class variable\n",
    "    def __init__(self, first, last, pay):\n",
    "        self.first = first\n",
    "        self.last = last\n",
    "        self.pay = pay\n",
    "        self.email = first + '.' + last + \"@yahoo.com\" \n",
    "    def display(self):\n",
    "        print(f'Name: {self.first} {self.last}, Email: {self.email}, Pay: {self.pay}')\n",
    "    def full_name(self):\n",
    "        print(f\"{self.first} {self.last}\")\n",
    "    def apply_raise(self):\n",
    "        raise_pay = self.pay * self.raise_amount\n",
    "        return raise_pay\n",
    "\n",
    "emp5 = employee('rhs', '2', 80000)\n",
    "emp6 = employee('sio', '4', 50000)\n",
    "emp6.raise_amount= 1.08\n",
    "print(emp5.pay)\n",
    "print(emp5.apply_raise())\n",
    "print(emp6.pay)\n",
    "print(emp6.apply_raise())\n",
    "print(emp5.__dict__) #it does not have the raise amount but it gathers it from the employee class\n",
    "print(employee.__dict__) #employee class has the raise amount because it is a class variable\n",
    "print(emp5.raise_amount) #still here we can see emp5 gathers the raise amount from class variable\n",
    "print(emp6.raise_amount) #but emp6 has its own class variable so it gathers from it"
   ]
  },
  {
   "cell_type": "code",
   "execution_count": 1,
   "metadata": {},
   "outputs": [
    {
     "name": "stdout",
     "output_type": "stream",
     "text": [
      "1.04\n",
      "1.04\n",
      "1.08\n"
     ]
    }
   ],
   "source": [
    "## Class Variable\n",
    "class employee():\n",
    "    raise_amount = 1.04 #class variable\n",
    "    def __init__(self, first, last, pay):\n",
    "        self.first = first\n",
    "        self.last = last\n",
    "        self.pay = pay\n",
    "        self.email = first + '.' + last + \"@yahoo.com\" \n",
    "    def display(self):\n",
    "        print(f'Name: {self.first} {self.last}, Email: {self.email}, Pay: {self.pay}')\n",
    "    def full_name(self):\n",
    "        print(f\"{self.first} {self.last}\")\n",
    "    def apply_raise(self):\n",
    "        raise_pay = self.pay * self.raise_amount\n",
    "        return raise_pay\n",
    "\n",
    "emp5 = employee('rhs', '2', 80000)\n",
    "emp6 = employee('sio', '4', 50000)\n",
    "emp6.raise_amount= 1.08\n",
    "print(employee.raise_amount)\n",
    "print(emp5.raise_amount)\n",
    "print(emp6.raise_amount) #it only changes the raise amount for emp6 because it creates a new intance for emp6 \n",
    "\n"
   ]
  },
  {
   "cell_type": "code",
   "execution_count": 5,
   "metadata": {},
   "outputs": [
    {
     "name": "stdout",
     "output_type": "stream",
     "text": [
      "1.04\n",
      "1.04\n",
      "1.08\n",
      "{'first': 'sio', 'last': '4', 'pay': 50000, 'email': 'sio.4@yahoo.com', 'raise_amount': 1.08}\n",
      "{'first': 'rhs', 'last': '2', 'pay': 80000, 'email': 'rhs.2@yahoo.com'}\n",
      "{'__module__': '__main__', 'raise_amount': 1.04, '__init__': <function employee.__init__ at 0x109ba0900>, 'display': <function employee.display at 0x109ba09a0>, 'full_name': <function employee.full_name at 0x109ba0400>, 'apply_raise': <function employee.apply_raise at 0x109ba0220>, '__dict__': <attribute '__dict__' of 'employee' objects>, '__weakref__': <attribute '__weakref__' of 'employee' objects>, '__doc__': None}\n"
     ]
    }
   ],
   "source": [
    "## Class Variable\n",
    "class employee():\n",
    "    raise_amount = 1.04 #class variable\n",
    "    def __init__(self, first, last, pay):\n",
    "        self.first = first\n",
    "        self.last = last\n",
    "        self.pay = pay\n",
    "        self.email = first + '.' + last + \"@yahoo.com\" \n",
    "    def display(self):\n",
    "        print(f'Name: {self.first} {self.last}, Email: {self.email}, Pay: {self.pay}')\n",
    "    def full_name(self):\n",
    "        print(f\"{self.first} {self.last}\")\n",
    "    def apply_raise(self):\n",
    "        raise_pay = self.pay * self.raise_amount\n",
    "        return raise_pay\n",
    "\n",
    "emp5 = employee('rhs', '2', 80000)\n",
    "emp6 = employee('sio', '4', 50000)\n",
    "emp6.raise_amount= 1.08 #it created raise amount attribute\n",
    "print(employee.raise_amount)\n",
    "print(emp5.raise_amount)\n",
    "print(emp6.raise_amount) #it only changes the raise amount for emp6 because it creates a new intance for emp6 \n",
    "print(emp6.__dict__)\n",
    "print(emp5.__dict__)\n",
    "#here we can see emp5 does not have any raise amount instance it gathers from employee clas\n",
    "print(employee.__dict__) #here as we can see it has raise amount class variable for 4%\n",
    "\n",
    "#now for emp6, if i try to raise amount then it will use its own attribute but emp5 will use the class variable"
   ]
  },
  {
   "cell_type": "code",
   "execution_count": 8,
   "metadata": {},
   "outputs": [
    {
     "name": "stdout",
     "output_type": "stream",
     "text": [
      "0\n",
      "2\n"
     ]
    }
   ],
   "source": [
    "#keep tracking of how many emploeyes does have\n",
    "## Class Variable\n",
    "class employee():\n",
    "    num_of_emps = 0\n",
    "    raise_amount = 1.04 #class variable\n",
    "    def __init__(self, first, last, pay):\n",
    "        self.first = first\n",
    "        self.last = last\n",
    "        self.pay = pay\n",
    "        self.email = first + '.' + last + \"@yahoo.com\" \n",
    "        employee.num_of_emps +=1 #__init__ method runs every time we create a instance so it should count the num of emps\n",
    "    def display(self):\n",
    "        print(f'Name: {self.first} {self.last}, Email: {self.email}, Pay: {self.pay}')\n",
    "    def full_name(self):\n",
    "        print(f\"{self.first} {self.last}\")\n",
    "    def apply_raise(self):\n",
    "        raise_pay = self.pay * self.raise_amount\n",
    "        return raise_pay\n",
    "print(employee.num_of_emps)\n",
    "emp5 = employee('rhs', '2', 80000)\n",
    "emp6 = employee('sio', '4', 50000)\n",
    "print(employee.num_of_emps)\n"
   ]
  },
  {
   "cell_type": "code",
   "execution_count": null,
   "metadata": {},
   "outputs": [],
   "source": []
  },
  {
   "cell_type": "code",
   "execution_count": null,
   "metadata": {},
   "outputs": [],
   "source": []
  }
 ],
 "metadata": {
  "kernelspec": {
   "display_name": "base",
   "language": "python",
   "name": "python3"
  },
  "language_info": {
   "codemirror_mode": {
    "name": "ipython",
    "version": 3
   },
   "file_extension": ".py",
   "mimetype": "text/x-python",
   "name": "python",
   "nbconvert_exporter": "python",
   "pygments_lexer": "ipython3",
   "version": "3.12.10"
  }
 },
 "nbformat": 4,
 "nbformat_minor": 2
}
