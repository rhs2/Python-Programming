{
 "cells": [
  {
   "cell_type": "code",
   "execution_count": 9,
   "metadata": {},
   "outputs": [
    {
     "name": "stdout",
     "output_type": "stream",
     "text": [
      "80000\n",
      "83200\n"
     ]
    }
   ],
   "source": [
    "#python class inheritance\n",
    "class employee():\n",
    "    raise_amount = 1.04\n",
    "    def __init__(self, first, last, pay):\n",
    "        self.first = first\n",
    "        self.last = last\n",
    "        self.pay = pay\n",
    "        self.email = first + '.' + last + \"@yahoo.com\" \n",
    "    def display(self):\n",
    "        print(f'Name: {self.first} {self.last}, Email: {self.email}, Pay: {self.pay}')\n",
    "    def full_name(self):\n",
    "        return f\"{self.first} {self.last}\"\n",
    "    def apply_raise(self):\n",
    "        self.pay = int(self.pay * self.raise_amount)\n",
    "emp1 = employee('rhs', '2', 80000) \n",
    "print(emp1.pay)\n",
    "emp1.apply_raise()\n",
    "print(emp1.pay)\n"
   ]
  },
  {
   "cell_type": "code",
   "execution_count": null,
   "metadata": {},
   "outputs": [],
   "source": [
    "#we can create subclasses and get all of the funtionalities from inheritance class, reuse the code\n",
    "#we can override and make new funtionality without altering the parent class\n",
    "#we want to create developer class and manager subclass"
   ]
  },
  {
   "cell_type": "code",
   "execution_count": 11,
   "metadata": {},
   "outputs": [
    {
     "name": "stdout",
     "output_type": "stream",
     "text": [
      "rhs.2@yahoo.com\n",
      "80000\n"
     ]
    }
   ],
   "source": [
    "#developer subclass\n",
    "#python class inheritance\n",
    "class employee():\n",
    "    raise_amount = 1.04\n",
    "    def __init__(self, first, last, pay):\n",
    "        self.first = first\n",
    "        self.last = last\n",
    "        self.pay = pay\n",
    "        self.email = first + '.' + last + \"@yahoo.com\" \n",
    "    def display(self):\n",
    "        print(f'Name: {self.first} {self.last}, Email: {self.email}, Pay: {self.pay}')\n",
    "    def full_name(self):\n",
    "        return f\"{self.first} {self.last}\"\n",
    "    def apply_raise(self):\n",
    "        self.pay = int(self.pay * self.raise_amount)\n",
    "class developer(employee):\n",
    "    pass #skipping the class\n",
    "    #now we can see we can inherit everything from the employee class and get access of employee from developer subclass\n",
    "\n",
    "emp1 = employee('rhs', '2', 80000) \n",
    "emp2 = employee('sio','3', 95000)\n",
    "print(emp1.email)\n",
    "print(emp1.pay)\n",
    "\n"
   ]
  },
  {
   "cell_type": "code",
   "execution_count": 12,
   "metadata": {},
   "outputs": [
    {
     "name": "stdout",
     "output_type": "stream",
     "text": [
      "rhs.2@yahoo.com\n",
      "80000\n"
     ]
    }
   ],
   "source": [
    "#developer subclass\n",
    "#python class inheritance\n",
    "class employee():\n",
    "    raise_amount = 1.04\n",
    "    def __init__(self, first, last, pay):\n",
    "        self.first = first\n",
    "        self.last = last\n",
    "        self.pay = pay\n",
    "        self.email = first + '.' + last + \"@yahoo.com\" \n",
    "    def display(self):\n",
    "        print(f'Name: {self.first} {self.last}, Email: {self.email}, Pay: {self.pay}')\n",
    "    def full_name(self):\n",
    "        return f\"{self.first} {self.last}\"\n",
    "    def apply_raise(self):\n",
    "        self.pay = int(self.pay * self.raise_amount)\n",
    "class developer(employee):\n",
    "    pass #skipping the class\n",
    "    #now we can see we can inherit everything from the employee class and get access of employee from developer subclass\n",
    "\n",
    "emp1 = developer('rhs', '2', 80000) \n",
    "emp2 = developer('sio','3', 95000)\n",
    "print(emp1.email)\n",
    "print(emp1.pay)\n",
    "#here we can see even though in our developer class there is nothing but we can get everything from employee class\n",
    "#we can create instance from the developer class\n",
    "\n"
   ]
  },
  {
   "cell_type": "code",
   "execution_count": 13,
   "metadata": {},
   "outputs": [
    {
     "name": "stdout",
     "output_type": "stream",
     "text": [
      "Help on class developer in module __main__:\n",
      "\n",
      "class developer(employee)\n",
      " |  developer(first, last, pay)\n",
      " |\n",
      " |  Method resolution order:\n",
      " |      developer\n",
      " |      employee\n",
      " |      builtins.object\n",
      " |\n",
      " |  Methods inherited from employee:\n",
      " |\n",
      " |  __init__(self, first, last, pay)\n",
      " |      Initialize self.  See help(type(self)) for accurate signature.\n",
      " |\n",
      " |  apply_raise(self)\n",
      " |\n",
      " |  display(self)\n",
      " |\n",
      " |  full_name(self)\n",
      " |\n",
      " |  ----------------------------------------------------------------------\n",
      " |  Data descriptors inherited from employee:\n",
      " |\n",
      " |  __dict__\n",
      " |      dictionary for instance variables\n",
      " |\n",
      " |  __weakref__\n",
      " |      list of weak references to the object\n",
      " |\n",
      " |  ----------------------------------------------------------------------\n",
      " |  Data and other attributes inherited from employee:\n",
      " |\n",
      " |  raise_amount = 1.04\n",
      "\n"
     ]
    }
   ],
   "source": [
    "#lets see how the developer class funtionalities work\n",
    "help(developer)\n",
    "#here we can see method resolution order\n",
    "#first developer instance will look into developer class then employee class and at last it will into builtins object if its does not find the desired things\n",
    "#also we can see it has access of everything of the employee class"
   ]
  },
  {
   "cell_type": "code",
   "execution_count": 17,
   "metadata": {},
   "outputs": [
    {
     "name": "stdout",
     "output_type": "stream",
     "text": [
      "80000\n",
      "88000\n",
      "1.04\n",
      "1.1\n",
      "80000\n",
      "83200\n"
     ]
    }
   ],
   "source": [
    "#developer subclass\n",
    "#python class inheritance\n",
    "#applying raise on developer instance\n",
    "class employee():\n",
    "    raise_amount = 1.04\n",
    "    def __init__(self, first, last, pay):\n",
    "        self.first = first\n",
    "        self.last = last\n",
    "        self.pay = pay\n",
    "        self.email = first + '.' + last + \"@yahoo.com\" \n",
    "    def display(self):\n",
    "        print(f'Name: {self.first} {self.last}, Email: {self.email}, Pay: {self.pay}')\n",
    "    def full_name(self):\n",
    "        return f\"{self.first} {self.last}\"\n",
    "    def apply_raise(self):\n",
    "        self.pay = int(self.pay * self.raise_amount)\n",
    "class developer(employee):\n",
    "    raise_amount = 1.10 #10%\n",
    "    #now we can see we can inherit everything from the employee class and get access of employee from developer subclass\n",
    "\n",
    "dev1 = developer('rhs', '2', 80000) \n",
    "dev2 = developer('sio','3', 95000)\n",
    "print(dev1.pay)\n",
    "dev1.apply_raise()\n",
    "print(dev1.pay)\n",
    "#we can see here dev1 takes the raise amount from developer class\n",
    "emp1 = employee('rhs2','4',80000)\n",
    "print(emp1.raise_amount)\n",
    "print(dev1.raise_amount)\n",
    "print(emp1.pay)\n",
    "emp1.apply_raise()\n",
    "print(emp1.pay)\n",
    "#also we can see dev class has its own raise amount and emp class has it own raise amount but before dev used emp class raise amount so we can make the raise amount differently without altering the code total seperate for dev class\n",
    "#here we can see even though in our developer class there is nothing but we can get everything from employee class\n",
    "#we can create instance from the developer class\n",
    "\n",
    "\n"
   ]
  },
  {
   "cell_type": "code",
   "execution_count": 22,
   "metadata": {},
   "outputs": [
    {
     "name": "stdout",
     "output_type": "stream",
     "text": [
      "python\n",
      "java\n"
     ]
    }
   ],
   "source": [
    "#customise the sub class like in out employee class it takes parameter of first, last and pay and now we would like to make the parameter as prog_lang too\n",
    "#developer subclass\n",
    "#python class inheritance\n",
    "#applying raise on developer instance\n",
    "class employee():\n",
    "    raise_amount = 1.04\n",
    "    def __init__(self, first, last, pay):\n",
    "        self.first = first\n",
    "        self.last = last\n",
    "        self.pay = pay\n",
    "        self.email = first + '.' + last + \"@yahoo.com\" \n",
    "    def display(self):\n",
    "        print(f'Name: {self.first} {self.last}, Email: {self.email}, Pay: {self.pay}')\n",
    "    def full_name(self):\n",
    "        return f\"{self.first} {self.last}\"\n",
    "    def apply_raise(self):\n",
    "        self.pay = int(self.pay * self.raise_amount)\n",
    "class developer(employee):\n",
    "    raise_amount = 1.10 #10%\n",
    "    #now we can see we can inherit everything from the employee class and get access of employee from developer subclass\n",
    "    def __init__(self,first,last,pay,prog_lang):\n",
    "        super().__init__(first,last,pay)\n",
    "        # employee.__init__(self,first,last,pay)\n",
    "        #we can use both of the method but for me super method is more convinience and easy to use\n",
    "        #we use super method because we do not want to use the same code again and again do make out code DRY we reuse the code from employee class\n",
    "        self.prog_lang = prog_lang\n",
    "    \n",
    "dev1 = developer('rhs', '2', 80000,'python') \n",
    "dev2 = developer('sio','3', 95000,'java')\n",
    "# print(dev1.pay)\n",
    "# dev1.apply_raise()\n",
    "# print(dev1.pay)\n",
    "#we can see here dev1 takes the raise amount from developer class\n",
    "emp1 = employee('rhs2','4',80000)\n",
    "# print(emp1.raise_amount)\n",
    "# print(dev1.raise_amount)\n",
    "# print(emp1.pay)\n",
    "# emp1.apply_raise()\n",
    "# print(emp1.pay)\n",
    "#also we can see dev class has its own raise amount and emp class has it own raise amount but before dev used emp class raise amount so we can make the raise amount differently without altering the code total seperate for dev class\n",
    "#here we can see even though in our developer class there is nothing but we can get everything from employee class\n",
    "#we can create instance from the developer class\n",
    "print(dev1.prog_lang)\n",
    "print(dev2.prog_lang)\n",
    "\n"
   ]
  },
  {
   "cell_type": "code",
   "execution_count": 26,
   "metadata": {},
   "outputs": [
    {
     "name": "stdout",
     "output_type": "stream",
     "text": [
      "90000\n"
     ]
    }
   ],
   "source": [
    "#creating another subclass manager and make that manager to handle employees\n",
    "#customise the sub class like in out employee class it takes parameter of first, last and pay and now we would like to make the parameter as prog_lang too\n",
    "#developer subclass\n",
    "#python class inheritance\n",
    "#applying raise on developer instance\n",
    "class employee():\n",
    "    raise_amount = 1.04\n",
    "    def __init__(self, first, last, pay):\n",
    "        self.first = first\n",
    "        self.last = last\n",
    "        self.pay = pay\n",
    "        self.email = first + '.' + last + \"@yahoo.com\" \n",
    "    def display(self):\n",
    "        print(f'Name: {self.first} {self.last}, Email: {self.email}, Pay: {self.pay}')\n",
    "    def full_name(self):\n",
    "        return f\"{self.first} {self.last}\"\n",
    "    def apply_raise(self):\n",
    "        self.pay = int(self.pay * self.raise_amount)\n",
    "class developer(employee):\n",
    "    raise_amount = 1.10 #10%\n",
    "    #now we can see we can inherit everything from the employee class and get access of employee from developer subclass\n",
    "    def __init__(self,first,last,pay,prog_lang):\n",
    "        super().__init__(first,last,pay)\n",
    "        # employee.__init__(self,first,last,pay)\n",
    "        #we can use both of the method but for me super method is more convinience and easy to use\n",
    "        #we use super method because we do not want to use the same code again and again do make out code DRY we reuse the code from employee class\n",
    "        self.prog_lang = prog_lang\n",
    "\n",
    "class Manager(employee): #another subclass of manager \n",
    "    pass #skipping the class for a time being\n",
    "#now we can take all the data from the employee class as we inheritance that manager class from employee class\n",
    "\n",
    "    \n",
    "dev1 = developer('rhs', '2', 80000,'python') \n",
    "dev2 = developer('sio','3', 95000,'java')\n",
    "emp1 = employee('rhs2','4',80000)\n",
    "mgr1 = Manager('john', 'doe', 90000)\n",
    "print(mgr1.pay)\n",
    "\n"
   ]
  },
  {
   "cell_type": "code",
   "execution_count": 72,
   "metadata": {},
   "outputs": [
    {
     "name": "stdout",
     "output_type": "stream",
     "text": [
      "-----> rhs2 4\n",
      "-----> joe smith\n",
      "True\n",
      "True\n",
      "True\n",
      "False\n"
     ]
    }
   ],
   "source": [
    "#creating a manage that handles employees \n",
    "#creating another subclass manager and make that manager to handle employees\n",
    "#customise the sub class like in out employee class it takes parameter of first, last and pay and now we would like to make the parameter as prog_lang too\n",
    "#developer subclass\n",
    "#python class inheritance\n",
    "#applying raise on developer instance\n",
    "class employee():\n",
    "    raise_amount = 1.04\n",
    "    def __init__(self, first, last, pay):\n",
    "        self.first = first\n",
    "        self.last = last\n",
    "        self.pay = pay\n",
    "        self.email = first + '.' + last + \"@yahoo.com\" \n",
    "    def display(self):\n",
    "        print(f'Name: {self.first} {self.last}, Email: {self.email}, Pay: {self.pay}')\n",
    "    def full_name(self):\n",
    "        return f\"{self.first} {self.last}\"\n",
    "        #print(f\"{self.first} {self.last})\n",
    "    def apply_raise(self):\n",
    "        self.pay = int(self.pay * self.raise_amount)\n",
    "class developer(employee):\n",
    "    raise_amount = 1.10 #10%\n",
    "    #now we can see we can inherit everything from the employee class and get access of employee from developer subclass\n",
    "    def __init__(self,first,last,pay,prog_lang):\n",
    "        super().__init__(first,last,pay)\n",
    "        # employee.__init__(self,first,last,pay)\n",
    "        #we can use both of the method but for me super method is more convinience and easy to use\n",
    "        #we use super method because we do not want to use the same code again and again do make out code DRY we reuse the code from employee class\n",
    "        self.prog_lang = prog_lang\n",
    "\n",
    "class Manager(employee): #another subclass of manager \n",
    "    # pass #skipping the class for a time being\n",
    "#now we can take all the data from the employee class as we inheritance that manager class from employee class\n",
    "    def __init__(self,first,last,pay,emps=None):\n",
    "        super().__init__(first,last,pay)\n",
    "        if emps is None:\n",
    "            self.emps = []\n",
    "        else:\n",
    "            self.emps = emps\n",
    "    def add_emps(self,emp): #adding emps whom manager supervise\n",
    "        if emp not in self.emps:\n",
    "            self.emps.append(emp)\n",
    "    def remove_emps(self,emp):\n",
    "        if emp in self.emps:\n",
    "            self.emps.remove(emp)\n",
    "    def print_emps(self):\n",
    "        for emp in self.emps:\n",
    "            print('----->', emp.full_name())\n",
    "\n",
    "\n",
    "\n",
    "    \n",
    "dev1 = developer('rhs', '2', 80000,'python') \n",
    "dev2 = developer('sio','3', 95000,'java')\n",
    "emp1 = employee('rhs2','4',80000)\n",
    "mgr1 = Manager('john', 'doe', 90000, [dev1])\n",
    "mgr2 = Manager('joe','smith', 75000, [] )\n",
    "#adding supervision people\n",
    "mgr1.add_emps(emp1)\n",
    "mgr1.add_emps(mgr2)\n",
    "#removing emps from supervision\n",
    "mgr1.remove_emps(dev1)\n",
    "\n",
    "mgr1.print_emps()\n",
    "#isinstance() if a object is instance of a class\n",
    "print(isinstance(mgr1, Manager))\n",
    "#it is printing out if a instance is from a class or not in boolean version\n",
    "print(isinstance(dev1, employee))\n",
    "\n",
    "## issubclass- it will print out a class is a subclass of another class it means is it inheriting from that class in true or false\n",
    "print(issubclass(Manager, employee))\n",
    "print(issubclass(Manager, developer))\n",
    "\n"
   ]
  },
  {
   "cell_type": "code",
   "execution_count": 66,
   "metadata": {},
   "outputs": [
    {
     "name": "stdout",
     "output_type": "stream",
     "text": [
      "True\n"
     ]
    }
   ],
   "source": [
    "#isinstance() if a object is instance of a class\n",
    "print(isinstance(mgr1, Manager))\n",
    "#it is printing out if a instance is from a class or not in boolean version"
   ]
  },
  {
   "cell_type": "code",
   "execution_count": 71,
   "metadata": {},
   "outputs": [
    {
     "name": "stdout",
     "output_type": "stream",
     "text": [
      "True\n",
      "False\n"
     ]
    }
   ],
   "source": [
    "## issubclass- it will print out a class is a subclass of another class it means is it inheriting from that class in true or false\n",
    "print(issubclass(Manager, employee))\n",
    "## issubclass- it will print out a class is a subclass of another class it means is it inheriting from that class in true or false\n",
    "print(issubclass(Manager, developer))"
   ]
  },
  {
   "cell_type": "code",
   "execution_count": null,
   "metadata": {},
   "outputs": [],
   "source": []
  },
  {
   "cell_type": "code",
   "execution_count": null,
   "metadata": {},
   "outputs": [],
   "source": []
  },
  {
   "cell_type": "code",
   "execution_count": null,
   "metadata": {},
   "outputs": [],
   "source": []
  }
 ],
 "metadata": {
  "kernelspec": {
   "display_name": "base",
   "language": "python",
   "name": "python3"
  },
  "language_info": {
   "codemirror_mode": {
    "name": "ipython",
    "version": 3
   },
   "file_extension": ".py",
   "mimetype": "text/x-python",
   "name": "python",
   "nbconvert_exporter": "python",
   "pygments_lexer": "ipython3",
   "version": "3.12.10"
  }
 },
 "nbformat": 4,
 "nbformat_minor": 2
}
