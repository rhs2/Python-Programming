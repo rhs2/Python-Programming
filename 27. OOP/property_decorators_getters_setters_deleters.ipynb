{
 "cells": [
  {
   "cell_type": "code",
   "execution_count": 5,
   "metadata": {},
   "outputs": [
    {
     "name": "stdout",
     "output_type": "stream",
     "text": [
      "john.doe@yahoo.com\n",
      "john\n",
      "john doe\n"
     ]
    }
   ],
   "source": [
    "## Class Variable\n",
    "#property decorators\n",
    "class employee():\n",
    "    raise_amount = 1.04 #class variable\n",
    "    def __init__(self, first, last, pay):\n",
    "        self.first = first\n",
    "        self.last = last\n",
    "        self.pay = pay\n",
    "        self.email = first + '.' + last + \"@yahoo.com\" \n",
    "    def display(self):\n",
    "        print(f'Name: {self.first} {self.last}, Email: {self.email}, Pay: {self.pay}')\n",
    "    def full_name(self):\n",
    "        return f\"{self.first} {self.last}\"\n",
    "emp1 = employee('john','doe', 80000)\n",
    "print(emp1.email)\n",
    "print(emp1.first)\n",
    "print(emp1.full_name())"
   ]
  },
  {
   "cell_type": "code",
   "execution_count": 7,
   "metadata": {},
   "outputs": [
    {
     "name": "stdout",
     "output_type": "stream",
     "text": [
      "rhs\n",
      "john.doe@yahoo.com\n",
      "rhs doe\n"
     ]
    }
   ],
   "source": [
    "## Class Variable\n",
    "#property decorators\n",
    "#changing the first name \n",
    "class employee():\n",
    "    raise_amount = 1.04 #class variable\n",
    "    def __init__(self, first, last, pay):\n",
    "        self.first = first\n",
    "        self.last = last\n",
    "        self.pay = pay\n",
    "        self.email = first + '.' + last + \"@yahoo.com\" \n",
    "    def display(self):\n",
    "        print(f'Name: {self.first} {self.last}, Email: {self.email}, Pay: {self.pay}')\n",
    "    def full_name(self):\n",
    "        return f\"{self.first} {self.last}\"\n",
    "emp1 = employee('john','doe', 80000)\n",
    "emp1.first ='rhs'\n",
    "print(emp1.first)\n",
    "print(emp1.email)\n",
    "print(emp1.full_name())\n",
    "#as we can see here it changes the first name but email is the same as before thats a big problem , so to change the email we have to do it manually but thats time consuming"
   ]
  },
  {
   "cell_type": "code",
   "execution_count": 15,
   "metadata": {},
   "outputs": [
    {
     "name": "stdout",
     "output_type": "stream",
     "text": [
      "rhs\n",
      "rhs.doe@yahoo.com\n",
      "rhs doe\n"
     ]
    }
   ],
   "source": [
    "## Class Variable\n",
    "#property decorators\n",
    "#changing the first name \n",
    "class employee():\n",
    "    raise_amount = 1.04 #class variable\n",
    "    def __init__(self, first, last, pay):\n",
    "        self.first = first\n",
    "        self.last = last\n",
    "        self.pay = pay\n",
    "    def display(self):\n",
    "        print(f'Name: {self.first} {self.last}, Email: {self.email}, Pay: {self.pay}')\n",
    "    # @property\n",
    "    def email(self):\n",
    "        return self.first + '.' + self.last + \"@yahoo.com\"  \n",
    "    #now we can see it solves out problems\n",
    "    def full_name(self):\n",
    "        return f\"{self.first} {self.last}\"\n",
    "emp1 = employee('john','doe', 80000)\n",
    "emp1.first ='rhs'\n",
    "print(emp1.first)\n",
    "print(emp1.email()) #instead of calling () funtion we can remove that function by just adding the @property \n",
    "print(emp1.full_name())"
   ]
  },
  {
   "cell_type": "code",
   "execution_count": 16,
   "metadata": {},
   "outputs": [
    {
     "name": "stdout",
     "output_type": "stream",
     "text": [
      "rhs\n",
      "rhs.doe@yahoo.com\n",
      "rhs doe\n"
     ]
    }
   ],
   "source": [
    "## Class Variable\n",
    "#property decorators\n",
    "#changing the first name \n",
    "class employee():\n",
    "    raise_amount = 1.04 #class variable\n",
    "    def __init__(self, first, last, pay):\n",
    "        self.first = first\n",
    "        self.last = last\n",
    "        self.pay = pay\n",
    "    def display(self):\n",
    "        print(f'Name: {self.first} {self.last}, Email: {self.email}, Pay: {self.pay}')\n",
    "    @property\n",
    "    def email(self):\n",
    "        return self.first + '.' + self.last + \"@yahoo.com\"  \n",
    "    #now we can see it solves out problems\n",
    "    @property\n",
    "    def full_name(self):\n",
    "        return f\"{self.first} {self.last}\"\n",
    "emp1 = employee('john','doe', 80000)\n",
    "emp1.first ='rhs'\n",
    "print(emp1.first)\n",
    "print(emp1.email) #instead of calling () funtion we can remove that function by just adding the @property \n",
    "print(emp1.full_name) #calling the funtions without the parenthesis, it is a method but we accessing it like a attribute"
   ]
  },
  {
   "cell_type": "code",
   "execution_count": 24,
   "metadata": {},
   "outputs": [
    {
     "name": "stdout",
     "output_type": "stream",
     "text": [
      "Jusi\n",
      "Jusi.smith@yahoo.com\n",
      "Jusi smith\n",
      "Deleted the name!\n"
     ]
    }
   ],
   "source": [
    "## Class Variable\n",
    "#property decorators\n",
    "#changing the full name\n",
    "#using setter and that will change our full name \n",
    "class employee():\n",
    "    raise_amount = 1.04 #class variable\n",
    "    def __init__(self, first, last):\n",
    "        self.first = first\n",
    "        self.last = last\n",
    "    def display(self):\n",
    "        print(f'Name: {self.first} {self.last}, Email: {self.email}, Pay: {self.pay}')\n",
    "    @property\n",
    "    def email(self):\n",
    "        return self.first + '.' + self.last + \"@yahoo.com\"  \n",
    "    #now we can see it solves out problems\n",
    "    @property #removing the () from the function and it works like a attribute\n",
    "    def full_name(self):\n",
    "        return f\"{self.first} {self.last}\"\n",
    "    @full_name.setter #getting the new name for setters methods\n",
    "    def full_name(self,name):\n",
    "        first, last = name.split(' ')\n",
    "        self.first = first\n",
    "        self.last = last\n",
    "    @full_name.deleter #it will delete the name \n",
    "    def full_name(self):\n",
    "        print('Deleted the name!')\n",
    "        self.first = None\n",
    "        self.last = None\n",
    "\n",
    "\n",
    "\n",
    "emp1 = employee('john','doe')\n",
    "emp1.full_name = 'Jusi smith' #adding a new name \n",
    "print(emp1.first)\n",
    "print(emp1.email) #instead of calling () funtion we can remove that function by just adding the @property \n",
    "print(emp1.full_name) #calling the funtions without the parenthesis, it is a method but we accessing it like a attribute\n",
    "del  emp1.full_name #completely delete the name and returns None"
   ]
  },
  {
   "cell_type": "code",
   "execution_count": null,
   "metadata": {},
   "outputs": [],
   "source": []
  }
 ],
 "metadata": {
  "kernelspec": {
   "display_name": "base",
   "language": "python",
   "name": "python3"
  },
  "language_info": {
   "codemirror_mode": {
    "name": "ipython",
    "version": 3
   },
   "file_extension": ".py",
   "mimetype": "text/x-python",
   "name": "python",
   "nbconvert_exporter": "python",
   "pygments_lexer": "ipython3",
   "version": "3.12.10"
  }
 },
 "nbformat": 4,
 "nbformat_minor": 2
}
