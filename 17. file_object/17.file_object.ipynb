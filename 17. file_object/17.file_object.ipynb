{
 "cells": [
  {
   "cell_type": "markdown",
   "id": "87e486d1-b1d7-44f8-a1a4-cd49a13ac04a",
   "metadata": {},
   "source": [
    "# File Object-reading and writing "
   ]
  },
  {
   "cell_type": "code",
   "execution_count": 5,
   "id": "53f96f0f-ef30-4906-8431-04e34a7a921f",
   "metadata": {},
   "outputs": [
    {
     "name": "stdout",
     "output_type": "stream",
     "text": [
      "test.txt\n"
     ]
    }
   ],
   "source": [
    "#this is not recommended\n",
    "f = open('test.txt', 'r')\n",
    "print(f.name)\n",
    "f.close()\n",
    "#we have to close the file when we are done using it"
   ]
  },
  {
   "cell_type": "code",
   "execution_count": 6,
   "id": "75db048d-fd05-4791-8794-541992e714ff",
   "metadata": {},
   "outputs": [
    {
     "name": "stdout",
     "output_type": "stream",
     "text": [
      "r\n"
     ]
    }
   ],
   "source": [
    "#this is not recommended\n",
    "f = open('test.txt', 'r')\n",
    "print(f.mode) #what we are doing it will print it out\n",
    "f.close()\n",
    "#we have to close the file when we are done using it"
   ]
  },
  {
   "cell_type": "code",
   "execution_count": 11,
   "id": "e219bcb0-4470-492e-abe8-b7c8d64bb722",
   "metadata": {},
   "outputs": [
    {
     "name": "stdout",
     "output_type": "stream",
     "text": [
      "1) This is a test file\n",
      "2) With multiple lines of data...\n",
      "3) Third line\n",
      "4) Fourth line\n",
      "5) Fifth line\n",
      "6) Sixth line\n",
      "7) Seventh line\n",
      "8) Eighth line\n",
      "9) Ninth line\n",
      "10) Tenth line\n"
     ]
    }
   ],
   "source": [
    "#this is not recommended\n",
    "f = open('test.txt', 'r')\n",
    "print(f.read()) #what we are doing it will print it out\n",
    "f.close()\n",
    "#we have to close the file when we are done using it"
   ]
  },
  {
   "cell_type": "code",
   "execution_count": 9,
   "id": "56a689cf-d092-45ad-b9f0-799c81c43121",
   "metadata": {},
   "outputs": [
    {
     "name": "stdout",
     "output_type": "stream",
     "text": [
      "True\n"
     ]
    }
   ],
   "source": [
    "#using context manager it is recommended\n",
    "with open('test.txt', 'r') as f:\n",
    "    pass\n",
    "#we do not have explicitly close the file with context manager\n",
    "print(f.closed) #it is true"
   ]
  },
  {
   "cell_type": "code",
   "execution_count": 10,
   "id": "4896d755-fb99-461e-ae93-88e4d82ecb75",
   "metadata": {},
   "outputs": [
    {
     "name": "stdout",
     "output_type": "stream",
     "text": [
      "<built-in method read of _io.TextIOWrapper object at 0x104581540>\n"
     ]
    }
   ],
   "source": [
    "#using context manager it is recommended\n",
    "with open('test.txt', 'r') as f:\n",
    "    pass\n",
    "#we do not have explicitly close the file with context manager\n",
    "print(f.read) #we can not read outside the context manager but it should done inside the blocl"
   ]
  },
  {
   "cell_type": "code",
   "execution_count": 12,
   "id": "7bc9f88b-4916-41ff-a73d-448d05109b3f",
   "metadata": {},
   "outputs": [
    {
     "name": "stdout",
     "output_type": "stream",
     "text": [
      "1) This is a test file\n",
      "2) With multiple lines of data...\n",
      "3) Third line\n",
      "4) Fourth line\n",
      "5) Fifth line\n",
      "6) Sixth line\n",
      "7) Seventh line\n",
      "8) Eighth line\n",
      "9) Ninth line\n",
      "10) Tenth line\n"
     ]
    }
   ],
   "source": [
    "#using context manager it is recommended\n",
    "with open('test.txt', 'r') as f:\n",
    "    f_contents = f.read()\n",
    "    print(f_contents)\n",
    "#we do not have explicitly close the file with context manager"
   ]
  },
  {
   "cell_type": "code",
   "execution_count": 13,
   "id": "e424097b-db6e-4895-9bb2-a8e2715c710f",
   "metadata": {},
   "outputs": [
    {
     "name": "stdout",
     "output_type": "stream",
     "text": [
      "['1) This is a test file\\n', '2) With multiple lines of data...\\n', '3) Third line\\n', '4) Fourth line\\n', '5) Fifth line\\n', '6) Sixth line\\n', '7) Seventh line\\n', '8) Eighth line\\n', '9) Ninth line\\n', '10) Tenth line']\n"
     ]
    }
   ],
   "source": [
    "#using context manager it is recommended #reading the file as list format\n",
    "with open('test.txt', 'r') as f:\n",
    "    f_contents = f.readlines()\n",
    "    print(f_contents)\n",
    "#we do not have explicitly close the file with context manager"
   ]
  },
  {
   "cell_type": "code",
   "execution_count": 15,
   "id": "cf4bf597-f0fb-4223-8e86-b7d05a0ff3ba",
   "metadata": {},
   "outputs": [
    {
     "name": "stdout",
     "output_type": "stream",
     "text": [
      "1) This is a test file\n",
      "\n"
     ]
    }
   ],
   "source": [
    "#using context manager it is recommended #reading file one by one\n",
    "with open('test.txt', 'r') as f:\n",
    "    f_contents = f.readline()\n",
    "    print(f_contents)\n",
    "#we do not have explicitly close the file with context manager"
   ]
  },
  {
   "cell_type": "code",
   "execution_count": 22,
   "id": "821e8fd1-bb14-4b2a-b24f-0bee9f1b26e7",
   "metadata": {},
   "outputs": [
    {
     "name": "stdout",
     "output_type": "stream",
     "text": [
      "1) This is a test file\n",
      "2) With multiple lines of data...\n"
     ]
    }
   ],
   "source": [
    "#using context manager it is recommended #reading file one by one\n",
    "with open('test.txt', 'r') as f:\n",
    "    f_contents = f.readline()\n",
    "    print(f_contents, end ='') #each time we will get one line by line\n",
    "    f_contents = f.readline()\n",
    "    print(f_contents, end ='') #end= ' ' it will skip the new line \n",
    "#we do not have explicitly close the file with context manager\n"
   ]
  },
  {
   "cell_type": "code",
   "execution_count": 24,
   "id": "ebc98cb0-d941-48b3-b479-58095cd5bdc4",
   "metadata": {},
   "outputs": [
    {
     "name": "stdout",
     "output_type": "stream",
     "text": [
      "1) This is a test file\n",
      "2) With multiple lines of data...\n",
      "3) Third line\n",
      "4) Fourth line\n",
      "5) Fifth line\n",
      "6) Sixth line\n",
      "7) Seventh line\n",
      "8) Eighth line\n",
      "9) Ninth line\n",
      "10) Tenth line"
     ]
    }
   ],
   "source": [
    "#iterate over the text file to read each lines\n",
    "with open('test.txt', 'r') as f:\n",
    "    for line in f:\n",
    "        print(line, end ='')"
   ]
  },
  {
   "cell_type": "code",
   "execution_count": 26,
   "id": "e644edbd-6b34-4fc8-81b4-42970584b9f0",
   "metadata": {},
   "outputs": [
    {
     "name": "stdout",
     "output_type": "stream",
     "text": [
      "1) This is a test file\n",
      "2) With multiple lines of data...\n",
      "3) Third line\n",
      "4) Fourth line\n",
      "5) Fifth line\n",
      "\n"
     ]
    }
   ],
   "source": [
    "#to getting more control on the text line\n",
    "with open('test.txt', 'r') as f:\n",
    "    f_contents = f.read(100) #passing 100 it will print 100 characters\n",
    "    print(f_contents)"
   ]
  },
  {
   "cell_type": "code",
   "execution_count": 28,
   "id": "e6299966-e017-4f10-b8a2-f6d737e26a26",
   "metadata": {},
   "outputs": [
    {
     "name": "stdout",
     "output_type": "stream",
     "text": [
      "1) This is a test file\n",
      "2) With multiple lines of data...\n",
      "3) Third line\n",
      "4) Fourth line\n",
      "5) Fifth line\n",
      "\n",
      "6) Sixth line\n",
      "7) Seventh line\n",
      "8) Eighth line\n",
      "9) Ninth line\n",
      "10) Tenth line\n"
     ]
    }
   ],
   "source": [
    "#to getting more control on the text line\n",
    "with open('test.txt', 'r') as f:\n",
    "    f_contents = f.read(100) #passing 100 it will print 100 characters\n",
    "    print(f_contents)\n",
    "    f_contents = f.read(100) #passing 100 it will print 100 characters\n",
    "    print(f_contents)"
   ]
  },
  {
   "cell_type": "code",
   "execution_count": 29,
   "id": "562ee7d8-6fc4-4013-8a93-7010d19e1432",
   "metadata": {},
   "outputs": [
    {
     "name": "stdout",
     "output_type": "stream",
     "text": [
      "1) This is a test file\n",
      "2) With multiple lines of data...\n",
      "3) Third line\n",
      "4) Fourth line\n",
      "5) Fifth line\n",
      "\n"
     ]
    }
   ],
   "source": [
    "#to iterate over the text file and getting more control\n",
    "with open('test.txt', 'r') as f:\n",
    "    size_to_read = 100\n",
    "    f_contents = f.read(size_to_read) #passing 100 it will print 100 characters\n",
    "    print(f_contents)"
   ]
  },
  {
   "cell_type": "code",
   "execution_count": 31,
   "id": "23ae0110-4837-4643-980d-24cc0683dc8d",
   "metadata": {},
   "outputs": [
    {
     "name": "stdout",
     "output_type": "stream",
     "text": [
      "1) This is a test file\n",
      "2) With multiple lines of data...\n",
      "3) Third line\n",
      "4) Fourth line\n",
      "5) Fifth line\n",
      "6) Sixth line\n",
      "7) Seventh line\n",
      "8) Eighth line\n",
      "9) Ninth line\n",
      "10) Tenth line"
     ]
    }
   ],
   "source": [
    "#using while loop to read over the file #this has more control\n",
    "with open('test.txt', 'r') as f:\n",
    "    size_to_read = 100\n",
    "    f_contents = f.read(size_to_read)\n",
    "    while len(f_contents) > 0 :\n",
    "        print(f_contents, end = '')\n",
    "        f_contents = f.read(size_to_read)\n",
    "    \n",
    "        "
   ]
  },
  {
   "cell_type": "markdown",
   "id": "267560cd-bb73-47a9-807b-d0a29b1624f4",
   "metadata": {},
   "source": [
    "# writing to files"
   ]
  },
  {
   "cell_type": "code",
   "execution_count": 46,
   "id": "71cfab7f-d591-4abb-92f3-33a9d3043e25",
   "metadata": {},
   "outputs": [],
   "source": [
    "with open('test2.txt', 'w') as f:\n",
    "    f.write(\"11. here is an another line\") #this will create a new file\n",
    "    "
   ]
  },
  {
   "cell_type": "code",
   "execution_count": 48,
   "id": "8837ce06-f3c1-46e9-8bcd-eaff816fcb1a",
   "metadata": {},
   "outputs": [
    {
     "name": "stdout",
     "output_type": "stream",
     "text": [
      "1) This is a test file\n",
      "2) With multiple lines of data...\n",
      "3) Third line\n",
      "4) Fourth line\n",
      "5) Fifth line\n",
      "6) Sixth line\n",
      "7) Seventh line\n",
      "8) Eighth line\n",
      "9) Ninth line\n",
      "10) Tenth line\n"
     ]
    }
   ],
   "source": [
    "with open('test.txt', 'r') as f:\n",
    "    size_to_read = 200\n",
    "    f_contents = f.read(size_to_read) #passing 100 it will print 100 characters\n",
    "    print(f_contents)     "
   ]
  },
  {
   "cell_type": "code",
   "execution_count": 49,
   "id": "9f754e70-9bba-4221-934a-6a868056b343",
   "metadata": {},
   "outputs": [],
   "source": [
    "#if we try to write the previous existance file it will overwrite the file"
   ]
  },
  {
   "cell_type": "code",
   "execution_count": 50,
   "id": "1f438642-9ef8-424b-87c7-6d4004c7d4be",
   "metadata": {},
   "outputs": [],
   "source": [
    "#use read and write at a same time and copy the file\n",
    "with open(\"test.txt\", 'r') as rf:\n",
    "    with open(\"test_copy.txt\", 'w') as wf:\n",
    "        for line in rf:\n",
    "            wf.write(line)\n",
    "    "
   ]
  },
  {
   "cell_type": "code",
   "execution_count": 53,
   "id": "bdcfa074-6571-432c-a6ad-186a0593cba0",
   "metadata": {},
   "outputs": [],
   "source": [
    "#we can not copy the images as like we did in the text file\n",
    "#binary mode = https://docs.python.org/3/library/functions.html#open\n",
    "with open(\"ml.jpg\", 'rb') as rf:\n",
    "    with open(\"ml_copy.jpg\", 'wb') as wf:\n",
    "        for line in rf:\n",
    "            wf.write(line)\n",
    "#just adjust 'b' with the readable mode and writeable mode we are able to copy the img file "
   ]
  },
  {
   "cell_type": "code",
   "execution_count": 54,
   "id": "fea97a39-3a84-4dca-a545-c4fd53e421c6",
   "metadata": {},
   "outputs": [],
   "source": [
    "# working with the image \n",
    "with open(\"ml.jpg\", 'rb') as rf:\n",
    "    with open(\"ml_copy.jpg\", 'wb') as wf:\n",
    "        chunk_size = 4096\n",
    "        rf_chunk = rf.read(chunk_size)\n",
    "        while len(rf_chunk)> 0:\n",
    "            wf.write(rf_chunk)\n",
    "            rf_chunk = rf.read(chunk_size)\n",
    "            \n",
    "            "
   ]
  },
  {
   "cell_type": "code",
   "execution_count": null,
   "id": "7945a0a5-cfd4-470c-b29b-f4a6abd589da",
   "metadata": {},
   "outputs": [],
   "source": []
  }
 ],
 "metadata": {
  "kernelspec": {
   "display_name": "Python 3 (ipykernel)",
   "language": "python",
   "name": "python3"
  },
  "language_info": {
   "codemirror_mode": {
    "name": "ipython",
    "version": 3
   },
   "file_extension": ".py",
   "mimetype": "text/x-python",
   "name": "python",
   "nbconvert_exporter": "python",
   "pygments_lexer": "ipython3",
   "version": "3.12.10"
  },
  "widgets": {
   "application/vnd.jupyter.widget-state+json": {
    "state": {},
    "version_major": 2,
    "version_minor": 0
   }
  }
 },
 "nbformat": 4,
 "nbformat_minor": 5
}
