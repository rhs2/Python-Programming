{
 "cells": [
  {
   "cell_type": "code",
   "execution_count": 7,
   "id": "a4be0ace-6ded-4d7d-ae5a-3dac6b683397",
   "metadata": {},
   "outputs": [
    {
     "name": "stdout",
     "output_type": "stream",
     "text": [
      "<re.Match object; span=(1, 23), match='https://www.google.com'>\n",
      "<re.Match object; span=(24, 42), match='http://coreyms.com'>\n",
      "<re.Match object; span=(43, 62), match='https://youtube.com'>\n",
      "<re.Match object; span=(63, 83), match='https://www.nasa.gov'>\n"
     ]
    }
   ],
   "source": [
    "#finding domain name\n",
    "import re \n",
    "urls = '''\n",
    "https://www.google.com\n",
    "http://coreyms.com\n",
    "https://youtube.com\n",
    "https://www.nasa.gov\n",
    "'''\n",
    "pattern = re.compile(r\"[\\w.-]+://[\\w.-]+\")\n",
    "matches = pattern.finditer(urls)\n",
    "for match in matches:\n",
    "    print(match)"
   ]
  },
  {
   "cell_type": "code",
   "execution_count": 40,
   "id": "41305e7f-b419-48f3-9371-31ea009a534c",
   "metadata": {},
   "outputs": [
    {
     "name": "stdout",
     "output_type": "stream",
     "text": [
      ".com\n",
      ".com\n",
      ".com\n",
      ".gov\n"
     ]
    }
   ],
   "source": [
    "#grab top level domaim\n",
    "import re \n",
    "urls = '''\n",
    "https://www.google.com\n",
    "http://coreyms.com\n",
    "https://youtube.com\n",
    "https://www.nasa.gov\n",
    "'''\n",
    "pattern = re.compile(r\"\\w+://(www\\.)?(\\w+)(\\.\\w+)\")\n",
    "matches = pattern.finditer(urls)\n",
    "for match in matches:\n",
    "    print(match.group(3)) #top level domain by group"
   ]
  },
  {
   "cell_type": "code",
   "execution_count": 42,
   "id": "50ffb1a0-9a50-49cb-a93c-861891618336",
   "metadata": {},
   "outputs": [
    {
     "name": "stdout",
     "output_type": "stream",
     "text": [
      "\n",
      ".com\n",
      ".com\n",
      ".com\n",
      ".gov\n",
      "\n"
     ]
    }
   ],
   "source": [
    "#back refference\n",
    "#grab top level domaim\n",
    "import re \n",
    "urls = '''\n",
    "https://www.google.com\n",
    "http://coreyms.com\n",
    "https://youtube.com\n",
    "https://www.nasa.gov\n",
    "'''\n",
    "pattern = re.compile(r\"\\w+://(www\\.)?(\\w+)(\\.\\w+)\")\n",
    "sub_urls = pattern.sub(r'\\3',urls)\n",
    "print(sub_urls)\n",
    "# matches = pattern.finditer(urls)\n",
    "# for match in matches:\n",
    "#     print(match.group(3)) #top level domain by group"
   ]
  },
  {
   "cell_type": "code",
   "execution_count": 43,
   "id": "5da71a88-e183-4c6f-903b-05a141656342",
   "metadata": {},
   "outputs": [
    {
     "name": "stdout",
     "output_type": "stream",
     "text": [
      "https://www.google.com\n",
      "http://coreyms.com\n",
      "https://youtube.com\n",
      "https://www.nasa.gov\n"
     ]
    }
   ],
   "source": [
    "#findall() method\n",
    "#finding domain name\n",
    "import re \n",
    "urls = '''\n",
    "https://www.google.com\n",
    "http://coreyms.com\n",
    "https://youtube.com\n",
    "https://www.nasa.gov\n",
    "'''\n",
    "pattern = re.compile(r\"[\\w.-]+://[\\w.-]+\")\n",
    "matches = pattern.findall(urls)\n",
    "for match in matches:\n",
    "    print(match)\n"
   ]
  },
  {
   "cell_type": "code",
   "execution_count": 45,
   "id": "e102a824-7eda-474e-9df3-ad0d0e442d48",
   "metadata": {},
   "outputs": [
    {
     "name": "stdout",
     "output_type": "stream",
     "text": [
      "('www.', 'google', '.com')\n",
      "('', 'coreyms', '.com')\n",
      "('', 'youtube', '.com')\n",
      "('www.', 'nasa', '.gov')\n"
     ]
    }
   ],
   "source": [
    "#findall, if it matches only the group then it will return the first group only, but if it has more than  1 group it will return all the groups in a tuple \n",
    "import re \n",
    "urls = '''\n",
    "https://www.google.com\n",
    "http://coreyms.com\n",
    "https://youtube.com\n",
    "https://www.nasa.gov\n",
    "'''\n",
    "pattern = re.compile(r\"\\w+://(www\\.)?(\\w+)(\\.\\w+)\")\n",
    "matches = pattern.findall(urls)\n",
    "for match in matches:\n",
    "    print(match) #top level domain by group"
   ]
  },
  {
   "cell_type": "code",
   "execution_count": null,
   "id": "d4dff645-dba6-4ff5-b58d-df2c3bc8d185",
   "metadata": {},
   "outputs": [],
   "source": [
    "#if there is no group then it will return all the result as like finditer"
   ]
  },
  {
   "cell_type": "code",
   "execution_count": null,
   "id": "3d0ee344-d5b4-4b5c-8956-5fc60d6e8a7e",
   "metadata": {},
   "outputs": [],
   "source": []
  },
  {
   "cell_type": "code",
   "execution_count": null,
   "id": "8304da74-838f-44ec-8b79-1e3aff1364fc",
   "metadata": {},
   "outputs": [],
   "source": []
  },
  {
   "cell_type": "code",
   "execution_count": null,
   "id": "b0dd9383-cd36-497a-8328-5a2466e0ff71",
   "metadata": {},
   "outputs": [],
   "source": []
  }
 ],
 "metadata": {
  "kernelspec": {
   "display_name": "Python 3 (ipykernel)",
   "language": "python",
   "name": "python3"
  },
  "language_info": {
   "codemirror_mode": {
    "name": "ipython",
    "version": 3
   },
   "file_extension": ".py",
   "mimetype": "text/x-python",
   "name": "python",
   "nbconvert_exporter": "python",
   "pygments_lexer": "ipython3",
   "version": "3.12.10"
  },
  "widgets": {
   "application/vnd.jupyter.widget-state+json": {
    "state": {},
    "version_major": 2,
    "version_minor": 0
   }
  }
 },
 "nbformat": 4,
 "nbformat_minor": 5
}
