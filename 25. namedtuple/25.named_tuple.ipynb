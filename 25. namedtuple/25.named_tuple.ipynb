{
 "cells": [
  {
   "cell_type": "markdown",
   "id": "ef8b5189-5daf-4744-af42-17e0cfdf89b1",
   "metadata": {},
   "source": [
    "# working eith named tuples"
   ]
  },
  {
   "cell_type": "code",
   "execution_count": 1,
   "id": "03f4c5f3-8192-42f8-b5da-a9232a216639",
   "metadata": {},
   "outputs": [],
   "source": [
    "#importing namedtuple\n",
    "from collections import namedtuple\n"
   ]
  },
  {
   "cell_type": "code",
   "execution_count": 2,
   "id": "199c7056-fbe4-43e9-bdbc-8862ae7b5f37",
   "metadata": {},
   "outputs": [
    {
     "data": {
      "text/plain": [
       "55"
      ]
     },
     "execution_count": 2,
     "metadata": {},
     "output_type": "execute_result"
    }
   ],
   "source": [
    "#normal tuple\n",
    "color = (55,155,255) #RGB\n",
    "color[0] #getting the red color value"
   ]
  },
  {
   "cell_type": "code",
   "execution_count": 4,
   "id": "f852d364-3d47-43ee-9f95-e9a922a3d653",
   "metadata": {},
   "outputs": [
    {
     "data": {
      "text/plain": [
       "55"
      ]
     },
     "execution_count": 4,
     "metadata": {},
     "output_type": "execute_result"
    }
   ],
   "source": [
    "#using dict\n",
    "color = {'red': 55, 'green': 155, \"blue\": 255}\n",
    "color['red'] #getting the value from dict\n",
    "#lots of typing"
   ]
  },
  {
   "cell_type": "code",
   "execution_count": 10,
   "id": "2782502d-5680-4b10-bf1b-f3847c8f883d",
   "metadata": {},
   "outputs": [
    {
     "name": "stdout",
     "output_type": "stream",
     "text": [
      "55\n"
     ]
    }
   ],
   "source": [
    "#named_tuple\n",
    "Color1 = namedtuple(\"color\", ['red','green','blue']) #creating named tuple\n",
    "color= Color1(55,155,255)\n",
    "color[0] #using as normal tuple\n",
    "print(color.red) #getting the value of red\n"
   ]
  },
  {
   "cell_type": "code",
   "execution_count": 11,
   "id": "4eb179e3-c6b0-4ac1-8b84-ae7e02e01c50",
   "metadata": {},
   "outputs": [],
   "source": [
    "#more explicit\n",
    "color= Color1(red =55,green=155,blue=255)"
   ]
  },
  {
   "cell_type": "code",
   "execution_count": 12,
   "id": "571604a4-0dfa-4d45-924a-489e5cfd02fe",
   "metadata": {},
   "outputs": [
    {
     "data": {
      "text/plain": [
       "55"
      ]
     },
     "execution_count": 12,
     "metadata": {},
     "output_type": "execute_result"
    }
   ],
   "source": [
    "color.red"
   ]
  },
  {
   "cell_type": "code",
   "execution_count": 13,
   "id": "863076d8-ab28-471a-9664-89635d46aa22",
   "metadata": {},
   "outputs": [
    {
     "data": {
      "text/plain": [
       "255"
      ]
     },
     "execution_count": 13,
     "metadata": {},
     "output_type": "execute_result"
    }
   ],
   "source": [
    "color.blue"
   ]
  },
  {
   "cell_type": "code",
   "execution_count": 15,
   "id": "3db37ded-ee63-47c1-bb0b-9475b7782279",
   "metadata": {},
   "outputs": [
    {
     "name": "stdout",
     "output_type": "stream",
     "text": [
      "300\n"
     ]
    }
   ],
   "source": [
    "#adding new color in the namedtuple\n",
    "white = Color1(255,255,300)\n",
    "print(white.blue)"
   ]
  },
  {
   "cell_type": "code",
   "execution_count": 18,
   "id": "1706d6a0-9229-4183-afb1-0f2fe568e006",
   "metadata": {},
   "outputs": [
    {
     "name": "stdout",
     "output_type": "stream",
     "text": [
      "color(red=55, green=155, blue=255)\n"
     ]
    }
   ],
   "source": [
    "#thats really easy to use \n",
    "print(color)"
   ]
  },
  {
   "cell_type": "code",
   "execution_count": null,
   "id": "23302e2c-bc72-4e8a-90d4-ece81b5467a4",
   "metadata": {},
   "outputs": [],
   "source": []
  }
 ],
 "metadata": {
  "kernelspec": {
   "display_name": "Python 3 (ipykernel)",
   "language": "python",
   "name": "python3"
  },
  "language_info": {
   "codemirror_mode": {
    "name": "ipython",
    "version": 3
   },
   "file_extension": ".py",
   "mimetype": "text/x-python",
   "name": "python",
   "nbconvert_exporter": "python",
   "pygments_lexer": "ipython3",
   "version": "3.12.10"
  },
  "widgets": {
   "application/vnd.jupyter.widget-state+json": {
    "state": {},
    "version_major": 2,
    "version_minor": 0
   }
  }
 },
 "nbformat": 4,
 "nbformat_minor": 5
}
