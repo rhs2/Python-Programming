{
 "cells": [
  {
   "cell_type": "markdown",
   "id": "b2b78018-7861-459b-9ae5-f2ccbd324ac8",
   "metadata": {},
   "source": [
    "# functions for doing specific task\n",
    "- to create use def key\n",
    "- function takes parameter"
   ]
  },
  {
   "cell_type": "code",
   "execution_count": 6,
   "id": "5dc7a8cf-693c-436f-bde7-4ab1eafae225",
   "metadata": {},
   "outputs": [
    {
     "name": "stdout",
     "output_type": "stream",
     "text": [
      "None\n"
     ]
    }
   ],
   "source": [
    "def hello_func():\n",
    "    pass\n",
    "#using pass key wont through a error, pass key is used when we decided function is needed and we work in that function later\n",
    "hello_func() #call the function\n",
    "print(hello_func()) #it prints out None because it does not have any return value."
   ]
  },
  {
   "cell_type": "code",
   "execution_count": 4,
   "id": "42e40987-9e81-41eb-acd4-33f1827b066b",
   "metadata": {},
   "outputs": [
    {
     "name": "stdout",
     "output_type": "stream",
     "text": [
      "<function hello_func at 0x107960cc0>\n"
     ]
    }
   ],
   "source": [
    "print(hello_func) #it locates the memory location of the function"
   ]
  },
  {
   "cell_type": "code",
   "execution_count": 8,
   "id": "bbc47427-d54d-4fcd-9b4f-c3e2a26c95e4",
   "metadata": {},
   "outputs": [
    {
     "name": "stdout",
     "output_type": "stream",
     "text": [
      "Hello World\n"
     ]
    }
   ],
   "source": [
    "def hello_func():\n",
    "    print( \"Hello World\") #it prints the str inside the function\n",
    "hello_func()"
   ]
  },
  {
   "cell_type": "code",
   "execution_count": 9,
   "id": "a98eaab8-ba93-4db8-a9aa-8613510968f3",
   "metadata": {},
   "outputs": [
    {
     "name": "stdout",
     "output_type": "stream",
     "text": [
      "Hello World\n"
     ]
    }
   ],
   "source": [
    "def hello_func():\n",
    "    return \"Hello World\" #it returns the str inside the function so in order to print that we will have to catch the value in a print function \n",
    "x= hello_func()\n",
    "print(x)"
   ]
  },
  {
   "cell_type": "code",
   "execution_count": 10,
   "id": "d4f40297-87f7-4179-bdcd-0eeab70743ba",
   "metadata": {},
   "outputs": [
    {
     "name": "stdout",
     "output_type": "stream",
     "text": [
      "Hello World\n",
      "Hello World\n",
      "Hello World\n",
      "Hello World\n",
      "Hello World\n"
     ]
    }
   ],
   "source": [
    "#it allow us to reuse our code without repeating \n",
    "def hello_func():\n",
    "    return \"Hello World\" #it returns the str inside the function so in order to print that we will have to catch the value in a print function \n",
    "x= hello_func()\n",
    "print(x)\n",
    "print(x)\n",
    "print(x)\n",
    "print(x)\n",
    "print(x)"
   ]
  },
  {
   "cell_type": "code",
   "execution_count": 11,
   "id": "7172a50e-a3c5-4dcb-a8b0-79862d6c7b80",
   "metadata": {},
   "outputs": [
    {
     "name": "stdout",
     "output_type": "stream",
     "text": [
      "Hello World!\n",
      "Hello World!\n",
      "Hello World!\n",
      "Hello World!\n",
      "Hello World!\n"
     ]
    }
   ],
   "source": [
    "#we want a explanation after worlds so it is easy to use function we can just change inside the function it will automatically changes all\n",
    "#it allow us to reuse our code without repeating \n",
    "def hello_func():\n",
    "    return \"Hello World!\" #it returns the str inside the function so in order to print that we will have to catch the value in a print function \n",
    "x= hello_func()\n",
    "print(x)\n",
    "print(x)\n",
    "print(x)\n",
    "print(x)\n",
    "print(x)\n",
    "#it does not matter if it has 100 different line or not \n",
    "#KEEPING YOUR CODE DRY-DO NOT REPEAT YOURSELF"
   ]
  },
  {
   "cell_type": "code",
   "execution_count": 21,
   "id": "1af8aea0-2ce5-4a57-a970-ad6b458a0983",
   "metadata": {},
   "outputs": [
    {
     "name": "stdout",
     "output_type": "stream",
     "text": [
      "12\n",
      "HELLO WORLD!\n",
      "hello world!\n",
      "Hello World!\n",
      "Hello world!\n",
      "True\n"
     ]
    }
   ],
   "source": [
    "#Using string method inside the function\n",
    "def hello_func():\n",
    "    return \"Hello World!\" #it returns the str inside the function so in order to print that we will have to catch the value in a print function \n",
    "x= hello_func()\n",
    "\n",
    "print(len(x)) #length of the string\n",
    "print(x.upper())\n",
    "print(x.lower())\n",
    "print(x.title())\n",
    "print(x.capitalize())\n",
    "print(\"W\" in x) #membership\n",
    "#we can use all the string method inside the function"
   ]
  },
  {
   "cell_type": "code",
   "execution_count": 23,
   "id": "d7f9017d-c70b-4f1d-bbde-91b92934f908",
   "metadata": {},
   "outputs": [
    {
     "name": "stdout",
     "output_type": "stream",
     "text": [
      "Hello Functions\n"
     ]
    }
   ],
   "source": [
    "#parameter in function\n",
    "def hello_func(greeting):\n",
    "    return \"{} Functions\".format(greeting)\n",
    "print(hello_func(\"Hello\"))"
   ]
  },
  {
   "cell_type": "code",
   "execution_count": 24,
   "id": "3525b46b-0edc-4b90-8de5-dd65700da9ea",
   "metadata": {},
   "outputs": [
    {
     "name": "stdout",
     "output_type": "stream",
     "text": [
      "Hello Functions\n"
     ]
    }
   ],
   "source": [
    "#parameter in function with f string\n",
    "def hello_func(greeting):\n",
    "    return f\"{greeting} Functions\"\n",
    "print(hello_func(\"Hello\")) #greeting a required parameter"
   ]
  },
  {
   "cell_type": "code",
   "execution_count": 25,
   "id": "7021ae92-cb4e-4217-8867-45d5353fae70",
   "metadata": {},
   "outputs": [
    {
     "name": "stdout",
     "output_type": "stream",
     "text": [
      "Hello Sium, Welcome to our house\n"
     ]
    }
   ],
   "source": [
    "def greeting(name, greetings):\n",
    "    print(f\"Hello {name}, {greetings} to our house\")\n",
    "greeting(\"rhs\", \"Welcome\")"
   ]
  },
  {
   "cell_type": "code",
   "execution_count": 27,
   "id": "13159d79-7570-4134-8c63-a5b3016e963b",
   "metadata": {},
   "outputs": [
    {
     "name": "stdout",
     "output_type": "stream",
     "text": [
      "Hello rhs, Welcome to our house\n"
     ]
    }
   ],
   "source": [
    "#default parameter\n",
    "def greeting(greetings,name='rhs'):\n",
    "    print(f\"Hello {name}, {greetings} to our house\")\n",
    "greeting(\"Welcome\")\n",
    "#required parameter must come before the default parameter"
   ]
  },
  {
   "cell_type": "code",
   "execution_count": 28,
   "id": "89898536-cca6-41f7-bb30-78183600ff1b",
   "metadata": {},
   "outputs": [
    {
     "name": "stdout",
     "output_type": "stream",
     "text": [
      "('Math', 'art')\n",
      "{'name': 'John', 'age': 16}\n"
     ]
    }
   ],
   "source": [
    "# arbitary number \n",
    "def student(*args, **kwargs):\n",
    "    print(args) #tuple \n",
    "    print(kwargs) #dict\n",
    "student(\"Math\", \"art\", name = 'John', age= 16)\n",
    "    "
   ]
  },
  {
   "cell_type": "code",
   "execution_count": 29,
   "id": "cd648a41-f3db-442d-bd55-ddb10a7aa0bf",
   "metadata": {},
   "outputs": [
    {
     "name": "stdout",
     "output_type": "stream",
     "text": [
      "(['Math', 'art'], {'name': 'John', 'age': 16})\n",
      "{}\n"
     ]
    }
   ],
   "source": [
    "#positional argument\n",
    "courses= ['Math','art']\n",
    "info = {'name': 'John', 'age': 16}\n",
    "def student(*args, **kwargs):\n",
    "    print(args) #tuple \n",
    "    print(kwargs) #dict\n",
    "student(courses, info)\n"
   ]
  },
  {
   "cell_type": "code",
   "execution_count": 30,
   "id": "0fbc3536-3306-41e1-a919-e5dbaa821bc3",
   "metadata": {},
   "outputs": [
    {
     "name": "stdout",
     "output_type": "stream",
     "text": [
      "('Math', 'art')\n",
      "{'name': 'John', 'age': 16}\n"
     ]
    }
   ],
   "source": [
    "courses= ['Math','art']\n",
    "info = {'name': 'John', 'age': 16}\n",
    "def student(*args, **kwargs):\n",
    "    print(args) #tuple \n",
    "    print(kwargs) #dict\n",
    "student(*courses, **info)"
   ]
  },
  {
   "cell_type": "code",
   "execution_count": 38,
   "id": "e7055571-34ad-489c-8b2e-e4a70db88f01",
   "metadata": {},
   "outputs": [
    {
     "data": {
      "text/plain": [
       "28"
      ]
     },
     "execution_count": 38,
     "metadata": {},
     "output_type": "execute_result"
    }
   ],
   "source": [
    "#leap year problem\n",
    "month_days = [0,31,28,31,30,31,30,31,30,31,30,31]\n",
    "def leap_year(year):\n",
    "    return (year%4 ==0 and year%100 !=0) or year%400 ==0\n",
    "    #return true for leap year and false for non leap year\n",
    "\n",
    "def days_in_month(year, month):\n",
    "    if not 1 <= month <= 12:\n",
    "        return \" Invalid month\"\n",
    "    if month == 2 and leap_year(year):\n",
    "        return 29\n",
    "        \n",
    "    return month_days[month] #month as index\n",
    "leap_year(1990)\n",
    "days_in_month(1999, 2)\n"
   ]
  },
  {
   "cell_type": "code",
   "execution_count": null,
   "id": "1c615c24-c798-4068-ad4f-e2521630a0dd",
   "metadata": {},
   "outputs": [],
   "source": []
  }
 ],
 "metadata": {
  "kernelspec": {
   "display_name": "Python 3 (ipykernel)",
   "language": "python",
   "name": "python3"
  },
  "language_info": {
   "codemirror_mode": {
    "name": "ipython",
    "version": 3
   },
   "file_extension": ".py",
   "mimetype": "text/x-python",
   "name": "python",
   "nbconvert_exporter": "python",
   "pygments_lexer": "ipython3",
   "version": "3.12.10"
  },
  "widgets": {
   "application/vnd.jupyter.widget-state+json": {
    "state": {},
    "version_major": 2,
    "version_minor": 0
   }
  }
 },
 "nbformat": 4,
 "nbformat_minor": 5
}
