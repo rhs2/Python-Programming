{
 "cells": [
  {
   "cell_type": "markdown",
   "id": "d0c4f0d4-9b49-4faf-9c50-010a22f2af11",
   "metadata": {},
   "source": [
    "## Sort list"
   ]
  },
  {
   "cell_type": "code",
   "execution_count": 3,
   "id": "4113882c-68e0-4eb4-b12c-34f6c834dba5",
   "metadata": {},
   "outputs": [
    {
     "name": "stdout",
     "output_type": "stream",
     "text": [
      "[3, 4, 5, 6, 23, 72, 76]\n"
     ]
    }
   ],
   "source": [
    "#geenral sorting method is by sort() function and it will alter the list and sort the value as decending orders\n",
    "list1 = [3,5,72,4,6,23,76]\n",
    "list1.sort()\n",
    "print(list1)"
   ]
  },
  {
   "cell_type": "code",
   "execution_count": 4,
   "id": "510fbb3c-b661-45f0-a8de-ff8a2714e2dd",
   "metadata": {},
   "outputs": [
    {
     "name": "stdout",
     "output_type": "stream",
     "text": [
      "[3, 4, 5, 6, 23, 72, 76]\n"
     ]
    }
   ],
   "source": [
    "#Sorting a list with sorted (), this sorted function will not alter the original list\n",
    "list1 = [3,5,72,4,6,23,76]\n",
    "list2 = sorted(list1)\n",
    "print(list2)"
   ]
  },
  {
   "cell_type": "code",
   "execution_count": 5,
   "id": "e9eee158-1c5e-45e3-b973-fd040114fbe8",
   "metadata": {},
   "outputs": [
    {
     "name": "stdout",
     "output_type": "stream",
     "text": [
      "[3, 5, 72, 4, 6, 23, 76]\n"
     ]
    }
   ],
   "source": [
    "print(list1)"
   ]
  },
  {
   "cell_type": "code",
   "execution_count": 6,
   "id": "074b10c4-ea71-430d-826e-c8161ef394e2",
   "metadata": {},
   "outputs": [
    {
     "name": "stdout",
     "output_type": "stream",
     "text": [
      "Help on built-in function sorted in module builtins:\n",
      "\n",
      "sorted(iterable, /, *, key=None, reverse=False)\n",
      "    Return a new list containing all items from the iterable in ascending order.\n",
      "\n",
      "    A custom key function can be supplied to customize the sort order, and the\n",
      "    reverse flag can be set to request the result in descending order.\n",
      "\n"
     ]
    }
   ],
   "source": [
    "help(sorted) #taking help on sorted function"
   ]
  },
  {
   "cell_type": "code",
   "execution_count": 7,
   "id": "c215f39b-7a63-4e6c-ad0a-8a0d12d61b77",
   "metadata": {},
   "outputs": [
    {
     "data": {
      "text/plain": [
       "[76, 72, 23, 6, 5, 4, 3]"
      ]
     },
     "execution_count": 7,
     "metadata": {},
     "output_type": "execute_result"
    }
   ],
   "source": [
    "#sort the list in reverse with sorted functions, and it will return the list decending order\n",
    "sorted(list1, reverse = True)"
   ]
  },
  {
   "cell_type": "code",
   "execution_count": 8,
   "id": "7283a9ad-7aa2-421e-abc5-0bbf112d651d",
   "metadata": {},
   "outputs": [],
   "source": [
    "#and the same parameter as reverse=True will work on sort() method"
   ]
  },
  {
   "cell_type": "code",
   "execution_count": 9,
   "id": "ed247a66-2d05-4bac-a0ec-d83da1967e3d",
   "metadata": {},
   "outputs": [],
   "source": [
    "#sorted function gives more flexibility\n",
    "#sort method only works for list but sorted function is for all the iterable whether it is list or tuple or dict"
   ]
  },
  {
   "cell_type": "markdown",
   "id": "a2ec3109-7b72-4009-86fc-767f1589671f",
   "metadata": {},
   "source": [
    "# working with tuple"
   ]
  },
  {
   "cell_type": "code",
   "execution_count": 10,
   "id": "82819c25-a64c-4651-bab4-767d04287989",
   "metadata": {},
   "outputs": [
    {
     "data": {
      "text/plain": [
       "[2, 3, 23, 45, 54, 56, 73]"
      ]
     },
     "execution_count": 10,
     "metadata": {},
     "output_type": "execute_result"
    }
   ],
   "source": [
    "#tuple does not have sort method so we can use sorted funtion on tuple\n",
    "tuple1 = (2,54,23,3,56,73,45)\n",
    "#tuple1.sort() #will not work\n",
    "sorted(tuple1) #as we see sorted function works on tuple"
   ]
  },
  {
   "cell_type": "code",
   "execution_count": 11,
   "id": "e0204ac5-01eb-4511-8d7d-be68575f1e0f",
   "metadata": {},
   "outputs": [
    {
     "data": {
      "text/plain": [
       "[73, 56, 54, 45, 23, 3, 2]"
      ]
     },
     "execution_count": 11,
     "metadata": {},
     "output_type": "execute_result"
    }
   ],
   "source": [
    "sorted(tuple1, reverse= True)"
   ]
  },
  {
   "cell_type": "markdown",
   "id": "eeda9194-c95a-4e80-9763-bbb04746aeb3",
   "metadata": {},
   "source": [
    "# working with dict on sorted function"
   ]
  },
  {
   "cell_type": "code",
   "execution_count": 12,
   "id": "b30d0e2f-6788-43b0-8cc7-999a0e5128df",
   "metadata": {},
   "outputs": [
    {
     "data": {
      "text/plain": [
       "['age', 'job', 'name', 'os']"
      ]
     },
     "execution_count": 12,
     "metadata": {},
     "output_type": "execute_result"
    }
   ],
   "source": [
    "# dict does not have sort method but it sorted function works on dict\n",
    "dict = {'name':'rhs', \"job\": \"programming\", 'age':\"None\", 'os': 'Mac'}\n",
    "#dict.sort() will not work\n",
    "sorted(dict) #it will give me the key value list sorted by accending letter "
   ]
  },
  {
   "cell_type": "code",
   "execution_count": 13,
   "id": "661b3878-782f-44b3-a329-cada01152755",
   "metadata": {},
   "outputs": [
    {
     "data": {
      "text/plain": [
       "['os', 'name', 'job', 'age']"
      ]
     },
     "execution_count": 13,
     "metadata": {},
     "output_type": "execute_result"
    }
   ],
   "source": [
    "sorted(dict, reverse=True) #decending order of key of letters"
   ]
  },
  {
   "cell_type": "code",
   "execution_count": 14,
   "id": "e2585018-6296-4162-9bb3-3fb6130b390e",
   "metadata": {},
   "outputs": [
    {
     "name": "stdout",
     "output_type": "stream",
     "text": [
      "[-6, -5, -4, 1, 2, 3]\n"
     ]
    }
   ],
   "source": [
    "#using sorted function but sort the list or tuple or dict with a different criteria\n",
    "list1 = [-6,-5,-4,1,2,3]\n",
    "print(list1)"
   ]
  },
  {
   "cell_type": "code",
   "execution_count": 15,
   "id": "499a3495-0a00-48e4-86f2-bbc05df19802",
   "metadata": {},
   "outputs": [
    {
     "data": {
      "text/plain": [
       "[-6, -5, -4, 1, 2, 3]"
      ]
     },
     "execution_count": 15,
     "metadata": {},
     "output_type": "execute_result"
    }
   ],
   "source": [
    "sorted(list1)"
   ]
  },
  {
   "cell_type": "code",
   "execution_count": 16,
   "id": "1d7690dd-ea61-42d9-add2-a21d5e1dc84e",
   "metadata": {},
   "outputs": [
    {
     "name": "stdout",
     "output_type": "stream",
     "text": [
      "[1, 2, 3, -4, -5, -6]\n"
     ]
    }
   ],
   "source": [
    "#sort the list1 based on their abs value\n",
    "print(sorted(list1, key =abs)) #as we see it is sorted as their abs value"
   ]
  },
  {
   "cell_type": "code",
   "execution_count": 17,
   "id": "e15f27a6-dd06-4fa2-b5f9-0d6b4e86d5e7",
   "metadata": {},
   "outputs": [
    {
     "data": {
      "text/plain": [
       "[-6, -5, -4, 3, 2, 1]"
      ]
     },
     "execution_count": 17,
     "metadata": {},
     "output_type": "execute_result"
    }
   ],
   "source": [
    "#sort list1 on decending abs value\n",
    "sorted(list1, key = abs, reverse = True)"
   ]
  },
  {
   "cell_type": "markdown",
   "id": "0c2d1119-3ec1-4e94-8b13-d155aa824957",
   "metadata": {},
   "source": [
    "# sorting object with name attribute\n"
   ]
  },
  {
   "cell_type": "code",
   "execution_count": 21,
   "id": "ae640a9f-bc51-4bbf-a526-75a20019abc1",
   "metadata": {},
   "outputs": [
    {
     "data": {
      "text/plain": [
       "[rhs,35, 74000, rhs2,32, 47000, sio,27, 85000]"
      ]
     },
     "execution_count": 21,
     "metadata": {},
     "output_type": "execute_result"
    }
   ],
   "source": [
    "#sort the object with emp name\n",
    "class emp():\n",
    "    def __init__(self,name, age, salary):\n",
    "        self.name = name\n",
    "        self.age = age\n",
    "        self.salary = salary\n",
    "    def __repr__(self):\n",
    "        return f\"({self.name},{self.age}, {self.salary})\"\n",
    "e1= emp('rhs', 35, 74000)\n",
    "e2 = emp('rhs2', 32, 47000)\n",
    "e3 = emp('sio',27, 85000)\n",
    "\n",
    "emps= [e1,e2,e3]\n",
    "def e_sort(emp):\n",
    "    return emp.name\n",
    "sorted(emps, key = e_sort)"
   ]
  },
  {
   "cell_type": "code",
   "execution_count": 25,
   "id": "e9ee5147-ac22-43ad-83c7-1b8fde51b622",
   "metadata": {},
   "outputs": [
    {
     "name": "stdout",
     "output_type": "stream",
     "text": [
      "[(rhs2,32, 47000), (rhs,35, 74000), (sio,27, 85000)]\n"
     ]
    }
   ],
   "source": [
    "#sort the object with emp salary\n",
    "class emp():\n",
    "    def __init__(self,name, age, salary):\n",
    "        self.name = name\n",
    "        self.age = age\n",
    "        self.salary = salary\n",
    "    def __repr__(self):\n",
    "        return f\"({self.name},{self.age}, {self.salary})\"\n",
    "e1= emp('rhs', 35, 74000)\n",
    "e2 = emp('rhs2', 32, 47000)\n",
    "e3 = emp('sio',27, 85000)\n",
    "\n",
    "emps= [e1,e2,e3]\n",
    "def e_sort(emp):\n",
    "    return emp.salary\n",
    "emps2 = sorted(emps, key = e_sort)\n",
    "print(emps2)"
   ]
  },
  {
   "cell_type": "code",
   "execution_count": 26,
   "id": "b9e87b97-a500-4d3d-bd11-2be042861273",
   "metadata": {},
   "outputs": [
    {
     "name": "stdout",
     "output_type": "stream",
     "text": [
      "[(sio,27, 85000), (rhs,35, 74000), (rhs2,32, 47000)]\n"
     ]
    }
   ],
   "source": [
    "#sort the object with catagory of the highest salary\n",
    "#sort the object with emp salary\n",
    "class emp():\n",
    "    def __init__(self,name, age, salary):\n",
    "        self.name = name\n",
    "        self.age = age\n",
    "        self.salary = salary\n",
    "    def __repr__(self):\n",
    "        return f\"({self.name},{self.age}, {self.salary})\"\n",
    "e1= emp('rhs', 35, 74000)\n",
    "e2 = emp('rhs2', 32, 47000)\n",
    "e3 = emp('sio',27, 85000)\n",
    "\n",
    "emps= [e1,e2,e3]\n",
    "def e_sort(emp):\n",
    "    return emp.salary\n",
    "emps2 = sorted(emps, key = e_sort, reverse = True)\n",
    "print(emps2)"
   ]
  },
  {
   "cell_type": "code",
   "execution_count": 27,
   "id": "0e3932bb-6806-43ab-97d4-0c6829347629",
   "metadata": {},
   "outputs": [
    {
     "name": "stdout",
     "output_type": "stream",
     "text": [
      "[(rhs,35, 74000), (rhs2,32, 47000), (sio,27, 85000)]\n"
     ]
    }
   ],
   "source": [
    "#we can also pass key argument as lambda function\n",
    "#sort the object with emp salary\n",
    "class emp():\n",
    "    def __init__(self,name, age, salary):\n",
    "        self.name = name\n",
    "        self.age = age\n",
    "        self.salary = salary\n",
    "    def __repr__(self):\n",
    "        return f\"({self.name},{self.age}, {self.salary})\"\n",
    "e1= emp('rhs', 35, 74000)\n",
    "e2 = emp('rhs2', 32, 47000)\n",
    "e3 = emp('sio',27, 85000)\n",
    "\n",
    "emps= [e1,e2,e3]\n",
    "\n",
    "emps2 = sorted(emps, key = lambda e: e.name) #we can skip the extra function by using lambda function\n",
    "print(emps2)"
   ]
  },
  {
   "cell_type": "code",
   "execution_count": 28,
   "id": "04db5f5c-074f-43ca-9555-019ce986344a",
   "metadata": {},
   "outputs": [
    {
     "name": "stdout",
     "output_type": "stream",
     "text": [
      "[(rhs2,32, 47000), (rhs,35, 74000), (sio,27, 85000)]\n"
     ]
    }
   ],
   "source": [
    "#we can also pass key argument as lambda function\n",
    "#sort the object with emp salary\n",
    "class emp():\n",
    "    def __init__(self,name, age, salary):\n",
    "        self.name = name\n",
    "        self.age = age\n",
    "        self.salary = salary\n",
    "    def __repr__(self):\n",
    "        return f\"({self.name},{self.age}, {self.salary})\"\n",
    "e1= emp('rhs', 35, 74000)\n",
    "e2 = emp('rhs2', 32, 47000)\n",
    "e3 = emp('sio',27, 85000)\n",
    "\n",
    "emps= [e1,e2,e3]\n",
    "\n",
    "emps2 = sorted(emps, key = lambda e: e.salary) #we can skip the extra function by using lambda function\n",
    "print(emps2)"
   ]
  },
  {
   "cell_type": "code",
   "execution_count": 30,
   "id": "922760cd-7e19-47a9-8adb-0604305dae7f",
   "metadata": {},
   "outputs": [
    {
     "name": "stdout",
     "output_type": "stream",
     "text": [
      "[(sio,27, 85000), (rhs2,32, 47000), (rhs,35, 74000)]\n"
     ]
    }
   ],
   "source": [
    "#we can also use the attrgetter for passing the key argument\n",
    "#sort this as \"age\"\n",
    "\n",
    "from operator import attrgetter\n",
    "class emp():\n",
    "    def __init__(self,name, age, salary):\n",
    "        self.name = name\n",
    "        self.age = age\n",
    "        self.salary = salary\n",
    "    def __repr__(self):\n",
    "        return f\"({self.name},{self.age}, {self.salary})\"\n",
    "e1= emp('rhs', 35, 74000)\n",
    "e2 = emp('rhs2', 32, 47000)\n",
    "e3 = emp('sio',27, 85000)\n",
    "\n",
    "emps= [e1,e2,e3]\n",
    "\n",
    "emps2 = sorted(emps, key = attrgetter('age')) #we can use attrgetter instead of using lambda or any customs functions\n",
    "\n",
    "print(emps2)"
   ]
  },
  {
   "cell_type": "code",
   "execution_count": null,
   "id": "eb54e99b-7d20-41da-b84b-b6830321edbe",
   "metadata": {},
   "outputs": [],
   "source": []
  }
 ],
 "metadata": {
  "kernelspec": {
   "display_name": "Python 3 (ipykernel)",
   "language": "python",
   "name": "python3"
  },
  "language_info": {
   "codemirror_mode": {
    "name": "ipython",
    "version": 3
   },
   "file_extension": ".py",
   "mimetype": "text/x-python",
   "name": "python",
   "nbconvert_exporter": "python",
   "pygments_lexer": "ipython3",
   "version": "3.12.10"
  },
  "widgets": {
   "application/vnd.jupyter.widget-state+json": {
    "state": {},
    "version_major": 2,
    "version_minor": 0
   }
  }
 },
 "nbformat": 4,
 "nbformat_minor": 5
}
