{
 "cells": [
  {
   "cell_type": "markdown",
   "id": "6ef811d7-9eab-46c9-8d10-7a8c7ea31275",
   "metadata": {},
   "source": [
    "\n",
    "## DEBUG: \n",
    "- Detailed information, typically of interest only when diagnosing problems.\n",
    "\n",
    "## INFO: \n",
    "- Confirmation that things are working as expected.\n",
    "\n",
    "## WARNING:\n",
    "- An indication that something unexpected happened, or indicative of some problem in the near future (e.g. ‘disk space low’). The software is still working as expected.\n",
    "\n",
    "## ERROR: \n",
    "- Due to a more serious problem, the software has not been able to perform some function.\n",
    "\n",
    "## CRITICAL: \n",
    "- A serious error, indicating that the program itself may be unable to continue running."
   ]
  },
  {
   "cell_type": "code",
   "execution_count": 8,
   "id": "cb80ede2-5e49-4c82-add1-2a0804e646c6",
   "metadata": {},
   "outputs": [
    {
     "name": "stdout",
     "output_type": "stream",
     "text": [
      "add: 10 + 5: 15\n",
      "subtract: 10 - 5: 5\n",
      "multiply: 10 * 5: 50\n",
      "divide: 10 / 5: 2.0\n"
     ]
    }
   ],
   "source": [
    "#normal function to work with\n",
    "def add(x,y): #adding func\n",
    "    return x+y\n",
    "\n",
    "def subtract(x,y): #subtract func\n",
    "    return x-y\n",
    "def multiply(x,y): #multiply func\n",
    "    return x*y\n",
    "def division(x,y): #division func\n",
    "    return x/y\n",
    "num1 = 10\n",
    "num2 = 5\n",
    "add_result = add(num1,num2)\n",
    "print(f\"add: {num1} + {num2}: {add_result}\")\n",
    "\n",
    "sub_result = subtract(num1,num2)\n",
    "print(f\"subtract: {num1} - {num2}: {sub_result}\")\n",
    "\n",
    "mul_result = multiply(num1,num2)\n",
    "print(f\"multiply: {num1} * {num2}: {mul_result}\")\n",
    "\n",
    "div_result = division(num1,num2)\n",
    "print(f\"divide: {num1} / {num2}: {div_result}\")\n"
   ]
  },
  {
   "cell_type": "code",
   "execution_count": 2,
   "id": "c7f97841-46e7-4004-a31e-58c7326350fd",
   "metadata": {},
   "outputs": [
    {
     "data": {
      "text/plain": [
       "'logging documentation: https://docs.python.org/3/library/logging.html#logrecord-attributes '"
      ]
     },
     "execution_count": 2,
     "metadata": {},
     "output_type": "execute_result"
    }
   ],
   "source": [
    "'''logging documentation: https://docs.python.org/3/library/logging.html#logrecord-attributes '''"
   ]
  },
  {
   "cell_type": "code",
   "execution_count": 3,
   "id": "b13229bc-5fc0-4a98-830c-66911997caec",
   "metadata": {},
   "outputs": [],
   "source": [
    "# #there are 5 standard login levels\n",
    "# DEBUG-10: Detailed information, typically of interest only when diagnosing problems\n",
    "# INFO-20: Confirmation that things are working as expected.\n",
    "# WARNING-30: An indication that something unexpected happened, or indicative of some problem in the near future (e.g. ‘disk space low’). The software is still working as expected.\n",
    "# ERROR-40: Due to a more serious problem, the software has not been able to perform some function.\n",
    "# CRITICAL-50: A serious error, indicating that the program itself may be unable to continue running."
   ]
  },
  {
   "cell_type": "code",
   "execution_count": 4,
   "id": "be9a4464-c722-4f76-9059-3e9df9f2d7b9",
   "metadata": {},
   "outputs": [],
   "source": [
    "#Default level of logging is set to WARNING\n",
    "#IT WILL IGNORE DEBUG AND INFO"
   ]
  },
  {
   "cell_type": "code",
   "execution_count": 9,
   "id": "f32b1575-5e2f-4544-a316-471652afe36e",
   "metadata": {},
   "outputs": [],
   "source": [
    "#using debug for the logging info \n",
    "import logging\n",
    "#normal function to work with\n",
    "def add(x,y): #adding func\n",
    "    return x+y\n",
    "\n",
    "def subtract(x,y): #subtract func\n",
    "    return x-y\n",
    "def multiply(x,y): #multiply func\n",
    "    return x*y\n",
    "def division(x,y): #division func\n",
    "    return x/y\n",
    "num1 = 10\n",
    "num2 = 5\n",
    "add_result = add(num1,num2)\n",
    "logging.debug(f\"add: {num1} + {num2}: {add_result}\")\n",
    "\n",
    "sub_result = subtract(num1,num2)\n",
    "logging.debug(f\"subtract: {num1} - {num2}: {sub_result}\")\n",
    "\n",
    "mul_result = multiply(num1,num2)\n",
    "logging.debug(f\"multiply: {num1} * {num2}: {mul_result}\")\n",
    "\n",
    "div_result = division(num1,num2)\n",
    "logging.debug(f\"divide: {num1} / {num2}: {div_result}\")\n"
   ]
  },
  {
   "cell_type": "code",
   "execution_count": 10,
   "id": "742e78a4-67d8-4905-91ef-df9987110d93",
   "metadata": {},
   "outputs": [],
   "source": [
    "#using WARNING\n",
    "import logging\n",
    "#normal function to work with\n",
    "def add(x,y): #adding func\n",
    "    return x+y\n",
    "\n",
    "def subtract(x,y): #subtract func\n",
    "    return x-y\n",
    "def multiply(x,y): #multiply func\n",
    "    return x*y\n",
    "def division(x,y): #division func\n",
    "    return x/y\n",
    "num1 = 10\n",
    "num2 = 5\n",
    "add_result = add(num1,num2)\n",
    "logging.warning(f\"add: {num1} + {num2}: {add_result}\")\n",
    "\n",
    "sub_result = subtract(num1,num2)\n",
    "logging.warning(f\"subtract: {num1} - {num2}: {sub_result}\")\n",
    "\n",
    "mul_result = multiply(num1,num2)\n",
    "logging.warning(f\"multiply: {num1} * {num2}: {mul_result}\")\n",
    "\n",
    "div_result = division(num1,num2)\n",
    "logging.warning(f\"divide: {num1} / {num2}: {div_result}\")\n"
   ]
  },
  {
   "cell_type": "code",
   "execution_count": 11,
   "id": "9bce8b5d-e749-438c-91de-2c5ac93cff25",
   "metadata": {},
   "outputs": [],
   "source": [
    "#using DEBUG\n",
    "import logging\n",
    "#normal function to work with\n",
    "logging.basicConfig(level = logging.DEBUG)\n",
    "def add(x,y): #adding func\n",
    "    return x+y\n",
    "\n",
    "def subtract(x,y): #subtract func\n",
    "    return x-y\n",
    "def multiply(x,y): #multiply func\n",
    "    return x*y\n",
    "def division(x,y): #division func\n",
    "    return x/y\n",
    "num1 = 10\n",
    "num2 = 5\n",
    "add_result = add(num1,num2)\n",
    "logging.debug(f\"add: {num1} + {num2}: {add_result}\")\n",
    "\n",
    "sub_result = subtract(num1,num2)\n",
    "logging.debug(f\"subtract: {num1} - {num2}: {sub_result}\")\n",
    "\n",
    "mul_result = multiply(num1,num2)\n",
    "logging.debug(f\"multiply: {num1} * {num2}: {mul_result}\")\n",
    "\n",
    "div_result = division(num1,num2)\n",
    "logging.debug(f\"divide: {num1} / {num2}: {div_result}\")\n"
   ]
  },
  {
   "cell_type": "code",
   "execution_count": 12,
   "id": "be747ee6-6664-4ef6-b93c-eb1efeaba9f0",
   "metadata": {},
   "outputs": [],
   "source": [
    "#using DEBUG\n",
    "import logging\n",
    "logging.basicConfig(filename ='test1.log',level =logging.WARNING, format = '%(asctime)s:%(levelname)s:%(message)s')\n",
    "\n",
    "def add(x,y): #adding func\n",
    "    return x+y\n",
    "\n",
    "def subtract(x,y): #subtract func\n",
    "    return x-y\n",
    "def multiply(x,y): #multiply func\n",
    "    return x*y\n",
    "def division(x,y): #division func\n",
    "    return x/y\n",
    "    \n",
    "num1 = 10\n",
    "num2 = 7\n",
    "\n",
    "add_result = add(num1,num2)\n",
    "logging.warning(f\"add: {num1} + {num2}: {add_result}\")\n",
    "\n",
    "sub_result = subtract(num1,num2)\n",
    "logging.warning(f\"subtract: {num1} - {num2}: {sub_result}\")\n",
    "\n",
    "mul_result = multiply(num1,num2)\n",
    "logging.warning(f\"multiply: {num1} * {num2}: {mul_result}\")\n",
    "\n",
    "div_result = division(num1,num2)\n",
    "logging.warning(f\"divide: {num1} / {num2}: {div_result}\")\n"
   ]
  },
  {
   "cell_type": "code",
   "execution_count": 1,
   "id": "e5b7554f-6726-4b7e-ae4f-0ea2d71770ea",
   "metadata": {},
   "outputs": [],
   "source": [
    "\n",
    "import logging\n",
    "\n",
    "logging.basicConfig(filename='employee.log', level=logging.INFO,\n",
    "                    format='%(levelname)s:%(message)s')\n",
    "\n",
    "\n",
    "class Employee:\n",
    "    \"\"\"A sample Employee class\"\"\"\n",
    "\n",
    "    def __init__(self, first, last):\n",
    "        self.first = first\n",
    "        self.last = last\n",
    "\n",
    "        logging.info('Created Employee: {} - {}'.format(self.fullname, self.email))\n",
    "\n",
    "    @property\n",
    "    def email(self):\n",
    "        return '{}.{}@email.com'.format(self.first, self.last)\n",
    "\n",
    "    @property\n",
    "    def fullname(self):\n",
    "        return '{} {}'.format(self.first, self.last)\n",
    "\n",
    "\n",
    "emp_1 = Employee('John', 'Smith')\n",
    "emp_2 = Employee('rhs', '2')\n",
    "emp_3 = Employee('Jane', 'Doe')"
   ]
  },
  {
   "cell_type": "code",
   "execution_count": null,
   "id": "6b1c8460-8457-4519-a797-0c2fe44adda0",
   "metadata": {},
   "outputs": [],
   "source": []
  }
 ],
 "metadata": {
  "kernelspec": {
   "display_name": "Python 3 (ipykernel)",
   "language": "python",
   "name": "python3"
  },
  "language_info": {
   "codemirror_mode": {
    "name": "ipython",
    "version": 3
   },
   "file_extension": ".py",
   "mimetype": "text/x-python",
   "name": "python",
   "nbconvert_exporter": "python",
   "pygments_lexer": "ipython3",
   "version": "3.12.10"
  },
  "widgets": {
   "application/vnd.jupyter.widget-state+json": {
    "state": {},
    "version_major": 2,
    "version_minor": 0
   }
  }
 },
 "nbformat": 4,
 "nbformat_minor": 5
}
