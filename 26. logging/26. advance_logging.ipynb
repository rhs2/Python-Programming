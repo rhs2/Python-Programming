{
 "cells": [
  {
   "cell_type": "code",
   "execution_count": 1,
   "id": "d1669e2d-a4ea-4740-b6ee-24d46bf2186b",
   "metadata": {},
   "outputs": [],
   "source": [
    "#using root logging is not the best idea we always should work on loggers"
   ]
  },
  {
   "cell_type": "code",
   "execution_count": 1,
   "id": "70b77188-a6d2-4f4c-8dc7-e016ebea4ca2",
   "metadata": {},
   "outputs": [],
   "source": [
    "#using DEBUG\n",
    "#it runs the employee.log file but test1.log file is not there\n",
    "#root logger is already set to employee\n",
    "import logging\n",
    "import employee\n",
    "logging.basicConfig(filename ='test1.log',level =logging.INFO, format = '%(asctime)s:%(levelname)s:%(message)s')\n",
    "\n",
    "def add(x,y): #adding func\n",
    "    return x+y\n",
    "\n",
    "def subtract(x,y): #subtract func\n",
    "    return x-y\n",
    "def multiply(x,y): #multiply func\n",
    "    return x*y\n",
    "def division(x,y): #division func\n",
    "    return x/y\n",
    "    \n",
    "num1 = 10\n",
    "num2 = 7\n",
    "\n",
    "add_result = add(num1,num2)\n",
    "logging.info(f\"add: {num1} + {num2}: {add_result}\")\n",
    "\n",
    "sub_result = subtract(num1,num2)\n",
    "logging.info(f\"subtract: {num1} - {num2}: {sub_result}\")\n",
    "\n",
    "mul_result = multiply(num1,num2)\n",
    "logging.info(f\"multiply: {num1} * {num2}: {mul_result}\")\n",
    "\n",
    "div_result = division(num1,num2)\n",
    "logging.info(f\"divide: {num1} / {num2}: {div_result}\")\n"
   ]
  },
  {
   "cell_type": "code",
   "execution_count": null,
   "id": "f5d8659a-6010-4403-a606-5e3456061e08",
   "metadata": {},
   "outputs": [],
   "source": []
  },
  {
   "cell_type": "code",
   "execution_count": null,
   "id": "9b6bcce2",
   "metadata": {},
   "outputs": [],
   "source": []
  }
 ],
 "metadata": {
  "kernelspec": {
   "display_name": "Python 3 (ipykernel)",
   "language": "python",
   "name": "python3"
  },
  "language_info": {
   "codemirror_mode": {
    "name": "ipython",
    "version": 3
   },
   "file_extension": ".py",
   "mimetype": "text/x-python",
   "name": "python",
   "nbconvert_exporter": "python",
   "pygments_lexer": "ipython3",
   "version": "3.12.10"
  },
  "widgets": {
   "application/vnd.jupyter.widget-state+json": {
    "state": {},
    "version_major": 2,
    "version_minor": 0
   }
  }
 },
 "nbformat": 4,
 "nbformat_minor": 5
}
