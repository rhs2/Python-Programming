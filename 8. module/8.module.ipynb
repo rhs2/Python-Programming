{
 "cells": [
  {
   "cell_type": "markdown",
   "id": "703b4d20-b105-42d3-8e43-ef1db2a225fc",
   "metadata": {},
   "source": [
    "## Importing modules and exploring standard library"
   ]
  },
  {
   "cell_type": "code",
   "execution_count": 20,
   "id": "c4258bc8-6bce-4bc5-9712-df7360df7e0b",
   "metadata": {},
   "outputs": [
    {
     "name": "stdout",
     "output_type": "stream",
     "text": [
      "1\n"
     ]
    }
   ],
   "source": [
    "#for importing a module from a same folder\n",
    "# to call that function from a module we have to call the file_name first then function name\n",
    "import test_m\n",
    "import sys\n",
    "courses = ['math', 'art', 'physics', 'english', 'biology']\n",
    "index = test_m.find_index(courses, 'art') # file_name then function name\n",
    "print(index)"
   ]
  },
  {
   "cell_type": "code",
   "execution_count": 8,
   "id": "fbc0ba7e-62a0-41a2-aa5a-52b86bb7dcfe",
   "metadata": {},
   "outputs": [
    {
     "name": "stdout",
     "output_type": "stream",
     "text": [
      "1\n"
     ]
    }
   ],
   "source": [
    "#to make shorter name for module we can import like\n",
    "import test_m as tm\n",
    "courses = ['math', 'art', 'physics', 'english', 'biology']\n",
    "index = tm.find_index(courses, 'art') # file_name then function name\n",
    "print(index)"
   ]
  },
  {
   "cell_type": "code",
   "execution_count": 11,
   "id": "8c8a1cc3-29ba-4f94-b406-8220633a85d2",
   "metadata": {},
   "outputs": [
    {
     "name": "stdout",
     "output_type": "stream",
     "text": [
      "3\n"
     ]
    }
   ],
   "source": [
    "#instead of typing the module name we can directly call function from a different module\n",
    "from test_m import find_index\n",
    "courses = ['math', 'art', 'physics', 'english', 'biology']\n",
    "index = find_index(courses, 'english') # here just the function name\n",
    "print(index)"
   ]
  },
  {
   "cell_type": "code",
   "execution_count": 12,
   "id": "ec2bf5c5-552c-4004-875a-23ca792ae408",
   "metadata": {},
   "outputs": [
    {
     "name": "stdout",
     "output_type": "stream",
     "text": [
      "3\n",
      "Test String\n"
     ]
    }
   ],
   "source": [
    "##instead of typing the module name we can directly call every variable and function from a different module\n",
    "from test_m import find_index,test\n",
    "courses = ['math', 'art', 'physics', 'english', 'biology']\n",
    "index = find_index(courses, 'english') # here just the function name\n",
    "print(index)\n",
    "print(test)"
   ]
  },
  {
   "cell_type": "code",
   "execution_count": 13,
   "id": "d6f1e9f7-adee-4d61-8b55-f54ec41ddad9",
   "metadata": {},
   "outputs": [],
   "source": [
    "#also we can rename everything we call from a module"
   ]
  },
  {
   "cell_type": "code",
   "execution_count": 15,
   "id": "3528ca61-2d3b-4b4e-a253-cf284fc77e4c",
   "metadata": {},
   "outputs": [
    {
     "name": "stdout",
     "output_type": "stream",
     "text": [
      "3\n",
      "Test String\n"
     ]
    }
   ],
   "source": [
    "#importing everything from a module\n",
    "from test_m import * #start sign astric to import everything\n",
    "courses = ['math', 'art', 'physics', 'english', 'biology']\n",
    "index = find_index(courses, 'english')\n",
    "print(index)\n",
    "print(test)"
   ]
  },
  {
   "cell_type": "code",
   "execution_count": 18,
   "id": "70b92ac1-6ba9-42ae-ba75-a73b36e88bf8",
   "metadata": {},
   "outputs": [
    {
     "name": "stdout",
     "output_type": "stream",
     "text": [
      "3\n",
      "['/opt/homebrew/Caskroom/miniforge/base/lib/python312.zip', '/opt/homebrew/Caskroom/miniforge/base/lib/python3.12', '/opt/homebrew/Caskroom/miniforge/base/lib/python3.12/lib-dynload', '', '/opt/homebrew/Caskroom/miniforge/base/lib/python3.12/site-packages']\n"
     ]
    }
   ],
   "source": [
    "#when we import a module where that module is we can check by sys\n",
    "from test_m import find_index #start sign astric to import everything\n",
    "import sys\n",
    "courses = ['math', 'art', 'physics', 'english', 'biology']\n",
    "index = find_index(courses, 'english')\n",
    "print(index)\n",
    "print(sys.path)"
   ]
  },
  {
   "cell_type": "code",
   "execution_count": 21,
   "id": "e67000c9-356c-4339-83a9-4187a67e358c",
   "metadata": {},
   "outputs": [
    {
     "name": "stdout",
     "output_type": "stream",
     "text": [
      "3\n",
      "['/opt/homebrew/Caskroom/miniforge/base/lib/python312.zip', '/opt/homebrew/Caskroom/miniforge/base/lib/python3.12', '/opt/homebrew/Caskroom/miniforge/base/lib/python3.12/lib-dynload', '', '/opt/homebrew/Caskroom/miniforge/base/lib/python3.12/site-packages']\n"
     ]
    }
   ],
   "source": [
    "#imported a module in a different folder by using sys\n",
    "\n",
    "import sys\n",
    "# sys.path.append(\"URL of the module path\")\n",
    "from test_m import find_index #start sign astric to import everything\n",
    "courses = ['math', 'art', 'physics', 'english', 'biology']\n",
    "index = find_index(courses, 'english')\n",
    "print(index)\n",
    "print(sys.path)"
   ]
  },
  {
   "cell_type": "code",
   "execution_count": 24,
   "id": "b22c02c9-c380-4dd3-befe-0a62463d0c37",
   "metadata": {},
   "outputs": [
    {
     "name": "stdout",
     "output_type": "stream",
     "text": [
      "english\n"
     ]
    }
   ],
   "source": [
    "#standard library\n",
    "#anything that built in library in pytho we can use it directly\n",
    "#grab a random value\n",
    "import random\n",
    "courses = ['math', 'art', 'physics', 'english', 'biology']\n",
    "random_course= random.choice(courses)\n",
    "print(random_course)"
   ]
  },
  {
   "cell_type": "code",
   "execution_count": 25,
   "id": "a8e5fdfa-71b7-4ff5-98a4-b005276cba6b",
   "metadata": {},
   "outputs": [
    {
     "name": "stdout",
     "output_type": "stream",
     "text": [
      "biology\n"
     ]
    }
   ],
   "source": [
    "#standard library\n",
    "#anything that built in library in pytho we can use it directly\n",
    "#grab a random value\n",
    "import random\n",
    "courses = ['math', 'art', 'physics', 'english', 'biology']\n",
    "random_course= random.choice(courses)\n",
    "print(random_course)"
   ]
  },
  {
   "cell_type": "code",
   "execution_count": 28,
   "id": "dab9775b-8ec8-45a1-bf25-812741850dec",
   "metadata": {},
   "outputs": [
    {
     "name": "stdout",
     "output_type": "stream",
     "text": [
      "1.5707963267948966\n",
      "1.0\n"
     ]
    }
   ],
   "source": [
    "#math module\n",
    "import math\n",
    "rads = math.radians(90)\n",
    "print(rads)\n",
    "sin= math.sin(rads)\n",
    "print(sin)"
   ]
  },
  {
   "cell_type": "code",
   "execution_count": 33,
   "id": "879cfb1b-34ae-4b6f-874e-f08926b2de0f",
   "metadata": {},
   "outputs": [
    {
     "name": "stdout",
     "output_type": "stream",
     "text": [
      "2025-07-08\n",
      "True\n"
     ]
    }
   ],
   "source": [
    "#Date Time and Calender\n",
    "#todays date\n",
    "import datetime\n",
    "import calendar\n",
    "courses = ['math', 'art', 'physics', 'english', 'biology']\n",
    "today= datetime.date.today()\n",
    "print(today)\n",
    "print(calendar.isleap(2000)) #checking up the leap year or not"
   ]
  },
  {
   "cell_type": "code",
   "execution_count": 34,
   "id": "6776fe4d-8bdc-47a4-b8ee-430386907b57",
   "metadata": {},
   "outputs": [
    {
     "name": "stdout",
     "output_type": "stream",
     "text": [
      "/Users/sium/Desktop/github/Python-Programming/module\n"
     ]
    }
   ],
   "source": [
    "#os module\n",
    "#accessing underlying operating system\n",
    "import os\n",
    "print(os.getcwd()) #to check current working directory"
   ]
  },
  {
   "cell_type": "code",
   "execution_count": 36,
   "id": "7332dfa2-999e-402d-bc81-e588cefb36f9",
   "metadata": {},
   "outputs": [
    {
     "name": "stdout",
     "output_type": "stream",
     "text": [
      "/opt/homebrew/Caskroom/miniforge/base/lib/python3.12/os.py\n"
     ]
    }
   ],
   "source": [
    "#os module\n",
    "#accessing underlying operating system\n",
    "import os\n",
    "print(os.__file__) #to check where is the os module"
   ]
  },
  {
   "cell_type": "code",
   "execution_count": 37,
   "id": "34ad35f3-9e13-4889-8315-74b11169d4df",
   "metadata": {},
   "outputs": [],
   "source": [
    "#import antigravity python module "
   ]
  },
  {
   "cell_type": "code",
   "execution_count": null,
   "id": "d6832e38-f121-4571-8e35-a49e46316096",
   "metadata": {},
   "outputs": [],
   "source": []
  }
 ],
 "metadata": {
  "kernelspec": {
   "display_name": "Python 3 (ipykernel)",
   "language": "python",
   "name": "python3"
  },
  "language_info": {
   "codemirror_mode": {
    "name": "ipython",
    "version": 3
   },
   "file_extension": ".py",
   "mimetype": "text/x-python",
   "name": "python",
   "nbconvert_exporter": "python",
   "pygments_lexer": "ipython3",
   "version": "3.12.10"
  },
  "widgets": {
   "application/vnd.jupyter.widget-state+json": {
    "state": {},
    "version_major": 2,
    "version_minor": 0
   }
  }
 },
 "nbformat": 4,
 "nbformat_minor": 5
}
