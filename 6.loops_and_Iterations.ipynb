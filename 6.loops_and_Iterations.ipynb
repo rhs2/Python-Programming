{
 "cells": [
  {
   "cell_type": "markdown",
   "id": "e34d5102-8372-431a-9ee2-2cb5b13d5ee4",
   "metadata": {},
   "source": [
    "## for loop"
   ]
  },
  {
   "cell_type": "code",
   "execution_count": 1,
   "id": "c9c7ceea-c770-442e-9f4c-279b72f35e49",
   "metadata": {},
   "outputs": [
    {
     "name": "stdout",
     "output_type": "stream",
     "text": [
      "1\n",
      "2\n",
      "3\n",
      "4\n",
      "5\n",
      "6\n",
      "7\n"
     ]
    }
   ],
   "source": [
    "#looping through each element\n",
    "num = [1,2,3,4,5,6,7]\n",
    "for n in num:\n",
    "    print(n)"
   ]
  },
  {
   "cell_type": "code",
   "execution_count": 5,
   "id": "3775b290-df42-4c4e-8ec9-f9b685be12a5",
   "metadata": {},
   "outputs": [
    {
     "name": "stdout",
     "output_type": "stream",
     "text": [
      "1\n",
      "2\n",
      "3\n",
      "4\n",
      "Found it\n"
     ]
    }
   ],
   "source": [
    "#break and continue\n",
    "# break will completely break the loop\n",
    "#continue key will continue the loop\n",
    "num = [1,2,3,4,5,6,7]\n",
    "for n in num:\n",
    "    if n == 5:\n",
    "        print(\"Found it\")\n",
    "        break #this will break out on the when n is 5\n",
    "        \n",
    "    print(n)"
   ]
  },
  {
   "cell_type": "code",
   "execution_count": 7,
   "id": "eea9ed8c-c87c-4b40-a657-857dd00d4d5a",
   "metadata": {},
   "outputs": [
    {
     "name": "stdout",
     "output_type": "stream",
     "text": [
      "1\n",
      "2\n",
      "3\n",
      "4\n",
      "6\n",
      "7\n"
     ]
    }
   ],
   "source": [
    "#break and continue\n",
    "# break will completely break the loop\n",
    "#continue key will continue the loop\n",
    "num = [1,2,3,4,5,6,7]\n",
    "for n in num:\n",
    "    if n == 5:\n",
    "        continue #this will print the str on 5 and continue the loop #it will skip the 5\n",
    "        \n",
    "    print(n)"
   ]
  },
  {
   "cell_type": "code",
   "execution_count": 11,
   "id": "52a37cc2-9d26-41d8-aaca-706c263a5115",
   "metadata": {},
   "outputs": [
    {
     "name": "stdout",
     "output_type": "stream",
     "text": [
      "1 a\n",
      "1 b\n",
      "1 c\n",
      "1 d\n",
      "2 a\n",
      "2 b\n",
      "2 c\n",
      "2 d\n",
      "3 a\n",
      "3 b\n",
      "3 c\n",
      "3 d\n",
      "4 a\n",
      "4 b\n",
      "4 c\n",
      "4 d\n",
      "5 a\n",
      "5 b\n",
      "5 c\n",
      "5 d\n",
      "6 a\n",
      "6 b\n",
      "6 c\n",
      "6 d\n",
      "7 a\n",
      "7 b\n",
      "7 c\n",
      "7 d\n"
     ]
    }
   ],
   "source": [
    "#loop within a loop\n",
    "num = [1,2,3,4,5,6,7]\n",
    "for n in num: #initially n =1 for 1 it will loop through all the str character then goes to 2 again loop through all the letters and so on\n",
    "    for letter in \"abcd\":\n",
    "        print(n, letter)"
   ]
  },
  {
   "cell_type": "code",
   "execution_count": 12,
   "id": "04deed81-14e7-45bc-b90e-3fa7254b5922",
   "metadata": {},
   "outputs": [
    {
     "name": "stdout",
     "output_type": "stream",
     "text": [
      "0\n",
      "1\n",
      "2\n",
      "3\n",
      "4\n",
      "5\n",
      "6\n",
      "7\n",
      "8\n",
      "9\n"
     ]
    }
   ],
   "source": [
    "#range function\n",
    "for n in range(10): #inclusive 0 and exclusive 10\n",
    "    print(n)"
   ]
  },
  {
   "cell_type": "code",
   "execution_count": 16,
   "id": "1cb89534-0859-4b5b-828b-39f771e3bdfa",
   "metadata": {},
   "outputs": [
    {
     "name": "stdout",
     "output_type": "stream",
     "text": [
      "1\n",
      "3\n",
      "5\n",
      "7\n",
      "9\n"
     ]
    }
   ],
   "source": [
    "#range function\n",
    "for n in range(1,11,2): #inclusive 0 and exclusive 10 and range(start, end, step)\n",
    "    print(n)"
   ]
  },
  {
   "cell_type": "code",
   "execution_count": 17,
   "id": "4319fddd-fdb2-4f7c-8af6-19bb1ecd6ad4",
   "metadata": {},
   "outputs": [
    {
     "name": "stdout",
     "output_type": "stream",
     "text": [
      "0\n",
      "1\n",
      "2\n",
      "3\n",
      "4\n",
      "5\n",
      "6\n",
      "7\n",
      "8\n",
      "9\n",
      "10\n"
     ]
    }
   ],
   "source": [
    "#range function\n",
    "for n in range(11): #inclusive 0 and exclusive 10 and range(start, end, step)\n",
    "    print(n)"
   ]
  },
  {
   "cell_type": "code",
   "execution_count": 18,
   "id": "d8b5d0d6-44e4-4a53-a2ea-42243b7ba2c9",
   "metadata": {},
   "outputs": [
    {
     "name": "stdout",
     "output_type": "stream",
     "text": [
      "0\n",
      "1\n",
      "2\n",
      "3\n",
      "4\n",
      "5\n",
      "6\n",
      "7\n",
      "8\n",
      "9\n"
     ]
    }
   ],
   "source": [
    "#while loop\n",
    "#for loop iterate through all the value in list but\n",
    "#while loop continue until condition becomes false or true or break statement\n",
    "x=0\n",
    "while x < 10:\n",
    "    print(x)\n",
    "    x += 1 "
   ]
  },
  {
   "cell_type": "code",
   "execution_count": 22,
   "id": "52d0b4dc-29ca-4c9d-bf5c-8de6dca973e4",
   "metadata": {},
   "outputs": [
    {
     "name": "stdout",
     "output_type": "stream",
     "text": [
      "2\n",
      "4\n",
      "6\n",
      "8\n",
      "10\n",
      "12\n",
      "14\n",
      "16\n",
      "18\n",
      "20\n",
      "22\n",
      "24\n",
      "26\n",
      "28\n",
      "30\n",
      "32\n",
      "34\n",
      "36\n",
      "38\n",
      "40\n",
      "42\n",
      "44\n",
      "46\n",
      "48\n",
      "50\n",
      "52\n",
      "54\n",
      "56\n",
      "58\n",
      "60\n",
      "62\n",
      "64\n",
      "66\n",
      "68\n",
      "70\n",
      "72\n",
      "74\n",
      "76\n",
      "78\n",
      "80\n",
      "82\n",
      "84\n",
      "86\n",
      "88\n",
      "90\n",
      "92\n",
      "94\n",
      "96\n",
      "98\n",
      "100\n"
     ]
    }
   ],
   "source": [
    "#even number \n",
    "n =100\n",
    "i =0\n",
    "while (i < n):\n",
    "    i += 2 #increment by 2\n",
    "    print(i)"
   ]
  },
  {
   "cell_type": "code",
   "execution_count": 23,
   "id": "488b7640-24da-40e7-b60c-b76db92d9812",
   "metadata": {},
   "outputs": [
    {
     "name": "stdout",
     "output_type": "stream",
     "text": [
      "1\n",
      "3\n",
      "5\n",
      "7\n",
      "9\n",
      "11\n",
      "13\n",
      "15\n",
      "17\n",
      "19\n",
      "21\n",
      "23\n",
      "25\n",
      "27\n",
      "29\n",
      "31\n",
      "33\n",
      "35\n",
      "37\n",
      "39\n",
      "41\n",
      "43\n",
      "45\n",
      "47\n",
      "49\n",
      "51\n",
      "53\n",
      "55\n",
      "57\n",
      "59\n",
      "61\n",
      "63\n",
      "65\n",
      "67\n",
      "69\n",
      "71\n",
      "73\n",
      "75\n",
      "77\n",
      "79\n",
      "81\n",
      "83\n",
      "85\n",
      "87\n",
      "89\n",
      "91\n",
      "93\n",
      "95\n",
      "97\n",
      "99\n"
     ]
    }
   ],
   "source": [
    "#odd number\n",
    "for n in range(1,100,2):\n",
    "    print(n)"
   ]
  },
  {
   "cell_type": "code",
   "execution_count": 27,
   "id": "2341485a-ce0c-4949-a6f2-33d320ab1090",
   "metadata": {},
   "outputs": [
    {
     "name": "stdout",
     "output_type": "stream",
     "text": [
      "1\n",
      "3\n",
      "5\n",
      "7\n"
     ]
    }
   ],
   "source": [
    "#break statement\n",
    "for n in range(1,100,2):\n",
    "    if n == 9:\n",
    "        break\n",
    "    print(n)"
   ]
  },
  {
   "cell_type": "code",
   "execution_count": null,
   "id": "7c451c10-61ac-4008-a289-a0bd149e31c1",
   "metadata": {},
   "outputs": [],
   "source": [
    "#use control + c to stop the infinite loop"
   ]
  }
 ],
 "metadata": {
  "kernelspec": {
   "display_name": "Python 3 (ipykernel)",
   "language": "python",
   "name": "python3"
  },
  "language_info": {
   "codemirror_mode": {
    "name": "ipython",
    "version": 3
   },
   "file_extension": ".py",
   "mimetype": "text/x-python",
   "name": "python",
   "nbconvert_exporter": "python",
   "pygments_lexer": "ipython3",
   "version": "3.12.10"
  },
  "widgets": {
   "application/vnd.jupyter.widget-state+json": {
    "state": {},
    "version_major": 2,
    "version_minor": 0
   }
  }
 },
 "nbformat": 4,
 "nbformat_minor": 5
}
