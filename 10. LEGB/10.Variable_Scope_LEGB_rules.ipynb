{
 "cells": [
  {
   "cell_type": "markdown",
   "id": "c1d66f31-1ef1-4157-a53f-3099f30b4504",
   "metadata": {},
   "source": [
    "# LEGB\n",
    "- local-enclosing-global-builtin"
   ]
  },
  {
   "cell_type": "code",
   "execution_count": 1,
   "id": "81c38ef1-994e-4ad6-8384-d6697b5b38f8",
   "metadata": {},
   "outputs": [],
   "source": [
    "#lOCAL- variable defines within a function\n",
    "#Enclosed- Variable in the local scope of enclosing function\n",
    "#Global- are variables defines at the top level of a module or explicitly declared global using global keywords\n",
    "#Builtin- pre assigned in python"
   ]
  },
  {
   "cell_type": "code",
   "execution_count": 6,
   "id": "5ab96145-8ff6-45f6-bbef-4ac55c95f5b2",
   "metadata": {},
   "outputs": [
    {
     "name": "stdout",
     "output_type": "stream",
     "text": [
      "local y\n"
     ]
    }
   ],
   "source": [
    "#Global and Local scope\n",
    "#global x \n",
    "x = 'global x' # in a local position without a function\n",
    "def test():\n",
    "    y = 'local y' #local scope within a funtion\n",
    "    print(y)\n",
    "\n",
    "test()"
   ]
  },
  {
   "cell_type": "code",
   "execution_count": 8,
   "id": "a278d634-018f-4e10-b929-627789c319e2",
   "metadata": {},
   "outputs": [
    {
     "name": "stdout",
     "output_type": "stream",
     "text": [
      "local y\n"
     ]
    }
   ],
   "source": [
    "#1. python check if that variable is in within a function if its then it prints out first\n",
    "y = 'global x' # in a local position without a function\n",
    "def test():\n",
    "    y = 'local y' #local scope within a funtion\n",
    "    print(y)\n",
    "\n",
    "test()"
   ]
  },
  {
   "cell_type": "code",
   "execution_count": 9,
   "id": "c88422dc-1434-4d6f-a232-23ed960fe616",
   "metadata": {},
   "outputs": [
    {
     "name": "stdout",
     "output_type": "stream",
     "text": [
      "global x\n"
     ]
    }
   ],
   "source": [
    "#2. python check if that variable is in local within the funtion if its not then it looks for closing scope then global variable \n",
    "y = 'global x' # in a local position without a function\n",
    "def test():\n",
    "    # y = 'local y' #local scope within a funtion\n",
    "    print(y)\n",
    "test()"
   ]
  },
  {
   "cell_type": "code",
   "execution_count": 27,
   "id": "e917d661-7f07-452f-8b5b-555562ec1ecf",
   "metadata": {},
   "outputs": [
    {
     "name": "stdout",
     "output_type": "stream",
     "text": [
      "local z\n"
     ]
    }
   ],
   "source": [
    "#to prevent that to happen we explicitly say to python by writing global \n",
    "z = 'global x' # in a local position without a function\n",
    "def test():\n",
    "    global z\n",
    "    z = 'local z' #local scope within a funtion\n",
    "    print(z)\n",
    "test()\n"
   ]
  },
  {
   "cell_type": "code",
   "execution_count": 29,
   "id": "6b560a1b-e6c7-40b6-88d9-8a5861550c1c",
   "metadata": {},
   "outputs": [
    {
     "name": "stdout",
     "output_type": "stream",
     "text": [
      "local b\n"
     ]
    }
   ],
   "source": [
    "#now here as we see i can print b from global\n",
    "a = 'global a'\n",
    "def test2():\n",
    "    global b\n",
    "    b = 'local b'\n",
    "test2()\n",
    "print(b)"
   ]
  },
  {
   "cell_type": "code",
   "execution_count": 31,
   "id": "bc3f0702-aec9-4cad-b5e9-c8a9f8495545",
   "metadata": {},
   "outputs": [
    {
     "name": "stdout",
     "output_type": "stream",
     "text": [
      "local b\n"
     ]
    }
   ],
   "source": [
    "#now here as we see i can print b from global\n",
    "a = 'global a'\n",
    "def test2():\n",
    "    global b\n",
    "    a = 'local b'\n",
    "test2()\n",
    "print(b)"
   ]
  },
  {
   "cell_type": "code",
   "execution_count": 32,
   "id": "01b53a80-edf3-4f68-ad34-a320b7ac7787",
   "metadata": {},
   "outputs": [
    {
     "name": "stdout",
     "output_type": "stream",
     "text": [
      "local b\n"
     ]
    }
   ],
   "source": [
    "#still it will able to find the global even it is in the funtion\n",
    "# a = 'global a'\n",
    "def test2():\n",
    "    global b\n",
    "    a = 'local b'\n",
    "test2()\n",
    "print(b)"
   ]
  },
  {
   "cell_type": "code",
   "execution_count": 33,
   "id": "87f51b5c-a0c8-4472-b606-34e60bf285fa",
   "metadata": {},
   "outputs": [
    {
     "name": "stdout",
     "output_type": "stream",
     "text": [
      "3\n"
     ]
    }
   ],
   "source": [
    "#builtin function\n",
    "#pre assigned in python\n",
    "#min -find the samllest value from list, tup\n",
    "m = min([3,4,5,6,7,7])\n",
    "print(m)"
   ]
  },
  {
   "cell_type": "code",
   "execution_count": 34,
   "id": "2c20b56e-5012-4514-8111-76c1079a2764",
   "metadata": {},
   "outputs": [
    {
     "name": "stdout",
     "output_type": "stream",
     "text": [
      "['ArithmeticError', 'AssertionError', 'AttributeError', 'BaseException', 'BaseExceptionGroup', 'BlockingIOError', 'BrokenPipeError', 'BufferError', 'BytesWarning', 'ChildProcessError', 'ConnectionAbortedError', 'ConnectionError', 'ConnectionRefusedError', 'ConnectionResetError', 'DeprecationWarning', 'EOFError', 'Ellipsis', 'EncodingWarning', 'EnvironmentError', 'Exception', 'ExceptionGroup', 'False', 'FileExistsError', 'FileNotFoundError', 'FloatingPointError', 'FutureWarning', 'GeneratorExit', 'IOError', 'ImportError', 'ImportWarning', 'IndentationError', 'IndexError', 'InterruptedError', 'IsADirectoryError', 'KeyError', 'KeyboardInterrupt', 'LookupError', 'MemoryError', 'ModuleNotFoundError', 'NameError', 'None', 'NotADirectoryError', 'NotImplemented', 'NotImplementedError', 'OSError', 'OverflowError', 'PendingDeprecationWarning', 'PermissionError', 'ProcessLookupError', 'RecursionError', 'ReferenceError', 'ResourceWarning', 'RuntimeError', 'RuntimeWarning', 'StopAsyncIteration', 'StopIteration', 'SyntaxError', 'SyntaxWarning', 'SystemError', 'SystemExit', 'TabError', 'TimeoutError', 'True', 'TypeError', 'UnboundLocalError', 'UnicodeDecodeError', 'UnicodeEncodeError', 'UnicodeError', 'UnicodeTranslateError', 'UnicodeWarning', 'UserWarning', 'ValueError', 'Warning', 'ZeroDivisionError', '__IPYTHON__', '__build_class__', '__debug__', '__doc__', '__import__', '__loader__', '__name__', '__package__', '__spec__', 'abs', 'aiter', 'all', 'anext', 'any', 'ascii', 'bin', 'bool', 'breakpoint', 'bytearray', 'bytes', 'callable', 'chr', 'classmethod', 'compile', 'complex', 'copyright', 'credits', 'delattr', 'dict', 'dir', 'display', 'divmod', 'enumerate', 'eval', 'exec', 'execfile', 'filter', 'float', 'format', 'frozenset', 'get_ipython', 'getattr', 'globals', 'hasattr', 'hash', 'help', 'hex', 'id', 'input', 'int', 'isinstance', 'issubclass', 'iter', 'len', 'license', 'list', 'locals', 'map', 'max', 'memoryview', 'min', 'next', 'object', 'oct', 'open', 'ord', 'pow', 'print', 'property', 'range', 'repr', 'reversed', 'round', 'runfile', 'set', 'setattr', 'slice', 'sorted', 'staticmethod', 'str', 'sum', 'super', 'tuple', 'type', 'vars', 'zip']\n"
     ]
    }
   ],
   "source": [
    "#to check the built in funtion \n",
    "import builtins\n",
    "print(dir(builtins))"
   ]
  },
  {
   "cell_type": "code",
   "execution_count": 36,
   "id": "ec1ad83b-4f71-4a02-99c8-e671a3530451",
   "metadata": {},
   "outputs": [
    {
     "name": "stdout",
     "output_type": "stream",
     "text": [
      "None\n"
     ]
    }
   ],
   "source": [
    "#double check on the variable name by checking built in function\n",
    "#we can overwrite the min builtin function\n",
    "import builtins\n",
    "def min(m):\n",
    "    pass\n",
    "m = min([3,4,6,73,5,])\n",
    "print(m) \n",
    "#as we can see here nothing is there because we overwrite the function"
   ]
  },
  {
   "cell_type": "code",
   "execution_count": 39,
   "id": "5234d244-897d-4aff-ad40-bdea061ff508",
   "metadata": {},
   "outputs": [
    {
     "name": "stdout",
     "output_type": "stream",
     "text": [
      "outer x\n",
      "outer x\n"
     ]
    }
   ],
   "source": [
    "#enclosing\n",
    "#enclosing has to be within a nested funtion\n",
    "def outer():\n",
    "    x = 'outer x' \n",
    "    def inner():\n",
    "        # x = 'inner x'\n",
    "        print(x)\n",
    "\n",
    "    inner()\n",
    "    print(x)\n",
    "outer()"
   ]
  },
  {
   "cell_type": "code",
   "execution_count": 40,
   "id": "f57e16c1-5fad-447f-a39c-dd24f58260f2",
   "metadata": {},
   "outputs": [
    {
     "name": "stdout",
     "output_type": "stream",
     "text": [
      "inner x\n",
      "outer x\n"
     ]
    }
   ],
   "source": [
    "#enclosing\n",
    "#it is going to first check if any thing is in local within that function if there is not then it will look for outer function if there is also nothing then it will look for global variable then built ins\n",
    "#enclosing has to be within a nested funtion\n",
    "def outer():\n",
    "    x = 'outer x' \n",
    "    def inner():\n",
    "        x = 'inner x'\n",
    "        print(x)\n",
    "\n",
    "    inner()\n",
    "    print(x)\n",
    "outer()"
   ]
  },
  {
   "cell_type": "code",
   "execution_count": 45,
   "id": "e09c00d6-acf6-4a5c-b50b-a8ff75045345",
   "metadata": {},
   "outputs": [
    {
     "name": "stdout",
     "output_type": "stream",
     "text": [
      "global x\n",
      "global x\n",
      "global x\n"
     ]
    }
   ],
   "source": [
    "#if we want to change the local variable to a global within the enclosed then we can do that by using nonlocal key\n",
    "#now as we see if we run those we get both the answer is inner x because we placed it within the function in every steps \n",
    "x = 'global x'\n",
    "def outer():\n",
    "    # x = 'outer x' \n",
    "    def inner():\n",
    "        # nonlocal x\n",
    "        # x = 'inner x'\n",
    "        print(x)\n",
    "\n",
    "    inner()\n",
    "    print(x)\n",
    "outer()\n",
    "print(x)"
   ]
  },
  {
   "cell_type": "code",
   "execution_count": 46,
   "id": "5fdf22c3-14dd-4a86-936a-22fe29507aaf",
   "metadata": {},
   "outputs": [
    {
     "name": "stdout",
     "output_type": "stream",
     "text": [
      "outer x\n",
      "outer x\n",
      "global x\n"
     ]
    }
   ],
   "source": [
    "#if we want to change the local variable to a global within the enclosed then we can do that by using nonlocal key\n",
    "#now as we see if we run those we get both the answer is inner x because we placed it within the function in every steps \n",
    "x = 'global x'\n",
    "def outer():\n",
    "    x = 'outer x' \n",
    "    def inner():\n",
    "        nonlocal x\n",
    "        # x = 'inner x'\n",
    "        print(x)\n",
    "\n",
    "    inner()\n",
    "    print(x)\n",
    "outer()\n",
    "print(x)"
   ]
  },
  {
   "cell_type": "code",
   "execution_count": 47,
   "id": "a3cb0506-ed0d-4bd1-96cd-ecd4c1fa3302",
   "metadata": {},
   "outputs": [
    {
     "name": "stdout",
     "output_type": "stream",
     "text": [
      "inner x\n",
      "inner x\n",
      "global x\n"
     ]
    }
   ],
   "source": [
    "#if we want to change the local variable to a global within the enclosed then we can do that by using nonlocal key\n",
    "#now as we see if we run those we get both the answer is inner x because we placed it within the function in every steps \n",
    "x = 'global x'\n",
    "def outer():\n",
    "    x = 'outer x' \n",
    "    def inner():\n",
    "        nonlocal x\n",
    "        x = 'inner x'\n",
    "        print(x)\n",
    "\n",
    "    inner()\n",
    "    print(x)\n",
    "outer()\n",
    "print(x)"
   ]
  },
  {
   "cell_type": "code",
   "execution_count": null,
   "id": "e501e4a5-1da3-4604-83a7-9fc0b801de8a",
   "metadata": {},
   "outputs": [],
   "source": []
  }
 ],
 "metadata": {
  "kernelspec": {
   "display_name": "Python 3 (ipykernel)",
   "language": "python",
   "name": "python3"
  },
  "language_info": {
   "codemirror_mode": {
    "name": "ipython",
    "version": 3
   },
   "file_extension": ".py",
   "mimetype": "text/x-python",
   "name": "python",
   "nbconvert_exporter": "python",
   "pygments_lexer": "ipython3",
   "version": "3.12.10"
  },
  "widgets": {
   "application/vnd.jupyter.widget-state+json": {
    "state": {},
    "version_major": 2,
    "version_minor": 0
   }
  }
 },
 "nbformat": 4,
 "nbformat_minor": 5
}
