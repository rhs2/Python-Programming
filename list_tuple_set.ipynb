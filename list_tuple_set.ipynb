{
 "cells": [
  {
   "cell_type": "markdown",
   "id": "72c0dd3a-2bdc-4b23-8d50-611cde00e500",
   "metadata": {},
   "source": [
    "## list"
   ]
  },
  {
   "cell_type": "code",
   "execution_count": 1,
   "id": "a02cbed3-372d-45fa-9079-4b6b46a55dec",
   "metadata": {},
   "outputs": [],
   "source": [
    "#creating a empty with enclosed with square bracket and seperated by comma\n",
    "courses = []\n"
   ]
  },
  {
   "cell_type": "code",
   "execution_count": 3,
   "id": "b89011b0-bd62-4e58-9133-53e480e4a486",
   "metadata": {},
   "outputs": [
    {
     "name": "stdout",
     "output_type": "stream",
     "text": [
      "<class 'list'>\n"
     ]
    }
   ],
   "source": [
    "print(type((courses)))"
   ]
  },
  {
   "cell_type": "code",
   "execution_count": 4,
   "id": "888f68de-d4ae-40cc-8544-067a252aa7b0",
   "metadata": {},
   "outputs": [
    {
     "name": "stdout",
     "output_type": "stream",
     "text": [
      "['history', 'math', 'physics', 'compsci']\n"
     ]
    }
   ],
   "source": [
    "courses= [\"history\", \"math\", \"physics\", 'compsci']\n",
    "print(courses)"
   ]
  },
  {
   "cell_type": "code",
   "execution_count": 5,
   "id": "66efa075-dfd2-45f7-b63e-ca427e52d70d",
   "metadata": {},
   "outputs": [
    {
     "name": "stdout",
     "output_type": "stream",
     "text": [
      "4\n"
     ]
    }
   ],
   "source": [
    "#lenght of a list\n",
    "print(len(courses))"
   ]
  },
  {
   "cell_type": "code",
   "execution_count": 6,
   "id": "1fa898d4-ceb1-42ac-8fcd-fed8149c7f9a",
   "metadata": {},
   "outputs": [
    {
     "name": "stdout",
     "output_type": "stream",
     "text": [
      "history\n"
     ]
    }
   ],
   "source": [
    "#access by index\n",
    "print(courses[0])"
   ]
  },
  {
   "cell_type": "code",
   "execution_count": 7,
   "id": "e939d97a-e70d-4017-8050-e107aca61dc1",
   "metadata": {},
   "outputs": [
    {
     "data": {
      "text/plain": [
       "'compsci'"
      ]
     },
     "execution_count": 7,
     "metadata": {},
     "output_type": "execute_result"
    }
   ],
   "source": [
    "#negative index\n",
    "courses[-1]"
   ]
  },
  {
   "cell_type": "code",
   "execution_count": 8,
   "id": "aa4ee5ad-d7f6-4c7b-894d-a69a959eda37",
   "metadata": {},
   "outputs": [
    {
     "data": {
      "text/plain": [
       "'compsci'"
      ]
     },
     "execution_count": 8,
     "metadata": {},
     "output_type": "execute_result"
    }
   ],
   "source": [
    "#accessing last value\n",
    "courses[3]"
   ]
  },
  {
   "cell_type": "code",
   "execution_count": 10,
   "id": "15f7651a-8c73-4de2-877c-e6824bf00766",
   "metadata": {},
   "outputs": [
    {
     "data": {
      "text/plain": [
       "['history', 'math']"
      ]
     },
     "execution_count": 10,
     "metadata": {},
     "output_type": "execute_result"
    }
   ],
   "source": [
    "#slicing through a list\n",
    "#courses[start:end:step]\n",
    "courses[0:2] #not including"
   ]
  },
  {
   "cell_type": "code",
   "execution_count": 12,
   "id": "7e06b545-32f2-4e4c-b265-4f08e4371025",
   "metadata": {},
   "outputs": [
    {
     "data": {
      "text/plain": [
       "['history', 'math']"
      ]
     },
     "execution_count": 12,
     "metadata": {},
     "output_type": "execute_result"
    }
   ],
   "source": [
    "courses[:2] #first index is inclusive but last index is exclusive"
   ]
  },
  {
   "cell_type": "code",
   "execution_count": 13,
   "id": "8a5507f8-fb37-412f-8b77-e6426fe7d14a",
   "metadata": {},
   "outputs": [
    {
     "name": "stdout",
     "output_type": "stream",
     "text": [
      "['history', 'math', 'physics', 'compsci', 'art']\n"
     ]
    }
   ],
   "source": [
    "# list method\n",
    "#adding item by append() method\n",
    "courses.append('art')\n",
    "print(courses)\n"
   ]
  },
  {
   "cell_type": "code",
   "execution_count": 14,
   "id": "7c8f73e1-d412-4245-96ab-4ba0a3091158",
   "metadata": {},
   "outputs": [],
   "source": [
    "#adding value in a list in a specific location by insert method\n",
    "#insert takes 2 argument insert(index, value)\n",
    "courses.insert(0,'biology')"
   ]
  },
  {
   "cell_type": "code",
   "execution_count": 15,
   "id": "478b498a-f397-4c08-9fbc-de80343467ec",
   "metadata": {},
   "outputs": [
    {
     "name": "stdout",
     "output_type": "stream",
     "text": [
      "['biology', 'history', 'math', 'physics', 'compsci', 'art']\n"
     ]
    }
   ],
   "source": [
    "print(courses)"
   ]
  },
  {
   "cell_type": "code",
   "execution_count": 16,
   "id": "aba70683-0438-4587-808c-96419ce8318c",
   "metadata": {},
   "outputs": [],
   "source": [
    "#replacing value with index\n",
    "courses[0]='stats'"
   ]
  },
  {
   "cell_type": "code",
   "execution_count": 17,
   "id": "42c8702f-1d9f-430c-8c2e-c1893b8dbb9a",
   "metadata": {},
   "outputs": [
    {
     "data": {
      "text/plain": [
       "['stats', 'history', 'math', 'physics', 'compsci', 'art']"
      ]
     },
     "execution_count": 17,
     "metadata": {},
     "output_type": "execute_result"
    }
   ],
   "source": [
    "courses"
   ]
  },
  {
   "cell_type": "code",
   "execution_count": 18,
   "id": "ea4e4110-2a01-4a5d-926b-c904a8b499d8",
   "metadata": {},
   "outputs": [],
   "source": [
    "#adding by extend suppose we have a lot value or another list\n",
    "courses2 = ['education','english']\n",
    "courses.extend(courses2) #it will extend the list from another list"
   ]
  },
  {
   "cell_type": "code",
   "execution_count": 19,
   "id": "26985fde-d57f-44db-bed4-4d2833d46451",
   "metadata": {},
   "outputs": [
    {
     "data": {
      "text/plain": [
       "['stats',\n",
       " 'history',\n",
       " 'math',\n",
       " 'physics',\n",
       " 'compsci',\n",
       " 'art',\n",
       " 'education',\n",
       " 'english']"
      ]
     },
     "execution_count": 19,
     "metadata": {},
     "output_type": "execute_result"
    }
   ],
   "source": [
    "courses"
   ]
  },
  {
   "cell_type": "code",
   "execution_count": 20,
   "id": "f3b64ec0-272c-407a-b92f-708ea5540eab",
   "metadata": {},
   "outputs": [],
   "source": [
    "#if we insert that second list by insert method then it will build a nested list\n",
    "courses.insert(0, courses2)"
   ]
  },
  {
   "cell_type": "code",
   "execution_count": 21,
   "id": "57394d5f-c389-47c0-9539-1ebe73c95e84",
   "metadata": {},
   "outputs": [
    {
     "data": {
      "text/plain": [
       "[['education', 'english'],\n",
       " 'stats',\n",
       " 'history',\n",
       " 'math',\n",
       " 'physics',\n",
       " 'compsci',\n",
       " 'art',\n",
       " 'education',\n",
       " 'english']"
      ]
     },
     "execution_count": 21,
     "metadata": {},
     "output_type": "execute_result"
    }
   ],
   "source": [
    "courses"
   ]
  },
  {
   "cell_type": "code",
   "execution_count": 22,
   "id": "78523176-5ccc-4c7f-9f82-6732e9a24c75",
   "metadata": {},
   "outputs": [],
   "source": [
    "#remove from a list\n",
    "courses.remove('math')"
   ]
  },
  {
   "cell_type": "code",
   "execution_count": 23,
   "id": "1dc1050c-2cf8-4f95-a333-723a0f0e35aa",
   "metadata": {},
   "outputs": [
    {
     "name": "stdout",
     "output_type": "stream",
     "text": [
      "[['education', 'english'], 'stats', 'history', 'physics', 'compsci', 'art', 'education', 'english']\n"
     ]
    }
   ],
   "source": [
    "print(courses)"
   ]
  },
  {
   "cell_type": "code",
   "execution_count": 24,
   "id": "aff837be-501b-4b73-8c18-f0f10c5be9a2",
   "metadata": {},
   "outputs": [
    {
     "data": {
      "text/plain": [
       "'english'"
      ]
     },
     "execution_count": 24,
     "metadata": {},
     "output_type": "execute_result"
    }
   ],
   "source": [
    "#pop method will remove the end value a list and it returns the value so we can grab that popped value\n",
    "courses.pop()"
   ]
  },
  {
   "cell_type": "code",
   "execution_count": 25,
   "id": "0fe460db-ca05-4f72-98a9-83262bb27d32",
   "metadata": {},
   "outputs": [],
   "source": [
    "popped= courses.pop()"
   ]
  },
  {
   "cell_type": "code",
   "execution_count": 26,
   "id": "8eb2b9e6-deb6-4c16-9998-72c5c8c9a80c",
   "metadata": {},
   "outputs": [
    {
     "data": {
      "text/plain": [
       "[['education', 'english'], 'stats', 'history', 'physics', 'compsci', 'art']"
      ]
     },
     "execution_count": 26,
     "metadata": {},
     "output_type": "execute_result"
    }
   ],
   "source": [
    "courses"
   ]
  },
  {
   "cell_type": "code",
   "execution_count": 27,
   "id": "e6ab35d3-965e-40ea-8cd9-1780b6a6bd0b",
   "metadata": {},
   "outputs": [
    {
     "name": "stdout",
     "output_type": "stream",
     "text": [
      "education\n"
     ]
    }
   ],
   "source": [
    "print(popped)"
   ]
  },
  {
   "cell_type": "code",
   "execution_count": 29,
   "id": "343d7e68-2c38-46ce-b2e5-a26e4664202f",
   "metadata": {},
   "outputs": [],
   "source": [
    "#sorting a list\n",
    "courses.reverse() #it will reverse the list by alphabetical order"
   ]
  },
  {
   "cell_type": "code",
   "execution_count": 30,
   "id": "0fa26347-ee7e-4caa-bd19-91c10595ae3a",
   "metadata": {},
   "outputs": [
    {
     "data": {
      "text/plain": [
       "['art', 'compsci', 'physics', 'history', 'stats', ['education', 'english']]"
      ]
     },
     "execution_count": 30,
     "metadata": {},
     "output_type": "execute_result"
    }
   ],
   "source": [
    "courses"
   ]
  },
  {
   "cell_type": "code",
   "execution_count": 34,
   "id": "bddd6f1a-e04a-4399-9ee4-5312644c04cb",
   "metadata": {},
   "outputs": [],
   "source": [
    "#sorting a list by sort method\n",
    "courses = ['art', 'compsci', 'physics', 'history', 'stats']\n",
    "courses.sort() #sort by alphabetical order"
   ]
  },
  {
   "cell_type": "code",
   "execution_count": 35,
   "id": "7bab2654-fe15-4ab6-a06d-2ab87ad5bb09",
   "metadata": {},
   "outputs": [
    {
     "data": {
      "text/plain": [
       "['art', 'compsci', 'history', 'physics', 'stats']"
      ]
     },
     "execution_count": 35,
     "metadata": {},
     "output_type": "execute_result"
    }
   ],
   "source": [
    "courses"
   ]
  },
  {
   "cell_type": "code",
   "execution_count": 36,
   "id": "4c872fd1-34b5-45ca-808e-0e38526fc61b",
   "metadata": {},
   "outputs": [],
   "source": [
    "num = [1,3,4,67,3,2]\n",
    "num.sort() #sorting in accending order"
   ]
  },
  {
   "cell_type": "code",
   "execution_count": 37,
   "id": "641e8d90-7cd8-46bf-9823-3e8d83576c74",
   "metadata": {},
   "outputs": [
    {
     "data": {
      "text/plain": [
       "[1, 2, 3, 3, 4, 67]"
      ]
     },
     "execution_count": 37,
     "metadata": {},
     "output_type": "execute_result"
    }
   ],
   "source": [
    "num"
   ]
  },
  {
   "cell_type": "code",
   "execution_count": 38,
   "id": "8c8923f6-2cb6-4a3d-956c-782fcf766e7c",
   "metadata": {},
   "outputs": [
    {
     "name": "stdout",
     "output_type": "stream",
     "text": [
      "[67, 4, 3, 3, 2, 1]\n"
     ]
    }
   ],
   "source": [
    "#sorting in decending order\n",
    "num.sort(reverse=True)\n",
    "print(num)"
   ]
  },
  {
   "cell_type": "code",
   "execution_count": 39,
   "id": "0019adf3-c5c3-441d-8bfd-d479d3cdb760",
   "metadata": {},
   "outputs": [],
   "source": [
    "#sort method will alter the original list\n"
   ]
  },
  {
   "cell_type": "code",
   "execution_count": 41,
   "id": "09cbff2e-eeda-48c2-96eb-dafdf5ff7a11",
   "metadata": {},
   "outputs": [],
   "source": [
    "#so if we want to sort our list without altering the original list then we can use sorted method\n",
    "s_num= sorted(num)"
   ]
  },
  {
   "cell_type": "code",
   "execution_count": 42,
   "id": "48af1027-302e-45f9-ae43-e1b025f49213",
   "metadata": {},
   "outputs": [
    {
     "data": {
      "text/plain": [
       "[67, 4, 3, 3, 2, 1]"
      ]
     },
     "execution_count": 42,
     "metadata": {},
     "output_type": "execute_result"
    }
   ],
   "source": [
    "num"
   ]
  },
  {
   "cell_type": "code",
   "execution_count": 43,
   "id": "8228e697-45e4-4f26-b4fa-94036c3f1b45",
   "metadata": {},
   "outputs": [
    {
     "data": {
      "text/plain": [
       "[1, 2, 3, 3, 4, 67]"
      ]
     },
     "execution_count": 43,
     "metadata": {},
     "output_type": "execute_result"
    }
   ],
   "source": [
    "s_num"
   ]
  },
  {
   "cell_type": "code",
   "execution_count": 44,
   "id": "6cbe7b9a-b144-4e95-bdfc-3c6c3492f48e",
   "metadata": {},
   "outputs": [
    {
     "name": "stdout",
     "output_type": "stream",
     "text": [
      "Help on built-in function sorted in module builtins:\n",
      "\n",
      "sorted(iterable, /, *, key=None, reverse=False)\n",
      "    Return a new list containing all items from the iterable in ascending order.\n",
      "\n",
      "    A custom key function can be supplied to customize the sort order, and the\n",
      "    reverse flag can be set to request the result in descending order.\n",
      "\n"
     ]
    }
   ],
   "source": [
    "#sorted function takes argument\n",
    "help(sorted)"
   ]
  },
  {
   "cell_type": "code",
   "execution_count": 48,
   "id": "f9ee16fd-0744-48f2-8806-580f82e75929",
   "metadata": {},
   "outputs": [
    {
     "name": "stdout",
     "output_type": "stream",
     "text": [
      "1\n"
     ]
    }
   ],
   "source": [
    "#finding max/min/sum by built in functions\n",
    "print(min(num))"
   ]
  },
  {
   "cell_type": "code",
   "execution_count": 49,
   "id": "c3c1b637-7683-4e36-9e7d-2fa8d339b2d9",
   "metadata": {},
   "outputs": [
    {
     "name": "stdout",
     "output_type": "stream",
     "text": [
      "67\n"
     ]
    }
   ],
   "source": [
    "#finding max/min/sum by built in functions\n",
    "print(max(num))"
   ]
  },
  {
   "cell_type": "code",
   "execution_count": 50,
   "id": "8858b110-712a-4501-a8fa-ca8539f167b6",
   "metadata": {},
   "outputs": [
    {
     "name": "stdout",
     "output_type": "stream",
     "text": [
      "80\n"
     ]
    }
   ],
   "source": [
    "#finding max/min/sum by built in functions\n",
    "print(sum(num))"
   ]
  },
  {
   "cell_type": "code",
   "execution_count": 51,
   "id": "38d6781a-90e3-45d7-aab5-9bb1c2ce581c",
   "metadata": {},
   "outputs": [
    {
     "data": {
      "text/plain": [
       "0"
      ]
     },
     "execution_count": 51,
     "metadata": {},
     "output_type": "execute_result"
    }
   ],
   "source": [
    "#finding index from a list by index method\n",
    "num.index(67)"
   ]
  },
  {
   "cell_type": "code",
   "execution_count": 53,
   "id": "874117ca-3393-479e-b0f7-c9bdd8db9751",
   "metadata": {},
   "outputs": [
    {
     "data": {
      "text/plain": [
       "['art', 'compsci', 'history', 'physics', 'stats']"
      ]
     },
     "execution_count": 53,
     "metadata": {},
     "output_type": "execute_result"
    }
   ],
   "source": [
    "courses"
   ]
  },
  {
   "cell_type": "code",
   "execution_count": 54,
   "id": "d8e10f5d-bf71-412d-bed6-b63c49082654",
   "metadata": {},
   "outputs": [
    {
     "data": {
      "text/plain": [
       "0"
      ]
     },
     "execution_count": 54,
     "metadata": {},
     "output_type": "execute_result"
    }
   ],
   "source": [
    "courses.index('art')"
   ]
  },
  {
   "cell_type": "code",
   "execution_count": 55,
   "id": "f4304451-242f-4dc7-abb1-268fd6e0aded",
   "metadata": {},
   "outputs": [
    {
     "data": {
      "text/plain": [
       "True"
      ]
     },
     "execution_count": 55,
     "metadata": {},
     "output_type": "execute_result"
    }
   ],
   "source": [
    "# check if a value in a list or not it is called membership\n",
    "'art' in courses"
   ]
  },
  {
   "cell_type": "code",
   "execution_count": 56,
   "id": "6b83aff8-b18a-419c-864c-2f039a8a3171",
   "metadata": {},
   "outputs": [
    {
     "name": "stdout",
     "output_type": "stream",
     "text": [
      "art\n",
      "compsci\n",
      "history\n",
      "physics\n",
      "stats\n"
     ]
    }
   ],
   "source": [
    "#for loop-- loop through entire list one by one\n",
    "for item in courses:\n",
    "    print(item)"
   ]
  },
  {
   "cell_type": "code",
   "execution_count": 59,
   "id": "7608c9e7-2201-4fc0-925d-b98c319e025c",
   "metadata": {},
   "outputs": [
    {
     "name": "stdout",
     "output_type": "stream",
     "text": [
      "index: 0 and Course: art\n",
      "index: 1 and Course: compsci\n",
      "index: 2 and Course: history\n",
      "index: 3 and Course: physics\n",
      "index: 4 and Course: stats\n"
     ]
    }
   ],
   "source": [
    "#we can also print out index number by loop and using enumerate function\n",
    "for i, item in enumerate(courses):\n",
    "    print(f\"index: {i} and Course: {item}\")"
   ]
  },
  {
   "cell_type": "code",
   "execution_count": 67,
   "id": "562adaa3-0953-4bcf-9df7-063bc9e2d523",
   "metadata": {},
   "outputs": [],
   "source": [
    "#turn our courses in comma seperated value\n",
    "course_str= \"- \".join(courses)"
   ]
  },
  {
   "cell_type": "code",
   "execution_count": 68,
   "id": "777fa532-8b39-46dd-bb51-db566c741423",
   "metadata": {},
   "outputs": [
    {
     "name": "stdout",
     "output_type": "stream",
     "text": [
      "art- compsci- history- physics- stats\n"
     ]
    }
   ],
   "source": [
    "print(course_str)"
   ]
  },
  {
   "cell_type": "code",
   "execution_count": 69,
   "id": "80c26690-0685-47ee-b92d-85ff750e2b6f",
   "metadata": {},
   "outputs": [],
   "source": [
    "#using split method\n",
    "new_list = course_str.split(\"-\")"
   ]
  },
  {
   "cell_type": "code",
   "execution_count": 70,
   "id": "72bbeaa9-52a2-4e83-aaad-3e41cfffa248",
   "metadata": {},
   "outputs": [
    {
     "name": "stdout",
     "output_type": "stream",
     "text": [
      "['art', ' compsci', ' history', ' physics', ' stats']\n"
     ]
    }
   ],
   "source": [
    "print(new_list)"
   ]
  },
  {
   "cell_type": "code",
   "execution_count": 64,
   "id": "2aad96e4-ea12-49f6-884e-852bbaa64cda",
   "metadata": {},
   "outputs": [],
   "source": [
    "#turn our courses in hypen seperated value\n",
    "course_str= \", \".join(courses)"
   ]
  },
  {
   "cell_type": "code",
   "execution_count": 65,
   "id": "905983dd-7c26-4f70-a72b-1205632a9aa7",
   "metadata": {},
   "outputs": [
    {
     "name": "stdout",
     "output_type": "stream",
     "text": [
      "art, compsci, history, physics, stats\n"
     ]
    }
   ],
   "source": [
    "print(course_str)"
   ]
  },
  {
   "cell_type": "markdown",
   "id": "c01f99e9-ff37-4ca9-8e72-a778602f35fb",
   "metadata": {},
   "source": [
    "## Tuple\n",
    "- 1. we can not modify tuples-immutable\n",
    "  2. tuple starts with ()\n",
    "  3. creating a tuple-- 1. tup = () and tup = tuple() constructor"
   ]
  },
  {
   "cell_type": "code",
   "execution_count": 78,
   "id": "34cfb18d-a7dd-44fc-938d-af754463c7eb",
   "metadata": {},
   "outputs": [
    {
     "data": {
      "text/plain": [
       "['biology', 'english']"
      ]
     },
     "execution_count": 78,
     "metadata": {},
     "output_type": "execute_result"
    }
   ],
   "source": [
    "#understanding mutable immutable\n",
    "courses"
   ]
  },
  {
   "cell_type": "code",
   "execution_count": 79,
   "id": "f83c5c65-f023-4d6a-a64c-2b0736e6548f",
   "metadata": {},
   "outputs": [],
   "source": [
    "courses= courses2"
   ]
  },
  {
   "cell_type": "code",
   "execution_count": 80,
   "id": "c882afc7-0c8e-4162-ad85-e974c54dd40e",
   "metadata": {},
   "outputs": [
    {
     "name": "stdout",
     "output_type": "stream",
     "text": [
      "['biology', 'english']\n"
     ]
    }
   ],
   "source": [
    "print(courses)"
   ]
  },
  {
   "cell_type": "code",
   "execution_count": 81,
   "id": "5c0c86c7-b9ac-4c84-91b5-a21e48135477",
   "metadata": {},
   "outputs": [],
   "source": [
    "courses[0]='art'"
   ]
  },
  {
   "cell_type": "code",
   "execution_count": 82,
   "id": "bee02aa6-74fc-414c-bf8d-27d3b0b97a4b",
   "metadata": {},
   "outputs": [
    {
     "data": {
      "text/plain": [
       "['art', 'english']"
      ]
     },
     "execution_count": 82,
     "metadata": {},
     "output_type": "execute_result"
    }
   ],
   "source": [
    "courses"
   ]
  },
  {
   "cell_type": "code",
   "execution_count": 83,
   "id": "499a0ce0-bcb3-4862-8641-0e150ca63c66",
   "metadata": {},
   "outputs": [
    {
     "data": {
      "text/plain": [
       "['art', 'english']"
      ]
     },
     "execution_count": 83,
     "metadata": {},
     "output_type": "execute_result"
    }
   ],
   "source": [
    "courses2 #as we see here it changed to in courses and courses2 both of them that is called it alter the both list"
   ]
  },
  {
   "cell_type": "code",
   "execution_count": 93,
   "id": "5d1ce82b-f68c-4265-a96e-86855d34b92a",
   "metadata": {},
   "outputs": [],
   "source": [
    "#using tuple\n",
    "tup1 = ('art', 'compsci', 'history', 'physics', 'stats')"
   ]
  },
  {
   "cell_type": "code",
   "execution_count": 94,
   "id": "2b1e4563-dbf2-4e97-94f9-b02161c2e615",
   "metadata": {},
   "outputs": [],
   "source": [
    "tup2 = tup1"
   ]
  },
  {
   "cell_type": "code",
   "execution_count": 95,
   "id": "58a9d99e-6040-429b-80fb-c108d4d29f40",
   "metadata": {},
   "outputs": [
    {
     "data": {
      "text/plain": [
       "('art', 'compsci', 'history', 'physics', 'stats')"
      ]
     },
     "execution_count": 95,
     "metadata": {},
     "output_type": "execute_result"
    }
   ],
   "source": [
    "tup2"
   ]
  },
  {
   "cell_type": "code",
   "execution_count": 96,
   "id": "9b8ba305-0de0-4fb2-9838-b1fba4cbb065",
   "metadata": {},
   "outputs": [
    {
     "data": {
      "text/plain": [
       "('art', 'compsci', 'history', 'physics', 'stats')"
      ]
     },
     "execution_count": 96,
     "metadata": {},
     "output_type": "execute_result"
    }
   ],
   "source": [
    "tup1"
   ]
  },
  {
   "cell_type": "code",
   "execution_count": 97,
   "id": "3b349733-9626-4db5-b53f-7f3413aed3ac",
   "metadata": {},
   "outputs": [],
   "source": [
    "#in tuple we can not add a new item or delete anything but tuple does everything like list \n"
   ]
  },
  {
   "cell_type": "code",
   "execution_count": 98,
   "id": "b76463d6-8ba2-4287-a926-724353d6da07",
   "metadata": {},
   "outputs": [
    {
     "data": {
      "text/plain": [
       "'art'"
      ]
     },
     "execution_count": 98,
     "metadata": {},
     "output_type": "execute_result"
    }
   ],
   "source": [
    " #indexing via tuple\n",
    "tup2[0]"
   ]
  },
  {
   "cell_type": "code",
   "execution_count": 99,
   "id": "7f82de60-5697-4a16-b589-b5b79fd7ab74",
   "metadata": {},
   "outputs": [
    {
     "data": {
      "text/plain": [
       "'stats'"
      ]
     },
     "execution_count": 99,
     "metadata": {},
     "output_type": "execute_result"
    }
   ],
   "source": [
    "#negative indexing\n",
    "tup2[-1]"
   ]
  },
  {
   "cell_type": "markdown",
   "id": "094ff742-78bb-4baf-b271-da57a2ca4e53",
   "metadata": {},
   "source": [
    "#looping through tuple:\n",
    "for i in tup2:\n",
    "    print(i)"
   ]
  },
  {
   "cell_type": "code",
   "execution_count": 101,
   "id": "f1494eea-494c-42e5-afc5-ecebe77de71d",
   "metadata": {},
   "outputs": [
    {
     "data": {
      "text/plain": [
       "True"
      ]
     },
     "execution_count": 101,
     "metadata": {},
     "output_type": "execute_result"
    }
   ],
   "source": [
    "#membership operator \n",
    "'art' in tup2"
   ]
  },
  {
   "cell_type": "code",
   "execution_count": 102,
   "id": "4bce2724-178d-4017-b9f0-f20321cdb2af",
   "metadata": {},
   "outputs": [
    {
     "data": {
      "text/plain": [
       "('art', 'compsci')"
      ]
     },
     "execution_count": 102,
     "metadata": {},
     "output_type": "execute_result"
    }
   ],
   "source": [
    "#slicing with tuple\n",
    "tup2[0:2]"
   ]
  },
  {
   "cell_type": "markdown",
   "id": "6c353425-3aaa-4bd3-82e5-9325716c1c50",
   "metadata": {},
   "source": [
    "## set\n",
    "- it is unordered and it does not contain any duplicate value\n",
    "- set enclosed with curly braces and seperated by comma\n"
   ]
  },
  {
   "cell_type": "code",
   "execution_count": 103,
   "id": "c06f7c32-5964-42ae-9ad5-ee3b9ecee87b",
   "metadata": {},
   "outputs": [
    {
     "data": {
      "text/plain": [
       "dict"
      ]
     },
     "execution_count": 103,
     "metadata": {},
     "output_type": "execute_result"
    }
   ],
   "source": [
    "set1 = {} #it will create a empty dict\n",
    "type(set1)"
   ]
  },
  {
   "cell_type": "code",
   "execution_count": 104,
   "id": "54ccf34f-943e-4a84-beb6-e1a4a8cacc8b",
   "metadata": {},
   "outputs": [],
   "source": [
    "#in order to create a set we can use set method\n",
    "set2 = set()"
   ]
  },
  {
   "cell_type": "code",
   "execution_count": 105,
   "id": "48516f48-df50-4a46-89dc-d64b161384b8",
   "metadata": {},
   "outputs": [
    {
     "data": {
      "text/plain": [
       "set"
      ]
     },
     "execution_count": 105,
     "metadata": {},
     "output_type": "execute_result"
    }
   ],
   "source": [
    "type(set2)"
   ]
  },
  {
   "cell_type": "code",
   "execution_count": 108,
   "id": "35362c46-379e-43cc-96d4-5d3e78adae56",
   "metadata": {},
   "outputs": [],
   "source": [
    "set3 = {5,} #also using a curly braces will create a set"
   ]
  },
  {
   "cell_type": "code",
   "execution_count": 109,
   "id": "4935f5ac-4b6e-4eec-ae5c-a0c6b8076b34",
   "metadata": {},
   "outputs": [
    {
     "data": {
      "text/plain": [
       "set"
      ]
     },
     "execution_count": 109,
     "metadata": {},
     "output_type": "execute_result"
    }
   ],
   "source": [
    "type(set3)"
   ]
  },
  {
   "cell_type": "code",
   "execution_count": 112,
   "id": "8d944e56-9703-4c20-b088-33fb7e7ff6b1",
   "metadata": {},
   "outputs": [],
   "source": [
    "set5 = {'art', 'math', 'physics'}\n"
   ]
  },
  {
   "cell_type": "code",
   "execution_count": 113,
   "id": "20540974-a507-4f50-94de-e19af72a6c67",
   "metadata": {},
   "outputs": [
    {
     "data": {
      "text/plain": [
       "{'art', 'math', 'physics'}"
      ]
     },
     "execution_count": 113,
     "metadata": {},
     "output_type": "execute_result"
    }
   ],
   "source": [
    "set5"
   ]
  },
  {
   "cell_type": "code",
   "execution_count": 121,
   "id": "74b63d10-c884-4e8e-bf11-d55b834f65b0",
   "metadata": {},
   "outputs": [],
   "source": [
    "#set does not include duplicate\n",
    "set5 = {'art', 'math', 'physics', 'math'}"
   ]
  },
  {
   "cell_type": "code",
   "execution_count": 122,
   "id": "b99e2cdf-780d-4cae-9db3-8c4db95c1b41",
   "metadata": {},
   "outputs": [
    {
     "data": {
      "text/plain": [
       "{'art', 'math', 'physics'}"
      ]
     },
     "execution_count": 122,
     "metadata": {},
     "output_type": "execute_result"
    }
   ],
   "source": [
    "set5"
   ]
  },
  {
   "cell_type": "code",
   "execution_count": 123,
   "id": "d26d417b-6ef5-4f4d-ba2a-7c9e82259c5a",
   "metadata": {},
   "outputs": [
    {
     "data": {
      "text/plain": [
       "True"
      ]
     },
     "execution_count": 123,
     "metadata": {},
     "output_type": "execute_result"
    }
   ],
   "source": [
    "#membership operator\n",
    "#set does it very good other than list and tuple\n",
    "'art' in set5"
   ]
  },
  {
   "cell_type": "code",
   "execution_count": 124,
   "id": "dae3e879-7113-4d51-84aa-1c0e9ab26bda",
   "metadata": {},
   "outputs": [],
   "source": [
    "#adding item in set\n",
    "set5.add(\"english\")"
   ]
  },
  {
   "cell_type": "code",
   "execution_count": 125,
   "id": "fe7c2ad6-aef2-4c4b-9fd3-07d24db50f7d",
   "metadata": {},
   "outputs": [
    {
     "data": {
      "text/plain": [
       "{'art', 'english', 'math', 'physics'}"
      ]
     },
     "execution_count": 125,
     "metadata": {},
     "output_type": "execute_result"
    }
   ],
   "source": [
    "set5"
   ]
  },
  {
   "cell_type": "code",
   "execution_count": 126,
   "id": "52c6e71b-ad88-430c-964f-aea0f8feb576",
   "metadata": {},
   "outputs": [],
   "source": [
    "#remove item from set\n",
    "set5.remove('art')"
   ]
  },
  {
   "cell_type": "code",
   "execution_count": 127,
   "id": "0a1d7f3e-ffb8-4761-b372-b171c6f064a7",
   "metadata": {},
   "outputs": [
    {
     "data": {
      "text/plain": [
       "{'english', 'math', 'physics'}"
      ]
     },
     "execution_count": 127,
     "metadata": {},
     "output_type": "execute_result"
    }
   ],
   "source": [
    "set5"
   ]
  },
  {
   "cell_type": "code",
   "execution_count": 136,
   "id": "31421b00-e947-4d8d-932d-2e199c6963e2",
   "metadata": {},
   "outputs": [
    {
     "data": {
      "text/plain": [
       "{'art', 'education', 'english', 'math', 'physics'}"
      ]
     },
     "execution_count": 136,
     "metadata": {},
     "output_type": "execute_result"
    }
   ],
   "source": [
    "#union operation #it will join 2 sets in one and ignore duplicate\n",
    "set6= {'english', 'math', 'physics','education','art'}\n",
    "set6|set5\n",
    "#set6.union(set5)"
   ]
  },
  {
   "cell_type": "code",
   "execution_count": 137,
   "id": "9e358407-0452-478d-a87e-f63122cc0559",
   "metadata": {},
   "outputs": [
    {
     "data": {
      "text/plain": [
       "{'english', 'math', 'physics'}"
      ]
     },
     "execution_count": 137,
     "metadata": {},
     "output_type": "execute_result"
    }
   ],
   "source": [
    "#intersection #what are the common in those 2 sets\n",
    "set6.intersection(set5)"
   ]
  },
  {
   "cell_type": "code",
   "execution_count": 139,
   "id": "68654cbb-11d6-4e72-a5e5-a4449b26581c",
   "metadata": {},
   "outputs": [
    {
     "data": {
      "text/plain": [
       "{'art', 'education'}"
      ]
     },
     "execution_count": 139,
     "metadata": {},
     "output_type": "execute_result"
    }
   ],
   "source": [
    "#difference  #finding difference\n",
    "set6.difference(set5)"
   ]
  },
  {
   "cell_type": "code",
   "execution_count": null,
   "id": "ce9009fe-8d72-4c23-b716-b5d5e0f0e11c",
   "metadata": {},
   "outputs": [],
   "source": []
  }
 ],
 "metadata": {
  "kernelspec": {
   "display_name": "Python 3 (ipykernel)",
   "language": "python",
   "name": "python3"
  },
  "language_info": {
   "codemirror_mode": {
    "name": "ipython",
    "version": 3
   },
   "file_extension": ".py",
   "mimetype": "text/x-python",
   "name": "python",
   "nbconvert_exporter": "python",
   "pygments_lexer": "ipython3",
   "version": "3.12.10"
  },
  "widgets": {
   "application/vnd.jupyter.widget-state+json": {
    "state": {},
    "version_major": 2,
    "version_minor": 0
   }
  }
 },
 "nbformat": 4,
 "nbformat_minor": 5
}
