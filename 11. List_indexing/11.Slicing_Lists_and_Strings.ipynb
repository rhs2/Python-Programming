{
 "cells": [
  {
   "cell_type": "markdown",
   "id": "fe6b57aa-fff1-4546-8f68-e09c9ac16f9c",
   "metadata": {},
   "source": [
    "## Slicing through lists and Strings"
   ]
  },
  {
   "cell_type": "code",
   "execution_count": 1,
   "id": "5e5fa6fa-8eec-4f34-8d67-b9288a5797b1",
   "metadata": {},
   "outputs": [],
   "source": [
    "list= [1, 2, 3, 4, 5, 6, 7, 8, 9, 10]\n",
    "#      0, 1, 2, 3, 4, 5, 6, 7, 8, 9\n",
    "#     -10,-9,-8,-7,-6,-5,-4,-3,-2,-1\n",
    "#slicing[start:end:step]"
   ]
  },
  {
   "cell_type": "code",
   "execution_count": 2,
   "id": "f8372cf1-49fc-4edb-9e1a-a512386dba7f",
   "metadata": {},
   "outputs": [
    {
     "name": "stdout",
     "output_type": "stream",
     "text": [
      "[1, 2, 3, 4, 5, 6, 7, 8, 9, 10]\n"
     ]
    }
   ],
   "source": [
    "print(list)"
   ]
  },
  {
   "cell_type": "code",
   "execution_count": 4,
   "id": "85230225-5f29-4b3a-bae2-98769d512130",
   "metadata": {},
   "outputs": [
    {
     "name": "stdout",
     "output_type": "stream",
     "text": [
      "1\n",
      "[1, 2, 3, 4, 5]\n"
     ]
    }
   ],
   "source": [
    "#slice through positive indexing\n",
    "list= [1, 2, 3, 4, 5, 6, 7, 8, 9, 10]\n",
    "#      0, 1, 2, 3, 4, 5, 6, 7, 8, 9\n",
    "#     -10,-9,-8,-7,-6,-5,-4,-3,-2,-1\n",
    "\n",
    "#slicing[start:end:step]\n",
    "\n",
    "print(list[0]) #indexing starts from 0 and goes up to n but excluding n\n",
    "print(list[:5]) #print 1 to 5 but in the 6th position index is 6 so  excluding 6"
   ]
  },
  {
   "cell_type": "code",
   "execution_count": 5,
   "id": "ae0f650c-6d3c-4905-8ae7-61cfac387d84",
   "metadata": {},
   "outputs": [
    {
     "name": "stdout",
     "output_type": "stream",
     "text": [
      "[10, 9, 8, 7, 6, 5, 4, 3, 2, 1]\n"
     ]
    }
   ],
   "source": [
    "print(list[::-1]) #negative indexing and reverse the list"
   ]
  },
  {
   "cell_type": "code",
   "execution_count": 8,
   "id": "3ea5b4ae-d2f3-4493-9fd2-1455ce19436d",
   "metadata": {},
   "outputs": [
    {
     "name": "stdout",
     "output_type": "stream",
     "text": [
      "[2, 3]\n"
     ]
    }
   ],
   "source": [
    "print(list[1:3]) #here indexing will start from 1 onwards 3 but excluding 3\n"
   ]
  },
  {
   "cell_type": "code",
   "execution_count": 9,
   "id": "e9e536ac-8971-43ae-98d5-a272592538b7",
   "metadata": {},
   "outputs": [
    {
     "name": "stdout",
     "output_type": "stream",
     "text": [
      "[2, 4, 6, 8]\n"
     ]
    }
   ],
   "source": [
    "print(list[1:8:2]) #here step is 2 so it will skik one number from 1 to 8"
   ]
  },
  {
   "cell_type": "code",
   "execution_count": 11,
   "id": "702c0457-168c-4829-82e4-3c1b295f083e",
   "metadata": {},
   "outputs": [
    {
     "name": "stdout",
     "output_type": "stream",
     "text": [
      "[2, 3, 4, 5]\n"
     ]
    }
   ],
   "source": [
    "#when we blank in the steps it means it is positive 1\n",
    "print(list[1:5])"
   ]
  },
  {
   "cell_type": "code",
   "execution_count": 13,
   "id": "02039d43-2737-4977-97c4-7a51329e173f",
   "metadata": {},
   "outputs": [
    {
     "name": "stdout",
     "output_type": "stream",
     "text": [
      "[10, 9, 8, 7, 6, 5, 4]\n"
     ]
    }
   ],
   "source": [
    "#negative indexing\n",
    "print(list[-1:2:-1]) #at the very last index is -1, so here it goes from -1 to positive 2 and steps is backwords"
   ]
  },
  {
   "cell_type": "code",
   "execution_count": 14,
   "id": "9cf462bd-afa2-471e-bc0d-57eab8f25c02",
   "metadata": {},
   "outputs": [
    {
     "name": "stdout",
     "output_type": "stream",
     "text": [
      "[1, 2, 3, 4, 5, 6, 7, 8, 9, 10]\n"
     ]
    }
   ],
   "source": [
    "#we can make blank on the end option it means it will start from a index we put and goes up to last index\n",
    "print(list[0:])"
   ]
  },
  {
   "cell_type": "code",
   "execution_count": 15,
   "id": "141c8e2e-16d1-4f59-95cc-eace44f88cfe",
   "metadata": {},
   "outputs": [
    {
     "name": "stdout",
     "output_type": "stream",
     "text": [
      "https://www.rhs2.com\n"
     ]
    }
   ],
   "source": [
    "#slicing with strings\n",
    "strings= \"https://www.rhs2.com\"\n",
    "#print the whole url \n",
    "print(strings)"
   ]
  },
  {
   "cell_type": "code",
   "execution_count": 16,
   "id": "918130a7-050d-4483-87d2-3992d457f043",
   "metadata": {},
   "outputs": [
    {
     "name": "stdout",
     "output_type": "stream",
     "text": [
      "https\n"
     ]
    }
   ],
   "source": [
    "#slicing through strings\n",
    "print(strings[0:5])"
   ]
  },
  {
   "cell_type": "code",
   "execution_count": 20,
   "id": "4303b591-b73a-4a82-8730-befe4d0ce2a8",
   "metadata": {},
   "outputs": [
    {
     "name": "stdout",
     "output_type": "stream",
     "text": [
      "moc.2shr.www//:sptth\n"
     ]
    }
   ],
   "source": [
    "#reverse the strings\n",
    "print(strings[::-1])"
   ]
  },
  {
   "cell_type": "code",
   "execution_count": 25,
   "id": "e4fa6fac-5b3b-45d1-9665-0746b8e129df",
   "metadata": {},
   "outputs": [
    {
     "name": "stdout",
     "output_type": "stream",
     "text": [
      "moc.\n"
     ]
    }
   ],
   "source": [
    "#top domain\n",
    "print(strings[-1:-5:-1]) #also put the step is -1 to reverse"
   ]
  },
  {
   "cell_type": "code",
   "execution_count": 28,
   "id": "5e43465e-d00a-459a-8ae9-ae93b9759f9e",
   "metadata": {},
   "outputs": [
    {
     "name": "stdout",
     "output_type": "stream",
     "text": [
      "https://\n"
     ]
    }
   ],
   "source": [
    "#get the https://\n",
    "print(strings[:8])"
   ]
  },
  {
   "cell_type": "code",
   "execution_count": 29,
   "id": "660886b0-676e-49d5-a44a-75e79a275a93",
   "metadata": {},
   "outputs": [
    {
     "name": "stdout",
     "output_type": "stream",
     "text": [
      "6\n"
     ]
    }
   ],
   "source": [
    "#get the indexing by index method\n",
    "print(strings.index('/'))"
   ]
  },
  {
   "cell_type": "code",
   "execution_count": 32,
   "id": "c9ecd6da-3980-4cba-a449-dd567a9be1a6",
   "metadata": {},
   "outputs": [
    {
     "data": {
      "text/plain": [
       "11"
      ]
     },
     "execution_count": 32,
     "metadata": {},
     "output_type": "execute_result"
    }
   ],
   "source": [
    "strings.find('.') #get the index from find method"
   ]
  },
  {
   "cell_type": "code",
   "execution_count": 33,
   "id": "f35c971f-18e5-4c2b-9197-f3c9905b5257",
   "metadata": {},
   "outputs": [
    {
     "data": {
      "text/plain": [
       "17"
      ]
     },
     "execution_count": 33,
     "metadata": {},
     "output_type": "execute_result"
    }
   ],
   "source": [
    "strings.find(\"com\") #here we get the index start for com is 17"
   ]
  },
  {
   "cell_type": "code",
   "execution_count": null,
   "id": "0c1f9e27-6f1c-4f80-9079-78b33c893989",
   "metadata": {},
   "outputs": [],
   "source": []
  }
 ],
 "metadata": {
  "kernelspec": {
   "display_name": "Python 3 (ipykernel)",
   "language": "python",
   "name": "python3"
  },
  "language_info": {
   "codemirror_mode": {
    "name": "ipython",
    "version": 3
   },
   "file_extension": ".py",
   "mimetype": "text/x-python",
   "name": "python",
   "nbconvert_exporter": "python",
   "pygments_lexer": "ipython3",
   "version": "3.12.10"
  },
  "widgets": {
   "application/vnd.jupyter.widget-state+json": {
    "state": {},
    "version_major": 2,
    "version_minor": 0
   }
  }
 },
 "nbformat": 4,
 "nbformat_minor": 5
}
