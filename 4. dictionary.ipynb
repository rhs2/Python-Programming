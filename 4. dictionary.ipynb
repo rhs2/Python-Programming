{
 "cells": [
  {
   "cell_type": "markdown",
   "id": "f6518003-4f70-4131-8416-8ed1298a2f32",
   "metadata": {},
   "source": [
    "## Dictionary\n",
    "- enclosed with {} braces but it has key: value pair"
   ]
  },
  {
   "cell_type": "code",
   "execution_count": 1,
   "id": "80a9190f-cddd-4be1-a78e-a8ad371ff2e3",
   "metadata": {},
   "outputs": [],
   "source": [
    "#key is unique idetifier\n",
    "#key should be immuatble object\n",
    "student = {'name': 'rhs', 'age': 34, 'courses': ['math', 'comsci']}"
   ]
  },
  {
   "cell_type": "code",
   "execution_count": 2,
   "id": "4a39ae75-9b79-4b18-a1a7-b32b7aad5b56",
   "metadata": {},
   "outputs": [
    {
     "data": {
      "text/plain": [
       "{'name': 'rhs', 'age': 34, 'courses': ['math', 'comsci']}"
      ]
     },
     "execution_count": 2,
     "metadata": {},
     "output_type": "execute_result"
    }
   ],
   "source": [
    "student"
   ]
  },
  {
   "cell_type": "code",
   "execution_count": 3,
   "id": "6a245ec0-76f3-414b-b28d-dc636bb49868",
   "metadata": {},
   "outputs": [
    {
     "data": {
      "text/plain": [
       "dict"
      ]
     },
     "execution_count": 3,
     "metadata": {},
     "output_type": "execute_result"
    }
   ],
   "source": [
    "type(student)"
   ]
  },
  {
   "cell_type": "code",
   "execution_count": 4,
   "id": "b26e2ed3-8e46-4edd-9f13-308f229995db",
   "metadata": {},
   "outputs": [
    {
     "name": "stdout",
     "output_type": "stream",
     "text": [
      "rhs\n"
     ]
    }
   ],
   "source": [
    "#accessing by key\n",
    "print(student['name'])"
   ]
  },
  {
   "cell_type": "code",
   "execution_count": 6,
   "id": "26b6e8d1-523e-4a7e-adff-ca77297dda07",
   "metadata": {},
   "outputs": [
    {
     "name": "stdout",
     "output_type": "stream",
     "text": [
      "['math', 'comsci']\n"
     ]
    }
   ],
   "source": [
    "print(student['courses'])"
   ]
  },
  {
   "cell_type": "code",
   "execution_count": 7,
   "id": "aab53bf1-250f-4404-a19a-c1804729b823",
   "metadata": {},
   "outputs": [],
   "source": [
    "#accessing key does not exists gives an key error\n"
   ]
  },
  {
   "cell_type": "code",
   "execution_count": 12,
   "id": "d8e262ca-8eaa-4438-a5f1-9a4fc8eae79c",
   "metadata": {},
   "outputs": [
    {
     "data": {
      "text/plain": [
       "'Not found'"
      ]
     },
     "execution_count": 12,
     "metadata": {},
     "output_type": "execute_result"
    }
   ],
   "source": [
    "#instead of getting key error we can use get() method\n",
    "student.get('phone', 'Not found')"
   ]
  },
  {
   "cell_type": "code",
   "execution_count": 13,
   "id": "4e911b73-718b-4c74-bb10-d64e83f8b9dd",
   "metadata": {},
   "outputs": [
    {
     "data": {
      "text/plain": [
       "{'name': 'rhs', 'age': 34, 'courses': ['math', 'comsci']}"
      ]
     },
     "execution_count": 13,
     "metadata": {},
     "output_type": "execute_result"
    }
   ],
   "source": [
    "student"
   ]
  },
  {
   "cell_type": "code",
   "execution_count": 14,
   "id": "d56df87b-47bc-405e-8e1f-2167aab1e44d",
   "metadata": {},
   "outputs": [],
   "source": [
    "#adding a new item in dict\n",
    "student['phone'] = '555-484-5746'\n",
    "# if a key is already exist then if we use that it will update the value of the key"
   ]
  },
  {
   "cell_type": "code",
   "execution_count": 15,
   "id": "760041db-cf57-4efb-8bd6-a99b8b89587d",
   "metadata": {},
   "outputs": [
    {
     "data": {
      "text/plain": [
       "{'name': 'rhs',\n",
       " 'age': 34,\n",
       " 'courses': ['math', 'comsci'],\n",
       " 'phone': '555-484-5746'}"
      ]
     },
     "execution_count": 15,
     "metadata": {},
     "output_type": "execute_result"
    }
   ],
   "source": [
    "student"
   ]
  },
  {
   "cell_type": "code",
   "execution_count": 17,
   "id": "c001c4cd-bdb5-4848-9e3a-88ac494d2dd7",
   "metadata": {},
   "outputs": [],
   "source": [
    "student['name']= 'jane'"
   ]
  },
  {
   "cell_type": "code",
   "execution_count": 18,
   "id": "93215ca9-7c25-457b-a54c-a5a6d9111408",
   "metadata": {},
   "outputs": [
    {
     "data": {
      "text/plain": [
       "{'name': 'jane',\n",
       " 'age': 34,\n",
       " 'courses': ['math', 'comsci'],\n",
       " 'phone': '555-484-5746'}"
      ]
     },
     "execution_count": 18,
     "metadata": {},
     "output_type": "execute_result"
    }
   ],
   "source": [
    "student"
   ]
  },
  {
   "cell_type": "code",
   "execution_count": 19,
   "id": "81a45d5d-1b0d-48eb-bbfb-3472bd35a992",
   "metadata": {},
   "outputs": [],
   "source": [
    "#update method\n",
    "student.update({'name': 'sio', 'age': 30})"
   ]
  },
  {
   "cell_type": "code",
   "execution_count": 20,
   "id": "c27ee042-7eb8-4808-80d9-208a5f5a6b21",
   "metadata": {},
   "outputs": [
    {
     "data": {
      "text/plain": [
       "{'name': 'sio',\n",
       " 'age': 30,\n",
       " 'courses': ['math', 'comsci'],\n",
       " 'phone': '555-484-5746'}"
      ]
     },
     "execution_count": 20,
     "metadata": {},
     "output_type": "execute_result"
    }
   ],
   "source": [
    "student"
   ]
  },
  {
   "cell_type": "code",
   "execution_count": 21,
   "id": "38b86051-a101-4b93-a725-dd56c2918ef3",
   "metadata": {},
   "outputs": [],
   "source": [
    "#deleting by del method\n",
    "del student['age']"
   ]
  },
  {
   "cell_type": "code",
   "execution_count": 22,
   "id": "ec8c83b3-8c26-4423-a3b4-67b07c5770a1",
   "metadata": {},
   "outputs": [
    {
     "data": {
      "text/plain": [
       "{'name': 'sio', 'courses': ['math', 'comsci'], 'phone': '555-484-5746'}"
      ]
     },
     "execution_count": 22,
     "metadata": {},
     "output_type": "execute_result"
    }
   ],
   "source": [
    "student"
   ]
  },
  {
   "cell_type": "code",
   "execution_count": 24,
   "id": "e2a9da9e-ea04-4886-80da-062be3e3ae13",
   "metadata": {},
   "outputs": [],
   "source": [
    "#deleting by pop method and pop return the value so we can store it in another variable\n",
    "popped = student.pop('courses')"
   ]
  },
  {
   "cell_type": "code",
   "execution_count": 25,
   "id": "772f3fbd-49fe-4735-9d3d-7532bf93065d",
   "metadata": {},
   "outputs": [
    {
     "data": {
      "text/plain": [
       "['math', 'comsci']"
      ]
     },
     "execution_count": 25,
     "metadata": {},
     "output_type": "execute_result"
    }
   ],
   "source": [
    "popped"
   ]
  },
  {
   "cell_type": "code",
   "execution_count": 26,
   "id": "4af5c8db-8b3a-400c-9a80-f901e1f67d02",
   "metadata": {},
   "outputs": [
    {
     "data": {
      "text/plain": [
       "2"
      ]
     },
     "execution_count": 26,
     "metadata": {},
     "output_type": "execute_result"
    }
   ],
   "source": [
    "#length of the keys in dict \n",
    "len(student)"
   ]
  },
  {
   "cell_type": "code",
   "execution_count": 27,
   "id": "e7c20e7c-064b-4306-a0e4-9947ca39efd6",
   "metadata": {},
   "outputs": [
    {
     "data": {
      "text/plain": [
       "{'name': 'sio', 'phone': '555-484-5746'}"
      ]
     },
     "execution_count": 27,
     "metadata": {},
     "output_type": "execute_result"
    }
   ],
   "source": [
    "student"
   ]
  },
  {
   "cell_type": "code",
   "execution_count": 28,
   "id": "21b4c6be-5c71-435b-899d-9b6a93e955f8",
   "metadata": {},
   "outputs": [
    {
     "data": {
      "text/plain": [
       "dict_keys(['name', 'phone'])"
      ]
     },
     "execution_count": 28,
     "metadata": {},
     "output_type": "execute_result"
    }
   ],
   "source": [
    "#getting the keys from a dict\n",
    "student.keys()"
   ]
  },
  {
   "cell_type": "code",
   "execution_count": 29,
   "id": "502ccc93-65d8-439c-94b6-23a083fd316f",
   "metadata": {},
   "outputs": [
    {
     "data": {
      "text/plain": [
       "dict_values(['sio', '555-484-5746'])"
      ]
     },
     "execution_count": 29,
     "metadata": {},
     "output_type": "execute_result"
    }
   ],
   "source": [
    "#getting the values from a dict\n",
    "student.values()"
   ]
  },
  {
   "cell_type": "code",
   "execution_count": 30,
   "id": "020a552a-5599-4631-aa8d-aebf66137b14",
   "metadata": {},
   "outputs": [
    {
     "data": {
      "text/plain": [
       "dict_items([('name', 'sio'), ('phone', '555-484-5746')])"
      ]
     },
     "execution_count": 30,
     "metadata": {},
     "output_type": "execute_result"
    }
   ],
   "source": [
    "#to check key and values together\n",
    "student.items()"
   ]
  },
  {
   "cell_type": "code",
   "execution_count": 31,
   "id": "dbafb9b0-91b7-40cc-918e-a460508a3d95",
   "metadata": {},
   "outputs": [
    {
     "data": {
      "text/plain": [
       "['__class__',\n",
       " '__class_getitem__',\n",
       " '__contains__',\n",
       " '__delattr__',\n",
       " '__delitem__',\n",
       " '__dir__',\n",
       " '__doc__',\n",
       " '__eq__',\n",
       " '__format__',\n",
       " '__ge__',\n",
       " '__getattribute__',\n",
       " '__getitem__',\n",
       " '__getstate__',\n",
       " '__gt__',\n",
       " '__hash__',\n",
       " '__init__',\n",
       " '__init_subclass__',\n",
       " '__ior__',\n",
       " '__iter__',\n",
       " '__le__',\n",
       " '__len__',\n",
       " '__lt__',\n",
       " '__ne__',\n",
       " '__new__',\n",
       " '__or__',\n",
       " '__reduce__',\n",
       " '__reduce_ex__',\n",
       " '__repr__',\n",
       " '__reversed__',\n",
       " '__ror__',\n",
       " '__setattr__',\n",
       " '__setitem__',\n",
       " '__sizeof__',\n",
       " '__str__',\n",
       " '__subclasshook__',\n",
       " 'clear',\n",
       " 'copy',\n",
       " 'fromkeys',\n",
       " 'get',\n",
       " 'items',\n",
       " 'keys',\n",
       " 'pop',\n",
       " 'popitem',\n",
       " 'setdefault',\n",
       " 'update',\n",
       " 'values']"
      ]
     },
     "execution_count": 31,
     "metadata": {},
     "output_type": "execute_result"
    }
   ],
   "source": [
    "#checking up the dict method\n",
    "dir(dict)"
   ]
  },
  {
   "cell_type": "code",
   "execution_count": 34,
   "id": "ec447064-85ce-45eb-bdc9-1fb0c3bd46e4",
   "metadata": {},
   "outputs": [
    {
     "name": "stdout",
     "output_type": "stream",
     "text": [
      "name\n",
      "phone\n"
     ]
    }
   ],
   "source": [
    "#loop through the dict #it will just loop through the keys of the dict\n",
    "for key in student:\n",
    "    print(key)"
   ]
  },
  {
   "cell_type": "code",
   "execution_count": 35,
   "id": "0b605e59-e7b1-4da7-8cd4-82589d77ae7f",
   "metadata": {},
   "outputs": [
    {
     "name": "stdout",
     "output_type": "stream",
     "text": [
      "name sio\n",
      "phone 555-484-5746\n"
     ]
    }
   ],
   "source": [
    "#loop through key and values pairs\n",
    "for key, items in student.items():\n",
    "    print(key, items)"
   ]
  },
  {
   "cell_type": "code",
   "execution_count": null,
   "id": "a5d9a359-0690-4e14-ae9f-b8e69ec4b985",
   "metadata": {},
   "outputs": [],
   "source": []
  }
 ],
 "metadata": {
  "kernelspec": {
   "display_name": "Python 3 (ipykernel)",
   "language": "python",
   "name": "python3"
  },
  "language_info": {
   "codemirror_mode": {
    "name": "ipython",
    "version": 3
   },
   "file_extension": ".py",
   "mimetype": "text/x-python",
   "name": "python",
   "nbconvert_exporter": "python",
   "pygments_lexer": "ipython3",
   "version": "3.12.10"
  },
  "widgets": {
   "application/vnd.jupyter.widget-state+json": {
    "state": {},
    "version_major": 2,
    "version_minor": 0
   }
  }
 },
 "nbformat": 4,
 "nbformat_minor": 5
}
