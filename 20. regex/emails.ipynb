{
 "cells": [
  {
   "cell_type": "code",
   "execution_count": null,
   "id": "85a6f52c-26ee-4d1b-9c5d-045ded241f3e",
   "metadata": {},
   "outputs": [],
   "source": [
    "\n",
    "# .       - Any Character Except New Line\n",
    "# \\d      - Digit (0-9)\n",
    "# \\D      - Not a Digit (0-9)\n",
    "# \\w      - Word Character (a-z, A-Z, 0-9, _)\n",
    "# \\W      - Not a Word Character\n",
    "# \\s      - Whitespace (space, tab, newline)\n",
    "# \\S      - Not Whitespace (space, tab, newline)\n",
    "\n",
    "# \\b      - Word Boundary\n",
    "# \\B      - Not a Word Boundary\n",
    "# ^       - Beginning of a String\n",
    "# $       - End of a String\n",
    "\n",
    "# []      - Matches Characters in brackets\n",
    "# [^ ]    - Matches Characters NOT in brackets\n",
    "# |       - Either Or\n",
    "# ( )     - Group\n",
    "\n",
    "# Quantifiers:\n",
    "# *       - 0 or More\n",
    "# +       - 1 or More\n",
    "# ?       - 0 or One\n",
    "# {3}     - Exact Number\n",
    "# {3,4}   - Range of Numbers (Minimum, Maximum)\n",
    "\n",
    "\n",
    "# #### Sample Regexs ####\n",
    "\n",
    "# [a-zA-Z0-9_.+-]+@[a-zA-Z0-9-]+\\.[a-zA-Z0-9-.]+'''"
   ]
  },
  {
   "cell_type": "code",
   "execution_count": 84,
   "id": "5d4bae12-e080-4bc5-8bca-2492e73ca799",
   "metadata": {},
   "outputs": [
    {
     "name": "stdout",
     "output_type": "stream",
     "text": [
      "<re.Match object; span=(1, 24), match='CoreyMSchafer@gmail.com'>\n",
      "<re.Match object; span=(25, 53), match='corey.schafer@university.edu'>\n",
      "<re.Match object; span=(54, 83), match='corey-321-schafer@my-work.net'>\n"
     ]
    }
   ],
   "source": [
    "#Finding emails \n",
    "#Mine was is better\n",
    "import re\n",
    "\n",
    "emails = '''\n",
    "CoreyMSchafer@gmail.com\n",
    "corey.schafer@university.edu\n",
    "corey-321-schafer@my-work.net\n",
    "'''\n",
    "pattern = re.compile(r\"[\\w.-]+@[\\w.-]+\")\n",
    "matches = pattern.finditer(emails)\n",
    "for match in matches:\n",
    "    print(match)"
   ]
  },
  {
   "cell_type": "code",
   "execution_count": 88,
   "id": "24fc54ee-f716-49d8-a3a8-0beb2291ae3b",
   "metadata": {},
   "outputs": [
    {
     "name": "stdout",
     "output_type": "stream",
     "text": [
      "<re.Match object; span=(1, 24), match='CoreyMSchafer@gmail.com'>\n",
      "<re.Match object; span=(25, 53), match='corey.schafer@university.edu'>\n",
      "<re.Match object; span=(54, 83), match='corey-321-schafer@my-work.net'>\n"
     ]
    }
   ],
   "source": [
    "#Finding emails \n",
    "import re\n",
    "\n",
    "emails = '''\n",
    "CoreyMSchafer@gmail.com\n",
    "corey.schafer@university.edu\n",
    "corey-321-schafer@my-work.net\n",
    "'''\n",
    "pattern = re.compile(r\"[a-zA-Z0-9.-]+@[a-zA-Z0-9.-]+(com|edu|net)\")\n",
    "matches = pattern.finditer(emails)\n",
    "for match in matches:\n",
    "    print(match)"
   ]
  },
  {
   "cell_type": "code",
   "execution_count": 94,
   "id": "3e8a9834-25dc-4875-93f0-01e9c809e197",
   "metadata": {},
   "outputs": [
    {
     "name": "stdout",
     "output_type": "stream",
     "text": [
      "<re.Match object; span=(1, 24), match='CoreyMSchafer@gmail.com'>\n",
      "<re.Match object; span=(25, 53), match='corey.schafer@university.edu'>\n",
      "<re.Match object; span=(54, 83), match='corey-321-schafer@my-work.net'>\n"
     ]
    }
   ],
   "source": [
    "#Finding emails \n",
    "import re\n",
    "\n",
    "emails = '''\n",
    "CoreyMSchafer@gmail.com\n",
    "corey.schafer@university.edu\n",
    "corey-321-schafer@my-work.net\n",
    "'''\n",
    "pattern = re.compile(r\"[\\w.-]+@[\\w.-]+\")\n",
    "matches = pattern.finditer(emails)\n",
    "for match in matches:\n",
    "    print(match)"
   ]
  },
  {
   "cell_type": "code",
   "execution_count": 92,
   "id": "00c949fe-573a-4252-98b2-d556509b6f77",
   "metadata": {},
   "outputs": [
    {
     "name": "stdout",
     "output_type": "stream",
     "text": [
      "<re.Match object; span=(1, 24), match='CoreyMSchafer@gmail.com'>\n",
      "<re.Match object; span=(25, 53), match='corey.schafer@university.edu'>\n",
      "<re.Match object; span=(54, 83), match='corey-321-schafer@my-work.net'>\n"
     ]
    }
   ],
   "source": [
    "import re\n",
    "\n",
    "emails = '''\n",
    "CoreyMSchafer@gmail.com\n",
    "corey.schafer@university.edu\n",
    "corey-321-schafer@my-work.net\n",
    "'''\n",
    "pattern = re.compile(r\"[a-zA-Z0-9_.+-]+@[a-zA-Z0-9-]+\\.[a-zA-Z0-9-.]+\")\n",
    "matches = pattern.finditer(emails)\n",
    "for match in matches:\n",
    "    print(match)"
   ]
  },
  {
   "cell_type": "code",
   "execution_count": null,
   "id": "5be1bcd2-72f7-49da-8b39-b532294a1898",
   "metadata": {},
   "outputs": [],
   "source": []
  }
 ],
 "metadata": {
  "kernelspec": {
   "display_name": "Python 3 (ipykernel)",
   "language": "python",
   "name": "python3"
  },
  "language_info": {
   "codemirror_mode": {
    "name": "ipython",
    "version": 3
   },
   "file_extension": ".py",
   "mimetype": "text/x-python",
   "name": "python",
   "nbconvert_exporter": "python",
   "pygments_lexer": "ipython3",
   "version": "3.12.10"
  },
  "widgets": {
   "application/vnd.jupyter.widget-state+json": {
    "state": {},
    "version_major": 2,
    "version_minor": 0
   }
  }
 },
 "nbformat": 4,
 "nbformat_minor": 5
}
