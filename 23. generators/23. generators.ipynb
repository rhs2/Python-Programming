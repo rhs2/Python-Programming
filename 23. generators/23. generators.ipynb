{
 "cells": [
  {
   "cell_type": "markdown",
   "id": "f7d21052-a7e4-4bd9-86b6-336111f85fd1",
   "metadata": {},
   "source": [
    "## Working with generators\n",
    "- keywords ---> yield"
   ]
  },
  {
   "cell_type": "code",
   "execution_count": 2,
   "id": "aec5c789-1848-4149-b685-491a2c1dcde1",
   "metadata": {},
   "outputs": [
    {
     "name": "stdout",
     "output_type": "stream",
     "text": [
      "[1, 4, 9, 16, 25, 36, 49]\n"
     ]
    }
   ],
   "source": [
    "#normal way to do the sqaure for a list\n",
    "def square_numbers(nums):\n",
    "    result = []\n",
    "    for i in nums:\n",
    "        result.append(i*i)\n",
    "    return result\n",
    "my_nums = square_numbers([1,2,3,4,5,6,7])\n",
    "print(my_nums)"
   ]
  },
  {
   "cell_type": "code",
   "execution_count": 4,
   "id": "4a571a92-e152-4150-a197-9002198321f7",
   "metadata": {},
   "outputs": [
    {
     "name": "stdout",
     "output_type": "stream",
     "text": [
      "[1, 4, 9, 16, 25, 36, 49]\n"
     ]
    }
   ],
   "source": [
    "#list comprehension\n",
    "square = [x*x for x in list(range(1,8))]\n",
    "print(square)"
   ]
  },
  {
   "cell_type": "code",
   "execution_count": 5,
   "id": "54023f8c-7e4e-4970-a7f9-eecae6c8bf48",
   "metadata": {},
   "outputs": [
    {
     "name": "stdout",
     "output_type": "stream",
     "text": [
      "<generator object square_numbers at 0x10a4cd490>\n"
     ]
    }
   ],
   "source": [
    "#converting square funtions to generators\n",
    "#normal way to do the sqaure for a list\n",
    "def square_numbers(nums):\n",
    "    for i in nums:\n",
    "        yield i*i #yield keywords make generators\n",
    "my_nums = square_numbers([1,2,3,4,5,6,7])\n",
    "print(my_nums) #generators object is created"
   ]
  },
  {
   "cell_type": "code",
   "execution_count": 12,
   "id": "f5b20cd0-9f79-4292-838b-39886d2c5a6d",
   "metadata": {},
   "outputs": [],
   "source": [
    "#converting square funtions to generators\n",
    "#normal way to do the sqaure for a list\n",
    "#getting each data from a generators\n",
    "def square_numbers(nums):\n",
    "    for i in nums:\n",
    "        yield i*i #yield keywords make generators\n",
    "my_nums = square_numbers([1,2,3,4,5,6,7])\n",
    "# print(next(my_nums))\n",
    "# print(next(my_nums))\n",
    "# print(next(my_nums))\n",
    "# print(next(my_nums))\n",
    "# print(next(my_nums)) #next gives us each value once at a time"
   ]
  },
  {
   "cell_type": "code",
   "execution_count": 13,
   "id": "c556cb7e-77f9-4b34-82c3-08c271533665",
   "metadata": {},
   "outputs": [
    {
     "name": "stdout",
     "output_type": "stream",
     "text": [
      "1\n",
      "4\n",
      "9\n",
      "16\n",
      "25\n",
      "36\n",
      "49\n"
     ]
    }
   ],
   "source": [
    "#we still can loop through a geenrators \n",
    "for num in my_nums:\n",
    "    print(num)"
   ]
  },
  {
   "cell_type": "code",
   "execution_count": 18,
   "id": "7cb6d174-cb11-40f1-83ac-db55d9911f15",
   "metadata": {},
   "outputs": [
    {
     "name": "stdout",
     "output_type": "stream",
     "text": [
      "<generator object <genexpr> at 0x10a4cd220>\n"
     ]
    }
   ],
   "source": [
    "#using list comprehension for geenerators\n",
    "#to create a list comprehension generator we can use () instead of using []\n",
    "list2 = (i*i for i in list(range(1,8)))\n",
    "print(list2) #this will print out the generator memory location"
   ]
  },
  {
   "cell_type": "code",
   "execution_count": 19,
   "id": "43b53359-39d6-4e84-9cbc-98ff3f2618d6",
   "metadata": {},
   "outputs": [
    {
     "name": "stdout",
     "output_type": "stream",
     "text": [
      "1\n",
      "4\n"
     ]
    }
   ],
   "source": [
    "#to get the next value\n",
    "print(next(list2))\n",
    "#to get the next value\n",
    "print(next(list2))"
   ]
  },
  {
   "cell_type": "code",
   "execution_count": 20,
   "id": "010a9ccf-121f-423b-855b-380d3d05a3d1",
   "metadata": {},
   "outputs": [
    {
     "name": "stdout",
     "output_type": "stream",
     "text": [
      "9\n",
      "16\n",
      "25\n",
      "36\n",
      "49\n"
     ]
    }
   ],
   "source": [
    "#loop through the generators\n",
    "#we already print out 1, 4 so it will give us rest of the values\n",
    "for i in list2:\n",
    "    print(i)"
   ]
  },
  {
   "cell_type": "code",
   "execution_count": 23,
   "id": "592b5beb-987d-4226-abee-00b45cbd7725",
   "metadata": {},
   "outputs": [
    {
     "name": "stdout",
     "output_type": "stream",
     "text": [
      "[]\n"
     ]
    }
   ],
   "source": [
    "#we also can convert a geenrator to list just use the list() constructor\n",
    "# a= list(list2)\n",
    "# print(a)\n",
    "#but we lose the perfomance to use the generators"
   ]
  },
  {
   "cell_type": "code",
   "execution_count": 4,
   "id": "effda680-e5e1-487b-838d-42f899c79dc8",
   "metadata": {},
   "outputs": [
    {
     "name": "stdout",
     "output_type": "stream",
     "text": [
      "Memory (Before): 100.140625Mb\n",
      "Memory (After) : 318.390625Mb\n",
      "Took 0.4844173330056947 Seconds\n"
     ]
    }
   ],
   "source": [
    "#as we see here if we run in the list memory takes a lot \n",
    "import mem_profile\n",
    "import random\n",
    "import time\n",
    "\n",
    "names = ['John', 'Corey', 'Adam', 'Steve', 'Rick', 'Thomas']\n",
    "majors = ['Math', 'Engineering', 'CompSci', 'Arts', 'Business']\n",
    "\n",
    "print('Memory (Before): {}Mb'.format(mem_profile.memory_usage_psutil()))\n",
    "\n",
    "def people_list(num_people):\n",
    "    result = []\n",
    "    for i in range(num_people):\n",
    "        person = {\n",
    "                    'id': i,\n",
    "                    'name': random.choice(names),\n",
    "                    'major': random.choice(majors)\n",
    "                }\n",
    "        result.append(person)\n",
    "    return result\n",
    "\n",
    "def people_generator(num_people):\n",
    "    for i in range(num_people):\n",
    "        person = {\n",
    "                    'id': i,\n",
    "                    'name': random.choice(names),\n",
    "                    'major': random.choice(majors)\n",
    "                }\n",
    "        yield person\n",
    "\n",
    "t1 = time.perf_counter()\n",
    "people = people_list(1000000)\n",
    "t2 = time.perf_counter()\n",
    "\n",
    "# t1 = time.perf_counter()\n",
    "# people = people_generator(1000000)\n",
    "# t2 = time.perf_counter()\n",
    "\n",
    "print('Memory (After) : {}Mb'.format(mem_profile.memory_usage_psutil()))\n",
    "print ('Took {} Seconds'.format(t2-t1))"
   ]
  },
  {
   "cell_type": "code",
   "execution_count": 5,
   "id": "8da1b9b4-245a-433d-9158-c5390faa8329",
   "metadata": {},
   "outputs": [
    {
     "name": "stdout",
     "output_type": "stream",
     "text": [
      "Memory (Before): 318.40625Mb\n",
      "Memory (After) : 119.5625Mb\n",
      "Took 0.05945558400708251 Seconds\n"
     ]
    }
   ],
   "source": [
    "#this is for the generator \n",
    "import mem_profile\n",
    "import random\n",
    "import time\n",
    "\n",
    "names = ['John', 'Corey', 'Adam', 'Steve', 'Rick', 'Thomas']\n",
    "majors = ['Math', 'Engineering', 'CompSci', 'Arts', 'Business']\n",
    "\n",
    "print('Memory (Before): {}Mb'.format(mem_profile.memory_usage_psutil()))\n",
    "\n",
    "def people_list(num_people):\n",
    "    result = []\n",
    "    for i in range(num_people):\n",
    "        person = {\n",
    "                    'id': i,\n",
    "                    'name': random.choice(names),\n",
    "                    'major': random.choice(majors)\n",
    "                }\n",
    "        result.append(person)\n",
    "    return result\n",
    "\n",
    "def people_generator(num_people):\n",
    "    for i in range(num_people):\n",
    "        person = {\n",
    "                    'id': i,\n",
    "                    'name': random.choice(names),\n",
    "                    'major': random.choice(majors)\n",
    "                }\n",
    "        yield person\n",
    "\n",
    "# t1 = time.perf_counter()\n",
    "# people = people_list(1000000)\n",
    "# t2 = time.perf_counter()\n",
    "\n",
    "t1 = time.perf_counter()\n",
    "people = people_generator(1000000)\n",
    "t2 = time.perf_counter()\n",
    "\n",
    "print('Memory (After) : {}Mb'.format(mem_profile.memory_usage_psutil()))\n",
    "print ('Took {} Seconds'.format(t2-t1))"
   ]
  },
  {
   "cell_type": "code",
   "execution_count": null,
   "id": "d9534466-4338-4812-a186-bcbd2201396a",
   "metadata": {},
   "outputs": [],
   "source": []
  }
 ],
 "metadata": {
  "kernelspec": {
   "display_name": "Python 3 (ipykernel)",
   "language": "python",
   "name": "python3"
  },
  "language_info": {
   "codemirror_mode": {
    "name": "ipython",
    "version": 3
   },
   "file_extension": ".py",
   "mimetype": "text/x-python",
   "name": "python",
   "nbconvert_exporter": "python",
   "pygments_lexer": "ipython3",
   "version": "3.12.10"
  },
  "widgets": {
   "application/vnd.jupyter.widget-state+json": {
    "state": {},
    "version_major": 2,
    "version_minor": 0
   }
  }
 },
 "nbformat": 4,
 "nbformat_minor": 5
}
