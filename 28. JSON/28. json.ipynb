{
 "cells": [
  {
   "cell_type": "code",
   "execution_count": 1,
   "metadata": {},
   "outputs": [],
   "source": [
    "#JavaScript Object Notation"
   ]
  },
  {
   "cell_type": "code",
   "execution_count": 25,
   "metadata": {},
   "outputs": [],
   "source": [
    "#importing json\n",
    "import json\n",
    "#this is a json string\n",
    "people_script = '''\n",
    "{ \n",
    "    'people': [\n",
    "    {   'name' : \"John Smith\",\n",
    "        'phone' : \"614-555-7164\",\n",
    "        'emails' : ['rhs0@yahoo.com', 'rhs2@yahoo.com'],\n",
    "        'has-licence' : false\n",
    "    },\n",
    "    {   'name' : 'john doe',\n",
    "        'phone' : \"560-444-3746\",\n",
    "        'email' : null,\n",
    "        'has-licence' : true\n",
    "\n",
    "    }\n",
    "    ]\n",
    "}\n",
    "'''"
   ]
  },
  {
   "cell_type": "code",
   "execution_count": 26,
   "metadata": {},
   "outputs": [
    {
     "name": "stdout",
     "output_type": "stream",
     "text": [
      "{'people': [{'name': 'John Smith', 'phone': '614-555-7164', 'emails': ['rhs0@yahoo.com', 'rhs2@yahoo.com'], 'has-licence': False}, {'name': 'john doe', 'phone': '560-444-3746', 'emails': None, 'has-licence': True}]}\n"
     ]
    }
   ],
   "source": [
    "#importing json\n",
    "import json\n",
    "#this is a python string that happend to be a valid json\n",
    "#in the json file we always needs to put double qoute \n",
    "people_string = '''\n",
    "{ \n",
    "    \"people\": [\n",
    "    {   \"name\" : \"John Smith\",\n",
    "        \"phone\" : \"614-555-7164\",\n",
    "        \"emails\" : [\"rhs0@yahoo.com\", \"rhs2@yahoo.com\"],\n",
    "        \"has-licence\" : false\n",
    "    },\n",
    "    {   \"name\": \"john doe\",\n",
    "        \"phone\" : \"560-444-3746\",\n",
    "        \"emails\" : null,\n",
    "        \"has-licence\" : true\n",
    "\n",
    "    }\n",
    "    ]\n",
    "}\n",
    "'''\n",
    "#loading strings in python \n",
    "data = json.loads(people_string)\n",
    "print(data) #data is not clean readable \n",
    "\n"
   ]
  },
  {
   "cell_type": "code",
   "execution_count": 27,
   "metadata": {},
   "outputs": [
    {
     "name": "stdout",
     "output_type": "stream",
     "text": [
      "<class 'dict'>\n"
     ]
    }
   ],
   "source": [
    "print(type(data)) #we can see that the json strings converted to dict\n",
    "#this is a pytho dict\n",
    "#if we load a json object into python it will convert to as \n",
    "#JSON            #PYHTON\n",
    "#object -------> dict\n",
    "#array ---------> list\n",
    "#string --------> str\n",
    "#number(int) ----> int\n",
    "#number(float) ---> float\n",
    "#true -----------> True\n",
    "#false ---------> False\n",
    "#null ----------> None"
   ]
  },
  {
   "cell_type": "code",
   "execution_count": 28,
   "metadata": {},
   "outputs": [
    {
     "name": "stdout",
     "output_type": "stream",
     "text": [
      "{'name': 'John Smith', 'phone': '614-555-7164', 'emails': ['rhs0@yahoo.com', 'rhs2@yahoo.com'], 'has-licence': False}\n",
      "{'name': 'john doe', 'phone': '560-444-3746', 'emails': None, 'has-licence': True}\n"
     ]
    }
   ],
   "source": [
    "#inside that dict as we can see there is a list so can loop through that dict with the key of people\n",
    "for person in data['people']:\n",
    "    print(person)"
   ]
  },
  {
   "cell_type": "code",
   "execution_count": 29,
   "metadata": {},
   "outputs": [
    {
     "name": "stdout",
     "output_type": "stream",
     "text": [
      "John Smith\n",
      "john doe\n"
     ]
    }
   ],
   "source": [
    "#since each of these people in our original json string are object themselves then we can convert those as dict also we can also access those within a loop\n",
    "for person in data['people']:\n",
    "    print(person['name'])"
   ]
  },
  {
   "cell_type": "code",
   "execution_count": 30,
   "metadata": {},
   "outputs": [
    {
     "name": "stdout",
     "output_type": "stream",
     "text": [
      "{\"people\": [{\"name\": \"John Smith\", \"emails\": [\"rhs0@yahoo.com\", \"rhs2@yahoo.com\"], \"has-licence\": false}, {\"name\": \"john doe\", \"emails\": null, \"has-licence\": true}]}\n"
     ]
    }
   ],
   "source": [
    "#we can dump a python object as json string\n",
    "#remove the phone number and dump that to json string\n",
    "for person in data['people']:\n",
    "    del person['phone']\n",
    "new_string = json.dumps(data)\n",
    "print(new_string)\n",
    "#here we can see phone key is deleted"
   ]
  },
  {
   "cell_type": "code",
   "execution_count": 31,
   "metadata": {},
   "outputs": [
    {
     "name": "stdout",
     "output_type": "stream",
     "text": [
      "{\n",
      "  \"people\": [\n",
      "    {\n",
      "      \"name\": \"John Smith\",\n",
      "      \"emails\": [\n",
      "        \"rhs0@yahoo.com\",\n",
      "        \"rhs2@yahoo.com\"\n",
      "      ],\n",
      "      \"has-licence\": false\n",
      "    },\n",
      "    {\n",
      "      \"name\": \"john doe\",\n",
      "      \"emails\": null,\n",
      "      \"has-licence\": true\n",
      "    }\n",
      "  ]\n",
      "}\n"
     ]
    }
   ],
   "source": [
    "#to see the output clearly we can pass in indend argument in the json dumps\n",
    "# for person in data['people']:\n",
    "#     del person['phone']\n",
    "new_string = json.dumps(data, indent = 2)\n",
    "print(new_string) \n",
    "#now we can clearly see the output"
   ]
  },
  {
   "cell_type": "code",
   "execution_count": 33,
   "metadata": {},
   "outputs": [
    {
     "name": "stdout",
     "output_type": "stream",
     "text": [
      "{\n",
      "  \"people\": [\n",
      "    {\n",
      "      \"emails\": [\n",
      "        \"rhs0@yahoo.com\",\n",
      "        \"rhs2@yahoo.com\"\n",
      "      ],\n",
      "      \"has-licence\": false,\n",
      "      \"name\": \"John Smith\"\n",
      "    },\n",
      "    {\n",
      "      \"emails\": null,\n",
      "      \"has-licence\": true,\n",
      "      \"name\": \"john doe\"\n",
      "    }\n",
      "  ]\n",
      "}\n"
     ]
    }
   ],
   "source": [
    "#sorting the keys also we can pass in in the json dumps argument\n",
    "new_string = json.dumps(data, indent = 2, sort_keys = True)\n",
    "print(new_string)"
   ]
  },
  {
   "cell_type": "code",
   "execution_count": 48,
   "metadata": {},
   "outputs": [
    {
     "name": "stdout",
     "output_type": "stream",
     "text": [
      "{'states': [{'name': 'Alabama', 'abbreviation': 'AL', 'area_codes': ['205', '251', '256', '334', '938']}, {'name': 'Alaska', 'abbreviation': 'AK', 'area_codes': ['907']}, {'name': 'Arizona', 'abbreviation': 'AZ', 'area_codes': ['480', '520', '602', '623', '928']}, {'name': 'Arkansas', 'abbreviation': 'AR', 'area_codes': ['479', '501', '870']}, {'name': 'California', 'abbreviation': 'CA', 'area_codes': ['209', '213', '310', '323', '408', '415', '424', '442', '510', '530', '559', '562', '619', '626', '628', '650', '657', '661', '669', '707', '714', '747', '760', '805', '818', '831', '858', '909', '916', '925', '949', '951']}, {'name': 'Colorado', 'abbreviation': 'CO', 'area_codes': ['303', '719', '720', '970']}, {'name': 'Connecticut', 'abbreviation': 'CT', 'area_codes': ['203', '475', '860', '959']}, {'name': 'Delaware', 'abbreviation': 'DE', 'area_codes': ['302']}, {'name': 'Florida', 'abbreviation': 'FL', 'area_codes': ['239', '305', '321', '352', '386', '407', '561', '727', '754', '772', '786', '813', '850', '863', '904', '941', '954']}, {'name': 'Georgia', 'abbreviation': 'GA', 'area_codes': ['229', '404', '470', '478', '678', '706', '762', '770', '912']}, {'name': 'Hawaii', 'abbreviation': 'HI', 'area_codes': ['808']}, {'name': 'Idaho', 'abbreviation': 'ID', 'area_codes': ['208']}, {'name': 'Illinois', 'abbreviation': 'IL', 'area_codes': ['217', '224', '309', '312', '331', '618', '630', '708', '773', '779', '815', '847', '872']}, {'name': 'Indiana', 'abbreviation': 'IN', 'area_codes': ['219', '260', '317', '463', '574', '765', '812', '930']}, {'name': 'Iowa', 'abbreviation': 'IA', 'area_codes': ['319', '515', '563', '641', '712']}, {'name': 'Kansas', 'abbreviation': 'KS', 'area_codes': ['316', '620', '785', '913']}, {'name': 'Kentucky', 'abbreviation': 'KY', 'area_codes': ['270', '364', '502', '606', '859']}, {'name': 'Louisiana', 'abbreviation': 'LA', 'area_codes': ['225', '318', '337', '504', '985']}, {'name': 'Maine', 'abbreviation': 'ME', 'area_codes': ['207']}, {'name': 'Maryland', 'abbreviation': 'MD', 'area_codes': ['240', '301', '410', '443', '667']}, {'name': 'Massachusetts', 'abbreviation': 'MA', 'area_codes': ['339', '351', '413', '508', '617', '774', '781', '857', '978']}, {'name': 'Michigan', 'abbreviation': 'MI', 'area_codes': ['231', '248', '269', '313', '517', '586', '616', '734', '810', '906', '947', '989']}, {'name': 'Minnesota', 'abbreviation': 'MN', 'area_codes': ['218', '320', '507', '612', '651', '763', '952']}, {'name': 'Mississippi', 'abbreviation': 'MS', 'area_codes': ['228', '601', '662', '769']}, {'name': 'Missouri', 'abbreviation': 'MO', 'area_codes': ['314', '417', '573', '636', '660', '816']}, {'name': 'Montana', 'abbreviation': 'MT', 'area_codes': ['406']}, {'name': 'Nebraska', 'abbreviation': 'NE', 'area_codes': ['308', '402', '531']}, {'name': 'Nevada', 'abbreviation': 'NV', 'area_codes': ['702', '725', '775']}, {'name': 'New Hampshire', 'abbreviation': 'NH', 'area_codes': ['603']}, {'name': 'New Jersey', 'abbreviation': 'NJ', 'area_codes': ['201', '551', '609', '732', '848', '856', '862', '908', '973']}, {'name': 'New Mexico', 'abbreviation': 'NM', 'area_codes': ['505', '575']}, {'name': 'New York', 'abbreviation': 'NY', 'area_codes': ['212', '315', '332', '347', '516', '518', '585', '607', '631', '646', '680', '716', '718', '845', '914', '917', '929', '934']}, {'name': 'North Carolina', 'abbreviation': 'NC', 'area_codes': ['252', '336', '704', '743', '828', '910', '919', '980', '984']}, {'name': 'North Dakota', 'abbreviation': 'ND', 'area_codes': ['701']}, {'name': 'Ohio', 'abbreviation': 'OH', 'area_codes': ['216', '220', '234', '330', '380', '419', '440', '513', '567', '614', '740', '937']}, {'name': 'Oklahoma', 'abbreviation': 'OK', 'area_codes': ['405', '539', '580', '918']}, {'name': 'Oregon', 'abbreviation': 'OR', 'area_codes': ['458', '503', '541', '971']}, {'name': 'Pennsylvania', 'abbreviation': 'PA', 'area_codes': ['215', '267', '272', '412', '484', '570', '610', '717', '724', '814', '878']}, {'name': 'Rhode Island', 'abbreviation': 'RI', 'area_codes': ['401']}, {'name': 'South Carolina', 'abbreviation': 'SC', 'area_codes': ['803', '843', '854', '864']}, {'name': 'South Dakota', 'abbreviation': 'SD', 'area_codes': ['605']}, {'name': 'Tennessee', 'abbreviation': 'TN', 'area_codes': ['423', '615', '629', '731', '865', '901', '931']}, {'name': 'Texas', 'abbreviation': 'TX', 'area_codes': ['210', '214', '254', '281', '325', '346', '361', '409', '430', '432', '469', '512', '682', '713', '737', '806', '817', '830', '832', '903', '915', '936', '940', '956', '972', '979']}, {'name': 'Utah', 'abbreviation': 'UT', 'area_codes': ['385', '435', '801']}, {'name': 'Vermont', 'abbreviation': 'VT', 'area_codes': ['802']}, {'name': 'Virginia', 'abbreviation': 'VA', 'area_codes': ['276', '434', '540', '571', '703', '757', '804']}, {'name': 'Washington', 'abbreviation': 'WA', 'area_codes': ['206', '253', '360', '425', '509']}, {'name': 'West Virginia', 'abbreviation': 'WV', 'area_codes': ['304', '681']}, {'name': 'Wisconsin', 'abbreviation': 'WI', 'area_codes': ['262', '414', '534', '608', '715', '920']}, {'name': 'Wyoming', 'abbreviation': 'WY', 'area_codes': ['307']}]}\n"
     ]
    }
   ],
   "source": [
    "#json file manupulations\n",
    "#for file loading we use json.load\n",
    "import json\n",
    "with open (\"states.json\") as f:\n",
    "    data = json.load(f)\n",
    "print(data)\n"
   ]
  },
  {
   "cell_type": "code",
   "execution_count": 49,
   "metadata": {},
   "outputs": [
    {
     "name": "stdout",
     "output_type": "stream",
     "text": [
      "{'name': 'Alabama', 'abbreviation': 'AL', 'area_codes': ['205', '251', '256', '334', '938']}\n",
      "{'name': 'Alaska', 'abbreviation': 'AK', 'area_codes': ['907']}\n",
      "{'name': 'Arizona', 'abbreviation': 'AZ', 'area_codes': ['480', '520', '602', '623', '928']}\n",
      "{'name': 'Arkansas', 'abbreviation': 'AR', 'area_codes': ['479', '501', '870']}\n",
      "{'name': 'California', 'abbreviation': 'CA', 'area_codes': ['209', '213', '310', '323', '408', '415', '424', '442', '510', '530', '559', '562', '619', '626', '628', '650', '657', '661', '669', '707', '714', '747', '760', '805', '818', '831', '858', '909', '916', '925', '949', '951']}\n",
      "{'name': 'Colorado', 'abbreviation': 'CO', 'area_codes': ['303', '719', '720', '970']}\n",
      "{'name': 'Connecticut', 'abbreviation': 'CT', 'area_codes': ['203', '475', '860', '959']}\n",
      "{'name': 'Delaware', 'abbreviation': 'DE', 'area_codes': ['302']}\n",
      "{'name': 'Florida', 'abbreviation': 'FL', 'area_codes': ['239', '305', '321', '352', '386', '407', '561', '727', '754', '772', '786', '813', '850', '863', '904', '941', '954']}\n",
      "{'name': 'Georgia', 'abbreviation': 'GA', 'area_codes': ['229', '404', '470', '478', '678', '706', '762', '770', '912']}\n",
      "{'name': 'Hawaii', 'abbreviation': 'HI', 'area_codes': ['808']}\n",
      "{'name': 'Idaho', 'abbreviation': 'ID', 'area_codes': ['208']}\n",
      "{'name': 'Illinois', 'abbreviation': 'IL', 'area_codes': ['217', '224', '309', '312', '331', '618', '630', '708', '773', '779', '815', '847', '872']}\n",
      "{'name': 'Indiana', 'abbreviation': 'IN', 'area_codes': ['219', '260', '317', '463', '574', '765', '812', '930']}\n",
      "{'name': 'Iowa', 'abbreviation': 'IA', 'area_codes': ['319', '515', '563', '641', '712']}\n",
      "{'name': 'Kansas', 'abbreviation': 'KS', 'area_codes': ['316', '620', '785', '913']}\n",
      "{'name': 'Kentucky', 'abbreviation': 'KY', 'area_codes': ['270', '364', '502', '606', '859']}\n",
      "{'name': 'Louisiana', 'abbreviation': 'LA', 'area_codes': ['225', '318', '337', '504', '985']}\n",
      "{'name': 'Maine', 'abbreviation': 'ME', 'area_codes': ['207']}\n",
      "{'name': 'Maryland', 'abbreviation': 'MD', 'area_codes': ['240', '301', '410', '443', '667']}\n",
      "{'name': 'Massachusetts', 'abbreviation': 'MA', 'area_codes': ['339', '351', '413', '508', '617', '774', '781', '857', '978']}\n",
      "{'name': 'Michigan', 'abbreviation': 'MI', 'area_codes': ['231', '248', '269', '313', '517', '586', '616', '734', '810', '906', '947', '989']}\n",
      "{'name': 'Minnesota', 'abbreviation': 'MN', 'area_codes': ['218', '320', '507', '612', '651', '763', '952']}\n",
      "{'name': 'Mississippi', 'abbreviation': 'MS', 'area_codes': ['228', '601', '662', '769']}\n",
      "{'name': 'Missouri', 'abbreviation': 'MO', 'area_codes': ['314', '417', '573', '636', '660', '816']}\n",
      "{'name': 'Montana', 'abbreviation': 'MT', 'area_codes': ['406']}\n",
      "{'name': 'Nebraska', 'abbreviation': 'NE', 'area_codes': ['308', '402', '531']}\n",
      "{'name': 'Nevada', 'abbreviation': 'NV', 'area_codes': ['702', '725', '775']}\n",
      "{'name': 'New Hampshire', 'abbreviation': 'NH', 'area_codes': ['603']}\n",
      "{'name': 'New Jersey', 'abbreviation': 'NJ', 'area_codes': ['201', '551', '609', '732', '848', '856', '862', '908', '973']}\n",
      "{'name': 'New Mexico', 'abbreviation': 'NM', 'area_codes': ['505', '575']}\n",
      "{'name': 'New York', 'abbreviation': 'NY', 'area_codes': ['212', '315', '332', '347', '516', '518', '585', '607', '631', '646', '680', '716', '718', '845', '914', '917', '929', '934']}\n",
      "{'name': 'North Carolina', 'abbreviation': 'NC', 'area_codes': ['252', '336', '704', '743', '828', '910', '919', '980', '984']}\n",
      "{'name': 'North Dakota', 'abbreviation': 'ND', 'area_codes': ['701']}\n",
      "{'name': 'Ohio', 'abbreviation': 'OH', 'area_codes': ['216', '220', '234', '330', '380', '419', '440', '513', '567', '614', '740', '937']}\n",
      "{'name': 'Oklahoma', 'abbreviation': 'OK', 'area_codes': ['405', '539', '580', '918']}\n",
      "{'name': 'Oregon', 'abbreviation': 'OR', 'area_codes': ['458', '503', '541', '971']}\n",
      "{'name': 'Pennsylvania', 'abbreviation': 'PA', 'area_codes': ['215', '267', '272', '412', '484', '570', '610', '717', '724', '814', '878']}\n",
      "{'name': 'Rhode Island', 'abbreviation': 'RI', 'area_codes': ['401']}\n",
      "{'name': 'South Carolina', 'abbreviation': 'SC', 'area_codes': ['803', '843', '854', '864']}\n",
      "{'name': 'South Dakota', 'abbreviation': 'SD', 'area_codes': ['605']}\n",
      "{'name': 'Tennessee', 'abbreviation': 'TN', 'area_codes': ['423', '615', '629', '731', '865', '901', '931']}\n",
      "{'name': 'Texas', 'abbreviation': 'TX', 'area_codes': ['210', '214', '254', '281', '325', '346', '361', '409', '430', '432', '469', '512', '682', '713', '737', '806', '817', '830', '832', '903', '915', '936', '940', '956', '972', '979']}\n",
      "{'name': 'Utah', 'abbreviation': 'UT', 'area_codes': ['385', '435', '801']}\n",
      "{'name': 'Vermont', 'abbreviation': 'VT', 'area_codes': ['802']}\n",
      "{'name': 'Virginia', 'abbreviation': 'VA', 'area_codes': ['276', '434', '540', '571', '703', '757', '804']}\n",
      "{'name': 'Washington', 'abbreviation': 'WA', 'area_codes': ['206', '253', '360', '425', '509']}\n",
      "{'name': 'West Virginia', 'abbreviation': 'WV', 'area_codes': ['304', '681']}\n",
      "{'name': 'Wisconsin', 'abbreviation': 'WI', 'area_codes': ['262', '414', '534', '608', '715', '920']}\n",
      "{'name': 'Wyoming', 'abbreviation': 'WY', 'area_codes': ['307']}\n"
     ]
    }
   ],
   "source": [
    "#loop through data file\n",
    "for state in data['states']:\n",
    "    print(state)"
   ]
  },
  {
   "cell_type": "code",
   "execution_count": 50,
   "metadata": {},
   "outputs": [
    {
     "name": "stdout",
     "output_type": "stream",
     "text": [
      "Alabama AL\n",
      "Alaska AK\n",
      "Arizona AZ\n",
      "Arkansas AR\n",
      "California CA\n",
      "Colorado CO\n",
      "Connecticut CT\n",
      "Delaware DE\n",
      "Florida FL\n",
      "Georgia GA\n",
      "Hawaii HI\n",
      "Idaho ID\n",
      "Illinois IL\n",
      "Indiana IN\n",
      "Iowa IA\n",
      "Kansas KS\n",
      "Kentucky KY\n",
      "Louisiana LA\n",
      "Maine ME\n",
      "Maryland MD\n",
      "Massachusetts MA\n",
      "Michigan MI\n",
      "Minnesota MN\n",
      "Mississippi MS\n",
      "Missouri MO\n",
      "Montana MT\n",
      "Nebraska NE\n",
      "Nevada NV\n",
      "New Hampshire NH\n",
      "New Jersey NJ\n",
      "New Mexico NM\n",
      "New York NY\n",
      "North Carolina NC\n",
      "North Dakota ND\n",
      "Ohio OH\n",
      "Oklahoma OK\n",
      "Oregon OR\n",
      "Pennsylvania PA\n",
      "Rhode Island RI\n",
      "South Carolina SC\n",
      "South Dakota SD\n",
      "Tennessee TN\n",
      "Texas TX\n",
      "Utah UT\n",
      "Vermont VT\n",
      "Virginia VA\n",
      "Washington WA\n",
      "West Virginia WV\n",
      "Wisconsin WI\n",
      "Wyoming WY\n"
     ]
    }
   ],
   "source": [
    "#print states names and abbreviations\n",
    "for state in data['states']:\n",
    "    print(state['name'], state['abbreviation'])"
   ]
  },
  {
   "cell_type": "code",
   "execution_count": 51,
   "metadata": {},
   "outputs": [],
   "source": [
    "#make a python object out to a json file\n",
    "#remove area code and return back the file to json file\n",
    "for state in data['states']:\n",
    "    del state['area_codes']\n",
    "#now we have to write that file\n",
    "with open('new_states.json', 'w') as f:\n",
    "    json.dump(data, f, indent = 2 )\n"
   ]
  },
  {
   "cell_type": "code",
   "execution_count": 52,
   "metadata": {},
   "outputs": [
    {
     "name": "stdout",
     "output_type": "stream",
     "text": [
      "{'states': [{'name': 'Alabama', 'abbreviation': 'AL'}, {'name': 'Alaska', 'abbreviation': 'AK'}, {'name': 'Arizona', 'abbreviation': 'AZ'}, {'name': 'Arkansas', 'abbreviation': 'AR'}, {'name': 'California', 'abbreviation': 'CA'}, {'name': 'Colorado', 'abbreviation': 'CO'}, {'name': 'Connecticut', 'abbreviation': 'CT'}, {'name': 'Delaware', 'abbreviation': 'DE'}, {'name': 'Florida', 'abbreviation': 'FL'}, {'name': 'Georgia', 'abbreviation': 'GA'}, {'name': 'Hawaii', 'abbreviation': 'HI'}, {'name': 'Idaho', 'abbreviation': 'ID'}, {'name': 'Illinois', 'abbreviation': 'IL'}, {'name': 'Indiana', 'abbreviation': 'IN'}, {'name': 'Iowa', 'abbreviation': 'IA'}, {'name': 'Kansas', 'abbreviation': 'KS'}, {'name': 'Kentucky', 'abbreviation': 'KY'}, {'name': 'Louisiana', 'abbreviation': 'LA'}, {'name': 'Maine', 'abbreviation': 'ME'}, {'name': 'Maryland', 'abbreviation': 'MD'}, {'name': 'Massachusetts', 'abbreviation': 'MA'}, {'name': 'Michigan', 'abbreviation': 'MI'}, {'name': 'Minnesota', 'abbreviation': 'MN'}, {'name': 'Mississippi', 'abbreviation': 'MS'}, {'name': 'Missouri', 'abbreviation': 'MO'}, {'name': 'Montana', 'abbreviation': 'MT'}, {'name': 'Nebraska', 'abbreviation': 'NE'}, {'name': 'Nevada', 'abbreviation': 'NV'}, {'name': 'New Hampshire', 'abbreviation': 'NH'}, {'name': 'New Jersey', 'abbreviation': 'NJ'}, {'name': 'New Mexico', 'abbreviation': 'NM'}, {'name': 'New York', 'abbreviation': 'NY'}, {'name': 'North Carolina', 'abbreviation': 'NC'}, {'name': 'North Dakota', 'abbreviation': 'ND'}, {'name': 'Ohio', 'abbreviation': 'OH'}, {'name': 'Oklahoma', 'abbreviation': 'OK'}, {'name': 'Oregon', 'abbreviation': 'OR'}, {'name': 'Pennsylvania', 'abbreviation': 'PA'}, {'name': 'Rhode Island', 'abbreviation': 'RI'}, {'name': 'South Carolina', 'abbreviation': 'SC'}, {'name': 'South Dakota', 'abbreviation': 'SD'}, {'name': 'Tennessee', 'abbreviation': 'TN'}, {'name': 'Texas', 'abbreviation': 'TX'}, {'name': 'Utah', 'abbreviation': 'UT'}, {'name': 'Vermont', 'abbreviation': 'VT'}, {'name': 'Virginia', 'abbreviation': 'VA'}, {'name': 'Washington', 'abbreviation': 'WA'}, {'name': 'West Virginia', 'abbreviation': 'WV'}, {'name': 'Wisconsin', 'abbreviation': 'WI'}, {'name': 'Wyoming', 'abbreviation': 'WY'}]}\n"
     ]
    }
   ],
   "source": [
    "with open('new_states.json','r') as f:\n",
    "    data = json.load(f)\n",
    "print(data)"
   ]
  },
  {
   "cell_type": "code",
   "execution_count": null,
   "metadata": {},
   "outputs": [],
   "source": []
  },
  {
   "cell_type": "code",
   "execution_count": null,
   "metadata": {},
   "outputs": [],
   "source": []
  },
  {
   "cell_type": "code",
   "execution_count": null,
   "metadata": {},
   "outputs": [],
   "source": []
  },
  {
   "cell_type": "code",
   "execution_count": null,
   "metadata": {},
   "outputs": [],
   "source": []
  }
 ],
 "metadata": {
  "kernelspec": {
   "display_name": "base",
   "language": "python",
   "name": "python3"
  },
  "language_info": {
   "codemirror_mode": {
    "name": "ipython",
    "version": 3
   },
   "file_extension": ".py",
   "mimetype": "text/x-python",
   "name": "python",
   "nbconvert_exporter": "python",
   "pygments_lexer": "ipython3",
   "version": "3.12.10"
  }
 },
 "nbformat": 4,
 "nbformat_minor": 2
}
