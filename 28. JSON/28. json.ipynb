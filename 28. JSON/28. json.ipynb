{
 "cells": [
  {
   "cell_type": "code",
   "execution_count": 1,
   "metadata": {},
   "outputs": [],
   "source": [
    "#JavaScript Object Notation"
   ]
  },
  {
   "cell_type": "code",
   "execution_count": 25,
   "metadata": {},
   "outputs": [],
   "source": [
    "#importing json\n",
    "import json\n",
    "#this is a json string\n",
    "people_script = '''\n",
    "{ \n",
    "    'people': [\n",
    "    {   'name' : \"John Smith\",\n",
    "        'phone' : \"614-555-7164\",\n",
    "        'emails' : ['rhs0@yahoo.com', 'rhs2@yahoo.com'],\n",
    "        'has-licence' : false\n",
    "    },\n",
    "    {   'name' : 'john doe',\n",
    "        'phone' : \"560-444-3746\",\n",
    "        'email' : null,\n",
    "        'has-licence' : true\n",
    "\n",
    "    }\n",
    "    ]\n",
    "}\n",
    "'''"
   ]
  },
  {
   "cell_type": "code",
   "execution_count": 26,
   "metadata": {},
   "outputs": [
    {
     "name": "stdout",
     "output_type": "stream",
     "text": [
      "{'people': [{'name': 'John Smith', 'phone': '614-555-7164', 'emails': ['rhs0@yahoo.com', 'rhs2@yahoo.com'], 'has-licence': False}, {'name': 'john doe', 'phone': '560-444-3746', 'emails': None, 'has-licence': True}]}\n"
     ]
    }
   ],
   "source": [
    "#importing json\n",
    "import json\n",
    "#this is a python string that happend to be a valid json\n",
    "#in the json file we always needs to put double qoute \n",
    "people_string = '''\n",
    "{ \n",
    "    \"people\": [\n",
    "    {   \"name\" : \"John Smith\",\n",
    "        \"phone\" : \"614-555-7164\",\n",
    "        \"emails\" : [\"rhs0@yahoo.com\", \"rhs2@yahoo.com\"],\n",
    "        \"has-licence\" : false\n",
    "    },\n",
    "    {   \"name\": \"john doe\",\n",
    "        \"phone\" : \"560-444-3746\",\n",
    "        \"emails\" : null,\n",
    "        \"has-licence\" : true\n",
    "\n",
    "    }\n",
    "    ]\n",
    "}\n",
    "'''\n",
    "#loading strings in python \n",
    "data = json.loads(people_string)\n",
    "print(data) #data is not clean readable \n",
    "\n"
   ]
  },
  {
   "cell_type": "code",
   "execution_count": 27,
   "metadata": {},
   "outputs": [
    {
     "name": "stdout",
     "output_type": "stream",
     "text": [
      "<class 'dict'>\n"
     ]
    }
   ],
   "source": [
    "print(type(data)) #we can see that the json strings converted to dict\n",
    "#this is a pytho dict\n",
    "#if we load a json object into python it will convert to as \n",
    "#JSON            #PYHTON\n",
    "#object -------> dict\n",
    "#array ---------> list\n",
    "#string --------> str\n",
    "#number(int) ----> int\n",
    "#number(float) ---> float\n",
    "#true -----------> True\n",
    "#false ---------> False\n",
    "#null ----------> None"
   ]
  },
  {
   "cell_type": "code",
   "execution_count": 28,
   "metadata": {},
   "outputs": [
    {
     "name": "stdout",
     "output_type": "stream",
     "text": [
      "{'name': 'John Smith', 'phone': '614-555-7164', 'emails': ['rhs0@yahoo.com', 'rhs2@yahoo.com'], 'has-licence': False}\n",
      "{'name': 'john doe', 'phone': '560-444-3746', 'emails': None, 'has-licence': True}\n"
     ]
    }
   ],
   "source": [
    "#inside that dict as we can see there is a list so can loop through that dict with the key of people\n",
    "for person in data['people']:\n",
    "    print(person)"
   ]
  },
  {
   "cell_type": "code",
   "execution_count": 29,
   "metadata": {},
   "outputs": [
    {
     "name": "stdout",
     "output_type": "stream",
     "text": [
      "John Smith\n",
      "john doe\n"
     ]
    }
   ],
   "source": [
    "#since each of these people in our original json string are object themselves then we can convert those as dict also we can also access those within a loop\n",
    "for person in data['people']:\n",
    "    print(person['name'])"
   ]
  },
  {
   "cell_type": "code",
   "execution_count": 30,
   "metadata": {},
   "outputs": [
    {
     "name": "stdout",
     "output_type": "stream",
     "text": [
      "{\"people\": [{\"name\": \"John Smith\", \"emails\": [\"rhs0@yahoo.com\", \"rhs2@yahoo.com\"], \"has-licence\": false}, {\"name\": \"john doe\", \"emails\": null, \"has-licence\": true}]}\n"
     ]
    }
   ],
   "source": [
    "#we can dump a python object as json string\n",
    "#remove the phone number and dump that to json string\n",
    "for person in data['people']:\n",
    "    del person['phone']\n",
    "new_string = json.dumps(data)\n",
    "print(new_string)\n",
    "#here we can see phone key is deleted"
   ]
  },
  {
   "cell_type": "code",
   "execution_count": 31,
   "metadata": {},
   "outputs": [
    {
     "name": "stdout",
     "output_type": "stream",
     "text": [
      "{\n",
      "  \"people\": [\n",
      "    {\n",
      "      \"name\": \"John Smith\",\n",
      "      \"emails\": [\n",
      "        \"rhs0@yahoo.com\",\n",
      "        \"rhs2@yahoo.com\"\n",
      "      ],\n",
      "      \"has-licence\": false\n",
      "    },\n",
      "    {\n",
      "      \"name\": \"john doe\",\n",
      "      \"emails\": null,\n",
      "      \"has-licence\": true\n",
      "    }\n",
      "  ]\n",
      "}\n"
     ]
    }
   ],
   "source": [
    "#to see the output clearly we can pass in indend argument in the json dumps\n",
    "# for person in data['people']:\n",
    "#     del person['phone']\n",
    "new_string = json.dumps(data, indent = 2)\n",
    "print(new_string) \n",
    "#now we can clearly see the output"
   ]
  },
  {
   "cell_type": "code",
   "execution_count": 33,
   "metadata": {},
   "outputs": [
    {
     "name": "stdout",
     "output_type": "stream",
     "text": [
      "{\n",
      "  \"people\": [\n",
      "    {\n",
      "      \"emails\": [\n",
      "        \"rhs0@yahoo.com\",\n",
      "        \"rhs2@yahoo.com\"\n",
      "      ],\n",
      "      \"has-licence\": false,\n",
      "      \"name\": \"John Smith\"\n",
      "    },\n",
      "    {\n",
      "      \"emails\": null,\n",
      "      \"has-licence\": true,\n",
      "      \"name\": \"john doe\"\n",
      "    }\n",
      "  ]\n",
      "}\n"
     ]
    }
   ],
   "source": [
    "#sorting the keys also we can pass in in the json dumps argument\n",
    "new_string = json.dumps(data, indent = 2, sort_keys = True)\n",
    "print(new_string)"
   ]
  },
  {
   "cell_type": "code",
   "execution_count": null,
   "metadata": {},
   "outputs": [],
   "source": []
  },
  {
   "cell_type": "code",
   "execution_count": null,
   "metadata": {},
   "outputs": [],
   "source": []
  },
  {
   "cell_type": "code",
   "execution_count": null,
   "metadata": {},
   "outputs": [],
   "source": []
  },
  {
   "cell_type": "code",
   "execution_count": null,
   "metadata": {},
   "outputs": [],
   "source": []
  }
 ],
 "metadata": {
  "kernelspec": {
   "display_name": "base",
   "language": "python",
   "name": "python3"
  },
  "language_info": {
   "codemirror_mode": {
    "name": "ipython",
    "version": 3
   },
   "file_extension": ".py",
   "mimetype": "text/x-python",
   "name": "python",
   "nbconvert_exporter": "python",
   "pygments_lexer": "ipython3",
   "version": "3.12.10"
  }
 },
 "nbformat": 4,
 "nbformat_minor": 2
}
